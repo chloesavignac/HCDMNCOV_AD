{
 "cells": [
  {
   "cell_type": "markdown",
   "metadata": {
    "toc": true
   },
   "source": [
    "<h1>Table of Contents<span class=\"tocSkip\"></span></h1>\n",
    "<div class=\"toc\"><ul class=\"toc-item\"><li><span><a href=\"#Loading-dataset-&amp;-librairies\" data-toc-modified-id=\"Loading-dataset-&amp;-librairies-1\"><span class=\"toc-item-num\">1&nbsp;&nbsp;</span>Loading dataset &amp; librairies</a></span></li><li><span><a href=\"#Subgrouping\" data-toc-modified-id=\"Subgrouping-2\"><span class=\"toc-item-num\">2&nbsp;&nbsp;</span>Subgrouping</a></span><ul class=\"toc-item\"><li><span><a href=\"#Feature-selection\" data-toc-modified-id=\"Feature-selection-2.1\"><span class=\"toc-item-num\">2.1&nbsp;&nbsp;</span>Feature selection</a></span></li><li><span><a href=\"#Z-scoring\" data-toc-modified-id=\"Z-scoring-2.2\"><span class=\"toc-item-num\">2.2&nbsp;&nbsp;</span>Z-scoring</a></span></li></ul></li><li><span><a href=\"#Clustering-analyses\" data-toc-modified-id=\"Clustering-analyses-3\"><span class=\"toc-item-num\">3&nbsp;&nbsp;</span>Clustering analyses</a></span><ul class=\"toc-item\"><li><span><a href=\"#Multuplying-geneotypes-with-modes-before-correlating-with-risk-factors\" data-toc-modified-id=\"Multuplying-geneotypes-with-modes-before-correlating-with-risk-factors-3.1\"><span class=\"toc-item-num\">3.1&nbsp;&nbsp;</span>Multuplying geneotypes with modes before correlating with risk factors</a></span></li><li><span><a href=\"#Spearman's-correlations\" data-toc-modified-id=\"Spearman's-correlations-3.2\"><span class=\"toc-item-num\">3.2&nbsp;&nbsp;</span>Spearman's correlations</a></span><ul class=\"toc-item\"><li><span><a href=\"#Functions\" data-toc-modified-id=\"Functions-3.2.1\"><span class=\"toc-item-num\">3.2.1&nbsp;&nbsp;</span>Functions</a></span></li><li><span><a href=\"#Analyses\" data-toc-modified-id=\"Analyses-3.2.2\"><span class=\"toc-item-num\">3.2.2&nbsp;&nbsp;</span>Analyses</a></span></li><li><span><a href=\"#Cross-correlation-plots-for-input-variable-wise-coefficients-of-genotype-specific-clustering\" data-toc-modified-id=\"Cross-correlation-plots-for-input-variable-wise-coefficients-of-genotype-specific-clustering-3.2.3\"><span class=\"toc-item-num\">3.2.3&nbsp;&nbsp;</span>Cross-correlation plots for input-variable-wise coefficients of genotype-specific clustering</a></span></li></ul></li></ul></li></ul></div>"
   ]
  },
  {
   "cell_type": "markdown",
   "metadata": {},
   "source": [
    "# Loading dataset & librairies"
   ]
  },
  {
   "cell_type": "code",
   "execution_count": null,
   "metadata": {},
   "outputs": [],
   "source": [
    "import pandas as pd\n",
    "from sklearn.linear_model import LinearRegression, LogisticRegression, Ridge \n",
    "import numpy as np\n",
    "import seaborn as sns\n",
    "import matplotlib.pylab as plt\n",
    "from scipy.cluster.hierarchy import dendrogram\n",
    "from sklearn.cluster import AgglomerativeClustering\n",
    "from sklearn.decomposition import PCA\n",
    "from sklearn.preprocessing import StandardScaler\n",
    "from matplotlib.pyplot import figure\n",
    "from tqdm import tqdm\n",
    "from scipy import stats\n",
    "import os\n",
    "import sys"
   ]
  },
  {
   "cell_type": "code",
   "execution_count": null,
   "metadata": {},
   "outputs": [],
   "source": [
    "data = pd.read_csv('HCDMNCOV_AD.csv')\n",
    "data.head()"
   ]
  },
  {
   "cell_type": "markdown",
   "metadata": {},
   "source": [
    "# Subgrouping "
   ]
  },
  {
   "cell_type": "code",
   "execution_count": null,
   "metadata": {},
   "outputs": [],
   "source": [
    "#sex\n",
    "id_m = np.where((data['Sex']==1))\n",
    "id_f = np.where((data['Sex']==0))\n",
    "#age\n",
    "id_young = np.where(data['Age']<=55.0)\n",
    "id_old = np.where(data['Age']>55.0)\n",
    "#sex x age \n",
    "id_young_m = np.where((data['Age']<=55.0)&(data['Sex']==1))\n",
    "id_young_f = np.where((data['Age']<=55.0)&(data['Sex']==0))\n",
    "id_old_m = np.where((data['Age']>55.0)&(data['Sex']==1))\n",
    "id_old_f = np.where((data['Age']>55.0)&(data['Sex']==0))\n",
    "#education\n",
    "id_low_ed = np.where(data['Education score']<=6.69)\n",
    "id_high_ed = np.where(data['Education score']>6.69)\n",
    "#all \n",
    "id_all = np.where(data['eid']!= None)"
   ]
  },
  {
   "cell_type": "markdown",
   "metadata": {},
   "source": [
    "## Feature selection"
   ]
  },
  {
   "cell_type": "code",
   "execution_count": null,
   "metadata": {},
   "outputs": [],
   "source": [
    "def features (id):\n",
    "    features = data.iloc[id]\n",
    "    AD = features['mf']\n",
    "    features_apoe = features[['e2/e2', 'e2/e3','e3/e3','e1/e3','e3/e4','e4/e4']]\n",
    "    cca_modes = features[['1',\n",
    "         '2',\n",
    "         '3',\n",
    "         '4',\n",
    "         '5',\n",
    "         '6',\n",
    "         '7',\n",
    "         '8',\n",
    "         '9',\n",
    "         '10',\n",
    "         '11',\n",
    "         '12',\n",
    "         '13',\n",
    "         '14',\n",
    "         '15',\n",
    "         '16',\n",
    "         '17',\n",
    "         '18',\n",
    "         '19',\n",
    "         '20',\n",
    "         '21',\n",
    "         '22',\n",
    "         '23',\n",
    "         '24',\n",
    "         '25',\n",
    "         '26',\n",
    "         '27',\n",
    "         '28',\n",
    "         '29',\n",
    "         '30',\n",
    "         '31',\n",
    "         '32',\n",
    "         '33',\n",
    "         '34',\n",
    "         '35',\n",
    "         '36',\n",
    "         '37',\n",
    "         '38',\n",
    "         '39',\n",
    "         '40',\n",
    "         '41',\n",
    "         '42',\n",
    "         '43',\n",
    "         '44',\n",
    "         '45',\n",
    "         '46',\n",
    "         '47',\n",
    "         '48',\n",
    "         '49',\n",
    "         '50']]\n",
    "    risks = features[['Fluid intelligence score (R)',\n",
    "              'Loneliness',\n",
    "              'Lack of social support',\n",
    "              'Age',\n",
    "              'Sex',\n",
    "              'Education score',\n",
    "              'Age completed high school education',\n",
    "              'Alcohol intake frequency',\n",
    "              'Alcohol consumption on a typical drinking day',\n",
    "              'Current tobacco smoking frequency',\n",
    "              'Past tobacco smoking frequency',\n",
    "              'Attend sports club or gym',\n",
    "              'Attend pub or social club',\n",
    "              'Attend religious group',\n",
    "              'Attend adult education class',\n",
    "              'Walking for pleasure',\n",
    "              'Moderate exercises',\n",
    "              'Strenuous sports',\n",
    "              'Sleep duration',\n",
    "              'Getting up in the morning',\n",
    "              'Being a morning person',\n",
    "              'Sleeplessness or insomnia',\n",
    "              'Heart attack',\n",
    "              'Angina',\n",
    "              'Stroke',\n",
    "              'Hypertension',\n",
    "              'Diabetes diagnosed by a doctor',\n",
    "              'Hearing difficulty with background noise',\n",
    "              'Hearing aid user',\n",
    "              'Glaucoma',\n",
    "              'Cataract',\n",
    "              'Macular degeneration',\n",
    "              'Miserableness',\n",
    "              'Fed-up feelings',\n",
    "              'Mood swings',\n",
    "              'Worrier / anxious feelings',\n",
    "              'Nervous feelings',\n",
    "              'Sensitivity / hurt feelings',\n",
    "              \"Tense / 'highly strung'\",\n",
    "              \"Suffer from 'nerves'\",\n",
    "              'Worry too long after embarrassment',\n",
    "              'Irritability',\n",
    "              'Neuroticism score',\n",
    "              'Happiness',\n",
    "              'Feelings of nervousness or anxiety',\n",
    "              'Frequency of friend / family visits',\n",
    "              'Friendships satisfaction',\n",
    "              'Family relationship satisfaction',\n",
    "              'Number of full siblings',\n",
    "              'Living in urban areas',\n",
    "              'Average household income',\n",
    "              'Paid employment',\n",
    "              'Retirement',\n",
    "              'Looking after home or family',\n",
    "              'Unable to work due to sickness or disability',\n",
    "              'Unemployment',\n",
    "              'Doing unpaid or voluntary work',\n",
    "              'Full or part-time student',\n",
    "              'Number of vehicles in household',\n",
    "              'Time spent watching TV',\n",
    "              'Time spent using computer',\n",
    "              'Number in household',\n",
    "              'Physical environment score']]\n",
    "    \n",
    "    risks = risks.rename(columns={'Worrier / anxious feelings': 'Worrier_anxious',\n",
    "                           'Fluid intelligence score (R)': 'Fluid intelligence score',\n",
    "                           'Sensitivity / hurt feelings': 'Sensitivity_Hurt feelings',\n",
    "                            \"Tense / 'highly strung'\":'Tense_Highly strung',\n",
    "                           'Frequency of friend / family visits': 'Frequency of friend or family visits'})\n",
    "    APOE_scores = data['APOE_ranked']\n",
    "    \n",
    "    return AD, features_apoe, cca_modes, risks, APOE_scores"
   ]
  },
  {
   "cell_type": "markdown",
   "metadata": {},
   "source": [
    "## Z-scoring"
   ]
  },
  {
   "cell_type": "code",
   "execution_count": null,
   "metadata": {},
   "outputs": [],
   "source": [
    "#generating features for all participants\n",
    "AD, features_apoe, all_modes, risks, APOE_scores = features(id_all)"
   ]
  },
  {
   "cell_type": "code",
   "execution_count": null,
   "metadata": {},
   "outputs": [],
   "source": [
    "scaler = StandardScaler()\n",
    "all_modes_zscored = scaler.fit_transform(all_modes)\n",
    "all_modes_zscored2 = pd.DataFrame(all_modes_zscored, columns=range(1,51))"
   ]
  },
  {
   "cell_type": "code",
   "execution_count": null,
   "metadata": {},
   "outputs": [],
   "source": [
    "scaler = StandardScaler()\n",
    "risks_z_scored = scaler.fit_transform(risks)\n",
    "risks_z_scored2 = pd.DataFrame(risks_z_scored, columns=risks.columns)"
   ]
  },
  {
   "cell_type": "markdown",
   "metadata": {},
   "source": [
    "# Clustering analyses"
   ]
  },
  {
   "cell_type": "code",
   "execution_count": null,
   "metadata": {},
   "outputs": [],
   "source": [
    "def plot_dendrogram(model, **kwargs):\n",
    "    # Create linkage matrix and then plot the dendrogram\n",
    "\n",
    "    # create the counts of samples under each node\n",
    "    #Return a new array filled with zeros\n",
    "    counts = np.zeros(model.children_.shape[0])\n",
    "    n_samples = len(model.labels_)\n",
    "    \n",
    "    for i, merge in enumerate(model.children_):\n",
    "        #print(model.children_)\n",
    "        current_count = 0\n",
    "        for child_idx in merge:\n",
    "            #print(child_idx)\n",
    "            if child_idx < n_samples:\n",
    "                current_count += 1  # leaf node\n",
    "            else:\n",
    "                current_count += (counts[child_idx - n_samples])\n",
    "        counts[i] = current_count\n",
    "\n",
    "    linkage_matrix = np.column_stack([model.children_, model.distances_,\n",
    "                                      counts]).astype(float)\n",
    "\n",
    "    dendrogram(linkage_matrix, show_leaf_counts = True, labels = risks.columns, orientation='right', **kwargs)"
   ]
  },
  {
   "cell_type": "markdown",
   "metadata": {},
   "source": [
    "## Multuplying geneotypes with modes before correlating with risk factors "
   ]
  },
  {
   "cell_type": "code",
   "execution_count": null,
   "metadata": {},
   "outputs": [],
   "source": [
    "allmodes = all_modes_zscored2"
   ]
  },
  {
   "cell_type": "code",
   "execution_count": null,
   "metadata": {},
   "outputs": [],
   "source": [
    "risks = risks.rename(columns={'Living in urban areas':'Home area population density', })"
   ]
  },
  {
   "cell_type": "code",
   "execution_count": null,
   "metadata": {},
   "outputs": [],
   "source": [
    "#multiplying canonical variates by genotypes\n",
    "allmodes_e3e3 = allmodes.multiply(features_apoe['e3/e3'], axis=0)\n",
    "allmodes_e2e4 = allmodes.multiply(features_apoe['e1/e3'], axis=0)\n",
    "allmodes_e2e2 = allmodes.multiply(features_apoe['e2/e2'], axis=0)\n",
    "allmodes_e2e3 = allmodes.multiply(features_apoe['e2/e3'], axis=0)\n",
    "allmodes_e3e4 = allmodes.multiply(features_apoe['e3/e4'], axis=0)\n",
    "allmodes_e4e4 = allmodes.multiply(features_apoe['e4/e4'], axis=0)"
   ]
  },
  {
   "cell_type": "markdown",
   "metadata": {},
   "source": [
    "## Spearman's correlations"
   ]
  },
  {
   "cell_type": "markdown",
   "metadata": {},
   "source": [
    "### Functions"
   ]
  },
  {
   "cell_type": "code",
   "execution_count": null,
   "metadata": {},
   "outputs": [],
   "source": [
    "def get_corr(risks_z_scored, cca):\n",
    "    #creating dataframe to store coefs and p-values\n",
    "    all_coefs = pd.DataFrame()\n",
    "    all_pvalues = pd.DataFrame()\n",
    "    #loop through 50 CCA canonical variates\n",
    "    for col in cca.columns:\n",
    "        coef = []\n",
    "        pvalues = []\n",
    "        #loop through 63 risk factors and compute correlations with canonical variates\n",
    "        for i in range(0,len(risks_z_scored.T)):\n",
    "            #Compute Spearmans correlation\n",
    "            rho, pval = stats.spearmanr(cca[col],risks_z_scored.T[i])\n",
    "            coef.append(rho)\n",
    "            pvalues.append(pval)\n",
    "        coef = np.array(coef).reshape(1,63)\n",
    "        coef = pd.DataFrame(coef, columns = risks.columns)\n",
    "        pvalues = np.array(pvalues).reshape(1,63)\n",
    "        pvalues = pd.DataFrame(pvalues, columns = risks.columns)\n",
    "        all_coefs = all_coefs.append(coef)\n",
    "        all_pvalues = all_pvalues.append(pvalues)\n",
    "        \n",
    "    all_coefs = all_coefs.reset_index(drop=True)\n",
    "    all_coefs.index += 1\n",
    "    all_pvalues = all_pvalues.reset_index(drop=True)\n",
    "    all_pvalues.index += 1\n",
    "    return all_coefs, all_pvalues"
   ]
  },
  {
   "cell_type": "code",
   "execution_count": null,
   "metadata": {},
   "outputs": [],
   "source": [
    "def plot_corr(all_coefs, tag):\n",
    "    %matplotlib inline\n",
    "    figure(figsize=(16, 12), dpi=80)\n",
    "    #let's first try without specifications\n",
    "    #sns.heatmap(all_coefs)\n",
    "    #then fixed map\n",
    "    sns.heatmap(all_coefs.T, cmap=plt.cm.RdBu_r, center=0, vmax=0.05, vmin=-0.05, cbar_kws={\"shrink\": 0.2})\n",
    "    plt.title(f'Correlation between CCA modes and risk factors {tag}')\n",
    "    #plot1_path = 'CCA_plots/all/CCA_APOE_AD/DMN_APOE_interactions_AD.png'\n",
    "    #plt.tight_layout()\n",
    "    plt.subplots_adjust(top=1)\n",
    "    #plt.savefig(plot1_path, dpi=200, bbox_inches='tight')\n",
    "    plt.show()"
   ]
  },
  {
   "cell_type": "code",
   "execution_count": null,
   "metadata": {},
   "outputs": [],
   "source": [
    "def plot_pval(pvalues, tag, sig):\n",
    "    %matplotlib inline\n",
    "    figure(figsize=(16, 12), dpi=80)\n",
    "    #Initial idea was to use a mask... Didn't work out as planned. \n",
    "    #Alternative: only display/colour p-values greater than a certain criterion\n",
    "    #sns.heatmap(pvalues.T, cmap= \"Blues_r\", vmax=sig, linewidths=.5)\n",
    "    #sns.heatmap(pvalues.T, cmap= \"Blues_r\", linewidths=.5, vmax=sig)\n",
    "    sns.heatmap(pvalues.T, cmap= \"ocean\", center=0, vmax=sig, linewidths=.5, cbar_kws={\"shrink\": 0.2})\n",
    "    ax = plt.axes()\n",
    "    ax.set_title(f'P-values of Spearmans correlations between cannonical variates and risk factors significant at alpha = {sig} for {tag}')\n",
    "    plt.subplots_adjust(top=1)\n",
    "    plt.show()\n",
    "    \n",
    "    #Here we will print a table with the significant p-values\n",
    "    pval_tables = pvalues.mask(pvalues > sig, False).iloc[np.where(pvalues.notnull())].drop_duplicates().T.drop_duplicates()\n",
    "    print(pval_tables)\n",
    "    #return only significant p-values\n",
    "    return pval_tables"
   ]
  },
  {
   "cell_type": "code",
   "execution_count": null,
   "metadata": {},
   "outputs": [],
   "source": [
    "def cluster_allmodes (gen_corr, tag1, tag2):\n",
    "    from matplotlib.pyplot import figure\n",
    "    #ALL modes together\n",
    "    model = AgglomerativeClustering(distance_threshold=0, n_clusters=None)\n",
    "    model = model.fit(gen_corr)\n",
    "    model\n",
    "    figure(figsize=(9, 3.5), dpi=200)\n",
    "    plt.title(f'Hierarchical clustering dendrogram of risk factors based on their \\n Spearman\\'s correlations with canonical variates for {tag1} genotype')\n",
    "    # plot the top three levels of the dendrogram\n",
    "    plot_dendrogram(model, truncate_mode='level', p=3)\n",
    "    plt.xlabel(\"Number of points in node (or index of point if no parenthesis).\")\n",
    "    #plot1_path = f'CCA_plots/clustering/risks/{tag}.png'\n",
    "    plt.subplots_adjust(top=1)\n",
    "    #plt.savefig(f'spearman_{tag2}.png', dpi=200, bbox_inches='tight')\n",
    "    plt.show()"
   ]
  },
  {
   "cell_type": "markdown",
   "metadata": {},
   "source": [
    "### Analyses"
   ]
  },
  {
   "cell_type": "code",
   "execution_count": null,
   "metadata": {},
   "outputs": [],
   "source": [
    "# params = {#'legend.fontsize': 'x-large',\n",
    "#           #'figure.figsize': (500, 15),\n",
    "#          #'axes.labelsize': 'x-large',\n",
    "#          'axes.titlesize':'x-large',\n",
    "#          #'xtick.labelsize':'x-large',\n",
    "#          #'ytick.labelsize':'x-large'}\n",
    "# }\n",
    "# plt.rcParams.update(params)"
   ]
  },
  {
   "cell_type": "code",
   "execution_count": null,
   "metadata": {},
   "outputs": [],
   "source": [
    "corr_e3e3, pvalues_e3e3 = get_corr(risks_z_scored, allmodes_e3e3)\n",
    "corr_e2e4, pvalues_e2e4 = get_corr(risks_z_scored, allmodes_e2e4)\n",
    "corr_e2e2, pvalues_e2e2 = get_corr(risks_z_scored, allmodes_e2e2)\n",
    "corr_e2e3, pvalues_e2e3 = get_corr(risks_z_scored, allmodes_e2e3)\n",
    "corr_e3e4, pvalues_e3e4 = get_corr(risks_z_scored, allmodes_e3e4)\n",
    "corr_e4e4, pvalues_e4e4 = get_corr(risks_z_scored, allmodes_e4e4)"
   ]
  },
  {
   "cell_type": "code",
   "execution_count": null,
   "metadata": {},
   "outputs": [],
   "source": [
    "plot_corr(corr_e3e3, 'for e3/e3')\n",
    "plot_corr(corr_e2e4, 'for e2/e4')\n",
    "plot_corr(corr_e2e2, 'for e2/e2')\n",
    "plot_corr(corr_e2e3, 'for e2/e3')\n",
    "plot_corr(corr_e3e4, 'for e3/e4')\n",
    "plot_corr(corr_e4e4, 'for e4/e4')"
   ]
  },
  {
   "cell_type": "code",
   "execution_count": null,
   "metadata": {},
   "outputs": [],
   "source": [
    "cluster_allmodes(corr_e3e3.T,'e3/e3', 'e3e3')\n",
    "cluster_allmodes(corr_e2e4.T,'e2/e4', 'e2e4')\n",
    "cluster_allmodes(corr_e2e2.T,'e2/e2', 'e2e2')\n",
    "cluster_allmodes(corr_e2e3.T,'e2/e3', 'e2e3')\n",
    "cluster_allmodes(corr_e3e4.T,'e3/e4', 'e3e4')\n",
    "cluster_allmodes(corr_e4e4.T,'e4/e4', 'e4e4')"
   ]
  },
  {
   "cell_type": "markdown",
   "metadata": {},
   "source": [
    "### Cross-correlation plots for input-variable-wise coefficients of genotype-specific clustering"
   ]
  },
  {
   "cell_type": "code",
   "execution_count": null,
   "metadata": {},
   "outputs": [],
   "source": [
    "risks.columns[43:48]"
   ]
  },
  {
   "cell_type": "markdown",
   "metadata": {},
   "source": [
    "**e2e2**"
   ]
  },
  {
   "cell_type": "code",
   "execution_count": null,
   "metadata": {
    "scrolled": true
   },
   "outputs": [],
   "source": [
    "e3e3_vs_e2e2 = np.corrcoef(corr_e3e3.T, corr_e2e2.T)\n",
    "\n",
    "figure(figsize=(16, 12), dpi=80)\n",
    "\n",
    "sns.heatmap(e3e3_vs_e2e2.T[63:,:63], cmap=plt.cm.RdBu_r, center=0, vmin = -1, vmax =1, cbar_kws={\"shrink\": 0.2}, yticklabels=risks.columns, xticklabels=risks.columns)\n",
    "plt.title(f'Cluster-cluster cross-correlation between input variables from the clustering analysis of genotypes e3e3 and e2e2')\n",
    "plot1_path = os.path.abspath('/Users/chloesavignac/_HCDMNCOV_AD/clustering_analysis/cross_corr_e2e2.png')\n",
    "#plt.tight_layout()\n",
    "plt.subplots_adjust(top=1)\n",
    "#plt.savefig(plot1_path, dpi=200, bbox_inches='tight')\n",
    "plt.close()\n",
    "#save to csv\n",
    "pd.DataFrame(e3e3_vs_e2e2.T[63:,:63], columns = risks.columns, index = risks.columns).to_csv(os.path.abspath('/Users/chloesavignac/_HCDMNCOV_AD/clustering_analysis/cross_corr_e2e2_vs_e3e3.csv'))"
   ]
  },
  {
   "cell_type": "code",
   "execution_count": null,
   "metadata": {},
   "outputs": [],
   "source": [
    "#Happiness\n",
    "print(e3e3_vs_e2e2.T[63:,:63][43,43])\n",
    "#Friendships satisfaction\n",
    "print(e3e3_vs_e2e2.T[63:,:63][46,46])\n",
    "#Family relationship satisfaction\n",
    "print(e3e3_vs_e2e2.T[63:,:63][47,47])"
   ]
  },
  {
   "cell_type": "markdown",
   "metadata": {},
   "source": [
    "**e2e3**"
   ]
  },
  {
   "cell_type": "code",
   "execution_count": null,
   "metadata": {
    "scrolled": true
   },
   "outputs": [],
   "source": [
    "e3e3_vs_e2e3 = np.corrcoef(corr_e3e3.T, corr_e2e3.T)\n",
    "\n",
    "figure(figsize=(16, 12), dpi=80)\n",
    "\n",
    "sns.heatmap(e3e3_vs_e2e3.T[63:,:63], cmap=plt.cm.RdBu_r, center=0, vmin = -1, vmax =1, cbar_kws={\"shrink\": 0.2}, yticklabels=risks.columns, xticklabels=risks.columns)\n",
    "plt.title(f'Cluster-cluster cross-correlation between input variables from the clustering analysis of e3e3 and e2e3')\n",
    "plot1_path = os.path.abspath('/Users/chloesavignac/_HCDMNCOV_AD/clustering_analysis/cross_corr_e2e3.png')\n",
    "#plt.tight_layout()\n",
    "plt.subplots_adjust(top=1)\n",
    "#plt.savefig(plot1_path, dpi=200, bbox_inches='tight')\n",
    "plt.close()\n",
    "#save to csv\n",
    "pd.DataFrame(e3e3_vs_e2e3.T[63:,:63], columns = risks.columns, index = risks.columns).to_csv(os.path.abspath('/Users/chloesavignac/_HCDMNCOV_AD/clustering_analysis/cross_corr_e2e3_vs_e3e3.csv'))"
   ]
  },
  {
   "cell_type": "code",
   "execution_count": null,
   "metadata": {
    "scrolled": true
   },
   "outputs": [],
   "source": [
    "#Happiness\n",
    "print(e3e3_vs_e2e3.T[63:,:63][43,43])\n",
    "#Friendships satisfaction\n",
    "print(e3e3_vs_e2e3.T[63:,:63][46,46])\n",
    "#Family relationship satisfaction\n",
    "print(e3e3_vs_e2e3.T[63:,:63][47,47])"
   ]
  },
  {
   "cell_type": "markdown",
   "metadata": {},
   "source": [
    "**e3e4**"
   ]
  },
  {
   "cell_type": "code",
   "execution_count": null,
   "metadata": {
    "scrolled": true
   },
   "outputs": [],
   "source": [
    "e3e3_vs_e3e4 = np.corrcoef(corr_e3e3.T, corr_e3e4.T)\n",
    "\n",
    "figure(figsize=(16, 12), dpi=80)\n",
    "\n",
    "sns.heatmap(e3e3_vs_e3e4.T[63:,:63], cmap=plt.cm.RdBu_r, center=0, vmin = -1, vmax =1, cbar_kws={\"shrink\": 0.2}, yticklabels=risks.columns, xticklabels=risks.columns)\n",
    "plt.title(f'Cluster-cluster cross-correlation between input variables from the clustering analysis of e3e3 and e3e4')\n",
    "plot1_path = os.path.abspath('/Users/chloesavignac/_HCDMNCOV_AD/clustering_analysis/cross_corr_e3e4.png')\n",
    "#plt.tight_layout()\n",
    "plt.subplots_adjust(top=1)\n",
    "#plt.savefig(plot1_path, dpi=200, bbox_inches='tight')\n",
    "plt.close()\n",
    "#save to csv\n",
    "pd.DataFrame(e3e3_vs_e3e4.T[63:,:63], columns = risks.columns, index = risks.columns).to_csv(os.path.abspath('/Users/chloesavignac/_HCDMNCOV_AD/clustering_analysis/cross_corr_e3e4_vs_e3e3.csv'))"
   ]
  },
  {
   "cell_type": "code",
   "execution_count": null,
   "metadata": {},
   "outputs": [],
   "source": [
    "#Happiness\n",
    "print(e3e3_vs_e3e4.T[63:,:63][43,43])\n",
    "#Friendships satisfaction\n",
    "print(e3e3_vs_e3e4.T[63:,:63][46,46])\n",
    "#Family relationship satisfaction\n",
    "print(e3e3_vs_e3e4.T[63:,:63][47,47])"
   ]
  },
  {
   "cell_type": "markdown",
   "metadata": {},
   "source": [
    "**e4e4**"
   ]
  },
  {
   "cell_type": "code",
   "execution_count": null,
   "metadata": {},
   "outputs": [],
   "source": [
    "e3e3_vs_e4e4 = np.corrcoef(corr_e3e3.T, corr_e4e4.T)\n",
    "\n",
    "figure(figsize=(16, 12), dpi=80)\n",
    "\n",
    "sns.heatmap(e3e3_vs_e4e4.T[63:,:63], cmap=plt.cm.RdBu_r, center=0, vmin = -1, vmax =1, cbar_kws={\"shrink\": 0.2}, yticklabels=risks.columns, xticklabels=risks.columns)\n",
    "plt.title(f'Cluster-cluster cross-correlation between input variables from the clustering analysis of e3e3 and e4e4')\n",
    "plot1_path = os.path.abspath('/Users/chloesavignac/_HCDMNCOV_AD/clustering_analysis/cross_corr_e4e4.png')\n",
    "#plt.tight_layout()\n",
    "plt.subplots_adjust(top=1)\n",
    "#plt.savefig(plot1_path, dpi=200, bbox_inches='tight')\n",
    "plt.close()\n",
    "#save to csv\n",
    "pd.DataFrame(e3e3_vs_e4e4.T[63:,:63], columns = risks.columns, index = risks.columns).to_csv(os.path.abspath('/Users/chloesavignac/_HCDMNCOV_AD/clustering_analysis/cross_corr_e4e4_vs_e3e3.csv'))"
   ]
  },
  {
   "cell_type": "code",
   "execution_count": null,
   "metadata": {},
   "outputs": [],
   "source": [
    "#Happiness\n",
    "print(e3e3_vs_e4e4.T[63:,:63][43,43])\n",
    "#Friendships satisfaction\n",
    "print(e3e3_vs_e4e4.T[63:,:63][46,46])\n",
    "#Family relationship satisfaction\n",
    "print(e3e3_vs_e4e4.T[63:,:63][47,47])"
   ]
  },
  {
   "cell_type": "markdown",
   "metadata": {},
   "source": [
    "**e2e4**"
   ]
  },
  {
   "cell_type": "code",
   "execution_count": null,
   "metadata": {},
   "outputs": [],
   "source": [
    "e3e3_vs_e2e4 = np.corrcoef(corr_e3e3.T, corr_e2e4.T)\n",
    "\n",
    "figure(figsize=(16, 12), dpi=80)\n",
    "\n",
    "sns.heatmap(e3e3_vs_e2e4.T[63:,:63], cmap=plt.cm.RdBu_r, center=0, vmin = -1, vmax =1, cbar_kws={\"shrink\": 0.2}, yticklabels=risks.columns, xticklabels=risks.columns)\n",
    "plt.title(f'Cluster-cluster cross-correlation between input variables from the clustering analysis of e3e3 and e2e4')\n",
    "plot1_path = os.path.abspath('/Users/chloesavignac/_HCDMNCOV_AD/clustering_analysis/cross_corr_e2e4.png')\n",
    "#plt.tight_layout()\n",
    "plt.subplots_adjust(top=1)\n",
    "#plt.savefig(plot1_path, dpi=200, bbox_inches='tight')\n",
    "plt.close()\n",
    "#save as csv\n",
    "pd.DataFrame(e3e3_vs_e2e4.T[63:,:63], columns = risks.columns, index = risks.columns).to_csv(os.path.abspath('/Users/chloesavignac/_HCDMNCOV_AD/clustering_analysis/cross_corr_e2e4_vs_e3e3.csv'))"
   ]
  }
 ],
 "metadata": {
  "hide_input": false,
  "kernelspec": {
   "display_name": "Python 3 (ipykernel)",
   "language": "python",
   "name": "python3"
  },
  "language_info": {
   "codemirror_mode": {
    "name": "ipython",
    "version": 3
   },
   "file_extension": ".py",
   "mimetype": "text/x-python",
   "name": "python",
   "nbconvert_exporter": "python",
   "pygments_lexer": "ipython3",
   "version": "3.7.11"
  },
  "toc": {
   "base_numbering": 1,
   "nav_menu": {},
   "number_sections": true,
   "sideBar": true,
   "skip_h1_title": false,
   "title_cell": "Table of Contents",
   "title_sidebar": "Contents",
   "toc_cell": true,
   "toc_position": {
    "height": "calc(100% - 180px)",
    "left": "10px",
    "top": "150px",
    "width": "256.515625px"
   },
   "toc_section_display": true,
   "toc_window_display": true
  },
  "varInspector": {
   "cols": {
    "lenName": 16,
    "lenType": 16,
    "lenVar": 40
   },
   "kernels_config": {
    "python": {
     "delete_cmd_postfix": "",
     "delete_cmd_prefix": "del ",
     "library": "var_list.py",
     "varRefreshCmd": "print(var_dic_list())"
    },
    "r": {
     "delete_cmd_postfix": ") ",
     "delete_cmd_prefix": "rm(",
     "library": "var_list.r",
     "varRefreshCmd": "cat(var_dic_list()) "
    }
   },
   "types_to_exclude": [
    "module",
    "function",
    "builtin_function_or_method",
    "instance",
    "_Feature"
   ],
   "window_display": false
  }
 },
 "nbformat": 4,
 "nbformat_minor": 4
}
