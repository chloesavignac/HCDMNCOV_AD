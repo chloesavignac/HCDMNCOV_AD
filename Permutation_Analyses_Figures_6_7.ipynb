{
 "cells": [
  {
   "cell_type": "markdown",
   "metadata": {
    "toc": true
   },
   "source": [
    "<h1>Table of Contents<span class=\"tocSkip\"></span></h1>\n",
    "<div class=\"toc\"><ul class=\"toc-item\"><li><span><a href=\"#Loading-dataset-&amp;-librairies\" data-toc-modified-id=\"Loading-dataset-&amp;-librairies-1\"><span class=\"toc-item-num\">1&nbsp;&nbsp;</span>Loading dataset &amp; librairies</a></span></li><li><span><a href=\"#Subgrouping\" data-toc-modified-id=\"Subgrouping-2\"><span class=\"toc-item-num\">2&nbsp;&nbsp;</span>Subgrouping</a></span><ul class=\"toc-item\"><li><span><a href=\"#Feature-selection\" data-toc-modified-id=\"Feature-selection-2.1\"><span class=\"toc-item-num\">2.1&nbsp;&nbsp;</span>Feature selection</a></span></li><li><span><a href=\"#Z-scoring\" data-toc-modified-id=\"Z-scoring-2.2\"><span class=\"toc-item-num\">2.2&nbsp;&nbsp;</span>Z-scoring</a></span></li></ul></li><li><span><a href=\"#Interaction-Analyses\" data-toc-modified-id=\"Interaction-Analyses-3\"><span class=\"toc-item-num\">3&nbsp;&nbsp;</span>Interaction Analyses</a></span><ul class=\"toc-item\"><li><span><a href=\"#CCA-x-APOE-in-predicting-AD-family-history\" data-toc-modified-id=\"CCA-x-APOE-in-predicting-AD-family-history-3.1\"><span class=\"toc-item-num\">3.1&nbsp;&nbsp;</span>CCA x APOE in predicting AD family history</a></span><ul class=\"toc-item\"><li><span><a href=\"#Controlling-for-age\" data-toc-modified-id=\"Controlling-for-age-3.1.1\"><span class=\"toc-item-num\">3.1.1&nbsp;&nbsp;</span>Controlling for age</a></span></li><li><span><a href=\"#Permutation-Analyses\" data-toc-modified-id=\"Permutation-Analyses-3.1.2\"><span class=\"toc-item-num\">3.1.2&nbsp;&nbsp;</span>Permutation Analyses</a></span></li></ul></li><li><span><a href=\"#CCA-x-APOE-in-predicting-Risks\" data-toc-modified-id=\"CCA-x-APOE-in-predicting-Risks-3.2\"><span class=\"toc-item-num\">3.2&nbsp;&nbsp;</span>CCA x APOE in predicting Risks</a></span><ul class=\"toc-item\"><li><span><a href=\"#Controlling-for-age\" data-toc-modified-id=\"Controlling-for-age-3.2.1\"><span class=\"toc-item-num\">3.2.1&nbsp;&nbsp;</span>Controlling for age</a></span></li><li><span><a href=\"#Subgroup-Analyses\" data-toc-modified-id=\"Subgroup-Analyses-3.2.2\"><span class=\"toc-item-num\">3.2.2&nbsp;&nbsp;</span>Subgroup Analyses</a></span></li><li><span><a href=\"#Permutation-Analyses\" data-toc-modified-id=\"Permutation-Analyses-3.2.3\"><span class=\"toc-item-num\">3.2.3&nbsp;&nbsp;</span>Permutation Analyses</a></span><ul class=\"toc-item\"><li><span><a href=\"#Males\" data-toc-modified-id=\"Males-3.2.3.1\"><span class=\"toc-item-num\">3.2.3.1&nbsp;&nbsp;</span>Males</a></span></li><li><span><a href=\"#Females\" data-toc-modified-id=\"Females-3.2.3.2\"><span class=\"toc-item-num\">3.2.3.2&nbsp;&nbsp;</span>Females</a></span></li><li><span><a href=\"#Generating-masked-dataframes-and-plots\" data-toc-modified-id=\"Generating-masked-dataframes-and-plots-3.2.3.3\"><span class=\"toc-item-num\">3.2.3.3&nbsp;&nbsp;</span>Generating masked dataframes and plots</a></span></li></ul></li></ul></li></ul></li></ul></div>"
   ]
  },
  {
   "cell_type": "markdown",
   "metadata": {},
   "source": [
    "# Loading dataset & librairies"
   ]
  },
  {
   "cell_type": "code",
   "execution_count": 1,
   "metadata": {},
   "outputs": [],
   "source": [
    "import pandas as pd\n",
    "import numpy as np\n",
    "import seaborn as sns\n",
    "import matplotlib.pylab as plt\n",
    "import os\n",
    "import sys\n",
    "import json\n",
    "from scipy.cluster.hierarchy import dendrogram\n",
    "from sklearn.linear_model import LinearRegression, LogisticRegression, Ridge \n",
    "from sklearn.cluster import AgglomerativeClustering\n",
    "from sklearn.decomposition import PCA\n",
    "from sklearn.preprocessing import StandardScaler\n",
    "from matplotlib.pyplot import figure\n",
    "from tqdm import tqdm\n",
    "from matplotlib import pyplot as plt\n",
    "from sklearn.metrics import confusion_matrix, ConfusionMatrixDisplay"
   ]
  },
  {
   "cell_type": "code",
   "execution_count": 2,
   "metadata": {},
   "outputs": [
    {
     "data": {
      "text/html": [
       "<div>\n",
       "<style scoped>\n",
       "    .dataframe tbody tr th:only-of-type {\n",
       "        vertical-align: middle;\n",
       "    }\n",
       "\n",
       "    .dataframe tbody tr th {\n",
       "        vertical-align: top;\n",
       "    }\n",
       "\n",
       "    .dataframe thead th {\n",
       "        text-align: right;\n",
       "    }\n",
       "</style>\n",
       "<table border=\"1\" class=\"dataframe\">\n",
       "  <thead>\n",
       "    <tr style=\"text-align: right;\">\n",
       "      <th></th>\n",
       "      <th>eid</th>\n",
       "      <th>father</th>\n",
       "      <th>mother</th>\n",
       "      <th>sibling</th>\n",
       "      <th>mf</th>\n",
       "      <th>mfs</th>\n",
       "      <th>Fluid intelligence score (R)</th>\n",
       "      <th>Loneliness</th>\n",
       "      <th>Lack of social support</th>\n",
       "      <th>Age</th>\n",
       "      <th>...</th>\n",
       "      <th>25741-2.0</th>\n",
       "      <th>25742-2.0</th>\n",
       "      <th>25006-2.0</th>\n",
       "      <th>21001-0.0</th>\n",
       "      <th>25756-2.0</th>\n",
       "      <th>25757-2.0</th>\n",
       "      <th>25758-2.0</th>\n",
       "      <th>25759-2.0</th>\n",
       "      <th>54-2.0</th>\n",
       "      <th>eid.1</th>\n",
       "    </tr>\n",
       "  </thead>\n",
       "  <tbody>\n",
       "    <tr>\n",
       "      <th>0</th>\n",
       "      <td>1000124</td>\n",
       "      <td>0.0</td>\n",
       "      <td>0.0</td>\n",
       "      <td>0.0</td>\n",
       "      <td>0.0</td>\n",
       "      <td>0.0</td>\n",
       "      <td>6.71</td>\n",
       "      <td>0.0</td>\n",
       "      <td>1.0</td>\n",
       "      <td>44.0</td>\n",
       "      <td>...</td>\n",
       "      <td>0.138021</td>\n",
       "      <td>0.166914</td>\n",
       "      <td>663615.0</td>\n",
       "      <td>24.0980</td>\n",
       "      <td>-2.460460</td>\n",
       "      <td>62.0</td>\n",
       "      <td>17.01160</td>\n",
       "      <td>-1097.0</td>\n",
       "      <td>11025.0</td>\n",
       "      <td>1000124</td>\n",
       "    </tr>\n",
       "    <tr>\n",
       "      <th>1</th>\n",
       "      <td>1000181</td>\n",
       "      <td>0.0</td>\n",
       "      <td>0.0</td>\n",
       "      <td>0.0</td>\n",
       "      <td>0.0</td>\n",
       "      <td>0.0</td>\n",
       "      <td>6.71</td>\n",
       "      <td>0.0</td>\n",
       "      <td>1.0</td>\n",
       "      <td>57.0</td>\n",
       "      <td>...</td>\n",
       "      <td>0.140451</td>\n",
       "      <td>0.144204</td>\n",
       "      <td>609556.0</td>\n",
       "      <td>25.2792</td>\n",
       "      <td>-1.966260</td>\n",
       "      <td>59.0</td>\n",
       "      <td>-29.19310</td>\n",
       "      <td>-1042.0</td>\n",
       "      <td>11025.0</td>\n",
       "      <td>1000181</td>\n",
       "    </tr>\n",
       "    <tr>\n",
       "      <th>2</th>\n",
       "      <td>1000231</td>\n",
       "      <td>0.0</td>\n",
       "      <td>0.0</td>\n",
       "      <td>0.0</td>\n",
       "      <td>0.0</td>\n",
       "      <td>0.0</td>\n",
       "      <td>6.71</td>\n",
       "      <td>1.0</td>\n",
       "      <td>0.0</td>\n",
       "      <td>43.0</td>\n",
       "      <td>...</td>\n",
       "      <td>0.127892</td>\n",
       "      <td>NaN</td>\n",
       "      <td>611251.0</td>\n",
       "      <td>25.3462</td>\n",
       "      <td>1.900050</td>\n",
       "      <td>74.0</td>\n",
       "      <td>-24.32430</td>\n",
       "      <td>-1042.0</td>\n",
       "      <td>11027.0</td>\n",
       "      <td>1000231</td>\n",
       "    </tr>\n",
       "    <tr>\n",
       "      <th>3</th>\n",
       "      <td>1000247</td>\n",
       "      <td>0.0</td>\n",
       "      <td>0.0</td>\n",
       "      <td>0.0</td>\n",
       "      <td>0.0</td>\n",
       "      <td>0.0</td>\n",
       "      <td>8.00</td>\n",
       "      <td>0.0</td>\n",
       "      <td>0.0</td>\n",
       "      <td>61.0</td>\n",
       "      <td>...</td>\n",
       "      <td>0.246526</td>\n",
       "      <td>NaN</td>\n",
       "      <td>591077.0</td>\n",
       "      <td>31.1147</td>\n",
       "      <td>-0.266935</td>\n",
       "      <td>65.0</td>\n",
       "      <td>4.42269</td>\n",
       "      <td>-1085.0</td>\n",
       "      <td>11025.0</td>\n",
       "      <td>1000247</td>\n",
       "    </tr>\n",
       "    <tr>\n",
       "      <th>4</th>\n",
       "      <td>1000250</td>\n",
       "      <td>0.0</td>\n",
       "      <td>0.0</td>\n",
       "      <td>0.0</td>\n",
       "      <td>0.0</td>\n",
       "      <td>0.0</td>\n",
       "      <td>6.71</td>\n",
       "      <td>0.0</td>\n",
       "      <td>0.0</td>\n",
       "      <td>63.0</td>\n",
       "      <td>...</td>\n",
       "      <td>0.084830</td>\n",
       "      <td>NaN</td>\n",
       "      <td>546671.0</td>\n",
       "      <td>22.8772</td>\n",
       "      <td>-0.599555</td>\n",
       "      <td>61.0</td>\n",
       "      <td>34.99320</td>\n",
       "      <td>-1113.0</td>\n",
       "      <td>11025.0</td>\n",
       "      <td>1000250</td>\n",
       "    </tr>\n",
       "  </tbody>\n",
       "</table>\n",
       "<p>5 rows × 146 columns</p>\n",
       "</div>"
      ],
      "text/plain": [
       "       eid  father  mother  sibling   mf  mfs  Fluid intelligence score (R)  \\\n",
       "0  1000124     0.0     0.0      0.0  0.0  0.0                          6.71   \n",
       "1  1000181     0.0     0.0      0.0  0.0  0.0                          6.71   \n",
       "2  1000231     0.0     0.0      0.0  0.0  0.0                          6.71   \n",
       "3  1000247     0.0     0.0      0.0  0.0  0.0                          8.00   \n",
       "4  1000250     0.0     0.0      0.0  0.0  0.0                          6.71   \n",
       "\n",
       "   Loneliness  Lack of social support   Age  ...  25741-2.0  25742-2.0  \\\n",
       "0         0.0                     1.0  44.0  ...   0.138021   0.166914   \n",
       "1         0.0                     1.0  57.0  ...   0.140451   0.144204   \n",
       "2         1.0                     0.0  43.0  ...   0.127892        NaN   \n",
       "3         0.0                     0.0  61.0  ...   0.246526        NaN   \n",
       "4         0.0                     0.0  63.0  ...   0.084830        NaN   \n",
       "\n",
       "   25006-2.0  21001-0.0  25756-2.0  25757-2.0  25758-2.0  25759-2.0   54-2.0  \\\n",
       "0   663615.0    24.0980  -2.460460       62.0   17.01160    -1097.0  11025.0   \n",
       "1   609556.0    25.2792  -1.966260       59.0  -29.19310    -1042.0  11025.0   \n",
       "2   611251.0    25.3462   1.900050       74.0  -24.32430    -1042.0  11027.0   \n",
       "3   591077.0    31.1147  -0.266935       65.0    4.42269    -1085.0  11025.0   \n",
       "4   546671.0    22.8772  -0.599555       61.0   34.99320    -1113.0  11025.0   \n",
       "\n",
       "     eid.1  \n",
       "0  1000124  \n",
       "1  1000181  \n",
       "2  1000231  \n",
       "3  1000247  \n",
       "4  1000250  \n",
       "\n",
       "[5 rows x 146 columns]"
      ]
     },
     "execution_count": 2,
     "metadata": {},
     "output_type": "execute_result"
    }
   ],
   "source": [
    "data = pd.read_csv('HCDMNCOV_AD.csv')\n",
    "data.head()"
   ]
  },
  {
   "cell_type": "code",
   "execution_count": 3,
   "metadata": {},
   "outputs": [],
   "source": [
    "data.loc[data['Allele-1'] == 'APOE1', 'Allele-2']= 'APOE4'\n",
    "data.loc[data['Allele-1'] == 'APOE1', 'Allele-1']= 'APOE2'"
   ]
  },
  {
   "cell_type": "code",
   "execution_count": 4,
   "metadata": {},
   "outputs": [
    {
     "data": {
      "image/png": "[encoded data removed]",
      "text/plain": [
       "<Figure size 216x216 with 2 Axes>"
      ]
     },
     "metadata": {
      "needs_background": "light"
     },
     "output_type": "display_data"
    }
   ],
   "source": [
    "cm = confusion_matrix(data['Allele-1'], data['Allele-2'], labels = data['Allele-1'].unique(), sample_weight=None, normalize=None)\n",
    "# disp = ConfusionMatrixDisplay(confusion_matrix=cm, display_labels = data['Allele-1'].unique())\n",
    "# disp.plot(values_format = '.7g', cmap='Blues')\n",
    "# plt.savefig('confusin_matrix.png', dpi=200, bbox_inches='tight')\n",
    "# Normalise\n",
    "cmn = cm.astype('float') / len(data)\n",
    "mask = (cmn==0)\n",
    "mask\n",
    "# #mask[np.triu_indices_from(mask)] = True\n",
    "#sns.cubehelix_palette(as_cmap=True)\n",
    "fig, ax = plt.subplots(figsize=(3,3))\n",
    "sns.heatmap(cmn,mask=mask,cmap= 'crest', annot=True, fmt='.2f')\n",
    "ax.set_yticklabels(['e3','e4','e2'])\n",
    "ax.set_xticklabels(['e3','e4','e2'])\n",
    "ax.set_ylabel('Allele-1', size= 14)\n",
    "ax.set_xlabel('Allele-2', size=14)\n",
    "plt.savefig('heatmap.png',dpi=200,bbox_inches='tight')"
   ]
  },
  {
   "cell_type": "markdown",
   "metadata": {},
   "source": [
    "# Subgrouping "
   ]
  },
  {
   "cell_type": "code",
   "execution_count": 5,
   "metadata": {},
   "outputs": [],
   "source": [
    "#sex\n",
    "id_m = np.where((data['Sex']==1))\n",
    "id_f = np.where((data['Sex']==0))\n",
    "#age\n",
    "id_young = np.where(data['Age']<=55.0)\n",
    "id_old = np.where(data['Age']>55.0)\n",
    "#sex x age \n",
    "id_young_m = np.where((data['Age']<=55.0)&(data['Sex']==1))\n",
    "id_young_f = np.where((data['Age']<=55.0)&(data['Sex']==0))\n",
    "id_old_m = np.where((data['Age']>55.0)&(data['Sex']==1))\n",
    "id_old_f = np.where((data['Age']>55.0)&(data['Sex']==0))\n",
    "#education\n",
    "id_low_ed = np.where(data['Education score']<=6.69)\n",
    "id_high_ed = np.where(data['Education score']>6.69)\n",
    "#all \n",
    "id_all = np.where(data['eid']!= None)"
   ]
  },
  {
   "cell_type": "markdown",
   "metadata": {},
   "source": [
    "## Feature selection"
   ]
  },
  {
   "cell_type": "code",
   "execution_count": 6,
   "metadata": {},
   "outputs": [],
   "source": [
    "def features (id):\n",
    "    features = data.iloc[id]\n",
    "    AD = features['mf']\n",
    "    features_apoe = features[['e2/e2', 'e2/e3','e3/e3','e1/e3','e3/e4','e4/e4']]\n",
    "    cca_modes = features[['1',\n",
    "         '2',\n",
    "         '3',\n",
    "         '4',\n",
    "         '5',\n",
    "         '6',\n",
    "         '7',\n",
    "         '8',\n",
    "         '9',\n",
    "         '10',\n",
    "         '11',\n",
    "         '12',\n",
    "         '13',\n",
    "         '14',\n",
    "         '15',\n",
    "         '16',\n",
    "         '17',\n",
    "         '18',\n",
    "         '19',\n",
    "         '20',\n",
    "         '21',\n",
    "         '22',\n",
    "         '23',\n",
    "         '24',\n",
    "         '25',\n",
    "         '26',\n",
    "         '27',\n",
    "         '28',\n",
    "         '29',\n",
    "         '30',\n",
    "         '31',\n",
    "         '32',\n",
    "         '33',\n",
    "         '34',\n",
    "         '35',\n",
    "         '36',\n",
    "         '37',\n",
    "         '38',\n",
    "         '39',\n",
    "         '40',\n",
    "         '41',\n",
    "         '42',\n",
    "         '43',\n",
    "         '44',\n",
    "         '45',\n",
    "         '46',\n",
    "         '47',\n",
    "         '48',\n",
    "         '49',\n",
    "         '50']]\n",
    "    risks = features[['Fluid intelligence score (R)',\n",
    "              'Loneliness',\n",
    "              'Lack of social support',\n",
    "              'Age',\n",
    "              'Sex',\n",
    "              'Education score',\n",
    "              'Age completed high school education',\n",
    "              'Alcohol intake frequency',\n",
    "              'Alcohol consumption on a typical drinking day',\n",
    "              'Current tobacco smoking frequency',\n",
    "              'Past tobacco smoking frequency',\n",
    "              'Attend sports club or gym',\n",
    "              'Attend pub or social club',\n",
    "              'Attend religious group',\n",
    "              'Attend adult education class',\n",
    "              'Walking for pleasure',\n",
    "              'Moderate exercises',\n",
    "              'Strenuous sports',\n",
    "              'Sleep duration',\n",
    "              'Getting up in the morning',\n",
    "              'Being a morning person',\n",
    "              'Sleeplessness or insomnia',\n",
    "              'Heart attack',\n",
    "              'Angina',\n",
    "              'Stroke',\n",
    "              'Hypertension',\n",
    "              'Diabetes diagnosed by a doctor',\n",
    "              'Hearing difficulty with background noise',\n",
    "              'Hearing aid user',\n",
    "              'Glaucoma',\n",
    "              'Cataract',\n",
    "              'Macular degeneration',\n",
    "              'Miserableness',\n",
    "              'Fed-up feelings',\n",
    "              'Mood swings',\n",
    "              'Worrier / anxious feelings',\n",
    "              'Nervous feelings',\n",
    "              'Sensitivity / hurt feelings',\n",
    "              \"Tense / 'highly strung'\",\n",
    "              \"Suffer from 'nerves'\",\n",
    "              'Worry too long after embarrassment',\n",
    "              'Irritability',\n",
    "              'Neuroticism score',\n",
    "              'Happiness',\n",
    "              'Feelings of nervousness or anxiety',\n",
    "              'Frequency of friend / family visits',\n",
    "              'Friendships satisfaction',\n",
    "              'Family relationship satisfaction',\n",
    "              'Number of full siblings',\n",
    "              'Living in urban areas',\n",
    "              'Average household income',\n",
    "              'Paid employment',\n",
    "              'Retirement',\n",
    "              'Looking after home or family',\n",
    "              'Unable to work due to sickness or disability',\n",
    "              'Unemployment',\n",
    "              'Doing unpaid or voluntary work',\n",
    "              'Full or part-time student',\n",
    "              'Number of vehicles in household',\n",
    "              'Time spent watching TV',\n",
    "              'Time spent using computer',\n",
    "              'Number in household',\n",
    "              'Physical environment score']]\n",
    "    \n",
    "    risks = risks.rename(columns={'Worrier / anxious feelings': 'Worrier_anxious',\n",
    "                           'Fluid intelligence score (R)': 'Fluid intelligence score',\n",
    "                           'Sensitivity / hurt feelings': 'Sensitivity_Hurt feelings',\n",
    "                            \"Tense / 'highly strung'\":'Tense_Highly strung',\n",
    "                           'Frequency of friend / family visits': 'Frequency of friend or family visits'})\n",
    "    APOE_scores = data['APOE_ranked']\n",
    "    \n",
    "    return AD, features_apoe, cca_modes, risks, APOE_scores"
   ]
  },
  {
   "cell_type": "markdown",
   "metadata": {},
   "source": [
    "## Z-scoring"
   ]
  },
  {
   "cell_type": "code",
   "execution_count": 7,
   "metadata": {},
   "outputs": [],
   "source": [
    "#generating features for all participants\n",
    "AD, features_apoe, all_modes, risks, APOE_scores = features(id_all)"
   ]
  },
  {
   "cell_type": "code",
   "execution_count": 8,
   "metadata": {},
   "outputs": [],
   "source": [
    "scaler = StandardScaler()\n",
    "all_modes_zscored = scaler.fit_transform(all_modes)\n",
    "all_modes_zscored2 = pd.DataFrame(all_modes_zscored, columns=range(1,51))"
   ]
  },
  {
   "cell_type": "code",
   "execution_count": 9,
   "metadata": {},
   "outputs": [],
   "source": [
    "scaler = StandardScaler()\n",
    "risks_z_scored = scaler.fit_transform(risks)\n",
    "risks_z_scored2 = pd.DataFrame(risks_z_scored, columns=risks.columns)"
   ]
  },
  {
   "cell_type": "markdown",
   "metadata": {},
   "source": [
    "# Interaction Analyses"
   ]
  },
  {
   "cell_type": "markdown",
   "metadata": {},
   "source": [
    "## CCA x APOE in predicting AD family history"
   ]
  },
  {
   "cell_type": "markdown",
   "metadata": {},
   "source": [
    "### Controlling for age"
   ]
  },
  {
   "cell_type": "code",
   "execution_count": 10,
   "metadata": {},
   "outputs": [],
   "source": [
    "def interaction_cov_age (features, id_x, tag):\n",
    "    ad = np.array(features[0])\n",
    "    #shuffling AD outcome\n",
    "    #uncomment line below to perform permuation analyses\n",
    "#     np.random.shuffle(ad)\n",
    "    #print(f'AD: {ad.shape}')\n",
    "    apoe = np.array(features[1])\n",
    "    #print(f'APOE: {apoe.shape}')\n",
    "    #getting age from risk factors z-scored on whole participant cohort\n",
    "    age = risks_z_scored2.iloc[id_x]['Age'].to_numpy()\n",
    "    #getting CCA data from z-scored on whole participant cohort\n",
    "    cca_modes = all_modes_zscored2.iloc[id_x].to_numpy()\n",
    "    \n",
    "    log_model = LogisticRegression()\n",
    "    table = pd.DataFrame()\n",
    "    index = [] \n",
    "\n",
    "    for i in range(0, len(cca_modes.T)):\n",
    "        #ading genotypes\n",
    "        data = np.append(apoe.T,[cca_modes[:,i]], axis=0)\n",
    "        #print(data.T.shape)\n",
    "        for j in range(0,len(apoe.T)): \n",
    "            interaction = cca_modes[:,i]*apoe[:,j]\n",
    "            interaction = interaction.reshape(1,-1)\n",
    "            data = np.append(data, interaction, axis=0)\n",
    "        data = np.append(data, [age], axis=0)\n",
    "        #print(f'HC + APOE + interactions: {data.shape}')\n",
    "        log_model.fit(data.T,ad)\n",
    "        coef = pd.DataFrame(log_model.coef_, columns = ['Main effect e2/2',\n",
    "                                                        'Main effect e2/3',\n",
    "                                                        'Main effect e3/3',\n",
    "                                                        'Main effect e2/4',\n",
    "                                                        'Main effect e3/4',\n",
    "                                                        'Main effect e4/4',\n",
    "                                                        'Main effect canonical variate',\n",
    "                                                        'Canonical variate x e2/2',\n",
    "                                                        'Canonical variate x e2/3',\n",
    "                                                        'Canonical variate x e3/3',\n",
    "                                                        'Canonical variate x e2/4',\n",
    "                                                        'Canonical variate x e3/4',\n",
    "                                                        'Canonical variate x e4/4',\n",
    "                                                        'Age'])\n",
    "        index = index + [f'Component: {i+1}']\n",
    "        table = table.append(coef)\n",
    "        table['id']= index\n",
    "        table = table.set_index(['id'],drop=True)\n",
    "        \n",
    "#     %matplotlib inline    \n",
    "#     plt.figure(figsize=(7, 5))\n",
    "#     sns.heatmap(table.T.iloc[:,0:25], cmap=plt.cm.RdBu_r, center=0, vmin=-1, vmax=1, xticklabels = range(1,26))\n",
    "#     plt.title(f'Interactions of hippocampus canonical variates with APOE \\n genotypes in predicting AD family history in {tag}')\n",
    "#     plot1_path = os.path.abspath(f'/Users/chloesavignac/_CCA_plots/november/cov_HC_cca_apoe_AD_{tag}.png')\n",
    "#     #plt.tight_layout()\n",
    "#     #plt.subplots_adjust(top=1)\n",
    "#     #plt.savefig(plot1_path, dpi=200, bbox_inches='tight')\n",
    "#     #plt.show()\n",
    "\n",
    "#     plt.figure(figsize=(7, 5))\n",
    "#     sns.heatmap(table.T.iloc[:,25:51], cmap=plt.cm.RdBu_r, center=0, vmin=-1, vmax=1, xticklabels = range(1,26))\n",
    "#     plt.title(f'Interactions of DMN canonical variates with APOE genotypes \\n in predicting AD family history in {tag}')\n",
    "#     plot1_path = os.path.abspath(f'/Users/chloesavignac/_CCA_plots/november/cov_DMN_cca_apoe_AD_{tag}.png')\n",
    "#     #plt.tight_layout()\n",
    "#     #plt.subplots_adjust(top=1)\n",
    "#     #plt.savefig(plot1_path, dpi=200, bbox_inches='tight')\n",
    "#     #plt.show()\n",
    "        \n",
    "    return table"
   ]
  },
  {
   "cell_type": "markdown",
   "metadata": {},
   "source": [
    "### Permutation Analyses"
   ]
  },
  {
   "cell_type": "code",
   "execution_count": 11,
   "metadata": {
    "run_control": {
     "marked": false
    },
    "scrolled": true
   },
   "outputs": [],
   "source": [
    "real_coefs_m = interaction_cov_age(features(id_m), id_m, 'males')\n",
    "real_coefs_f = interaction_cov_age(features(id_f), id_f, 'females')"
   ]
  },
  {
   "cell_type": "code",
   "execution_count": null,
   "metadata": {},
   "outputs": [],
   "source": [
    "#MALES\n",
    "#SHUFFLING TEST \n",
    "tables_m = pd.DataFrame()\n",
    "for i in range(0,1000):\n",
    "    np.random.seed(i)\n",
    "    table = interaction_cov_age(features(id_m), id_m, 'males')\n",
    "    tables_m = tables_m.append(table)\n",
    "tables_m.to_csv('coefs_males_07.26.22.csv')\n",
    "\n",
    "#computing p-values\n",
    "dict_pval_m = {}\n",
    "for i in range(0,len(tables_m.columns)):\n",
    "    for j in range(0,50):\n",
    "        point = real_coefs_m.iloc[j,i]\n",
    "        print(f'Real coefficient for {tables_m.columns[i]}: {point}')\n",
    "        null_dist = tables_m.iloc[::50+j, i]\n",
    "        plt.hist(null_dist, bins=20)\n",
    "        plt.title(f'mode {j+1}: {tables_m.columns[i]}')\n",
    "        plt.show()  \n",
    "        if point < 0: \n",
    "            bigger = null_dist[null_dist<point]\n",
    "            print(f'Number of values above criterion: {bigger.shape[0]}')\n",
    "            p_val = bigger.shape[0]/1000\n",
    "            print(f'P-value: {p_val}')\n",
    "        else: \n",
    "            bigger = null_dist[null_dist>point]\n",
    "            print(f'Number of values above criterion: {bigger.shape[0]}')\n",
    "            p_val = bigger.shape[0]/1000\n",
    "            print(f'P-value: {p_val}')\n",
    "        key = f'Mode{j+1}_{tables_m.columns[i]}'\n",
    "        dict_pval_m[key] = p_val\n",
    "#saving results       \n",
    "p_val_m = pd.DataFrame()\n",
    "coefs = []\n",
    "pval = []\n",
    "for i in dict_pval_m.items():\n",
    "    coefs = np.append(coefs,i[0])\n",
    "    pval = np.append(pval,i[1])\n",
    "p_val_m['coefs'] = coefs\n",
    "p_val_m['pval'] = pval\n",
    "p_val_m.to_csv('coefs_pval_males_07.26.22.csv')"
   ]
  },
  {
   "cell_type": "code",
   "execution_count": null,
   "metadata": {},
   "outputs": [],
   "source": [
    "#FEMALES\n",
    "#SHUFFLING TEST\n",
    "tables_f = pd.DataFrame()\n",
    "for i in range(0,1000):\n",
    "    np.random.seed(i)\n",
    "    table = interaction_cov_age(features(id_f), id_f, 'females')\n",
    "    tables_f = tables_f.append(table)\n",
    "tables_f.to_csv('coefs_females_07.26.22.csv')\n",
    "\n",
    "#computing p-values\n",
    "dict_pval_f = {}\n",
    "for i in range(0,len(tables_f.columns)):\n",
    "    for j in range(0,50):\n",
    "        point = real_coefs_f.iloc[j,i]\n",
    "        print(f'Real coefficient for {tables_f.columns[i]}: {point}')\n",
    "        null_dist = tables_f.iloc[::50+j, i]\n",
    "        plt.hist(null_dist, bins=20)\n",
    "        plt.title(f'mode {j+1}: {tables_f.columns[i]}')\n",
    "        plt.show()  \n",
    "        if point < 0: \n",
    "            bigger = null_dist[null_dist<point]\n",
    "            print(f'Number of values above criterion: {bigger.shape[0]}')\n",
    "            p_val = bigger.shape[0]/1000\n",
    "            print(f'P-value: {p_val}')\n",
    "        else: \n",
    "            bigger = null_dist[null_dist>point]\n",
    "            print(f'Number of values above criterion: {bigger.shape[0]}')\n",
    "            p_val = bigger.shape[0]/1000\n",
    "            print(f'P-value: {p_val}')\n",
    "        key = f'Mode{j+1}_{tables_f.columns[i]}'\n",
    "        dict_pval_f[key] = p_val\n",
    "#saving results              \n",
    "p_val_f = pd.DataFrame()\n",
    "coefs = []\n",
    "pval = []\n",
    "for i in dict_pval_f.items():\n",
    "    coefs = np.append(coefs,i[0])\n",
    "    pval = np.append(pval,i[1])\n",
    "p_val_f['coefs'] = coefs\n",
    "p_val_f['pval'] = pval\n",
    "p_val_f.to_csv('coefs_pval_females_07.26.22.csv')"
   ]
  },
  {
   "cell_type": "code",
   "execution_count": null,
   "metadata": {},
   "outputs": [],
   "source": [
    "def arrange_pvals(p):\n",
    "    pvals = pd.DataFrame()\n",
    "    for i in range(0,700,50):\n",
    "        coef = p[i:i+50]\n",
    "        pval = coef['pval'].values\n",
    "        coef_name = coef['coefs'].values[0]\n",
    "        pvals[coef_name]=pval\n",
    "        \n",
    "    pvals = pvals.rename(columns={\n",
    "    \"Mode1_Main effect e2/2\": \"Main effect e2/2\", \n",
    "    \"Mode1_Main effect e2/3\": \"Main effect e2/3\", \n",
    "    \"Mode1_Main effect e3/3\": \"Main effect e3/3\",\n",
    "    \"Mode1_Main effect e2/4\": \"Main effect e2/4\",\n",
    "    \"Mode1_Main effect e3/4\": \"Main effect e3/4\",\n",
    "    \"Mode1_Main effect e4/4\": \"Main effect e4/4\",\n",
    "    \"Mode1_Main effect canonical variate\": \"Main effect canonical variate\",\n",
    "    \"Mode1_Canonical variate x e2/2\": \"Canonical variate x e2/2\",\n",
    "    \"Mode1_Canonical variate x e2/3\": \"Canonical variate x e2/3\",\n",
    "    \"Mode1_Canonical variate x e3/3\": \"Canonical variate x e3/3\",\n",
    "    \"Mode1_Canonical variate x e2/4\": \"Canonical variate x e2/4\",\n",
    "    \"Mode1_Canonical variate x e3/4\": \"Canonical variate x e3/4\",\n",
    "    \"Mode1_Canonical variate x e4/4\": \"Canonical variate x e4/4\",\n",
    "    \"Mode1_Age\": \"Age\", })\n",
    "    \n",
    "    return pvals"
   ]
  },
  {
   "cell_type": "code",
   "execution_count": null,
   "metadata": {
    "scrolled": true
   },
   "outputs": [],
   "source": [
    "pval_f = pd.read_csv('coefs_pval_females_07.26.22.csv',index_col =0)\n",
    "pval_f = arrange_pvals(pval_f)\n",
    "pval_f.to_csv('pvals_females_fig_6.csv')"
   ]
  },
  {
   "cell_type": "code",
   "execution_count": null,
   "metadata": {
    "scrolled": true
   },
   "outputs": [],
   "source": [
    "pval_m = pd.read_csv('coefs_pval_males_07.26.22.csv',index_col =0)\n",
    "pval_m = arrange_pvals(pval_m)\n",
    "pval_m.to_csv('pvals_males_fig_6.csv')"
   ]
  },
  {
   "cell_type": "code",
   "execution_count": null,
   "metadata": {},
   "outputs": [],
   "source": [
    "real_coefs_m = real_coefs_m.reset_index(drop=True)\n",
    "real_coefs_f = real_coefs_f.reset_index(drop=True)"
   ]
  },
  {
   "cell_type": "code",
   "execution_count": null,
   "metadata": {},
   "outputs": [],
   "source": [
    "real_coefs_m.to_csv(os.path.abspath('/Users/chloesavignac/_HCDMNCOV_AD/fig_6/true_coefs_males.csv'))\n",
    "real_coefs_f.to_csv(os.path.abspath('/Users/chloesavignac/_HCDMNCOV_AD/fig_6/true_coefs_females.csv'))"
   ]
  },
  {
   "cell_type": "code",
   "execution_count": null,
   "metadata": {},
   "outputs": [],
   "source": [
    "###TWO-TAILED TEST\n",
    "###MALES\n",
    "real_coefs_m.mask(pval_m > 0.00005, np.nan).to_csv('coefs_males_fig_6_pval_0.0001.csv')\n",
    "real_coefs_m.mask(pval_m > 0.0005, np.nan).to_csv('coefs_males_fig_6_pval_0.001.csv')\n",
    "real_coefs_m.mask(pval_m > 0.025, np.nan).to_csv('coefs_males_fig_6_pval_0.05.csv')\n",
    "real_coefs_m.mask(pval_m > 0.5, np.nan).to_csv('coefs_males_fig_6_pval_0.1.csv')\n",
    "real_coefs_m.mask(pval_m > 0.1, np.nan).to_csv('coefs_males_fig_6_pval_0.2.csv')\n",
    "real_coefs_m.mask(pval_m > 0.25, np.nan).to_csv('coefs_males_fig_6_pval_0.5.csv')\n",
    "real_coefs_m.mask(pval_m > 0.4, np.nan).to_csv('coefs_males_fig_6_pval_0.8.csv')\n",
    "real_coefs_m.mask(pval_m > 0.475, np.nan).to_csv('coefs_males_fig_6_pval_0.95.csv')"
   ]
  },
  {
   "cell_type": "code",
   "execution_count": null,
   "metadata": {},
   "outputs": [],
   "source": [
    "###TWO-TAILED TEST\n",
    "###FEMALES\n",
    "real_coefs_f.mask(pval_f > 0.00005, np.nan).to_csv('coefs_females_fig_6_pval_0.0001.csv')\n",
    "real_coefs_f.mask(pval_f > 0.0005, np.nan).to_csv('coefs_females_fig_6_pval_0.001.csv')\n",
    "real_coefs_f.mask(pval_f > 0.025, np.nan).to_csv('coefs_females_fig_6_pval_0.05.csv')\n",
    "real_coefs_f.mask(pval_f > 0.5, np.nan).to_csv('coefs_females_fig_6_pval_0.1.csv')\n",
    "real_coefs_f.mask(pval_f > 0.1, np.nan).to_csv('coefs_females_fig_6_pval_0.2.csv')\n",
    "real_coefs_f.mask(pval_f > 0.25, np.nan).to_csv('coefs_females_fig_6_pval_0.5.csv')\n",
    "real_coefs_f.mask(pval_f > 0.4, np.nan).to_csv('coefs_females_fig_6_pval_0.8.csv')\n",
    "real_coefs_f.mask(pval_f > 0.475, np.nan).to_csv('coefs_females_fig_6_pval_0.95.csv')"
   ]
  },
  {
   "cell_type": "code",
   "execution_count": null,
   "metadata": {
    "run_control": {
     "marked": false
    },
    "scrolled": false
   },
   "outputs": [],
   "source": [
    "#using pvals to create mask\n",
    "#table = real_old_m.mask(pval_m > 0.025, np.nan)\n",
    "def plot_coefs(tag,pval):\n",
    "    \n",
    "    if tag == 'males':\n",
    "        table = real_coefs_m.mask(pval_m > pval/2, np.nan)\n",
    "    elif tag == 'females':  \n",
    "        table = real_coefs_f.mask(pval_f > pval/2, np.nan)\n",
    "    \n",
    "    %matplotlib inline\n",
    "    plt.figure(figsize=(7, 5))\n",
    "    sns.heatmap(table.iloc[0:25,:].T, cmap=plt.cm.RdBu_r, center=0, vmin=-1, vmax=1, xticklabels = range(1,26))\n",
    "    plt.title(f'Interactions of hippocampus co-variation patterns with APOE \\n genotypes in estimating family history of ADRD in {tag}')\n",
    "    plot1_path = os.path.abspath(f'/Users/chloesavignac/_HCDMNCOV_AD/fig_6/cov_HC_cca_apoe_AD_{tag}_pval_{pval}.png')\n",
    "    #plt.tight_layout()\n",
    "    plt.subplots_adjust(top=1)\n",
    "    plt.savefig(plot1_path, dpi=200, bbox_inches='tight')\n",
    "    plt.close()\n",
    "\n",
    "    plt.figure(figsize=(7, 5))\n",
    "    sns.heatmap(table.iloc[25:50,:].T, cmap=plt.cm.RdBu_r, center=0, vmin=-1, vmax=1, xticklabels = range(1,26))\n",
    "    plt.title(f'Interactions of DN co-variation patterns with APOE \\n genotypes in estimating family history of ADRD in {tag}')\n",
    "    plot1_path = os.path.abspath(f'/Users/chloesavignac/_HCDMNCOV_AD/fig_6/cov_DMN_cca_apoe_AD_{tag}_pval_{pval}.png')\n",
    "    #plt.tight_layout()\n",
    "    plt.subplots_adjust(top=1)\n",
    "    plt.savefig(plot1_path, dpi=200, bbox_inches='tight')\n",
    "    plt.close()"
   ]
  },
  {
   "cell_type": "code",
   "execution_count": null,
   "metadata": {},
   "outputs": [],
   "source": [
    "plot_coefs('males', 0.0001)\n",
    "plot_coefs('males', 0.001)\n",
    "plot_coefs('males', 0.05)\n",
    "plot_coefs('males', 0.1)\n",
    "plot_coefs('males', 0.2)\n",
    "plot_coefs('males', 0.5)\n",
    "plot_coefs('males', 0.8)\n",
    "plot_coefs('males', 0.95)"
   ]
  },
  {
   "cell_type": "code",
   "execution_count": null,
   "metadata": {},
   "outputs": [],
   "source": [
    "plot_coefs('females', 0.0001)\n",
    "plot_coefs('females', 0.001)\n",
    "plot_coefs('females', 0.05)\n",
    "plot_coefs('females', 0.1)\n",
    "plot_coefs('females', 0.2)\n",
    "plot_coefs('females', 0.5)\n",
    "plot_coefs('females', 0.8)\n",
    "plot_coefs('females', 0.95)"
   ]
  },
  {
   "cell_type": "markdown",
   "metadata": {},
   "source": [
    "## CCA x APOE in predicting Risks"
   ]
  },
  {
   "cell_type": "markdown",
   "metadata": {},
   "source": [
    "### Controlling for age "
   ]
  },
  {
   "cell_type": "code",
   "execution_count": 12,
   "metadata": {},
   "outputs": [],
   "source": [
    "def interaction3_cov_age (features, id_x, tag, plot):\n",
    "    apoe = np.array(features[1])\n",
    "    #print(f'APOE: {apoe.shape}')\n",
    "\n",
    "    #getting risks from data z-scored on whole participant cohort\n",
    "    risks_og = features[3].drop(['Sex', 'Age'], axis=1)\n",
    "    age = risks_z_scored2.iloc[id_x]['Age'].to_numpy()\n",
    "    risks = risks_og.to_numpy()\n",
    "    #getting CCA from data z-scored on whole participant cohort\n",
    "    cca_modes = all_modes_zscored2.iloc[id_x].to_numpy()\n",
    "    \n",
    "    model = Ridge()\n",
    "    table = pd.DataFrame()\n",
    "    index = []\n",
    "    \n",
    "    for r in risks_og.columns:\n",
    "        #print(risks_og.columns[r])\n",
    "        label = risks_og[[r]]\n",
    "        scaler = StandardScaler()\n",
    "        label = scaler.fit_transform(label)\n",
    "        #shuffling labels\n",
    "        #uncomment line below to perform permutation analyses\n",
    "        ####################################\n",
    "        #np.random.shuffle(label)\n",
    "        ####################################\n",
    "        #print(f'risk label: {label.shape}')\n",
    "        for i in range(0,len(cca_modes.T)):\n",
    "            #main effects cca & apoe\n",
    "            data = np.append([cca_modes[:,i]], apoe.T, axis=0)\n",
    "            data = np.append(data, [age], axis=0)\n",
    "            #print(f'HC + APOE: {data.shape}')\n",
    "            for j in range(0,len(apoe.T)): \n",
    "                interaction = cca_modes[:,i]*apoe[:,j]\n",
    "                interaction = interaction.reshape(1,-1)\n",
    "                data = np.append(data, interaction, axis=0)\n",
    "            #print(f'HC + APOE + interactions: {data.T.shape}')\n",
    "            #print(f'risk label: {label.shape}')\n",
    "            model.fit(data.T,label)\n",
    "            #print(model.coef_.T.shape)\n",
    "            coef = pd.DataFrame(model.coef_.reshape((1, 14)), columns = ['Main effect canonical variate',\n",
    "                                                            'Main effect e2/2',\n",
    "                                                            'Main effect e2/3',\n",
    "                                                            'Main effect e3/3',\n",
    "                                                            'Main effect e2/4',\n",
    "                                                            'Main effect e3/4',\n",
    "                                                            'Main effect e4/4',\n",
    "                                                                         'Age',\n",
    "                                                            'Canonical variate x e2/2',\n",
    "                                                            'Canonical variate x e2/3',\n",
    "                                                            'Canonical variate x e3/3',\n",
    "                                                            'Canonical variate x e2/4',\n",
    "                                                            'Canonical variate x e3/4',\n",
    "                                                            'Canonical variate x e4/4'])\n",
    "            index = index + [f'{r}: Component {i}']\n",
    "            table = table.append(coef)\n",
    "    table['id']= index\n",
    "    table = table.set_index(['id'],drop=True)\n",
    "    \n",
    "    if (plot==True):\n",
    "        #ploting coef \n",
    "        counter = 0\n",
    "        for i in range(0,3050,50):\n",
    "            %matplotlib inline\n",
    "            subset = table.iloc[i:i+50]\n",
    "            plt.figure(figsize=(11, 4))\n",
    "            ax = plt.axes()\n",
    "            sns.heatmap(subset.T,cmap=plt.cm.RdBu_r,center=0, vmin=-0.5, vmax=0.5, xticklabels = range(1,51), cbar_kws={\"shrink\": 0.5})\n",
    "            ax.set_title(f'Interactions of canonical variates with APOE genotypes in estimating {risks_og.columns[counter]} in {tag}')\n",
    "            plot2_path = os.path.abspath(f'/Users/chloesavignac/_CCA_plots/november/original/{tag}_APOE_interaction_{risks_og.columns[counter]}.png')\n",
    "            #plt.tight_layout()\n",
    "            plt.subplots_adjust(top=1)\n",
    "            #plt.savefig(plot2_path, dpi=200, bbox_inches='tight')\n",
    "            plt.show()\n",
    "            counter = counter + 1\n",
    "            \n",
    "    return table"
   ]
  },
  {
   "cell_type": "markdown",
   "metadata": {},
   "source": [
    "### Subgroup Analyses"
   ]
  },
  {
   "cell_type": "code",
   "execution_count": 13,
   "metadata": {},
   "outputs": [],
   "source": [
    "real_coefs_m = interaction3_cov_age(features(id_m), id_m, 'males', plot = False)"
   ]
  },
  {
   "cell_type": "code",
   "execution_count": 14,
   "metadata": {},
   "outputs": [],
   "source": [
    "real_coefs_f = interaction3_cov_age(features(id_f), id_f, 'females', plot = False)"
   ]
  },
  {
   "cell_type": "code",
   "execution_count": null,
   "metadata": {},
   "outputs": [],
   "source": [
    "real_coefs_m.to_csv(os.path.abspath('/Users/chloesavignac/_HCDMNCOV_AD/fig_7/true_coefs_males.csv'))\n",
    "real_coefs_f.to_csv(os.path.abspath('/Users/chloesavignac/_HCDMNCOV_AD/fig_7/true_coefs_females.csv'))"
   ]
  },
  {
   "cell_type": "markdown",
   "metadata": {},
   "source": [
    "### Permutation Analyses"
   ]
  },
  {
   "cell_type": "markdown",
   "metadata": {},
   "source": [
    "#### Males"
   ]
  },
  {
   "cell_type": "code",
   "execution_count": null,
   "metadata": {},
   "outputs": [],
   "source": [
    "tables_m = pd.DataFrame()\n",
    "for i in tqdm(range(0,1000)):\n",
    "    np.random.seed(i)\n",
    "    table = interaction3_cov_age(features(id_m), id_m, 'males',plot=False)\n",
    "    index = f'{i+1}_' + table.index.values \n",
    "    table['index']= index\n",
    "    table = table.set_index(['index'],drop=True)\n",
    "    tables_m = tables_m.append(table)\n",
    "tables_m.to_csv(os.path.abspath('/Users/chloesavignac/_HCDMNCOV_AD/fig_7/perumatation_coefs_males.csv'))\n",
    "males_coefs_perm = tables_m"
   ]
  },
  {
   "cell_type": "code",
   "execution_count": null,
   "metadata": {
    "scrolled": true
   },
   "outputs": [],
   "source": [
    "#MALES\n",
    "dict_pval_m = {}\n",
    "for i in range(0,len(males_coefs_perm.columns)):\n",
    "    #create file\n",
    "    name = males_coefs_perm.columns[i].replace('/', 'e')\n",
    "    f = open(os.path.abspath(f'/Users/chloesavignac/_HCDMNCOV_AD/fig_7/permutation_analysis/males/{name}_males.txt'), 'w')\n",
    "    f.write(f'{name} \\n')\n",
    "    f.close()\n",
    "    for j in tqdm(range(0,3050)):\n",
    "        #return coefficients (i) for each risk factors and canonical variate combination (j)\n",
    "        point = real_coefs_m.iloc[j,i]\n",
    "        null_dist = males_coefs_perm.iloc[j::3050, i]\n",
    "        #print(null_dist)\n",
    "#         fig = plt.figure()\n",
    "#         plt.hist(null_dist, bins=20)\n",
    "#         plt.title(f'{null_dist.index[0]} : {males_coefs_perm.columns[i]}')\n",
    "#         plot3_path = os.path.abspath(f'/Users/chloesavignac/_CCA_plots/november/permutation/males/{null_dist.index[0]}_{name}.png')\n",
    "#         #plt.ioff()\n",
    "#         plt.savefig(plot3_path, dpi=200, bbox_inches='tight')\n",
    "#         plt.close(fig)\n",
    "        #append values to file\n",
    "        f = open(os.path.abspath(f'/Users/chloesavignac/_HCDMNCOV_AD/fig_7/permutation_analysis/males/{name}_males.txt'), 'a')\n",
    "        f.write(f'{null_dist.index[0]} : {males_coefs_perm.columns[i]} \\n')\n",
    "        f.write(f'True coefficient (criterion): {point} \\n')\n",
    "        f.write(f'Number of iterations: {null_dist.shape[0]} \\n')\n",
    "        if point < 0:\n",
    "            bigger = null_dist[null_dist<point]\n",
    "            f.write(f'Number of values above criterion: {bigger.shape[0]} \\n')\n",
    "            p_val = bigger.shape[0]/1000\n",
    "            f.write(f'P-value: {p_val} \\n')\n",
    "        else:\n",
    "            bigger = null_dist[null_dist>point]\n",
    "            f.write(f'Number of values above criterion: {bigger.shape[0]} \\n')\n",
    "            p_val = bigger.shape[0]/1000\n",
    "            f.write(f'P-value: {p_val} \\n')\n",
    "        key = f'{null_dist.index[0]} : {males_coefs_perm.columns[i]}'\n",
    "        f.write('\\n')\n",
    "        f.close()\n",
    "        dict_pval_m[key] = p_val \n",
    "        \n",
    "with open(os.path.abspath('/Users/chloesavignac/_HCDMNCOV_AD/fig_7/permutation_analysis/males/pval_permutation_males.json'), 'w') as fp:\n",
    "    json.dump(dict_pval_m, fp)"
   ]
  },
  {
   "cell_type": "code",
   "execution_count": null,
   "metadata": {},
   "outputs": [],
   "source": [
    "#making dataframe to use as mask      \n",
    "p_val_m = pd.DataFrame()\n",
    "coefs = []\n",
    "pval = []\n",
    "for i in dict_pval_m.items():\n",
    "    coefs = np.append(coefs,i[0])\n",
    "    pval = np.append(pval,i[1])\n",
    "p_val_m['coefs'] = coefs\n",
    "p_val_m['pval'] = pval"
   ]
  },
  {
   "cell_type": "markdown",
   "metadata": {},
   "source": [
    "#### Females"
   ]
  },
  {
   "cell_type": "code",
   "execution_count": null,
   "metadata": {},
   "outputs": [],
   "source": [
    "tables_f = pd.DataFrame()\n",
    "for i in tqdm(range(0,1000)):\n",
    "    np.random.seed(i)\n",
    "    table = interaction3_cov_age(features(id_f), id_f, 'females',plot=False)\n",
    "    index = f'{i+1}_' + table.index.values \n",
    "    table['index']= index\n",
    "    table = table.set_index(['index'],drop=True)\n",
    "    tables_f = tables_f.append(table)\n",
    "tables_f.to_csv(os.path.abspath('/Users/chloesavignac/_HCDMNCOV_AD/fig_7/perumatation_coefs_females.csv'))\n",
    "females_coefs_perm = tables_f"
   ]
  },
  {
   "cell_type": "code",
   "execution_count": 20,
   "metadata": {
    "scrolled": true
   },
   "outputs": [
    {
     "name": "stderr",
     "output_type": "stream",
     "text": [
      "100%|█████████████████████████████████████████████████████████████████████████████████████████████████████████████████████| 3050/3050 [00:02<00:00, 1127.18it/s]\n",
      "100%|█████████████████████████████████████████████████████████████████████████████████████████████████████████████████████| 3050/3050 [00:02<00:00, 1180.79it/s]\n",
      "100%|█████████████████████████████████████████████████████████████████████████████████████████████████████████████████████| 3050/3050 [00:02<00:00, 1151.69it/s]\n",
      "100%|█████████████████████████████████████████████████████████████████████████████████████████████████████████████████████| 3050/3050 [00:02<00:00, 1145.92it/s]\n",
      "100%|█████████████████████████████████████████████████████████████████████████████████████████████████████████████████████| 3050/3050 [00:02<00:00, 1107.10it/s]\n",
      "100%|█████████████████████████████████████████████████████████████████████████████████████████████████████████████████████| 3050/3050 [00:02<00:00, 1040.24it/s]\n",
      "100%|█████████████████████████████████████████████████████████████████████████████████████████████████████████████████████| 3050/3050 [00:02<00:00, 1202.29it/s]\n",
      "100%|█████████████████████████████████████████████████████████████████████████████████████████████████████████████████████| 3050/3050 [00:02<00:00, 1182.54it/s]\n",
      "100%|█████████████████████████████████████████████████████████████████████████████████████████████████████████████████████| 3050/3050 [00:02<00:00, 1113.22it/s]\n",
      "100%|█████████████████████████████████████████████████████████████████████████████████████████████████████████████████████| 3050/3050 [00:02<00:00, 1054.87it/s]\n",
      "100%|█████████████████████████████████████████████████████████████████████████████████████████████████████████████████████| 3050/3050 [00:02<00:00, 1036.72it/s]\n",
      "100%|█████████████████████████████████████████████████████████████████████████████████████████████████████████████████████| 3050/3050 [00:02<00:00, 1121.88it/s]\n",
      "100%|█████████████████████████████████████████████████████████████████████████████████████████████████████████████████████| 3050/3050 [00:02<00:00, 1097.30it/s]\n",
      "100%|█████████████████████████████████████████████████████████████████████████████████████████████████████████████████████| 3050/3050 [00:03<00:00, 1013.70it/s]\n"
     ]
    },
    {
     "ename": "NameError",
     "evalue": "name 'json' is not defined",
     "output_type": "error",
     "traceback": [
      "\u001b[0;31m---------------------------------------------------------------------------\u001b[0m",
      "\u001b[0;31mNameError\u001b[0m                                 Traceback (most recent call last)",
      "\u001b[0;32m/var/folders/pr/cb_pqkw930d_pggjvtvfzl3w0000gn/T/ipykernel_46376/2887506924.py\u001b[0m in \u001b[0;36m<module>\u001b[0;34m\u001b[0m\n\u001b[1;32m     41\u001b[0m \u001b[0;34m\u001b[0m\u001b[0m\n\u001b[1;32m     42\u001b[0m \u001b[0;32mwith\u001b[0m \u001b[0mopen\u001b[0m\u001b[0;34m(\u001b[0m\u001b[0mos\u001b[0m\u001b[0;34m.\u001b[0m\u001b[0mpath\u001b[0m\u001b[0;34m.\u001b[0m\u001b[0mabspath\u001b[0m\u001b[0;34m(\u001b[0m\u001b[0;34m'/Users/chloesavignac/_HCDMNCOV_AD/fig_7/permutation_analysis/females/pval_permutation_females.json'\u001b[0m\u001b[0;34m)\u001b[0m\u001b[0;34m,\u001b[0m \u001b[0;34m'w'\u001b[0m\u001b[0;34m)\u001b[0m \u001b[0;32mas\u001b[0m \u001b[0mfp\u001b[0m\u001b[0;34m:\u001b[0m\u001b[0;34m\u001b[0m\u001b[0;34m\u001b[0m\u001b[0m\n\u001b[0;32m---> 43\u001b[0;31m     \u001b[0mjson\u001b[0m\u001b[0;34m.\u001b[0m\u001b[0mdump\u001b[0m\u001b[0;34m(\u001b[0m\u001b[0mdict_pval_f\u001b[0m\u001b[0;34m,\u001b[0m \u001b[0mfp\u001b[0m\u001b[0;34m)\u001b[0m\u001b[0;34m\u001b[0m\u001b[0;34m\u001b[0m\u001b[0m\n\u001b[0m",
      "\u001b[0;31mNameError\u001b[0m: name 'json' is not defined"
     ]
    }
   ],
   "source": [
    "#FEMALES\n",
    "dict_pval_f = {}\n",
    "for i in range(0,len(females_coefs_perm.columns)):\n",
    "    #creating text file\n",
    "    name = females_coefs_perm.columns[i].replace('/', 'e')\n",
    "    f = open(os.path.abspath(f'/Users/chloesavignac/_HCDMNCOV_AD/fig_7/permutation_analysis/females/{name}_females.txt'), 'w')\n",
    "    f.write(f'{name} \\n')\n",
    "    f.close()\n",
    "    for j in tqdm(range(0,3050)):\n",
    "        #return coefficients (i) for each risk factors and canonical variate combination (j)\n",
    "        point = real_coefs_f.iloc[j,i]\n",
    "        null_dist = females_coefs_perm.iloc[j::3050, i]\n",
    "        #print(null_dist)\n",
    "#         fig = plt.figure()\n",
    "#         plt.hist(null_dist, bins=20)\n",
    "#         plt.title(f'{null_dist.index[0]} : {females_coefs_perm.columns[i]}')\n",
    "#         name = females_coefs_perm.columns[i].replace('/', 'e')\n",
    "#         plot3_path = os.path.abspath(f'/Users/chloesavignac/_CCA_plots/november/permutation/females/{null_dist.index[0]}_{name}.png')\n",
    "#         #plt.ioff()\n",
    "#         plt.close(fig)\n",
    "#         plt.savefig(plot3_path, dpi=200, bbox_inches='tight')\n",
    "        #append values to file\n",
    "        f = open(os.path.abspath(f'/Users/chloesavignac/_HCDMNCOV_AD/fig_7/permutation_analysis/females/{name}_females.txt'), 'a')\n",
    "        f.write(f'{null_dist.index[0]} : {females_coefs_perm.columns[i]} \\n')\n",
    "        f.write(f'True coefficient (criterion): {point} \\n')\n",
    "        f.write(f'Number of iterations: {null_dist.shape[0]} \\n')\n",
    "        if point < 0:\n",
    "            bigger = null_dist[null_dist<point]\n",
    "            f.write(f'Number of values above criterion: {bigger.shape[0]} \\n')\n",
    "            p_val = bigger.shape[0]/1000\n",
    "            f.write(f'P-value: {p_val} \\n')\n",
    "        else:\n",
    "            bigger = null_dist[null_dist>point]\n",
    "            f.write(f'Number of values above criterion: {bigger.shape[0]} \\n')\n",
    "            p_val = bigger.shape[0]/1000\n",
    "            f.write(f'P-value: {p_val} \\n')\n",
    "        key = f'{null_dist.index[0]} : {females_coefs_perm.columns[i]}'\n",
    "        f.write('\\n')\n",
    "        f.close()\n",
    "        dict_pval_f[key] = p_val \n",
    "        \n",
    "with open(os.path.abspath('/Users/chloesavignac/_HCDMNCOV_AD/fig_7/permutation_analysis/females/pval_permutation_females.json'), 'w') as fp:\n",
    "    json.dump(dict_pval_f, fp)"
   ]
  },
  {
   "cell_type": "code",
   "execution_count": null,
   "metadata": {},
   "outputs": [],
   "source": [
    "#making dataframe to use as mask      \n",
    "p_val_f = pd.DataFrame()\n",
    "coefs = []\n",
    "pval = []\n",
    "for i in dict_pval_f.items():\n",
    "    coefs = np.append(coefs,i[0])\n",
    "    pval = np.append(pval,i[1])\n",
    "p_val_f['coefs'] = coefs\n",
    "p_val_f['pval'] = pval"
   ]
  },
  {
   "cell_type": "markdown",
   "metadata": {},
   "source": [
    "#### Generating masked dataframes and plots"
   ]
  },
  {
   "cell_type": "code",
   "execution_count": null,
   "metadata": {},
   "outputs": [],
   "source": [
    "def arrange_pvals2(p):\n",
    "    pval_mask = pd.DataFrame()\n",
    "    for i in range(0,len(p),3050):\n",
    "        col = p.pval[i:i+3050]\n",
    "        pval_mask[f'{i}'] = col.values\n",
    "        #print(col.values)\n",
    "    pval_mask = pval_mask.rename(columns={\n",
    "    \"0\": \"Main effect canonical variate\",\n",
    "    \"3050\": \"Main effect e2/2\", \n",
    "    \"6100\": \"Main effect e2/3\", \n",
    "    \"9150\": \"Main effect e3/3\",\n",
    "    \"12200\": \"Main effect e2/4\",\n",
    "    \"15250\": \"Main effect e3/4\",\n",
    "    \"18300\": \"Main effect e4/4\",\n",
    "    \"21350\": \"Age\",\n",
    "    \"24400\": \"Canonical variate x e2/2\",\n",
    "    \"27450\": \"Canonical variate x e2/3\",\n",
    "    \"30500\": \"Canonical variate x e3/3\",\n",
    "    \"33550\": \"Canonical variate x e2/4\",\n",
    "    \"36600\": \"Canonical variate x e3/4\",\n",
    "    \"39650\": \"Canonical variate x e4/4\"})\n",
    "    return pval_mask   "
   ]
  },
  {
   "cell_type": "code",
   "execution_count": null,
   "metadata": {
    "scrolled": true
   },
   "outputs": [],
   "source": [
    "pval_f = arrange_pvals2(p_val_f)\n",
    "pval_f.head()"
   ]
  },
  {
   "cell_type": "code",
   "execution_count": null,
   "metadata": {
    "scrolled": true
   },
   "outputs": [],
   "source": [
    "pval_m = arrange_pvals2(p_val_m)\n",
    "pval_m.head()"
   ]
  },
  {
   "cell_type": "code",
   "execution_count": null,
   "metadata": {},
   "outputs": [],
   "source": [
    "real_coefs_m = real_coefs_m.reset_index(drop=True)\n",
    "real_coefs_f = real_coefs_f.reset_index(drop=True)"
   ]
  },
  {
   "cell_type": "code",
   "execution_count": null,
   "metadata": {},
   "outputs": [],
   "source": [
    "risks = risks.drop(['Sex', 'Age'], axis=1)"
   ]
  },
  {
   "cell_type": "code",
   "execution_count": null,
   "metadata": {},
   "outputs": [],
   "source": [
    "def plot_mask(tag,pval):\n",
    "    #ploting with mask\n",
    "    \n",
    "    if tag == 'males':\n",
    "        table = real_coefs_m.mask(pval_m > pval/2, np.nan)\n",
    "    elif tag == 'females':\n",
    "        real_coefs_f.mask(pval_f > pval/2, np.nan)\n",
    "    counter = 0\n",
    "    for i in range(0,3050,50):\n",
    "        %matplotlib inline\n",
    "        subset = table.iloc[i:i+25]\n",
    "        plt.figure(figsize=(5.5, 4))\n",
    "        ax = plt.axes()\n",
    "        sns.heatmap(subset.T,cmap=plt.cm.RdBu_r,center=0, vmin=-0.5, vmax=0.5, xticklabels = range(1,26), cbar_kws={\"shrink\": 0.5})\n",
    "        ax.set_title(f'Interactions of HC co-variation patterns with APOE genotypes in estimating {risks.columns[counter]} in {tag}')\n",
    "        plot1_path = os.path.abspath(f'/Users/chloesavignac/_HCDMNCOV_AD/fig_7/permutation_analysis/{tag}/plots/{pval}/hc_{tag}_APOE_interaction_{risks.columns[counter]}.png')\n",
    "        #plt.tight_layout()\n",
    "        plt.subplots_adjust(top=1)\n",
    "        plt.savefig(plot1_path, dpi=200, bbox_inches='tight')\n",
    "\n",
    "        %matplotlib inline\n",
    "        subset = table.iloc[i+25:i+50]\n",
    "        plt.figure(figsize=(5.5, 4))\n",
    "        ax = plt.axes()\n",
    "        sns.heatmap(subset.T,cmap=plt.cm.RdBu_r,center=0, vmin=-0.5, vmax=0.5, xticklabels = range(1,26), cbar_kws={\"shrink\": 0.5})\n",
    "        ax.set_title(f'Interactions of DN co-variation patterns with APOE genotypes in estimating {risks.columns[counter]} in {tag}')\n",
    "        plot2_path = os.path.abspath(f'/Users/chloesavignac/_HCDMNCOV_AD/fig_7/permutation_analysis/{tag}/plots/{pval}/dn_{tag}_APOE_interaction_{risks.columns[counter]}.png')\n",
    "        #plt.tight_layout()\n",
    "        plt.subplots_adjust(top=1)\n",
    "        plt.savefig(plot2_path, dpi=200, bbox_inches='tight')\n",
    "        counter = counter + 1\n"
   ]
  },
  {
   "cell_type": "code",
   "execution_count": null,
   "metadata": {},
   "outputs": [],
   "source": [
    "###MALES\n",
    "plot_mask('males',0.0001)\n",
    "plot_mask('males',0.001)\n",
    "plot_mask('males',0.01)\n",
    "plot_mask('males',0.05)\n",
    "plot_mask('males',0.1)\n",
    "plot_mask('males',0.2)\n",
    "plot_mask('males',0.5)\n",
    "plot_mask('males',0.8)\n",
    "plot_mask('males',0.95)"
   ]
  },
  {
   "cell_type": "code",
   "execution_count": null,
   "metadata": {},
   "outputs": [],
   "source": [
    "###FEMALES\n",
    "plot_mask('females',0.0001)\n",
    "plot_mask('females',0.001)\n",
    "plot_mask('females',0.01)\n",
    "plot_mask('females',0.05)\n",
    "plot_mask('females',0.1)\n",
    "plot_mask('females',0.2)\n",
    "plot_mask('females',0.5)\n",
    "plot_mask('females',0.8)\n",
    "plot_mask('females',0.95)"
   ]
  }
 ],
 "metadata": {
  "hide_input": false,
  "kernelspec": {
   "display_name": "Python 3 (ipykernel)",
   "language": "python",
   "name": "python3"
  },
  "language_info": {
   "codemirror_mode": {
    "name": "ipython",
    "version": 3
   },
   "file_extension": ".py",
   "mimetype": "text/x-python",
   "name": "python",
   "nbconvert_exporter": "python",
   "pygments_lexer": "ipython3",
   "version": "3.7.11"
  },
  "toc": {
   "base_numbering": 1,
   "nav_menu": {},
   "number_sections": true,
   "sideBar": true,
   "skip_h1_title": false,
   "title_cell": "Table of Contents",
   "title_sidebar": "Contents",
   "toc_cell": true,
   "toc_position": {
    "height": "calc(100% - 180px)",
    "left": "10px",
    "top": "150px",
    "width": "256.515625px"
   },
   "toc_section_display": true,
   "toc_window_display": true
  },
  "varInspector": {
   "cols": {
    "lenName": 16,
    "lenType": 16,
    "lenVar": 40
   },
   "kernels_config": {
    "python": {
     "delete_cmd_postfix": "",
     "delete_cmd_prefix": "del ",
     "library": "var_list.py",
     "varRefreshCmd": "print(var_dic_list())"
    },
    "r": {
     "delete_cmd_postfix": ") ",
     "delete_cmd_prefix": "rm(",
     "library": "var_list.r",
     "varRefreshCmd": "cat(var_dic_list()) "
    }
   },
   "types_to_exclude": [
    "module",
    "function",
    "builtin_function_or_method",
    "instance",
    "_Feature"
   ],
   "window_display": false
  }
 },
 "nbformat": 4,
 "nbformat_minor": 4
}
