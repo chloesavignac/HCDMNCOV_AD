{
 "cells": [
  {
   "cell_type": "code",
   "execution_count": null,
   "id": "2dff8d4f",
   "metadata": {},
   "outputs": [],
   "source": [
    "import pandas as pd\n",
    "import numpy as np"
   ]
  },
  {
   "cell_type": "markdown",
   "id": "b503bc09",
   "metadata": {},
   "source": [
    "Total of 348 participants"
   ]
  },
  {
   "cell_type": "markdown",
   "id": "60aa93d7",
   "metadata": {},
   "source": [
    "# Registered Data Descriptions"
   ]
  },
  {
   "cell_type": "code",
   "execution_count": null,
   "id": "d73f3d39",
   "metadata": {},
   "outputs": [],
   "source": [
    "desc = pd.read_csv('PREVENT-AD_internal_n386__Data_Dictionary.csv', index_col =0)\n",
    "desc.data_table"
   ]
  },
  {
   "cell_type": "code",
   "execution_count": null,
   "id": "4fbbd19f",
   "metadata": {},
   "outputs": [],
   "source": [
    "desc.head()"
   ]
  },
  {
   "cell_type": "markdown",
   "id": "1caf7793",
   "metadata": {},
   "source": [
    "# Data Sets"
   ]
  },
  {
   "cell_type": "markdown",
   "id": "94b886c4",
   "metadata": {},
   "source": [
    "## AD8"
   ]
  },
  {
   "cell_type": "markdown",
   "id": "7790bd1e",
   "metadata": {},
   "source": [
    "Structured Alzheimer Dementia 8 (AD8) interview (administered to study partner).\n",
    "Partner rated the participant on eight functional abilities intended to discriminate normal cognitive aging from very mild dementia. The AD8 was designed specifically for the detection of change over time. Beginning in 2015, each participant was also asked to rate subjective change in memory abilities using the Measurement of Everyday Cognition (ECog). This instrument uses a four-point scale to ascertain perceived changes over the past year. Although administered annually, these ratings did not necessarily coincide with annual FU visits."
   ]
  },
  {
   "cell_type": "code",
   "execution_count": null,
   "id": "816e9999",
   "metadata": {
    "scrolled": false
   },
   "outputs": [],
   "source": [
    "AD8 = pd.read_csv('PREVENT-AD_internal_n386__AD8.csv')\n",
    "AD8"
   ]
  },
  {
   "cell_type": "code",
   "execution_count": null,
   "id": "2d03d1cc",
   "metadata": {},
   "outputs": [],
   "source": [
    "len(AD8.CandID.unique())"
   ]
  },
  {
   "cell_type": "code",
   "execution_count": null,
   "id": "0e5c4423",
   "metadata": {},
   "outputs": [],
   "source": [
    "len(AD8.PSCID.unique())"
   ]
  },
  {
   "cell_type": "code",
   "execution_count": null,
   "id": "cb38835e",
   "metadata": {},
   "outputs": [],
   "source": [
    "AD8.Study_visit_label.unique()"
   ]
  },
  {
   "cell_type": "code",
   "execution_count": null,
   "id": "16d06d65",
   "metadata": {},
   "outputs": [],
   "source": [
    "len(AD8.iloc[np.where(AD8.Study_visit_label == 'PREBL00')])"
   ]
  },
  {
   "cell_type": "code",
   "execution_count": null,
   "id": "e1975e37",
   "metadata": {},
   "outputs": [],
   "source": [
    "len(AD8.iloc[np.where(AD8.Study_visit_label == 'NAPFU48')])"
   ]
  },
  {
   "cell_type": "code",
   "execution_count": null,
   "id": "2ad2404f",
   "metadata": {},
   "outputs": [],
   "source": [
    "PREBL00_sum = len(AD8.iloc[np.where(AD8.Study_visit_label == 'PREBL00')])\n",
    "PREFU12_sum = len(AD8.iloc[np.where(AD8.Study_visit_label == 'PREFU12')])\n",
    "PREFU24_sum = len(AD8.iloc[np.where(AD8.Study_visit_label == 'PREFU24')])\n",
    "PREFU36_sum = len(AD8.iloc[np.where(AD8.Study_visit_label == 'PREFU36')])\n",
    "PREFU48_sum = len(AD8.iloc[np.where(AD8.Study_visit_label == 'PREFU48')])\n",
    "NAPBL00_sum = len(AD8.iloc[np.where(AD8.Study_visit_label == 'NAPBL00')])\n",
    "NAPFU03_sum = len(AD8.iloc[np.where(AD8.Study_visit_label == 'NAPFU03')])\n",
    "NAPFU12_sum = len(AD8.iloc[np.where(AD8.Study_visit_label == 'NAPFU12')])\n",
    "NAPFU24_sum = len(AD8.iloc[np.where(AD8.Study_visit_label == 'NAPFU24')])\n",
    "NAPFU36_sum = len(AD8.iloc[np.where(AD8.Study_visit_label == 'NAPFU36')])\n",
    "NAPFU48_sum = len(AD8.iloc[np.where(AD8.Study_visit_label == 'NAPFU48')])\n",
    "\n",
    "\n",
    "import matplotlib.pyplot as plt\n",
    "fig = plt.figure(figsize=(10, 6))\n",
    "ax = fig.add_axes([0,0,1,1])\n",
    "study_visits = AD8.Study_visit_label.unique()\n",
    "number_participants = [NAPBL00_sum, NAPFU03_sum, NAPFU12_sum, NAPFU24_sum, NAPFU36_sum, NAPFU48_sum, PREBL00_sum,PREFU12_sum,PREFU24_sum,PREFU36_sum, PREFU48_sum]\n",
    "values = ax.bar(study_visits,number_participants)\n",
    "ax.bar_label(values, fontsize = 16)\n",
    "plt.show()"
   ]
  },
  {
   "cell_type": "markdown",
   "id": "d2c3ef60",
   "metadata": {},
   "source": [
    "IMPORTANT NOTES about the label convention: The first visit in the program is always labelled as PREEL00. INTREPAD trial participants are identified at enrolment visit (NAPEN00) and the following (ex.: NAPBL00, NAPFU03, etc). Even after the termination of the treatment and trial protocol (24 months; FU24), INTREPAD participants remain named as NAP for all the following annual FU (NAPFU36, NAPFU48, for example). However, if a participant was not able to follow study protocol until NAPFU03, he/she was excluded from the trial and ‘switched back’ to the observational cohort (PRE) to continue to be followed annually (PREFU12 and following). Central auditory processing (AP) also has its own label, even if this test was performed in concordance with BL and or FU. Lumbar puncture (LP) stand alone as the procedure was done on a separate day, close to the annual FU.\n",
    "\n",
    "Lists of participants who switched back from NAPBL to PREFU\n",
    "* MTL0015\n",
    "* MTL0086\n",
    "* MTL0102\n",
    "* MTL0106\n",
    "* MTL0107\n",
    "* MTL0111\n",
    "* MTL0154\n",
    "* MTL0205\n",
    "* MTL0217\n",
    "* MTL0228\n",
    "* MTL0235\n",
    "* MTL0290\n",
    "* MTL0386\n",
    "* MTL0412\n",
    "* MTL0415\n",
    "* MTL0424\n"
   ]
  },
  {
   "cell_type": "code",
   "execution_count": null,
   "id": "75984c8c",
   "metadata": {},
   "outputs": [],
   "source": [
    "from IPython.display import Image\n",
    "\n",
    "Image(filename = 'prevent_AD_label.png', width=1000, height=100)"
   ]
  },
  {
   "cell_type": "code",
   "execution_count": null,
   "id": "b405525c",
   "metadata": {},
   "outputs": [],
   "source": [
    "#COMBINED COHORTS\n",
    "\n",
    "import matplotlib.pyplot as plt\n",
    "fig = plt.figure(figsize=(10, 6))\n",
    "ax = fig.add_axes([0,0,1,1])\n",
    "#in months\n",
    "study_visits = (0,12,24,36,48)\n",
    "number_participants = [PREBL00_sum+NAPBL00_sum,PREFU12_sum+NAPFU12_sum,PREFU24_sum+NAPFU24_sum,PREFU36_sum+NAPFU36_sum, PREFU48_sum+NAPFU48_sum]\n",
    "values = ax.bar(study_visits,number_participants)\n",
    "ax.bar_label(values, fontsize=16)\n",
    "ax.set_xticks(study_visits, fontsize=16)\n",
    "ax.set_xlabel('Time in months since first visit', fontsize=18)\n",
    "ax.set_ylabel('Number of participants', fontsize=18)\n",
    "ax.set_title('Attrition rate of follow-up', fontsize=20)\n",
    "plt.show()\n"
   ]
  },
  {
   "cell_type": "code",
   "execution_count": null,
   "id": "23b048e6",
   "metadata": {},
   "outputs": [],
   "source": [
    "AD8_desc = desc.iloc[np.where(desc['data_table']=='AD8')]\n",
    "AD8_desc.index\n",
    "for i in range(0,len(AD8_desc.index)):\n",
    "    print(f'{AD8_desc[\"data_table\"].values[i]} : {AD8_desc[\"description\"].values[i]}')"
   ]
  },
  {
   "cell_type": "markdown",
   "id": "49c7e1fe",
   "metadata": {},
   "source": [
    "## Alzheimer Progression Score (APS)"
   ]
  },
  {
   "cell_type": "markdown",
   "id": "ebd60408",
   "metadata": {},
   "source": [
    "Alzheimer Progression Score (APS) used as the primary outcome measure in INTREPAD. The scores are available within the INTREPAD shared dataset. The APS was developed in conjunction with colleagues at Johns Hopkins University. A composite such as the APS was envisioned at the time INTREPAD was designed, but its development and validation relied on data from parallel assessments in the longitudinal observational (non-trial) cohort. The APS is based on an Item Response Theory latent-variable approach to the many potentially informative data points collected longitudinally in PREVENT-AD."
   ]
  },
  {
   "cell_type": "code",
   "execution_count": null,
   "id": "2c83d375",
   "metadata": {
    "scrolled": true
   },
   "outputs": [],
   "source": [
    "APS = pd.read_csv('PREVENT-AD_internal_n386__APS.csv')\n",
    "APS"
   ]
  },
  {
   "cell_type": "code",
   "execution_count": null,
   "id": "5c9a117f",
   "metadata": {},
   "outputs": [],
   "source": [
    "len(APS.PSCID.unique())"
   ]
  },
  {
   "cell_type": "code",
   "execution_count": null,
   "id": "edfa6283",
   "metadata": {},
   "outputs": [],
   "source": [
    "APS.Study_visit_label.unique()"
   ]
  },
  {
   "cell_type": "code",
   "execution_count": null,
   "id": "7796fa65",
   "metadata": {},
   "outputs": [],
   "source": [
    "APS_desc = desc.iloc[np.where(desc['data_table']=='APS')]\n",
    "APS_desc.head(10)\n",
    "APS_desc.index\n",
    "for i in range(0,len(APS_desc.index)):\n",
    "    print(f'{APS_desc[\"data_table\"].values[i]} : {APS_desc[\"description\"].values[i]}')"
   ]
  },
  {
   "cell_type": "code",
   "execution_count": null,
   "id": "35d68893",
   "metadata": {},
   "outputs": [],
   "source": [
    "PREBL00_sum = len(APS.iloc[np.where(APS.Study_visit_label == 'PREBL00')])\n",
    "PREFU12_sum = len(APS.iloc[np.where(APS.Study_visit_label == 'PREFU12')])\n",
    "PREFU24_sum = len(APS.iloc[np.where(APS.Study_visit_label == 'PREFU24')])\n",
    "PREFU36_sum = len(APS.iloc[np.where(APS.Study_visit_label == 'PREFU36')])\n",
    "PREFU48_sum = len(APS.iloc[np.where(APS.Study_visit_label == 'PREFU48')])\n",
    "NAPBL00_sum = len(APS.iloc[np.where(APS.Study_visit_label == 'NAPBL00')])\n",
    "NAPFU03_sum = len(APS.iloc[np.where(APS.Study_visit_label == 'NAPFU03')])\n",
    "NAPFU12_sum = len(APS.iloc[np.where(APS.Study_visit_label == 'NAPFU12')])\n",
    "NAPFU24_sum = len(APS.iloc[np.where(APS.Study_visit_label == 'NAPFU24')])\n",
    "NAPFU36_sum = len(APS.iloc[np.where(APS.Study_visit_label == 'NAPFU36')])\n",
    "NAPFU48_sum = len(APS.iloc[np.where(APS.Study_visit_label == 'NAPFU48')])\n",
    "\n",
    "\n",
    "#COMBINED COHORTS\n",
    "\n",
    "import matplotlib.pyplot as plt\n",
    "fig = plt.figure(figsize=(10, 6))\n",
    "ax = fig.add_axes([0,0,1,1])\n",
    "#in months\n",
    "study_visits = (0,12,24)\n",
    "number_participants = [PREBL00_sum+NAPBL00_sum,PREFU12_sum+NAPFU12_sum,PREFU24_sum+NAPFU24_sum]\n",
    "values = ax.bar(study_visits,number_participants)\n",
    "ax.bar_label(values, fontsize=16)\n",
    "ax.set_xticks(study_visits, fontsize=16)\n",
    "ax.set_xlabel('Time in months since first visit', fontsize=18)\n",
    "ax.set_ylabel('Number of participants', fontsize=18)\n",
    "ax.set_title('Attrition rate of follow-up', fontsize=20)\n",
    "plt.show()\n",
    "\n"
   ]
  },
  {
   "cell_type": "markdown",
   "id": "6300bf5f",
   "metadata": {},
   "source": [
    "## Auditory Processing (3 tests)"
   ]
  },
  {
   "cell_type": "markdown",
   "id": "1c1e03fd",
   "metadata": {},
   "source": [
    "We tested central auditory processing (CAP) using the Synthetic Sentence Identification with Ipsilateral Competing Message (SSI-ICM) test and the Dichotic Stimulus Identification (DSI) test.\n",
    "\n",
    "After having first been assessed for simple auditory acuity (with monosyllabic words), participants were asked to identify spoken “pseudo-sentences,” either with various sound levels of a distracting background narrative (SSI-ICM) or with dichotic binaural presentation (DSI). The latter test was available only in French.\n",
    "\n",
    "In the SSI-ICM test, one pseudo-sentence is heard while a story is recited in the background. Both the sentence and story are played in the same (ipsilateral) ear. The participant is asked to identify the target sentence among 10 choices offered. Participants performed this task a minimum of 10 and a maximum of 30 times, with designated score-dependent stopping points.40 The other ear was then tested using the same protocol. SSI-ICM testing can typically be completed in less than 30 minutes.\n",
    "\n",
    "The DSI task tests dichotic listening capability. For this task different pseudo- sentences are played simultaneously in the two ears. Participants a asked to identify the two target sentences from a list of 10. Participants performed this task a minimum of 5 and a maximum of 10 times, with designated score- dependent stopping points,40 in a session requiring less than 15 minutes."
   ]
  },
  {
   "cell_type": "code",
   "execution_count": null,
   "id": "b5e90b10",
   "metadata": {
    "scrolled": true
   },
   "outputs": [],
   "source": [
    "Aud_pro = pd.read_csv('PREVENT-AD_internal_n386__Auditory_processing.csv')\n",
    "Aud_pro"
   ]
  },
  {
   "cell_type": "code",
   "execution_count": null,
   "id": "1ce8b8a4",
   "metadata": {},
   "outputs": [],
   "source": [
    "len(Aud_pro.PSCID.unique())"
   ]
  },
  {
   "cell_type": "code",
   "execution_count": null,
   "id": "d0b8c820",
   "metadata": {},
   "outputs": [],
   "source": [
    "Aud_pro.Study_visit_label.unique()"
   ]
  },
  {
   "cell_type": "code",
   "execution_count": null,
   "id": "862362dd",
   "metadata": {},
   "outputs": [],
   "source": [
    "Aud_pro_desc = desc.iloc[np.where(desc['data_table']=='Auditory_processing')]\n",
    "Aud_pro_desc.head(10)\n",
    "Aud_pro_desc.index\n",
    "for i in range(0,len(Aud_pro_desc.index)):\n",
    "    print(f'{Aud_pro_desc[\"data_table\"].values[i]} : {Aud_pro_desc[\"description\"].values[i]}')"
   ]
  },
  {
   "cell_type": "markdown",
   "id": "be71b60c",
   "metadata": {},
   "source": [
    "## BP Pulse Weight"
   ]
  },
  {
   "cell_type": "code",
   "execution_count": null,
   "id": "010972aa",
   "metadata": {},
   "outputs": [],
   "source": [
    "BP_Pulse_Weight = pd.read_csv('PREVENT-AD_internal_n386__BP_Pulse_Weight.csv')\n",
    "BP_Pulse_Weight"
   ]
  },
  {
   "cell_type": "code",
   "execution_count": null,
   "id": "111c34ea",
   "metadata": {},
   "outputs": [],
   "source": [
    "BP_Pulse_Weight.Study_visit_label.unique()"
   ]
  },
  {
   "cell_type": "code",
   "execution_count": null,
   "id": "296c5eb5",
   "metadata": {},
   "outputs": [],
   "source": [
    "BP_Pulse_Weight_desc = desc.iloc[np.where(desc['data_table']=='BP_Pulse_Weight')]\n",
    "BP_Pulse_Weight_desc.head(10)\n",
    "BP_Pulse_Weight_desc.index\n",
    "for i in range(0,len(BP_Pulse_Weight_desc.index)):\n",
    "    print(f'{BP_Pulse_Weight_desc[\"data_table\"].values[i]} : {BP_Pulse_Weight_desc[\"description\"].values[i]}')"
   ]
  },
  {
   "cell_type": "code",
   "execution_count": null,
   "id": "91bb9c40",
   "metadata": {},
   "outputs": [],
   "source": [
    "PREEL00_sum = len(BP_Pulse_Weight.iloc[np.where(BP_Pulse_Weight.Study_visit_label == 'PREEL00')])\n",
    "PREBL00_sum = len(BP_Pulse_Weight.iloc[np.where(BP_Pulse_Weight.Study_visit_label == 'PREBL00')])\n",
    "PREFU12_sum = len(BP_Pulse_Weight.iloc[np.where(BP_Pulse_Weight.Study_visit_label == 'PREFU12')])\n",
    "PREFU24_sum = len(BP_Pulse_Weight.iloc[np.where(BP_Pulse_Weight.Study_visit_label == 'PREFU24')])\n",
    "PREFU36_sum = len(BP_Pulse_Weight.iloc[np.where(BP_Pulse_Weight.Study_visit_label == 'PREFU36')])\n",
    "PREFU48_sum = len(BP_Pulse_Weight.iloc[np.where(BP_Pulse_Weight.Study_visit_label == 'PREFU48')])\n",
    "NAPEN00_sum = len(BP_Pulse_Weight.iloc[np.where(BP_Pulse_Weight.Study_visit_label == 'NAPEN00')])\n",
    "NAPBL00_sum = len(BP_Pulse_Weight.iloc[np.where(BP_Pulse_Weight.Study_visit_label == 'NAPBL00')])\n",
    "NAPFU03_sum = len(BP_Pulse_Weight.iloc[np.where(BP_Pulse_Weight.Study_visit_label == 'NAPFU03')])\n",
    "NAPFU12_sum = len(BP_Pulse_Weight.iloc[np.where(BP_Pulse_Weight.Study_visit_label == 'NAPFU12')])\n",
    "NAPFU24_sum = len(BP_Pulse_Weight.iloc[np.where(BP_Pulse_Weight.Study_visit_label == 'NAPFU24')])\n",
    "NAPFU36_sum = len(BP_Pulse_Weight.iloc[np.where(BP_Pulse_Weight.Study_visit_label == 'NAPFU36')])\n",
    "NAPFU48_sum = len(BP_Pulse_Weight.iloc[np.where(BP_Pulse_Weight.Study_visit_label == 'NAPFU48')])\n",
    "\n",
    "\n",
    "import matplotlib.pyplot as plt\n",
    "fig = plt.figure(figsize=(10, 6))\n",
    "ax = fig.add_axes([0,0,1,1])\n",
    "study_visits = ['NAPEN00','NAPBL00', 'NAPFU03', 'NAPFU12', 'NAPFU24', 'NAPFU36', 'NAPFU48', 'PREEL00', 'PREBL00','PREFU12','PREFU24','PREFU36', 'PREFU48']\n",
    "number_participants = [NAPEN00_sum, NAPBL00_sum, NAPFU03_sum, NAPFU12_sum, NAPFU24_sum, NAPFU36_sum, NAPFU48_sum, PREEL00_sum, PREBL00_sum,PREFU12_sum,PREFU24_sum,PREFU36_sum, PREFU48_sum]\n",
    "values = ax.bar(study_visits,number_participants)\n",
    "ax.bar_label(values, fontsize = 16)\n",
    "plt.show()"
   ]
  },
  {
   "cell_type": "markdown",
   "id": "ced14fb1",
   "metadata": {},
   "source": [
    "## CSF Proteins"
   ]
  },
  {
   "cell_type": "code",
   "execution_count": null,
   "id": "f1592e85",
   "metadata": {
    "scrolled": true
   },
   "outputs": [],
   "source": [
    "CSF_Proteins = pd.read_csv('PREVENT-AD_internal_n386__CSF_proteins.csv')\n",
    "CSF_Proteins"
   ]
  },
  {
   "cell_type": "code",
   "execution_count": null,
   "id": "0a198300",
   "metadata": {},
   "outputs": [],
   "source": [
    "CSF_Proteins.Study_visit_label.unique()"
   ]
  },
  {
   "cell_type": "code",
   "execution_count": null,
   "id": "d06e98b2",
   "metadata": {},
   "outputs": [],
   "source": [
    "PREBL00_sum = len(CSF_Proteins.iloc[np.where(CSF_Proteins.Study_visit_label == 'PREBL00')])\n",
    "PREFU12_sum = len(CSF_Proteins.iloc[np.where(CSF_Proteins.Study_visit_label == 'PREFU12')])\n",
    "PREFU24_sum = len(CSF_Proteins.iloc[np.where(CSF_Proteins.Study_visit_label == 'PREFU24')])\n",
    "PREFU36_sum = len(CSF_Proteins.iloc[np.where(CSF_Proteins.Study_visit_label == 'PREFU36')])\n",
    "PREFU48_sum = len(CSF_Proteins.iloc[np.where(CSF_Proteins.Study_visit_label == 'PREFU48')])\n",
    "NAPBL00_sum = len(CSF_Proteins.iloc[np.where(CSF_Proteins.Study_visit_label == 'NAPBL00')])\n",
    "NAPFU03_sum = len(CSF_Proteins.iloc[np.where(CSF_Proteins.Study_visit_label == 'NAPFU03')])\n",
    "NAPFU12_sum = len(CSF_Proteins.iloc[np.where(CSF_Proteins.Study_visit_label == 'NAPFU12')])\n",
    "NAPFU24_sum = len(CSF_Proteins.iloc[np.where(CSF_Proteins.Study_visit_label == 'NAPFU24')])\n",
    "NAPFU36_sum = len(CSF_Proteins.iloc[np.where(CSF_Proteins.Study_visit_label == 'NAPFU36')])\n",
    "NAPFU48_sum = len(CSF_Proteins.iloc[np.where(CSF_Proteins.Study_visit_label == 'NAPFU48')])\n",
    "\n",
    "\n",
    "fig = plt.figure(figsize=(10, 6))\n",
    "ax = fig.add_axes([0,0,1,1])\n",
    "#in months\n",
    "study_visits = (0,12,24,36,48)\n",
    "number_participants = [PREBL00_sum+NAPBL00_sum,PREFU12_sum+NAPFU12_sum,PREFU24_sum+NAPFU24_sum,PREFU36_sum+NAPFU36_sum, PREFU48_sum+NAPFU48_sum]\n",
    "values = ax.bar(study_visits,number_participants)\n",
    "ax.bar_label(values, fontsize=16)\n",
    "ax.set_xticks(study_visits, fontsize=16)\n",
    "ax.set_xlabel('Time in months since first visit', fontsize=18)\n",
    "ax.set_ylabel('Number of participants', fontsize=18)\n",
    "ax.set_title('Attrition rate of follow-up', fontsize=20)\n",
    "plt.show()"
   ]
  },
  {
   "cell_type": "code",
   "execution_count": null,
   "id": "7da68d89",
   "metadata": {},
   "outputs": [],
   "source": [
    "CSF_Proteins_desc = desc.iloc[np.where(desc['data_table']=='CSF_proteins')]\n",
    "CSF_Proteins_desc.head(10)\n",
    "CSF_Proteins_desc.index\n",
    "for i in range(0,len(CSF_Proteins_desc.index)):\n",
    "    print(f'{CSF_Proteins_desc[\"data_table\"].values[i]} : {CSF_Proteins_desc[\"description\"].values[i]}')"
   ]
  },
  {
   "cell_type": "markdown",
   "id": "5a48a8ec",
   "metadata": {},
   "source": [
    "## Demographics "
   ]
  },
  {
   "cell_type": "code",
   "execution_count": null,
   "id": "9b538744",
   "metadata": {},
   "outputs": [],
   "source": [
    "Dem = pd.read_csv('PREVENT-AD_internal_n386__Demographics.csv')\n",
    "Dem"
   ]
  },
  {
   "cell_type": "code",
   "execution_count": null,
   "id": "848a2d85",
   "metadata": {},
   "outputs": [],
   "source": [
    "list(Dem.columns)"
   ]
  },
  {
   "cell_type": "code",
   "execution_count": null,
   "id": "15f8dfcb",
   "metadata": {},
   "outputs": [],
   "source": [
    "Dem_desc = desc.iloc[np.where(desc['data_table']=='Demographics')]\n",
    "Dem_desc.head(10)\n",
    "Dem_desc.index\n",
    "for i in range(0,len(Dem_desc.index)):\n",
    "    print(f'{Dem_desc[\"data_table\"].values[i]} : {Dem_desc[\"description\"].values[i]}')"
   ]
  },
  {
   "cell_type": "markdown",
   "id": "496f3e47",
   "metadata": {},
   "source": [
    "## Cardiovascular risk score (CAIDE)"
   ]
  },
  {
   "cell_type": "code",
   "execution_count": null,
   "id": "7c845350",
   "metadata": {},
   "outputs": [],
   "source": [
    "EL_CAIDE = pd.read_csv('PREVENT-AD_internal_n386__EL_CAIDE.csv')\n",
    "EL_CAIDE"
   ]
  },
  {
   "cell_type": "code",
   "execution_count": null,
   "id": "8b8f88d5",
   "metadata": {},
   "outputs": [],
   "source": [
    "EL_CAIDE.Study_visit_label.unique()"
   ]
  },
  {
   "cell_type": "code",
   "execution_count": null,
   "id": "fd2f1162",
   "metadata": {},
   "outputs": [],
   "source": [
    "EL_CAIDE_desc = desc.iloc[np.where(desc['data_table']=='EL_CAIDE')]\n",
    "EL_CAIDE_desc.head(10)\n",
    "EL_CAIDE_desc.index\n",
    "for i in range(0,len(EL_CAIDE_desc.index)):\n",
    "    print(f'{EL_CAIDE_desc[\"data_table\"].values[i]} : {EL_CAIDE_desc[\"description\"].values[i]}')"
   ]
  },
  {
   "cell_type": "markdown",
   "id": "1f0f859b",
   "metadata": {},
   "source": [
    "## CDR MoCA"
   ]
  },
  {
   "cell_type": "code",
   "execution_count": null,
   "id": "a63d5f9a",
   "metadata": {},
   "outputs": [],
   "source": [
    "EL_CDR_MoCA = pd.read_csv('PREVENT-AD_internal_n386__EL_CDR_MoCA.csv')\n",
    "EL_CDR_MoCA"
   ]
  },
  {
   "cell_type": "code",
   "execution_count": null,
   "id": "02af5bbc",
   "metadata": {},
   "outputs": [],
   "source": [
    "list(EL_CDR_MoCA.columns)"
   ]
  },
  {
   "cell_type": "code",
   "execution_count": null,
   "id": "470e974f",
   "metadata": {},
   "outputs": [],
   "source": [
    "EL_CDR_MoCA.Study_visit_label.unique()"
   ]
  },
  {
   "cell_type": "code",
   "execution_count": null,
   "id": "6dedbe0c",
   "metadata": {},
   "outputs": [],
   "source": [
    "EL_CDR_MoCA_desc = desc.iloc[np.where(desc['data_table']=='EL_CDR_MoCA')]\n",
    "EL_CDR_MoCA_desc.head(10)\n",
    "EL_CDR_MoCA_desc.index\n",
    "for i in range(0,len(EL_CDR_MoCA_desc.index)):\n",
    "    print(f'{EL_CDR_MoCA_desc[\"data_table\"].values[i]} : {EL_CDR_MoCA_desc[\"description\"].values[i]}')"
   ]
  },
  {
   "cell_type": "markdown",
   "id": "5959942d",
   "metadata": {},
   "source": [
    "## Medical History"
   ]
  },
  {
   "cell_type": "code",
   "execution_count": null,
   "id": "0a70e15e",
   "metadata": {},
   "outputs": [],
   "source": [
    "EL_med_hist = pd.read_csv('PREVENT-AD_internal_n386__EL_Medical_history.csv')\n",
    "EL_med_hist"
   ]
  },
  {
   "cell_type": "code",
   "execution_count": null,
   "id": "1ca833b7",
   "metadata": {},
   "outputs": [],
   "source": [
    "EL_med_hist.Study_visit_label.unique()"
   ]
  },
  {
   "cell_type": "code",
   "execution_count": null,
   "id": "0b942917",
   "metadata": {},
   "outputs": [],
   "source": [
    "EL_med_hist_desc = desc.iloc[np.where(desc['data_table']=='EL_Medical_history')]\n",
    "EL_med_hist_desc.head(10)\n",
    "EL_med_hist_desc.index\n",
    "for i in range(0,len(EL_med_hist_desc.index)):\n",
    "    print(f'{EL_med_hist_desc[\"data_table\"].values[i]} : {EL_med_hist_desc[\"description\"].values[i]}')"
   ]
  },
  {
   "cell_type": "markdown",
   "id": "9fbf8576",
   "metadata": {},
   "source": [
    "## Genetics"
   ]
  },
  {
   "cell_type": "code",
   "execution_count": null,
   "id": "669fc6a0",
   "metadata": {},
   "outputs": [],
   "source": [
    "genetics = pd.read_csv('PREVENT-AD_internal_n386__Genetics.csv')\n",
    "genetics"
   ]
  },
  {
   "cell_type": "code",
   "execution_count": null,
   "id": "d3d1812b",
   "metadata": {},
   "outputs": [],
   "source": [
    "genetics_desc = desc.iloc[np.where(desc['data_table']=='Genetics')]\n",
    "genetics_desc.head(10)\n",
    "genetics_desc.index\n",
    "for i in range(0,len(genetics_desc.index)):\n",
    "    print(f'{genetics_desc[\"data_table\"].values[i]} : {genetics_desc[\"description\"].values[i]}')"
   ]
  },
  {
   "cell_type": "code",
   "execution_count": null,
   "id": "7db88e90",
   "metadata": {},
   "outputs": [],
   "source": []
  },
  {
   "cell_type": "markdown",
   "id": "5c7404bb",
   "metadata": {},
   "source": [
    "## Lab Assays"
   ]
  },
  {
   "cell_type": "code",
   "execution_count": null,
   "id": "97104011",
   "metadata": {},
   "outputs": [],
   "source": [
    "lab = pd.read_csv('PREVENT-AD_internal_n386__Lab.csv')\n",
    "lab"
   ]
  },
  {
   "cell_type": "code",
   "execution_count": null,
   "id": "65cee156",
   "metadata": {},
   "outputs": [],
   "source": [
    "lab.Study_visit_label.unique()"
   ]
  },
  {
   "cell_type": "code",
   "execution_count": null,
   "id": "2d71f4fc",
   "metadata": {},
   "outputs": [],
   "source": [
    "lab_desc = desc.iloc[np.where(desc['data_table']=='Lab')]\n",
    "lab_desc.head(10)\n",
    "lab_desc.index\n",
    "for i in range(0,len(lab_desc.index)):\n",
    "    print(f'{lab_desc[\"data_table\"].values[i]} : {lab_desc[\"description\"].values[i]}')"
   ]
  },
  {
   "cell_type": "markdown",
   "id": "a34c21dc",
   "metadata": {},
   "source": [
    "## Medication Use"
   ]
  },
  {
   "cell_type": "code",
   "execution_count": null,
   "id": "82d4ae79",
   "metadata": {},
   "outputs": [],
   "source": [
    "Med_use = pd.read_csv('PREVENT-AD_internal_n386__Med_use.csv')\n",
    "Med_use"
   ]
  },
  {
   "cell_type": "code",
   "execution_count": null,
   "id": "2681709d",
   "metadata": {},
   "outputs": [],
   "source": [
    "Med_use.Study_visit_label.unique()"
   ]
  },
  {
   "cell_type": "code",
   "execution_count": null,
   "id": "aa67438f",
   "metadata": {},
   "outputs": [],
   "source": [
    "len(Med_use.PSCID.unique())"
   ]
  },
  {
   "cell_type": "code",
   "execution_count": null,
   "id": "dd212650",
   "metadata": {},
   "outputs": [],
   "source": [
    "Med_use_desc = desc.iloc[np.where(desc['data_table']=='Med_use')]\n",
    "Med_use_desc.head(10)\n",
    "Med_use_desc.index\n",
    "for i in range(0,len(Med_use_desc.index)):\n",
    "    print(f'{Med_use_desc[\"data_table\"].values[i]} : {Med_use_desc[\"description\"].values[i]}')"
   ]
  },
  {
   "cell_type": "markdown",
   "id": "1e6bb940",
   "metadata": {},
   "source": [
    "## Repeatable Battery for Assessment of Neuropsychological Status (RBANS)"
   ]
  },
  {
   "cell_type": "code",
   "execution_count": null,
   "id": "ada53f7e",
   "metadata": {},
   "outputs": [],
   "source": [
    "RBANS = pd.read_csv('PREVENT-AD_internal_n386__RBANS.csv')\n",
    "RBANS"
   ]
  },
  {
   "cell_type": "code",
   "execution_count": null,
   "id": "1cd30832",
   "metadata": {},
   "outputs": [],
   "source": [
    "len(RBANS.PSCID.unique())"
   ]
  },
  {
   "cell_type": "code",
   "execution_count": null,
   "id": "141aec27",
   "metadata": {},
   "outputs": [],
   "source": [
    "RBANS.Visit_label.unique()"
   ]
  },
  {
   "cell_type": "code",
   "execution_count": null,
   "id": "241e453c",
   "metadata": {},
   "outputs": [],
   "source": [
    "RBANS.Study_visit_label.unique()"
   ]
  },
  {
   "cell_type": "code",
   "execution_count": null,
   "id": "a71fb3fc",
   "metadata": {},
   "outputs": [],
   "source": [
    "PREBL00_sum = len(RBANS.iloc[np.where(RBANS.Study_visit_label == 'PREBL00')])\n",
    "PREFU12_sum = len(RBANS.iloc[np.where(RBANS.Study_visit_label == 'PREFU12')])\n",
    "PREFU24_sum = len(RBANS.iloc[np.where(RBANS.Study_visit_label == 'PREFU24')])\n",
    "PREFU36_sum = len(RBANS.iloc[np.where(RBANS.Study_visit_label == 'PREFU36')])\n",
    "PREFU48_sum = len(RBANS.iloc[np.where(RBANS.Study_visit_label == 'PREFU48')])\n",
    "PREFU60_sum = len(RBANS.iloc[np.where(RBANS.Study_visit_label == 'PREFU60')])\n",
    "PREFU72_sum = len(RBANS.iloc[np.where(RBANS.Study_visit_label == 'PREFU72')])\n",
    "PREFU84_sum = len(RBANS.iloc[np.where(RBANS.Study_visit_label == 'PREFU84')])\n",
    "NAPBL00_sum = len(RBANS.iloc[np.where(RBANS.Study_visit_label == 'NAPBL00')])\n",
    "NAPFU03_sum = len(RBANS.iloc[np.where(RBANS.Study_visit_label == 'NAPFU03')])\n",
    "NAPFU12_sum = len(RBANS.iloc[np.where(RBANS.Study_visit_label == 'NAPFU12')])\n",
    "NAPFU24_sum = len(RBANS.iloc[np.where(RBANS.Study_visit_label == 'NAPFU24')])\n",
    "NAPFU36_sum = len(RBANS.iloc[np.where(RBANS.Study_visit_label == 'NAPFU36')])\n",
    "NAPFU48_sum = len(RBANS.iloc[np.where(RBANS.Study_visit_label == 'NAPFU48')])\n",
    "NAPFU60_sum = len(RBANS.iloc[np.where(RBANS.Study_visit_label == 'NAPFU60')])\n",
    "NAPFU72_sum = len(RBANS.iloc[np.where(RBANS.Study_visit_label == 'NAPFU72')])\n",
    "NAPFU84_sum = len(RBANS.iloc[np.where(RBANS.Study_visit_label == 'NAPFU84')])\n",
    "\n",
    "\n",
    "import matplotlib.pyplot as plt\n",
    "fig = plt.figure(figsize=(16, 6))\n",
    "ax = fig.add_axes([0,0,1,1])\n",
    "study_visits = ['NAPBL00', 'NAPFU03', 'NAPFU12', 'NAPFU24', 'NAPFU36', 'NAPFU48', 'NAPFU60', 'NAPFU72', 'NAPFU84', 'PREBL00','PREFU12','PREFU24','PREFU36', 'PREFU48', 'PREFU60', 'PREFU72', 'PREFU84']\n",
    "number_participants = [NAPBL00_sum, NAPFU03_sum, NAPFU12_sum, NAPFU24_sum, NAPFU36_sum, NAPFU48_sum, NAPFU60_sum, NAPFU72_sum, NAPFU84_sum, PREBL00_sum,PREFU12_sum,PREFU24_sum,PREFU36_sum, PREFU48_sum, PREFU60_sum, PREFU72_sum, PREFU84_sum]\n",
    "values = ax.bar(study_visits,number_participants)\n",
    "ax.bar_label(values, fontsize = 16)\n",
    "plt.show()"
   ]
  },
  {
   "cell_type": "code",
   "execution_count": null,
   "id": "b6d03b9d",
   "metadata": {},
   "outputs": [],
   "source": [
    "fig = plt.figure(figsize=(10, 6))\n",
    "ax = fig.add_axes([0,0,1,1])\n",
    "#in months\n",
    "study_visits = (0,12,24,36,48,60,72,84)\n",
    "number_participants = [PREBL00_sum+NAPBL00_sum,PREFU12_sum+NAPFU12_sum,PREFU24_sum+NAPFU24_sum,PREFU36_sum+NAPFU36_sum, PREFU48_sum+NAPFU48_sum, PREFU60_sum+NAPFU60_sum, PREFU72_sum+NAPFU72_sum, PREFU84_sum+NAPFU84_sum]\n",
    "values = ax.bar(study_visits,number_participants)\n",
    "ax.bar_label(values, fontsize=16)\n",
    "ax.set_xticks(study_visits, fontsize=16)\n",
    "ax.set_xlabel('Time in months since first visit', fontsize=18)\n",
    "ax.set_ylabel('Number of participants', fontsize=18)\n",
    "ax.set_title('Attrition rate of follow-up', fontsize=20)\n",
    "plt.show()"
   ]
  },
  {
   "cell_type": "code",
   "execution_count": null,
   "id": "cfe90e21",
   "metadata": {
    "scrolled": false
   },
   "outputs": [],
   "source": [
    "RBANS_desc = desc.iloc[np.where(desc['data_table']=='RBANS')]\n",
    "RBANS_desc.head(10)\n",
    "RBANS_desc.index\n",
    "for i in range(0,len(RBANS_desc.index)):\n",
    "    print(f'{RBANS_desc[\"data_table\"].values[i]} : {RBANS_desc[\"description\"].values[i]}')"
   ]
  },
  {
   "cell_type": "markdown",
   "id": "23dc84e6",
   "metadata": {},
   "source": [
    "## Smell identification test"
   ]
  },
  {
   "cell_type": "code",
   "execution_count": null,
   "id": "008bbf69",
   "metadata": {},
   "outputs": [],
   "source": [
    "Smell = pd.read_csv('PREVENT-AD_internal_n386__Smell_identification.csv')\n",
    "Smell"
   ]
  },
  {
   "cell_type": "code",
   "execution_count": null,
   "id": "5406c7d0",
   "metadata": {},
   "outputs": [],
   "source": [
    "Smell.Study_visit_label.unique()"
   ]
  },
  {
   "cell_type": "code",
   "execution_count": null,
   "id": "fc565bb1",
   "metadata": {},
   "outputs": [],
   "source": [
    "PREBL00_sum = len(Smell.iloc[np.where(Smell.Study_visit_label == 'PREBL00')])\n",
    "PREFU12_sum = len(Smell.iloc[np.where(Smell.Study_visit_label == 'PREFU12')])\n",
    "PREFU24_sum = len(Smell.iloc[np.where(Smell.Study_visit_label == 'PREFU24')])\n",
    "PREFU36_sum = len(Smell.iloc[np.where(Smell.Study_visit_label == 'PREFU36')])\n",
    "PREFU48_sum = len(Smell.iloc[np.where(Smell.Study_visit_label == 'PREFU48')])\n",
    "PREFU60_sum = len(Smell.iloc[np.where(Smell.Study_visit_label == 'PREFU60')])\n",
    "PREFU72_sum = len(Smell.iloc[np.where(Smell.Study_visit_label == 'PREFU72')])\n",
    "PREFU84_sum = len(Smell.iloc[np.where(Smell.Study_visit_label == 'PREFU84')])\n",
    "NAPBL00_sum = len(Smell.iloc[np.where(Smell.Study_visit_label == 'NAPBL00')])\n",
    "NAPFU03_sum = len(Smell.iloc[np.where(Smell.Study_visit_label == 'NAPFU03')])\n",
    "NAPFU12_sum = len(Smell.iloc[np.where(Smell.Study_visit_label == 'NAPFU12')])\n",
    "NAPFU24_sum = len(Smell.iloc[np.where(Smell.Study_visit_label == 'NAPFU24')])\n",
    "NAPFU36_sum = len(Smell.iloc[np.where(Smell.Study_visit_label == 'NAPFU36')])\n",
    "NAPFU48_sum = len(Smell.iloc[np.where(Smell.Study_visit_label == 'NAPFU48')])\n",
    "NAPFU60_sum = len(Smell.iloc[np.where(Smell.Study_visit_label == 'NAPFU60')])\n",
    "NAPFU72_sum = len(Smell.iloc[np.where(Smell.Study_visit_label == 'NAPFU72')])\n",
    "NAPFU84_sum = len(Smell.iloc[np.where(Smell.Study_visit_label == 'NAPFU84')])\n",
    "\n",
    "\n",
    "import matplotlib.pyplot as plt\n",
    "fig = plt.figure(figsize=(16, 6))\n",
    "ax = fig.add_axes([0,0,1,1])\n",
    "study_visits = ['NAPBL00', 'NAPFU03', 'NAPFU12', 'NAPFU24', 'NAPFU36', 'NAPFU48', 'NAPFU60', 'PREBL00','PREFU12','PREFU24','PREFU36', 'PREFU48', 'PREFU60']\n",
    "number_participants = [NAPBL00_sum, NAPFU03_sum, NAPFU12_sum, NAPFU24_sum, NAPFU36_sum, NAPFU48_sum, NAPFU60_sum, PREBL00_sum,PREFU12_sum,PREFU24_sum,PREFU36_sum, PREFU48_sum, PREFU60_sum]\n",
    "values = ax.bar(study_visits,number_participants)\n",
    "ax.bar_label(values, fontsize = 16)\n",
    "plt.show()"
   ]
  },
  {
   "cell_type": "code",
   "execution_count": null,
   "id": "05fa93ef",
   "metadata": {},
   "outputs": [],
   "source": [
    "fig = plt.figure(figsize=(10, 6))\n",
    "ax = fig.add_axes([0,0,1,1])\n",
    "#in months\n",
    "study_visits = (0,12,24,36,48,60)\n",
    "number_participants = [PREBL00_sum+NAPBL00_sum,PREFU12_sum+NAPFU12_sum,PREFU24_sum+NAPFU24_sum,PREFU36_sum+NAPFU36_sum, PREFU48_sum+NAPFU48_sum, PREFU60_sum+NAPFU60_sum]\n",
    "values = ax.bar(study_visits,number_participants)\n",
    "ax.bar_label(values, fontsize=16)\n",
    "ax.set_xticks(study_visits, fontsize=16)\n",
    "ax.set_xlabel('Time in months since first visit', fontsize=18)\n",
    "ax.set_ylabel('Number of participants', fontsize=18)\n",
    "ax.set_title('Attrition rate of follow-up', fontsize=20)\n",
    "plt.show()"
   ]
  },
  {
   "cell_type": "code",
   "execution_count": null,
   "id": "c5c07d65",
   "metadata": {},
   "outputs": [],
   "source": [
    "Smell_desc = desc.iloc[np.where(desc['data_table']=='Smell_identification')]\n",
    "Smell_desc.head(10)\n",
    "Smell_desc.index\n",
    "for i in range(0,len(Smell_desc.index)):\n",
    "    print(f'{Smell_desc[\"data_table\"].values[i]} : {Smell_desc[\"description\"].values[i]}')"
   ]
  },
  {
   "cell_type": "markdown",
   "id": "83145181",
   "metadata": {},
   "source": [
    "# Creating datasets for the different timeframes"
   ]
  },
  {
   "cell_type": "markdown",
   "id": "193bd713",
   "metadata": {},
   "source": [
    "## Preliminary evaluation (PREEL00)"
   ]
  },
  {
   "cell_type": "code",
   "execution_count": null,
   "id": "5c763602",
   "metadata": {},
   "outputs": [],
   "source": [
    "EL_CAIDE.iloc[np.where(EL_CAIDE.Visit_label == 'EL00')]"
   ]
  },
  {
   "cell_type": "code",
   "execution_count": null,
   "id": "adb43f34",
   "metadata": {},
   "outputs": [],
   "source": [
    "EL_CAIDE"
   ]
  },
  {
   "cell_type": "code",
   "execution_count": null,
   "id": "aa9101de",
   "metadata": {},
   "outputs": [],
   "source": [
    "EL_CDR_MoCA.iloc[np.where(EL_CDR_MoCA.Visit_label == 'EL00')]"
   ]
  },
  {
   "cell_type": "code",
   "execution_count": null,
   "id": "5003e010",
   "metadata": {},
   "outputs": [],
   "source": [
    "EL_med_hist.iloc[np.where(EL_med_hist.Visit_label == 'EL00')]"
   ]
  },
  {
   "cell_type": "code",
   "execution_count": null,
   "id": "c4ad72b3",
   "metadata": {},
   "outputs": [],
   "source": [
    "EL_med_hist"
   ]
  },
  {
   "cell_type": "code",
   "execution_count": null,
   "id": "20c585ce",
   "metadata": {},
   "outputs": [],
   "source": [
    "BP_Pulse_Weight.iloc[np.where(BP_Pulse_Weight.Visit_label == 'EL00')]"
   ]
  },
  {
   "cell_type": "code",
   "execution_count": null,
   "id": "7f8e006c",
   "metadata": {},
   "outputs": [],
   "source": [
    "lab.iloc[np.where(lab.Visit_label == 'EL00')]"
   ]
  },
  {
   "cell_type": "code",
   "execution_count": null,
   "id": "84dffcc9",
   "metadata": {},
   "outputs": [],
   "source": [
    "Med_use.iloc[np.where(Med_use.Visit_label == 'EL00')]"
   ]
  },
  {
   "cell_type": "code",
   "execution_count": null,
   "id": "0d5aa01d",
   "metadata": {},
   "outputs": [],
   "source": [
    "genetics"
   ]
  },
  {
   "cell_type": "code",
   "execution_count": null,
   "id": "920ea0f1",
   "metadata": {},
   "outputs": [],
   "source": [
    "Dem"
   ]
  },
  {
   "cell_type": "code",
   "execution_count": null,
   "id": "b2703e19",
   "metadata": {
    "scrolled": true
   },
   "outputs": [],
   "source": [
    "fixed = Dem.merge(genetics, on='CandID')\n",
    "fixed = fixed.merge(Med_use.iloc[np.where(Med_use.Visit_label == 'EL00')], on='CandID')\n",
    "fixed = fixed.merge(lab.iloc[np.where(lab.Visit_label == 'EL00')], on='CandID')\n",
    "fixed = fixed.merge(BP_Pulse_Weight.iloc[np.where(BP_Pulse_Weight.Visit_label == 'EL00')], on='CandID')\n",
    "fixed = fixed.merge(EL_med_hist, on='CandID')\n",
    "fixed = fixed.merge(EL_CAIDE, on='CandID')\n",
    "fixed = fixed.merge(EL_CDR_MoCA, on='CandID')"
   ]
  },
  {
   "cell_type": "code",
   "execution_count": null,
   "id": "3caed342",
   "metadata": {},
   "outputs": [],
   "source": [
    "fixed = Dem.merge(genetics, on='CandID')\n",
    "fixed"
   ]
  },
  {
   "cell_type": "code",
   "execution_count": null,
   "id": "89e7b5d6",
   "metadata": {},
   "outputs": [],
   "source": [
    "fixed.columns"
   ]
  },
  {
   "cell_type": "code",
   "execution_count": null,
   "id": "1fd15f41",
   "metadata": {},
   "outputs": [],
   "source": [
    "sorted(fixed.columns)"
   ]
  },
  {
   "cell_type": "code",
   "execution_count": null,
   "id": "b3388df5",
   "metadata": {
    "scrolled": true
   },
   "outputs": [],
   "source": [
    "for i in fixed.isna().sum():\n",
    "    print(i)"
   ]
  },
  {
   "cell_type": "code",
   "execution_count": null,
   "id": "8789fee4",
   "metadata": {},
   "outputs": [],
   "source": [
    "len(fixed.columns)"
   ]
  },
  {
   "cell_type": "code",
   "execution_count": null,
   "id": "f0f64cd8",
   "metadata": {},
   "outputs": [],
   "source": [
    "fixed.to_csv('EL00.csv')"
   ]
  },
  {
   "cell_type": "code",
   "execution_count": null,
   "id": "25a248fc",
   "metadata": {
    "scrolled": true
   },
   "outputs": [],
   "source": [
    "for i in fixed.columns:\n",
    "    print(i)"
   ]
  },
  {
   "cell_type": "code",
   "execution_count": null,
   "id": "58dac20a",
   "metadata": {},
   "outputs": [],
   "source": [
    "Med_use.iloc[np.where(Med_use.Visit_label == 'EL00')].columns"
   ]
  },
  {
   "cell_type": "code",
   "execution_count": null,
   "id": "db6bc28d",
   "metadata": {},
   "outputs": [],
   "source": [
    "fixed = fixed.merge(Med_use.iloc[np.where(Med_use.Visit_label == 'EL00')], left_on='CandID_demo', right_on= 'CandID')"
   ]
  },
  {
   "cell_type": "code",
   "execution_count": null,
   "id": "fdc9fd91",
   "metadata": {},
   "outputs": [],
   "source": [
    "fixed"
   ]
  },
  {
   "cell_type": "markdown",
   "id": "ba9b45b1",
   "metadata": {},
   "source": [
    "## Longitudinal data"
   ]
  },
  {
   "cell_type": "code",
   "execution_count": null,
   "id": "6654fe25",
   "metadata": {},
   "outputs": [],
   "source": [
    "def cols_to_use(df1,df2):\n",
    "    cols_to_use = list(df2.columns.difference(df1.columns))\n",
    "    cols_to_use.append('CandID')\n",
    "    return cols_to_use"
   ]
  },
  {
   "cell_type": "code",
   "execution_count": null,
   "id": "e84b6699",
   "metadata": {},
   "outputs": [],
   "source": [
    "cols_to_use(AD8, APS)"
   ]
  },
  {
   "cell_type": "code",
   "execution_count": null,
   "id": "18651bad",
   "metadata": {},
   "outputs": [],
   "source": [
    "APS.columns.difference(AD8.columns)"
   ]
  },
  {
   "cell_type": "code",
   "execution_count": null,
   "id": "e6dad30f",
   "metadata": {},
   "outputs": [],
   "source": [
    "APS.columns"
   ]
  },
  {
   "cell_type": "code",
   "execution_count": null,
   "id": "3db4d830",
   "metadata": {},
   "outputs": [],
   "source": [
    "AD8.columns"
   ]
  },
  {
   "cell_type": "code",
   "execution_count": null,
   "id": "6dfbd533",
   "metadata": {},
   "outputs": [],
   "source": [
    "def long_data_merge_v1(visit_label):\n",
    "    df_tx = AD8.iloc[np.where(AD8.Visit_label == visit_label)]\n",
    "    df_tx = df_tx.merge(APS.iloc[np.where(APS.Visit_label == visit_label)], on='CandID', how = 'outer', suffixes=['_AD8','_APS'])\n",
    "    df_tx = df_tx.merge(Aud_pro.iloc[np.where(Aud_pro.Visit_label == visit_label)], on='CandID', how = 'outer',suffixes=[None,'_Aud_pro'])\n",
    "    df_tx = df_tx.merge(BP_Pulse_Weight.iloc[np.where(BP_Pulse_Weight.Visit_label == visit_label)], on='CandID', how = 'outer', suffixes=[None,'_BP_Pulse_Weight'])\n",
    "    df_tx = df_tx.merge(CSF_Proteins.iloc[np.where(CSF_Proteins.Visit_label == visit_label)], on='CandID', how = 'outer', suffixes=[None,'_CSF_Proteins'])\n",
    "    df_tx = df_tx.merge(lab.iloc[np.where(lab.Visit_label == visit_label)], on='CandID', how = 'outer', suffixes=[None,'_lab'])\n",
    "    df_tx = df_tx.merge(Med_use.iloc[np.where(Med_use.Visit_label == visit_label)], on='CandID', how = 'outer', suffixes=[None,'_Med_use'])\n",
    "    df_tx = df_tx.merge(RBANS.iloc[np.where(RBANS.Visit_label == visit_label)], on='CandID', how = 'outer', suffixes=[None,'_RBANS'])\n",
    "    df_tx = df_tx.merge(Smell.iloc[np.where(Smell.Visit_label == visit_label)], on='CandID', how = 'outer', suffixes=[None,'_Smell'])\n",
    "    df_tx.to_csv(f'{visit_label}_outter_merge.csv')\n",
    "    "
   ]
  },
  {
   "cell_type": "code",
   "execution_count": null,
   "id": "a6600b6f",
   "metadata": {},
   "outputs": [],
   "source": [
    "def long_data_merge_v2(visit_label):\n",
    "    df_tx = AD8.iloc[np.where(AD8.Visit_label == visit_label)]\n",
    "    df_tx = df_tx.merge(APS.iloc[np.where(APS.Visit_label == visit_label)][cols_to_use(df_tx, APS)], on='CandID', how = 'outer')\n",
    "    df_tx = df_tx.merge(Aud_pro.iloc[np.where(Aud_pro.Visit_label == visit_label)][cols_to_use(df_tx, Aud_pro)], on='CandID', how = 'outer')\n",
    "    df_tx = df_tx.merge(BP_Pulse_Weight.iloc[np.where(BP_Pulse_Weight.Visit_label == visit_label)][cols_to_use(df_tx, BP_Pulse_Weight)], on='CandID', how = 'outer')\n",
    "    df_tx = df_tx.merge(CSF_Proteins.iloc[np.where(CSF_Proteins.Visit_label == visit_label)][cols_to_use(df_tx, CSF_Proteins)], on='CandID', how = 'outer')\n",
    "    df_tx = df_tx.merge(lab.iloc[np.where(lab.Visit_label == visit_label)][cols_to_use(df_tx, lab)], on='CandID', how = 'outer')\n",
    "    df_tx = df_tx.merge(Med_use.iloc[np.where(Med_use.Visit_label == visit_label)][cols_to_use(df_tx, Med_use)], on='CandID', how = 'outer')\n",
    "    df_tx = df_tx.merge(RBANS.iloc[np.where(RBANS.Visit_label == visit_label)][cols_to_use(df_tx, RBANS)], on='CandID', how = 'outer')\n",
    "    df_tx = df_tx.merge(Smell.iloc[np.where(Smell.Visit_label == visit_label)][cols_to_use(df_tx, Smell)], on='CandID', how = 'outer')\n",
    "    df_tx.to_csv(f'{visit_label}_remove_duplicates.csv')\n",
    "    "
   ]
  },
  {
   "cell_type": "code",
   "execution_count": null,
   "id": "8ed8a227",
   "metadata": {},
   "outputs": [],
   "source": [
    "def long_data_merge_v3(visit_label):\n",
    "    df_tx = AD8.iloc[np.where(AD8.Visit_label == visit_label)]\n",
    "    df_tx = df_tx.merge(APS.iloc[np.where(APS.Visit_label == visit_label)], on='CandID', how = 'cross')\n",
    "    df_tx = df_tx.merge(Aud_pro.iloc[np.where(Aud_pro.Visit_label == visit_label)], on='CandID', how = 'cross')\n",
    "    df_tx = df_tx.merge(BP_Pulse_Weight.iloc[np.where(BP_Pulse_Weight.Visit_label == visit_label)], on='CandID', how = 'cross')\n",
    "    df_tx = df_tx.merge(CSF_Proteins.iloc[np.where(CSF_Proteins.Visit_label == visit_label)], on='CandID', how = 'cross')\n",
    "    df_tx = df_tx.merge(lab.iloc[np.where(lab.Visit_label == visit_label)], on='CandID', how = 'cross')\n",
    "    df_tx = df_tx.merge(Med_use.iloc[np.where(Med_use.Visit_label == visit_label)], on='CandID', how = 'cross')\n",
    "    df_tx = df_tx.merge(RBANS.iloc[np.where(RBANS.Visit_label == visit_label)], on='CandID', how = 'cross')\n",
    "    df_tx = df_tx.merge(Smell.iloc[np.where(Smell.Visit_label == visit_label)], on='CandID', how = 'cross')\n",
    "    df_tx.to_csv(f'{visit_label}_cross.csv')"
   ]
  },
  {
   "cell_type": "code",
   "execution_count": null,
   "id": "e7b8368e",
   "metadata": {},
   "outputs": [],
   "source": [
    "for visit in RBANS.Visit_label.unique():\n",
    "    long_data_merge_v1(visit)"
   ]
  },
  {
   "cell_type": "code",
   "execution_count": null,
   "id": "ac3e26fa",
   "metadata": {},
   "outputs": [],
   "source": [
    "RBANS.Visit_label.unique()"
   ]
  },
  {
   "cell_type": "code",
   "execution_count": null,
   "id": "a6ccb558",
   "metadata": {},
   "outputs": [],
   "source": [
    "long_data_merge_v1('BL00')"
   ]
  },
  {
   "cell_type": "code",
   "execution_count": null,
   "id": "8fa0232d",
   "metadata": {},
   "outputs": [],
   "source": [
    "BL00_outter_merge = pd.read_csv('BL00_outter_merge.csv')\n",
    "BL00_outter_merge"
   ]
  },
  {
   "cell_type": "code",
   "execution_count": null,
   "id": "b873691f",
   "metadata": {
    "scrolled": false
   },
   "outputs": [],
   "source": [
    "BL00_outter_merge.isna().sum()"
   ]
  },
  {
   "cell_type": "code",
   "execution_count": null,
   "id": "e7a1d958",
   "metadata": {},
   "outputs": [],
   "source": [
    "BL00_outter_merge.columns"
   ]
  },
  {
   "cell_type": "code",
   "execution_count": null,
   "id": "e7e1c3fe",
   "metadata": {},
   "outputs": [],
   "source": [
    "BL00_remove_dup = pd.read_csv('BL00_remove_duplicates.csv')\n",
    "BL00_remove_dup"
   ]
  },
  {
   "cell_type": "code",
   "execution_count": null,
   "id": "56f2a768",
   "metadata": {},
   "outputs": [],
   "source": [
    "BL00 = pd.read_csv('BL00.csv')\n",
    "FU03 = pd.read_csv('FU03.csv')\n",
    "FU12 = pd.read_csv('FU12.csv')\n",
    "FU24 = pd.read_csv('FU24.csv')\n",
    "FU48 = pd.read_csv('FU48.csv')\n",
    "FU60 = pd.read_csv('FU60.csv')\n",
    "FU72 = pd.read_csv('FU72.csv')\n",
    "FU84 = pd.read_csv('FU84.csv')"
   ]
  }
 ],
 "metadata": {
  "kernelspec": {
   "display_name": "Python 3 (ipykernel)",
   "language": "python",
   "name": "python3"
  },
  "language_info": {
   "codemirror_mode": {
    "name": "ipython",
    "version": 3
   },
   "file_extension": ".py",
   "mimetype": "text/x-python",
   "name": "python",
   "nbconvert_exporter": "python",
   "pygments_lexer": "ipython3",
   "version": "3.7.11"
  },
  "toc": {
   "base_numbering": 1,
   "nav_menu": {},
   "number_sections": true,
   "sideBar": true,
   "skip_h1_title": false,
   "title_cell": "Table of Contents",
   "title_sidebar": "Contents",
   "toc_cell": false,
   "toc_position": {},
   "toc_section_display": true,
   "toc_window_display": false
  }
 },
 "nbformat": 4,
 "nbformat_minor": 5
}
