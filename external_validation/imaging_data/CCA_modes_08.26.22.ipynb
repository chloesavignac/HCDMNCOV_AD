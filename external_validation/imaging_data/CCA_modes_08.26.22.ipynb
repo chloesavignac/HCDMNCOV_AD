{
 "cells": [
  {
   "cell_type": "code",
   "execution_count": null,
   "metadata": {},
   "outputs": [],
   "source": [
    "from sklearn.cross_decomposition import CCA\n",
    "import pandas as pd\n",
    "import joblib\n",
    "import numpy as np\n",
    "import os\n",
    "from sklearn.preprocessing import StandardScaler\n",
    "from nilearn.signal import clean"
   ]
  },
  {
   "cell_type": "code",
   "execution_count": null,
   "metadata": {
    "scrolled": true
   },
   "outputs": [],
   "source": [
    "pop_cca = joblib.load('org_CCA_k25_lonely_full')"
   ]
  },
  {
   "cell_type": "code",
   "execution_count": null,
   "metadata": {},
   "outputs": [],
   "source": [
    "pop_cca"
   ]
  },
  {
   "cell_type": "markdown",
   "metadata": {},
   "source": [
    "# PREVENT-AD data "
   ]
  },
  {
   "cell_type": "code",
   "execution_count": null,
   "metadata": {},
   "outputs": [],
   "source": [
    "#HC data \n",
    "BL00_HC = pd.read_csv('HC_segmentation/csv/BL00_HC_left_right.csv', index_col=0)\n",
    "FU12_HC = pd.read_csv('HC_segmentation/csv/FU12_HC_left_right.csv', index_col=0)\n",
    "FU24_HC = pd.read_csv('HC_segmentation/csv/FU24_HC_left_right.csv', index_col=0)\n",
    "FU36_HC = pd.read_csv('HC_segmentation/csv/FU36_HC_left_right.csv', index_col=0)\n",
    "FU48_HC = pd.read_csv('HC_segmentation/csv/FU48_HC_left_right.csv', index_col=0)"
   ]
  },
  {
   "cell_type": "code",
   "execution_count": null,
   "metadata": {},
   "outputs": [],
   "source": [
    "#DN data\n",
    "BL00_DN = pd.read_csv('BL00_DN.csv', index_col=0)\n",
    "FU12_DN = pd.read_csv('FU12_DN.csv', index_col=0)\n",
    "FU24_DN = pd.read_csv('FU24_DN.csv', index_col=0)\n",
    "FU36_DN = pd.read_csv('FU36_DN.csv', index_col=0)\n",
    "FU48_DN = pd.read_csv('FU48_DN.csv', index_col=0)"
   ]
  },
  {
   "cell_type": "code",
   "execution_count": null,
   "metadata": {},
   "outputs": [],
   "source": [
    "col_HC = list(BL00_HC.columns)[0:-4]"
   ]
  },
  {
   "cell_type": "code",
   "execution_count": null,
   "metadata": {},
   "outputs": [],
   "source": [
    "col_HC.remove('Whole_hippocampal_body_left')\n",
    "col_HC.remove('Whole_hippocampal_head_left')\n",
    "col_HC.remove('Whole_hippocampus_left')\n",
    "col_HC.remove('PSCID_left')"
   ]
  },
  {
   "cell_type": "code",
   "execution_count": null,
   "metadata": {},
   "outputs": [],
   "source": [
    "len(col_HC)"
   ]
  },
  {
   "cell_type": "code",
   "execution_count": null,
   "metadata": {},
   "outputs": [],
   "source": [
    "BL00_DN.shape"
   ]
  },
  {
   "cell_type": "code",
   "execution_count": null,
   "metadata": {},
   "outputs": [],
   "source": [
    "col_DN = BL00_DN.columns"
   ]
  },
  {
   "cell_type": "code",
   "execution_count": null,
   "metadata": {},
   "outputs": [],
   "source": [
    "BL00_HC[col_HC].shape"
   ]
  },
  {
   "cell_type": "code",
   "execution_count": null,
   "metadata": {},
   "outputs": [],
   "source": [
    "#removing two participants without HC volumes based on index\n",
    "BL00_DN = BL00_DN.iloc[np.where(BL00_DN.index.isin(BL00_HC[col_HC].index))]"
   ]
  },
  {
   "cell_type": "markdown",
   "metadata": {},
   "source": [
    "# Deconfounding"
   ]
  },
  {
   "cell_type": "code",
   "execution_count": null,
   "metadata": {},
   "outputs": [],
   "source": [
    "#retreiving fixed data (demographics, genetics, etc..) recorder at initial visit\n",
    "EN00 = pd.read_csv(os.path.abspath('/Users/chloesavignac/_bzdok_lab_notebooks/Prevent-AD/internal/non-imaging-data/EL00.csv'), index_col=0)"
   ]
  },
  {
   "cell_type": "code",
   "execution_count": null,
   "metadata": {},
   "outputs": [],
   "source": [
    "#setting indixes to participant ids\n",
    "EN00 = EN00.set_index('PSCID_x',drop=False).rename(columns={'PSCID_x':'PSCID'})"
   ]
  },
  {
   "cell_type": "code",
   "execution_count": null,
   "metadata": {},
   "outputs": [],
   "source": [
    "#verifying that each age entry is the same \n",
    "EN00[['Candidate_Age_x','Candidate_Age_y','Candidate_Age_x.1','Candidate_Age_y.1','Candidate_Age_x.2','Candidate_Age_y.2']]"
   ]
  },
  {
   "cell_type": "code",
   "execution_count": null,
   "metadata": {},
   "outputs": [],
   "source": [
    "#keeping only one column for age\n",
    "EN00['Age_months'] = EN00.Candidate_Age_x"
   ]
  },
  {
   "cell_type": "code",
   "execution_count": null,
   "metadata": {},
   "outputs": [],
   "source": [
    "EN00['Age_years'] = EN00['Age_months']/12"
   ]
  },
  {
   "cell_type": "code",
   "execution_count": null,
   "metadata": {},
   "outputs": [],
   "source": [
    "#we want the sex of each participant based on PSCID\n",
    "infos = EN00[['CandID','PSCID','Sex', 'Age_years','father_dx_ad_dementia','mother_dx_ad_dementia','sibling_dx_ad_dementia','APOE']]\n",
    "infos"
   ]
  },
  {
   "cell_type": "code",
   "execution_count": null,
   "metadata": {},
   "outputs": [],
   "source": [
    "def deconf(beh):\n",
    "\n",
    "    age = StandardScaler().fit_transform(beh['Age_years'].values[:, np.newaxis])  # Age at recruitment\n",
    "    age2 = age ** 2\n",
    "    sex = np.array(pd.get_dummies(beh['Sex']).values, dtype=np.int)  # Sex\n",
    "    sex_x_age = sex * age\n",
    "    sex_x_age2 = sex * age2\n",
    "    \n",
    "    print('Deconfounding for sex and age!')\n",
    "    conf_mat = np.hstack([\n",
    "        age, age2, sex, sex_x_age, sex_x_age2,\n",
    "        ])\n",
    "    \n",
    "    return conf_mat"
   ]
  },
  {
   "cell_type": "code",
   "execution_count": null,
   "metadata": {
    "scrolled": true
   },
   "outputs": [],
   "source": [
    "#Deconfounding for sex and age \n",
    "#HIPPOCAMPUS \n",
    "col_HC.append('PSCID_left')\n",
    "hc_infos = BL00_HC[col_HC].merge(infos, how='left',left_on='PSCID_left', right_on='PSCID')\n",
    "print(hc_infos.shape)\n",
    "conf_mat_hc = deconf(hc_infos)\n",
    "print(conf_mat_hc.shape)\n",
    "X_scaler = StandardScaler()\n",
    "col_HC.remove('PSCID_left')\n",
    "X = X_scaler.fit_transform(BL00_HC[col_HC])\n",
    "print(X.shape)\n",
    "hc = clean(X, confounds=conf_mat_hc, detrend=False, standardize=False)\n",
    "print(hc.shape)"
   ]
  },
  {
   "cell_type": "code",
   "execution_count": null,
   "metadata": {},
   "outputs": [],
   "source": [
    "col_HC"
   ]
  },
  {
   "cell_type": "code",
   "execution_count": null,
   "metadata": {},
   "outputs": [],
   "source": [
    "BL00_HC.index"
   ]
  },
  {
   "cell_type": "code",
   "execution_count": null,
   "metadata": {},
   "outputs": [],
   "source": [
    "pd.DataFrame(hc, columns=col_HC).set_index(BL00_HC.index).to_csv('BL00_HC_deconf.csv')"
   ]
  },
  {
   "cell_type": "code",
   "execution_count": null,
   "metadata": {},
   "outputs": [],
   "source": [
    "BL00_DN['PSCID'] = BL00_DN.index"
   ]
  },
  {
   "cell_type": "code",
   "execution_count": null,
   "metadata": {},
   "outputs": [],
   "source": [
    "BL00_DN.shape"
   ]
  },
  {
   "cell_type": "code",
   "execution_count": null,
   "metadata": {},
   "outputs": [],
   "source": [
    "#Deconfounding for sex and age \n",
    "#DEFAULT NETWORK\n",
    "dn_infos = BL00_DN.merge(infos, how='left',left_on='PSCID', right_on='PSCID')\n",
    "print(dn_infos.shape)\n",
    "conf_mat_dn = deconf(dn_infos)\n",
    "print(conf_mat_dn.shape)\n",
    "X_scaler = StandardScaler()\n",
    "BL00_DN = BL00_DN.drop(columns='PSCID')\n",
    "X = X_scaler.fit_transform(BL00_DN)\n",
    "print(X.shape)\n",
    "dn = clean(X, confounds=conf_mat_dn, detrend=False, standardize=False)\n",
    "print(dn.shape)"
   ]
  },
  {
   "cell_type": "code",
   "execution_count": null,
   "metadata": {},
   "outputs": [],
   "source": [
    "pd.DataFrame(dn, columns=col_DN).set_index(BL00_DN.index)"
   ]
  },
  {
   "cell_type": "code",
   "execution_count": null,
   "metadata": {},
   "outputs": [],
   "source": [
    "# get x_scores and y_scores from PreventAD\n",
    "pop_cca = joblib.load('org_CCA_k25_lonely_full')\n",
    "hc, dn = pop_cca.transform(hc,dn)"
   ]
  },
  {
   "cell_type": "code",
   "execution_count": null,
   "metadata": {},
   "outputs": [],
   "source": [
    "hc.shape"
   ]
  },
  {
   "cell_type": "code",
   "execution_count": null,
   "metadata": {},
   "outputs": [],
   "source": [
    "dn.shape"
   ]
  },
  {
   "cell_type": "code",
   "execution_count": null,
   "metadata": {},
   "outputs": [],
   "source": [
    "BL00_HC.index.T.shape"
   ]
  },
  {
   "cell_type": "code",
   "execution_count": null,
   "metadata": {},
   "outputs": [],
   "source": [
    "cca_BL00 = pd.DataFrame(\n",
    "#stacking data in a single numpy array    \n",
    "    np.vstack((\n",
    "        BL00_HC.index.T, hc.T, dn.T))).T"
   ]
  },
  {
   "cell_type": "code",
   "execution_count": null,
   "metadata": {},
   "outputs": [],
   "source": [
    "cca_BL00"
   ]
  },
  {
   "cell_type": "code",
   "execution_count": null,
   "metadata": {},
   "outputs": [],
   "source": [
    "cca_BL00.to_csv('BL00_CCA_modes.csv')"
   ]
  },
  {
   "cell_type": "markdown",
   "metadata": {},
   "source": [
    "# FU12"
   ]
  },
  {
   "cell_type": "code",
   "execution_count": null,
   "metadata": {},
   "outputs": [],
   "source": [
    "FU12_HC"
   ]
  },
  {
   "cell_type": "code",
   "execution_count": null,
   "metadata": {},
   "outputs": [],
   "source": [
    "FU12_DN"
   ]
  },
  {
   "cell_type": "code",
   "execution_count": null,
   "metadata": {},
   "outputs": [],
   "source": [
    "#removing two participants without HC volumes based on index\n",
    "#FU12_DN = FU12_DN.iloc[np.where(FU12_DN.index.isin(FU12_HC[col_HC].index))]"
   ]
  },
  {
   "cell_type": "code",
   "execution_count": null,
   "metadata": {},
   "outputs": [],
   "source": [
    "#Deconfounding for sex and age \n",
    "#HIPPOCAMPUS \n",
    "col_HC.append('PSCID_left')\n",
    "hc_infos = FU12_HC[col_HC].merge(infos, how='left',left_on='PSCID_left', right_on='PSCID')\n",
    "print(hc_infos.shape)\n",
    "conf_mat_hc = deconf(hc_infos)\n",
    "print(conf_mat_hc.shape)\n",
    "X_scaler = StandardScaler()\n",
    "col_HC.remove('PSCID_left')\n",
    "X = X_scaler.fit_transform(FU12_HC[col_HC])\n",
    "print(X.shape)\n",
    "hc = clean(X, confounds=conf_mat_hc, detrend=False, standardize=False)\n",
    "print(hc.shape)"
   ]
  },
  {
   "cell_type": "code",
   "execution_count": null,
   "metadata": {},
   "outputs": [],
   "source": [
    "pd.DataFrame(hc, columns=col_HC).set_index(FU12_HC.index).to_csv('FU12_HC_deconf.csv')"
   ]
  },
  {
   "cell_type": "code",
   "execution_count": null,
   "metadata": {},
   "outputs": [],
   "source": [
    "#Deconfounding for sex and age \n",
    "#DEFAULT NETWORK\n",
    "FU12_DN['PSCID'] = FU12_DN.index\n",
    "dn_infos = FU12_DN.merge(infos, how='left',left_on='PSCID', right_on='PSCID')\n",
    "print(dn_infos.shape)\n",
    "conf_mat_dn = deconf(dn_infos)\n",
    "print(conf_mat_dn.shape)\n",
    "X_scaler = StandardScaler()\n",
    "FU12_DN = FU12_DN.drop(columns='PSCID')\n",
    "X = X_scaler.fit_transform(FU12_DN)\n",
    "print(X.shape)\n",
    "dn = clean(X, confounds=conf_mat_dn, detrend=False, standardize=False)\n",
    "print(dn.shape)"
   ]
  },
  {
   "cell_type": "code",
   "execution_count": null,
   "metadata": {},
   "outputs": [],
   "source": [
    "pd.DataFrame(dn, columns=col_DN).set_index(FU12_DN.index).to_csv('FU12_DN_deconf.csv')"
   ]
  },
  {
   "cell_type": "code",
   "execution_count": null,
   "metadata": {},
   "outputs": [],
   "source": [
    "# get x_scores and y_scores from PreventAD\n",
    "pop_cca = joblib.load('org_CCA_k25_lonely_full')\n",
    "hc, dn = pop_cca.transform(hc,dn)"
   ]
  },
  {
   "cell_type": "code",
   "execution_count": null,
   "metadata": {},
   "outputs": [],
   "source": [
    "cca_FU12 = pd.DataFrame(\n",
    "#stacking data in a single numpy array    \n",
    "    np.vstack((\n",
    "        FU12_HC.index.T, hc.T, dn.T))).T\n",
    "cca_FU12.to_csv('FU12_CCA_modes.csv')"
   ]
  },
  {
   "cell_type": "markdown",
   "metadata": {},
   "source": [
    "# FU24"
   ]
  },
  {
   "cell_type": "code",
   "execution_count": null,
   "metadata": {},
   "outputs": [],
   "source": [
    "FU24_HC"
   ]
  },
  {
   "cell_type": "code",
   "execution_count": null,
   "metadata": {},
   "outputs": [],
   "source": [
    "FU24_DN"
   ]
  },
  {
   "cell_type": "code",
   "execution_count": null,
   "metadata": {},
   "outputs": [],
   "source": [
    "#removing two participants without HC volumes based on index\n",
    "#FU24_DN = FU24_DN.iloc[np.where(FU24_DN.index.isin(FU24_HC[col_HC].index))]"
   ]
  },
  {
   "cell_type": "code",
   "execution_count": null,
   "metadata": {},
   "outputs": [],
   "source": [
    "#Deconfounding for sex and age \n",
    "#HIPPOCAMPUS \n",
    "col_HC.append('PSCID_left')\n",
    "hc_infos = FU24_HC[col_HC].merge(infos, how='left',left_on='PSCID_left', right_on='PSCID')\n",
    "print(hc_infos.shape)\n",
    "conf_mat_hc = deconf(hc_infos)\n",
    "print(conf_mat_hc.shape)\n",
    "X_scaler = StandardScaler()\n",
    "col_HC.remove('PSCID_left')\n",
    "X = X_scaler.fit_transform(FU24_HC[col_HC])\n",
    "print(X.shape)\n",
    "hc = clean(X, confounds=conf_mat_hc, detrend=False, standardize=False)\n",
    "print(hc.shape)"
   ]
  },
  {
   "cell_type": "code",
   "execution_count": null,
   "metadata": {},
   "outputs": [],
   "source": [
    "pd.DataFrame(hc, columns=col_HC).set_index(FU24_HC.index).to_csv('FU24_HC_deconf.csv')"
   ]
  },
  {
   "cell_type": "code",
   "execution_count": null,
   "metadata": {},
   "outputs": [],
   "source": [
    "#Deconfounding for sex and age \n",
    "#DEFAULT NETWORK\n",
    "FU24_DN['PSCID'] = FU24_DN.index\n",
    "dn_infos = FU24_DN.merge(infos, how='left',left_on='PSCID', right_on='PSCID')\n",
    "print(dn_infos.shape)\n",
    "conf_mat_dn = deconf(dn_infos)\n",
    "print(conf_mat_dn.shape)\n",
    "X_scaler = StandardScaler()\n",
    "FU24_DN = FU24_DN.drop(columns='PSCID')\n",
    "X = X_scaler.fit_transform(FU24_DN)\n",
    "print(X.shape)\n",
    "dn = clean(X, confounds=conf_mat_dn, detrend=False, standardize=False)\n",
    "print(dn.shape)"
   ]
  },
  {
   "cell_type": "code",
   "execution_count": null,
   "metadata": {},
   "outputs": [],
   "source": [
    "pd.DataFrame(dn, columns=col_DN).set_index(FU24_DN.index).to_csv('FU24_DN_deconf.csv')"
   ]
  },
  {
   "cell_type": "code",
   "execution_count": null,
   "metadata": {},
   "outputs": [],
   "source": [
    "hc.shape"
   ]
  },
  {
   "cell_type": "code",
   "execution_count": null,
   "metadata": {},
   "outputs": [],
   "source": [
    "dn.shape"
   ]
  },
  {
   "cell_type": "code",
   "execution_count": null,
   "metadata": {},
   "outputs": [],
   "source": [
    "pop_cca"
   ]
  },
  {
   "cell_type": "code",
   "execution_count": null,
   "metadata": {},
   "outputs": [],
   "source": [
    "# get x_scores and y_scores from PreventAD\n",
    "hc, dn = pop_cca.transform(hc,dn)\n",
    "\n",
    "cca_FU24 = pd.DataFrame(\n",
    "#stacking data in a single numpy array    \n",
    "    np.vstack((\n",
    "        FU24_HC.index.T, hc.T, dn.T))).T\n",
    "cca_FU24.to_csv('FU24_CCA_modes.csv')"
   ]
  },
  {
   "cell_type": "markdown",
   "metadata": {},
   "source": [
    "# FU36"
   ]
  },
  {
   "cell_type": "code",
   "execution_count": null,
   "metadata": {},
   "outputs": [],
   "source": [
    "FU36_HC"
   ]
  },
  {
   "cell_type": "code",
   "execution_count": null,
   "metadata": {},
   "outputs": [],
   "source": [
    "FU36_HC['PSCID'] = FU36_HC.index"
   ]
  },
  {
   "cell_type": "code",
   "execution_count": null,
   "metadata": {},
   "outputs": [],
   "source": [
    "FU36_DN"
   ]
  },
  {
   "cell_type": "code",
   "execution_count": null,
   "metadata": {},
   "outputs": [],
   "source": [
    "#removing two participants without HC volumes based on index\n",
    "#FU36_DN = FU36_DN.iloc[np.where(FU36_DN.index.isin(FU36_HC[col_HC].index))]"
   ]
  },
  {
   "cell_type": "code",
   "execution_count": null,
   "metadata": {},
   "outputs": [],
   "source": [
    "#col_HC.remove('PSCID_left')\n",
    "#col_HC.remove('PSCID')"
   ]
  },
  {
   "cell_type": "code",
   "execution_count": null,
   "metadata": {},
   "outputs": [],
   "source": [
    "#Deconfounding for sex and age \n",
    "#HIPPOCAMPUS \n",
    "col_HC.append('PSCID')\n",
    "hc_infos = FU36_HC[col_HC].merge(infos, how='left',left_on='PSCID', right_on='PSCID')\n",
    "print(hc_infos.shape)\n",
    "conf_mat_hc = deconf(hc_infos)\n",
    "print(conf_mat_hc.shape)\n",
    "X_scaler = StandardScaler()\n",
    "col_HC.remove('PSCID')\n",
    "X = X_scaler.fit_transform(FU36_HC[col_HC])\n",
    "print(X.shape)\n",
    "hc = clean(X, confounds=conf_mat_hc, detrend=False, standardize=False)\n",
    "print(hc.shape)"
   ]
  },
  {
   "cell_type": "code",
   "execution_count": null,
   "metadata": {},
   "outputs": [],
   "source": [
    "pd.DataFrame(hc, columns=col_HC).set_index(FU36_HC.index).to_csv('FU36_HC_deconf.csv')"
   ]
  },
  {
   "cell_type": "code",
   "execution_count": null,
   "metadata": {},
   "outputs": [],
   "source": [
    "#Deconfounding for sex and age \n",
    "#DEFAULT NETWORK\n",
    "FU36_DN['PSCID'] = FU36_DN.index\n",
    "dn_infos = FU36_DN.merge(infos, how='left',left_on='PSCID', right_on='PSCID')\n",
    "print(dn_infos.shape)\n",
    "conf_mat_dn = deconf(dn_infos)\n",
    "print(conf_mat_dn.shape)\n",
    "X_scaler = StandardScaler()\n",
    "FU36_DN = FU36_DN.drop(columns='PSCID')\n",
    "X = X_scaler.fit_transform(FU36_DN)\n",
    "print(X.shape)\n",
    "dn = clean(X, confounds=conf_mat_dn, detrend=False, standardize=False)\n",
    "print(dn.shape)"
   ]
  },
  {
   "cell_type": "code",
   "execution_count": null,
   "metadata": {},
   "outputs": [],
   "source": [
    "pd.DataFrame(dn, columns=col_DN).set_index(FU36_DN.index).to_csv('FU36_DN_deconf.csv')"
   ]
  },
  {
   "cell_type": "code",
   "execution_count": null,
   "metadata": {},
   "outputs": [],
   "source": [
    "# get x_scores and y_scores from PreventAD\n",
    "hc, dn = pop_cca.transform(hc,dn)\n",
    "\n",
    "cca_FU36 = pd.DataFrame(\n",
    "#stacking data in a single numpy array    \n",
    "    np.vstack((\n",
    "        FU36_HC.index.T, hc.T, dn.T))).T\n",
    "cca_FU36.to_csv('FU36_CCA_modes.csv')"
   ]
  },
  {
   "cell_type": "markdown",
   "metadata": {},
   "source": [
    "# FU48"
   ]
  },
  {
   "cell_type": "code",
   "execution_count": null,
   "metadata": {
    "scrolled": true
   },
   "outputs": [],
   "source": [
    "FU48_HC"
   ]
  },
  {
   "cell_type": "code",
   "execution_count": null,
   "metadata": {
    "scrolled": true
   },
   "outputs": [],
   "source": [
    "FU48_DN"
   ]
  },
  {
   "cell_type": "code",
   "execution_count": null,
   "metadata": {},
   "outputs": [],
   "source": [
    "#removing two participants without HC volumes based on index\n",
    "FU48_DN = FU48_DN.iloc[np.where(FU48_DN.index.isin(FU48_HC[col_HC].index))]"
   ]
  },
  {
   "cell_type": "code",
   "execution_count": null,
   "metadata": {},
   "outputs": [],
   "source": [
    "FU48_HC.columns"
   ]
  },
  {
   "cell_type": "code",
   "execution_count": null,
   "metadata": {},
   "outputs": [],
   "source": [
    "#Deconfounding for sex and age \n",
    "#HIPPOCAMPUS \n",
    "FU48_HC['PSCID'] = FU48_HC.index\n",
    "col_HC.append('PSCID')\n",
    "hc_infos = FU48_HC[col_HC].merge(infos, how='left',left_on='PSCID', right_on='PSCID')\n",
    "print(hc_infos.shape)\n",
    "conf_mat_hc = deconf(hc_infos)\n",
    "print(conf_mat_hc.shape)\n",
    "X_scaler = StandardScaler()\n",
    "col_HC.remove('PSCID')\n",
    "X = X_scaler.fit_transform(FU48_HC[col_HC])\n",
    "print(X.shape)\n",
    "hc = clean(X, confounds=conf_mat_hc, detrend=False, standardize=False)\n",
    "print(hc.shape)"
   ]
  },
  {
   "cell_type": "code",
   "execution_count": null,
   "metadata": {},
   "outputs": [],
   "source": [
    "pd.DataFrame(hc, columns=col_HC).set_index(FU48_HC.index).to_csv('FU48_HC_deconf.csv')"
   ]
  },
  {
   "cell_type": "code",
   "execution_count": null,
   "metadata": {},
   "outputs": [],
   "source": [
    "#Deconfounding for sex and age \n",
    "#DEFAULT NETWORK\n",
    "FU48_DN['PSCID'] = FU48_DN.index\n",
    "dn_infos = FU48_DN.merge(infos, how='left',left_on='PSCID', right_on='PSCID')\n",
    "print(dn_infos.shape)\n",
    "conf_mat_dn = deconf(dn_infos)\n",
    "print(conf_mat_dn.shape)\n",
    "X_scaler = StandardScaler()\n",
    "FU48_DN = FU48_DN.drop(columns='PSCID')\n",
    "X = X_scaler.fit_transform(FU48_DN)\n",
    "print(X.shape)\n",
    "dn = clean(X, confounds=conf_mat_dn, detrend=False, standardize=False)\n",
    "print(dn.shape)"
   ]
  },
  {
   "cell_type": "code",
   "execution_count": null,
   "metadata": {},
   "outputs": [],
   "source": [
    "pd.DataFrame(dn, columns=col_DN).set_index(FU48_DN.index).to_csv('FU48_DN_deconf.csv')"
   ]
  },
  {
   "cell_type": "code",
   "execution_count": null,
   "metadata": {},
   "outputs": [],
   "source": [
    "# get x_scores and y_scores from PreventAD\n",
    "hc, dn = pop_cca.transform(hc,dn)\n",
    "\n",
    "cca_FU48 = pd.DataFrame(\n",
    "#stacking data in a single numpy array    \n",
    "    np.vstack((\n",
    "        FU48_HC.index.T, hc.T, dn.T))).T\n",
    "cca_FU48.to_csv('FU48_CCA_modes.csv')"
   ]
  }
 ],
 "metadata": {
  "kernelspec": {
   "display_name": "Python 3 (ipykernel)",
   "language": "python",
   "name": "python3"
  },
  "language_info": {
   "codemirror_mode": {
    "name": "ipython",
    "version": 3
   },
   "file_extension": ".py",
   "mimetype": "text/x-python",
   "name": "python",
   "nbconvert_exporter": "python",
   "pygments_lexer": "ipython3",
   "version": "3.7.11"
  },
  "toc": {
   "base_numbering": 1,
   "nav_menu": {},
   "number_sections": true,
   "sideBar": true,
   "skip_h1_title": false,
   "title_cell": "Table of Contents",
   "title_sidebar": "Contents",
   "toc_cell": false,
   "toc_position": {},
   "toc_section_display": true,
   "toc_window_display": false
  }
 },
 "nbformat": 4,
 "nbformat_minor": 4
}
