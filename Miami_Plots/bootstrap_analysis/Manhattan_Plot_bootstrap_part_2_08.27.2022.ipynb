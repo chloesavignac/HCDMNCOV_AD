{
 "cells": [
  {
   "cell_type": "code",
   "execution_count": null,
   "id": "278bcb35",
   "metadata": {},
   "outputs": [],
   "source": [
    "!pwd"
   ]
  },
  {
   "cell_type": "code",
   "execution_count": null,
   "id": "d03842fc",
   "metadata": {},
   "outputs": [],
   "source": [
    "import os\n",
    "import pandas as pd \n",
    "import numpy as np\n",
    "import textwrap\n",
    "from tqdm import tqdm\n",
    "\n",
    "import seaborn as sns\n",
    "from matplotlib.pyplot import figure\n",
    "import matplotlib.pyplot as plt\n",
    "from sklearn.utils import resample\n",
    "\n",
    "CURR_PATH = os.path.abspath('/Users/chloesavignac/_bzdok_lab_notebooks/Project_1/_notebooks')\n",
    "#CURR_PATH = os.path.abspath('/Users/chloesavignac/_CCA_plots/november/miami_apoe')\n",
    "NEW_PATH = '/Users/chloesavignac/_bzdok_lab_notebooks/Project_1/_notebooks'\n",
    "os.chdir(NEW_PATH)\n",
    "\n",
    "import manhattan_plot_util8 as man_plot\n",
    "os.chdir(CURR_PATH)\n"
   ]
  },
  {
   "cell_type": "code",
   "execution_count": null,
   "id": "e08229e9",
   "metadata": {},
   "outputs": [],
   "source": [
    "import importlib\n",
    "os.chdir(NEW_PATH)\n",
    "importlib.reload(man_plot)\n",
    "os.chdir(CURR_PATH)"
   ]
  },
  {
   "cell_type": "code",
   "execution_count": null,
   "id": "566ff25d",
   "metadata": {
    "scrolled": true
   },
   "outputs": [],
   "source": [
    "BASE_FOLDER = '/Users/chloesavignac/_bzdok_lab_notebooks/Project_1/_notebooks/Manhattan_Plots'\n",
    "y_group = \"_miller_mh_v1\"\n",
    "\n",
    "ukbb_y, y_desc_dict, y_cat_dict = man_plot.load_phenom(y_group, BASE_FOLDER)\n",
    "\n",
    "ukbb_y.head()"
   ]
  },
  {
   "cell_type": "markdown",
   "id": "c120423f",
   "metadata": {},
   "source": [
    "# Version 2: BOOTSTRAP OF PREDICTIONS"
   ]
  },
  {
   "cell_type": "code",
   "execution_count": null,
   "id": "c56736c3",
   "metadata": {},
   "outputs": [],
   "source": [
    "males_preds= pd.read_csv('apoe_preds_males_08.08.22.csv', index_col=0)\n",
    "females_preds= pd.read_csv('apoe_preds_females_08.08.22.csv', index_col=0)"
   ]
  },
  {
   "cell_type": "code",
   "execution_count": null,
   "id": "af8b576b",
   "metadata": {},
   "outputs": [],
   "source": [
    "males_preds.shape"
   ]
  },
  {
   "cell_type": "code",
   "execution_count": null,
   "id": "b0c380e1",
   "metadata": {},
   "outputs": [],
   "source": [
    "females_preds.shape"
   ]
  },
  {
   "cell_type": "code",
   "execution_count": null,
   "id": "cf27d887",
   "metadata": {
    "scrolled": true
   },
   "outputs": [],
   "source": [
    "#########This bootstrap analysis takes around 12,5 hours to run \n",
    "\n",
    "from sklearn.preprocessing import StandardScaler\n",
    "for i in tqdm(range(0,1000)):\n",
    "    males_prob = males_preds[['eid']]\n",
    "    females_prob = females_preds[['eid']]\n",
    "    \n",
    "    rand_m = resample(males_preds, replace=True, random_state = i, n_samples = 17561)\n",
    "    rand_f = resample(females_preds, replace=True, random_state = i, n_samples = 19730)\n",
    "    \n",
    "    \n",
    "    for m in range(0,25):\n",
    "        #MALES\n",
    "        rand_m_mode = rand_m[['eid',f'APOE_Mode_{m+1}']]\n",
    "        preds_mode_apoe = rand_m_mode.sort_values([f'APOE_Mode_{m+1}'],ascending=True) \n",
    "        min_5 = preds_mode_apoe.loc[preds_mode_apoe[f'APOE_Mode_{m+1}'] < np.percentile(preds_mode_apoe[f'APOE_Mode_{m+1}'],5)]\n",
    "        max_5 = preds_mode_apoe.loc[preds_mode_apoe[f'APOE_Mode_{m+1}'] > np.percentile(preds_mode_apoe[f'APOE_Mode_{m+1}'],95)]\n",
    "        extremes_m = pd.concat([min_5,max_5],axis=0)\n",
    "        #print(extremes_m.shape)\n",
    "        #z-scoring APOE scores\n",
    "        X_scaler = StandardScaler()\n",
    "        extremes_zscored = X_scaler.fit_transform(extremes_m[[f'APOE_Mode_{m+1}']])\n",
    "        extremes_m[f'APOE_Mode_{m+1}']= extremes_zscored\n",
    "        extremes_m.drop_duplicates(inplace=True)\n",
    "        males_prob = males_prob.merge(extremes_m, how='left', on='eid')\n",
    "\n",
    "        #FEMALES\n",
    "        rand_f_mode = rand_f[['eid',f'APOE_Mode_{m+1}']]\n",
    "        preds_mode_apoe = rand_f_mode.sort_values([f'APOE_Mode_{m+1}'],ascending=True) \n",
    "        min_5 = preds_mode_apoe.loc[preds_mode_apoe[f'APOE_Mode_{m+1}'] < np.percentile(preds_mode_apoe[f'APOE_Mode_{m+1}'],5)]\n",
    "        max_5 = preds_mode_apoe.loc[preds_mode_apoe[f'APOE_Mode_{m+1}'] > np.percentile(preds_mode_apoe[f'APOE_Mode_{m+1}'],95)]\n",
    "        extremes_f = pd.concat([min_5,max_5],axis=0)\n",
    "        #z-scoring APOE scores\n",
    "        X_scaler = StandardScaler()\n",
    "        extremes_zscored = X_scaler.fit_transform(extremes_f[[f'APOE_Mode_{m+1}']])\n",
    "        extremes_f[f'APOE_Mode_{m+1}']= extremes_zscored\n",
    "        extremes_f.drop_duplicates(inplace=True)\n",
    "        females_prob = females_prob.merge(extremes_f, how='left', on='eid')\n",
    "        \n",
    "    #PHEWAS males\n",
    "    corrdf_m = man_plot.phenom_correlat(males_prob, ukbb_y, y_desc_dict, y_cat_dict)\n",
    "    corrdf_m.to_csv(os.path.abspath(f'/Users/chloesavignac/_bzdok_lab_notebooks/Project_1/_notebooks/Miami_bootstrap_08.08.22/males/bootstrap_{i}_corrdf_m.csv'))\n",
    "    \n",
    "    #PHEWAS females\n",
    "    corrdf_f = man_plot.phenom_correlat(females_prob, ukbb_y, y_desc_dict, y_cat_dict)\n",
    "    corrdf_f.to_csv(os.path.abspath(f'/Users/chloesavignac/_bzdok_lab_notebooks/Project_1/_notebooks/Miami_bootstrap_08.08.22/females/bootstrap_{i}_corrdf_f.csv'))"
   ]
  },
  {
   "cell_type": "code",
   "execution_count": null,
   "id": "1d1dcdb7",
   "metadata": {},
   "outputs": [],
   "source": [
    "test = pd.read_csv(os.path.abspath(f'/Users/chloesavignac/_bzdok_lab_notebooks/Project_1/_notebooks/Miami_bootstrap_08.08.22/females/bootstrap_0_corrdf_f.csv'), index_col=0)"
   ]
  },
  {
   "cell_type": "code",
   "execution_count": null,
   "id": "50609898",
   "metadata": {},
   "outputs": [],
   "source": [
    "catid = test['catid']"
   ]
  },
  {
   "cell_type": "code",
   "execution_count": null,
   "id": "8edeb607",
   "metadata": {},
   "outputs": [],
   "source": [
    "p_cols = ['p_APOE_Mode_1', 'p_APOE_Mode_2', 'p_APOE_Mode_3',\n",
    "       'p_APOE_Mode_4', 'p_APOE_Mode_5', 'p_APOE_Mode_6', 'p_APOE_Mode_7',\n",
    "       'p_APOE_Mode_8', 'p_APOE_Mode_9', 'p_APOE_Mode_10', 'p_APOE_Mode_11',\n",
    "       'p_APOE_Mode_12', 'p_APOE_Mode_13', 'p_APOE_Mode_14', 'p_APOE_Mode_15',\n",
    "       'p_APOE_Mode_16', 'p_APOE_Mode_17', 'p_APOE_Mode_18', 'p_APOE_Mode_19',\n",
    "       'p_APOE_Mode_20', 'p_APOE_Mode_21', 'p_APOE_Mode_22', 'p_APOE_Mode_23',\n",
    "       'p_APOE_Mode_24', 'p_APOE_Mode_25']"
   ]
  },
  {
   "cell_type": "code",
   "execution_count": null,
   "id": "0d255760",
   "metadata": {},
   "outputs": [],
   "source": [
    "all_df_f = pd.DataFrame()\n",
    "for i in tqdm(range(0,1000)):\n",
    "    df = pd.read_csv(os.path.abspath(f'/Users/chloesavignac/_bzdok_lab_notebooks/Project_1/_notebooks/Miami_bootstrap_08.08.22/females/bootstrap_{i}_corrdf_f.csv'), index_col=0)\n",
    "    df = df[p_cols]\n",
    "    all_df_f = all_df_f.join(df, how='right', rsuffix=f'_{i}')\n",
    "\n",
    "all_df_f.to_csv('bootstrap_phewas_females.csv')"
   ]
  },
  {
   "cell_type": "code",
   "execution_count": null,
   "id": "5daf62ae",
   "metadata": {},
   "outputs": [],
   "source": [
    "all_df_m = pd.DataFrame()\n",
    "for i in tqdm(range(0,1000)):\n",
    "    df = pd.read_csv(os.path.abspath(f'/Users/chloesavignac/_bzdok_lab_notebooks/Project_1/_notebooks/Miami_bootstrap_08.08.22/males/bootstrap_{i}_corrdf_m.csv'), index_col=0)\n",
    "    df = df[p_cols]\n",
    "    all_df_m = all_df_m.join(df, how='right', rsuffix=f'_{i}')\n",
    "\n",
    "all_df_m.to_csv('bootstrap_phewas_males.csv')"
   ]
  },
  {
   "cell_type": "code",
   "execution_count": null,
   "id": "613eb560",
   "metadata": {},
   "outputs": [],
   "source": [
    "all_df_m = pd.read_csv('bootstrap_phewas_males.csv', index_col=0)"
   ]
  },
  {
   "cell_type": "code",
   "execution_count": null,
   "id": "7f02da3a",
   "metadata": {},
   "outputs": [],
   "source": [
    "all_df_f = pd.read_csv('bootstrap_phewas_females.csv', index_col=0)"
   ]
  },
  {
   "cell_type": "code",
   "execution_count": null,
   "id": "8b6aa496",
   "metadata": {},
   "outputs": [],
   "source": [
    "all_df_m.shape"
   ]
  },
  {
   "cell_type": "code",
   "execution_count": null,
   "id": "be9942d9",
   "metadata": {},
   "outputs": [],
   "source": [
    "#customized categories\n",
    "max_chars = 19\n",
    "cat_uniq = np.unique(y_cat_dict[\"Cat_ID\"])\n",
    "cat_uniq = [c if c != 31 else 21 for c in cat_uniq]\n",
    "cat_name = [y_cat_dict[\"Cat_Name\"][y_cat_dict[\"Cat_ID\"] == c][0]\n",
    "            for c in cat_uniq]\n",
    "cat_name = [c.replace(' and environment', '').replace('measures ', '')\n",
    "            .replace('and', '&').replace(' & blood vessels', '')\n",
    "            for c in cat_name]\n",
    "\n",
    "new_cat_name = [textwrap.wrap(lbl, width=max_chars, break_on_hyphens=False)\n",
    "                for lbl in cat_name]\n",
    "new_cat_name = np.asarray(['\\n'.join(lbl) for lbl in new_cat_name])\n",
    "new_cat_name = new_cat_name[1::]\n",
    "\n",
    "#set the colors based on this new categorization\n",
    "colors = man_plot.get_colors(n_colors=len(new_cat_name))"
   ]
  },
  {
   "cell_type": "code",
   "execution_count": null,
   "id": "4d5b34ae",
   "metadata": {
    "scrolled": true
   },
   "outputs": [],
   "source": [
    "sns.set(rc={'figure.figsize':(30,10)})\n",
    "\n",
    "all_cis = []\n",
    "for k in range(1,26):\n",
    "    sig_catids_m = np.genfromtxt(f'MALES_hits_Probability_Mode_{k}.txt')\n",
    "    sig_catids_f = np.genfromtxt(f'FEMALES_hits_Probability_Mode_{k}.txt')\n",
    "    \n",
    "    \n",
    "    phes_m = all_df_m[all_df_m.columns[k-1::25]].T\n",
    "    phes_f = all_df_f[all_df_f.columns[k-1::25]].T\n",
    "    phes_diff = abs(phes_m-phes_f)  \n",
    "    \n",
    "    plt.style.use('seaborn-white')\n",
    "    fig, ax = plt.subplots()\n",
    "\n",
    "    ax.spines['right'].set_visible(False)\n",
    "    ax.spines['top'].set_visible(False)\n",
    "    ax.set_ylim(top=2)\n",
    "    ax.set_ylim(bottom=-0.02)\n",
    "    plt.xticks(color='w')\n",
    "\n",
    "    cis = []\n",
    "    for i in range (0,977):\n",
    "        if ((i in sig_catids_m) | (i in sig_catids_f)):\n",
    "\n",
    "            values = phes_diff[i]\n",
    "            confidence = 0.95\n",
    "            ci = np.percentile(values,[5,95])\n",
    "            #ci = sms.DescrStatsW(values, weights=1000, ddof=999).tconfint_mean(alpha=0.05, alternative='two-sided') \n",
    "            cis.append(ci)\n",
    "            \n",
    "            x = i\n",
    "            y = values.mean()\n",
    "            \n",
    "            lb = y - ci[0] \n",
    "            ub = ci[1] - y \n",
    "            \n",
    "#             print(lb)\n",
    "#             print(ub)\n",
    "            \n",
    "            err = np.array([lb,ub]).reshape(2,1)\n",
    "        \n",
    "            col = colors[list(catid.unique()).index(catid[i])]\n",
    "            \n",
    "\n",
    "            plt.errorbar(x,y,yerr=err, fmt='none', ecolor ='grey', elinewidth=0.5)\n",
    "            plt.scatter(y=y, x=x, color = col, edgecolors='k', vmax=2, vmin=0)\n",
    "\n",
    "        \n",
    "    all_cis.append(cis)\n",
    "    t_dfm = test.groupby('catid')['i'].max()[:-1]\n",
    "    [plt.axvline(x=xc, color='k', linestyle='--') for xc in t_dfm]\n",
    "    plt.title(f'Difference in p-values for males and females for the phenome-wide profiling of mode {k}',fontsize=24)\n",
    "    plt.ylabel('Average absolute difference in p-values across 1,000 bootstrap iterations', fontsize=14)\n",
    "    path = f'BONF/mode_{k}_absolute_diff_pvals_err_bars.png'\n",
    "    plt.savefig(path)\n",
    "    plt.show()"
   ]
  },
  {
   "cell_type": "code",
   "execution_count": null,
   "id": "50d622e6",
   "metadata": {
    "scrolled": true
   },
   "outputs": [],
   "source": [
    "#storing results in csv tables\n",
    "for i in tqdm(range(0,25)):\n",
    "    \n",
    "    dfs = pd.DataFrame(columns = ['catid', 'coid', 'phesid', 'phenotype', 'mean_diff_p_val'])\n",
    "    sig_catids_m = np.genfromtxt(f'MALES_hits_Probability_Mode_{i+1}.txt')\n",
    "    sig_catids_f = np.genfromtxt(f'FEMALES_hits_Probability_Mode_{i+1}.txt')\n",
    "    \n",
    "    phes_m = all_df_m[all_df_m.columns[i::25]].T\n",
    "    phes_f = all_df_f[all_df_f.columns[i::25]].T\n",
    "    phes_diff = abs(phes_m-phes_f)\n",
    "    phes_diff = phes_diff\n",
    "    \n",
    "    phes_id = []\n",
    "    all_infos = []\n",
    "    \n",
    "    for j in range (0,977):\n",
    "        if ((j in sig_catids_m) | (j in sig_catids_f)): \n",
    "            phes_id.append(j)\n",
    "            df_info = pd.DataFrame(test.iloc[j,:3]).T\n",
    "            phen = df_info.coid.values[0]\n",
    "            if phen in y_desc_dict.keys():\n",
    "#                 print(phen)\n",
    "#                 print(y_desc_dict[phen])\n",
    "                df_info['phenotype'] = y_desc_dict[phen]\n",
    "            new_phen = phen.split('_')[0].split('#')[0]\n",
    "            new_phen = new_phen + '-' + f'{phen.split(\"_\")[-1]}'\n",
    "            new_new_phen = phen.split('_')[0].split('#')[0] + '-0.0'\n",
    "            \n",
    "            if new_phen in y_desc_dict.keys():\n",
    "                df_info['phenotype'] = y_desc_dict[new_phen]\n",
    "            \n",
    "            if new_new_phen in y_desc_dict.keys():\n",
    "                #print(new_new_phen)\n",
    "                \n",
    "                df_info['phenotype'] = y_desc_dict[new_new_phen].split('(')[0] + f'({phen.split(\"_\")[-1]})'\n",
    "                \n",
    "            df_info['mean_diff_p_val'] = phes_diff[j].mean()\n",
    "            df_info['5th_percentile'] = np.percentile(phes_diff.iloc[:,j], 5)\n",
    "            df_info['25th_percentile'] = np.percentile(phes_diff.iloc[:,j], 25)\n",
    "            df_info['median'] = np.percentile(phes_diff.iloc[:,j], 50)\n",
    "            df_info['75th_percentile'] = np.percentile(phes_diff.iloc[:,j], 75)\n",
    "            df_info['95th_percentile'] = np.percentile(phes_diff.iloc[:,j], 95)\n",
    "            dfs = dfs.append(df_info)\n",
    "    dfs.to_csv(f'BONF/mode_{i+1}_pvals_diff_males_females_hits.csv')"
   ]
  }
 ],
 "metadata": {
  "kernelspec": {
   "display_name": "Python 3 (ipykernel)",
   "language": "python",
   "name": "python3"
  },
  "language_info": {
   "codemirror_mode": {
    "name": "ipython",
    "version": 3
   },
   "file_extension": ".py",
   "mimetype": "text/x-python",
   "name": "python",
   "nbconvert_exporter": "python",
   "pygments_lexer": "ipython3",
   "version": "3.7.11"
  },
  "toc": {
   "base_numbering": 1,
   "nav_menu": {},
   "number_sections": true,
   "sideBar": true,
   "skip_h1_title": false,
   "title_cell": "Table of Contents",
   "title_sidebar": "Contents",
   "toc_cell": false,
   "toc_position": {},
   "toc_section_display": true,
   "toc_window_display": false
  }
 },
 "nbformat": 4,
 "nbformat_minor": 5
}
