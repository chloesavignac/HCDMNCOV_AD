{
 "cells": [
  {
   "cell_type": "code",
   "execution_count": 1,
   "id": "008c28f8",
   "metadata": {},
   "outputs": [],
   "source": [
    "# Libraries\n",
    "import numpy as np\n",
    "import os\n",
    "import glob\n",
    "import pandas as pd\n",
    "from sklearn.preprocessing import StandardScaler\n",
    "import math\n",
    "from tqdm import tqdm"
   ]
  },
  {
   "cell_type": "code",
   "execution_count": 2,
   "id": "44ea6af7",
   "metadata": {},
   "outputs": [],
   "source": [
    "data = pd.read_csv('kimia_input.csv.gz', sep=\" \")"
   ]
  },
  {
   "cell_type": "code",
   "execution_count": 3,
   "id": "dc380f5b",
   "metadata": {},
   "outputs": [
    {
     "data": {
      "text/html": [
       "<div>\n",
       "<style scoped>\n",
       "    .dataframe tbody tr th:only-of-type {\n",
       "        vertical-align: middle;\n",
       "    }\n",
       "\n",
       "    .dataframe tbody tr th {\n",
       "        vertical-align: top;\n",
       "    }\n",
       "\n",
       "    .dataframe thead th {\n",
       "        text-align: right;\n",
       "    }\n",
       "</style>\n",
       "<table border=\"1\" class=\"dataframe\">\n",
       "  <thead>\n",
       "    <tr style=\"text-align: right;\">\n",
       "      <th></th>\n",
       "      <th>eid</th>\n",
       "      <th>eid.1</th>\n",
       "      <th>31-0.0</th>\n",
       "      <th>21022-0.0</th>\n",
       "      <th>845-0.0</th>\n",
       "      <th>728-0.0</th>\n",
       "      <th>738-0.0</th>\n",
       "      <th>6142-0.0</th>\n",
       "      <th>20016-0.0</th>\n",
       "      <th>4548-0.0</th>\n",
       "      <th>...</th>\n",
       "      <th>796-2.0</th>\n",
       "      <th>777-2.0</th>\n",
       "      <th>3393-2.0</th>\n",
       "      <th>6141-2.0</th>\n",
       "      <th>2149-2.0</th>\n",
       "      <th>2139-2.0</th>\n",
       "      <th>1259-2.0</th>\n",
       "      <th>2207-2.0</th>\n",
       "      <th>1001-2.0</th>\n",
       "      <th>3659-2.0</th>\n",
       "    </tr>\n",
       "  </thead>\n",
       "  <tbody>\n",
       "    <tr>\n",
       "      <th>0</th>\n",
       "      <td>5093155</td>\n",
       "      <td>5093155</td>\n",
       "      <td>1.0</td>\n",
       "      <td>56.0</td>\n",
       "      <td>33.0</td>\n",
       "      <td>2.0</td>\n",
       "      <td>3.0</td>\n",
       "      <td>1.0</td>\n",
       "      <td>NaN</td>\n",
       "      <td>NaN</td>\n",
       "      <td>...</td>\n",
       "      <td>NaN</td>\n",
       "      <td>NaN</td>\n",
       "      <td>NaN</td>\n",
       "      <td>NaN</td>\n",
       "      <td>NaN</td>\n",
       "      <td>NaN</td>\n",
       "      <td>NaN</td>\n",
       "      <td>NaN</td>\n",
       "      <td>NaN</td>\n",
       "      <td>NaN</td>\n",
       "    </tr>\n",
       "    <tr>\n",
       "      <th>1</th>\n",
       "      <td>4155077</td>\n",
       "      <td>4155077</td>\n",
       "      <td>0.0</td>\n",
       "      <td>49.0</td>\n",
       "      <td>16.0</td>\n",
       "      <td>3.0</td>\n",
       "      <td>3.0</td>\n",
       "      <td>1.0</td>\n",
       "      <td>NaN</td>\n",
       "      <td>NaN</td>\n",
       "      <td>...</td>\n",
       "      <td>NaN</td>\n",
       "      <td>NaN</td>\n",
       "      <td>NaN</td>\n",
       "      <td>NaN</td>\n",
       "      <td>NaN</td>\n",
       "      <td>NaN</td>\n",
       "      <td>NaN</td>\n",
       "      <td>NaN</td>\n",
       "      <td>NaN</td>\n",
       "      <td>NaN</td>\n",
       "    </tr>\n",
       "    <tr>\n",
       "      <th>2</th>\n",
       "      <td>2204317</td>\n",
       "      <td>2204317</td>\n",
       "      <td>0.0</td>\n",
       "      <td>66.0</td>\n",
       "      <td>NaN</td>\n",
       "      <td>-3.0</td>\n",
       "      <td>-3.0</td>\n",
       "      <td>2.0</td>\n",
       "      <td>8.0</td>\n",
       "      <td>3.0</td>\n",
       "      <td>...</td>\n",
       "      <td>NaN</td>\n",
       "      <td>NaN</td>\n",
       "      <td>0.0</td>\n",
       "      <td>1.0</td>\n",
       "      <td>NaN</td>\n",
       "      <td>NaN</td>\n",
       "      <td>0.0</td>\n",
       "      <td>1.0</td>\n",
       "      <td>NaN</td>\n",
       "      <td>NaN</td>\n",
       "    </tr>\n",
       "    <tr>\n",
       "      <th>3</th>\n",
       "      <td>1719355</td>\n",
       "      <td>1719355</td>\n",
       "      <td>0.0</td>\n",
       "      <td>67.0</td>\n",
       "      <td>16.0</td>\n",
       "      <td>2.0</td>\n",
       "      <td>1.0</td>\n",
       "      <td>2.0</td>\n",
       "      <td>NaN</td>\n",
       "      <td>NaN</td>\n",
       "      <td>...</td>\n",
       "      <td>NaN</td>\n",
       "      <td>NaN</td>\n",
       "      <td>NaN</td>\n",
       "      <td>NaN</td>\n",
       "      <td>NaN</td>\n",
       "      <td>NaN</td>\n",
       "      <td>NaN</td>\n",
       "      <td>NaN</td>\n",
       "      <td>NaN</td>\n",
       "      <td>NaN</td>\n",
       "    </tr>\n",
       "    <tr>\n",
       "      <th>4</th>\n",
       "      <td>2279037</td>\n",
       "      <td>2279037</td>\n",
       "      <td>1.0</td>\n",
       "      <td>69.0</td>\n",
       "      <td>15.0</td>\n",
       "      <td>2.0</td>\n",
       "      <td>2.0</td>\n",
       "      <td>2.0</td>\n",
       "      <td>NaN</td>\n",
       "      <td>NaN</td>\n",
       "      <td>...</td>\n",
       "      <td>NaN</td>\n",
       "      <td>NaN</td>\n",
       "      <td>NaN</td>\n",
       "      <td>NaN</td>\n",
       "      <td>NaN</td>\n",
       "      <td>NaN</td>\n",
       "      <td>NaN</td>\n",
       "      <td>NaN</td>\n",
       "      <td>NaN</td>\n",
       "      <td>NaN</td>\n",
       "    </tr>\n",
       "  </tbody>\n",
       "</table>\n",
       "<p>5 rows × 184 columns</p>\n",
       "</div>"
      ],
      "text/plain": [
       "       eid    eid.1  31-0.0  21022-0.0  845-0.0  728-0.0  738-0.0  6142-0.0  \\\n",
       "0  5093155  5093155     1.0       56.0     33.0      2.0      3.0       1.0   \n",
       "1  4155077  4155077     0.0       49.0     16.0      3.0      3.0       1.0   \n",
       "2  2204317  2204317     0.0       66.0      NaN     -3.0     -3.0       2.0   \n",
       "3  1719355  1719355     0.0       67.0     16.0      2.0      1.0       2.0   \n",
       "4  2279037  2279037     1.0       69.0     15.0      2.0      2.0       2.0   \n",
       "\n",
       "   20016-0.0  4548-0.0  ...  796-2.0  777-2.0  3393-2.0  6141-2.0  2149-2.0  \\\n",
       "0        NaN       NaN  ...      NaN      NaN       NaN       NaN       NaN   \n",
       "1        NaN       NaN  ...      NaN      NaN       NaN       NaN       NaN   \n",
       "2        8.0       3.0  ...      NaN      NaN       0.0       1.0       NaN   \n",
       "3        NaN       NaN  ...      NaN      NaN       NaN       NaN       NaN   \n",
       "4        NaN       NaN  ...      NaN      NaN       NaN       NaN       NaN   \n",
       "\n",
       "   2139-2.0  1259-2.0  2207-2.0  1001-2.0  3659-2.0  \n",
       "0       NaN       NaN       NaN       NaN       NaN  \n",
       "1       NaN       NaN       NaN       NaN       NaN  \n",
       "2       NaN       0.0       1.0       NaN       NaN  \n",
       "3       NaN       NaN       NaN       NaN       NaN  \n",
       "4       NaN       NaN       NaN       NaN       NaN  \n",
       "\n",
       "[5 rows x 184 columns]"
      ]
     },
     "execution_count": 3,
     "metadata": {},
     "output_type": "execute_result"
    }
   ],
   "source": [
    "data.head()"
   ]
  },
  {
   "cell_type": "code",
   "execution_count": 4,
   "id": "e2364e22",
   "metadata": {},
   "outputs": [],
   "source": [
    "data = data.rename(columns={'21022-0.0': 'Age (R)', '31-0.0': 'Sex (C)', '2020-0.0': 'Loneliness, isolation (C)', \n",
    "                            '845-0.0': 'Age completed education (R)',\n",
    "                            '728-0.0': 'Number of vehicles in household (R)',\n",
    "                            '738-0.0': 'Average total household income before tax (R)',\n",
    "                            '6142-0.0': 'Employment status (C)',\n",
    "                            '20016-0.0': 'Fluid intelligence score (R)',\n",
    "                            '4548-0.0': 'Health satisfaction (R)',\n",
    "                            '699-0.0': 'Length of time at current address (R)',\n",
    "                            '1070-0.0': 'Time spent watching television (TV) (R)',\n",
    "                            '1080-0.0': 'Time spent using computer (R)',\n",
    "                            '1110-0.0': 'Length of mobile phone use (R)',\n",
    "                            '1130-0.0': 'Hands-free device/speakerphone use with mobile phone in last 3 month (R)',\n",
    "                            '1628-0.0': 'Alcohol intake versus 10 years previously',\n",
    "                            '20403-0.0': 'Amount of alcohol drunk on a typical drinking day',\n",
    "                            '1558-0.0': 'Alcohol intake frequency',\n",
    "                            '826-0.0': 'Job involves shift work (R)',\n",
    "                            '1160-0.0': 'Sleep duration (R)',\n",
    "                            '1170-0.0': 'Getting up in morning (R)',\n",
    "                            '4570-0.0': 'Friendships satisfaction (R)',\n",
    "                            '4559-0.0': 'Family relationship satisfaction (R)',\n",
    "                            '1031-0.0': 'Frequency of friend/family visits (R)',\n",
    "                            '709-0.0': 'Number in household (R)',\n",
    "                            '1873-0.0': 'Number of full brothers (R)',\n",
    "                            '1883-0.0': 'Number of full sisters (R)',\n",
    "                            '20127-0.0': 'Neuroticism score (R)',\n",
    "                            '2110-0.0': 'Able to confide/Social support (R)',\n",
    "                            '6160-0.0': 'Leisure/social activities (C)',\n",
    "                            '4537-0.0': 'Work/job satisfaction (R)',\n",
    "                            '1180-0.0': 'Morning/evening person (chronotype) (R)',\n",
    "                            '1920-0.0': 'Mood swings (C)',\n",
    "                            '1930-0.0': 'Miserableness (C)',\n",
    "                            '1940-0.0': 'Irritability (C)',\n",
    "                            '1950-0.0': 'Sensitivity / hurt feelings (C)',\n",
    "                            '1960-0.0': 'Fed-up feelings (C)',\n",
    "                            '1970-0.0': 'Nervous feelings (C)',\n",
    "                            '1980-0.0': 'Worrier / anxious feelings (C)',\n",
    "                            '1990-0.0': \"Tense / 'highly strung' (C)\",\n",
    "                            '2020-0.0': 'Loneliness, isolation (C)',\n",
    "                            '2000-0.0': 'Worry too long after embarrassment (C)',\n",
    "                            '2010-0.0': \"Suffer from 'nerves' (C)\",\n",
    "                            '4526-0.0': 'Happiness (R)',\n",
    "                            '20018-0.0': 'Prospective Memory test',\n",
    "                            '1239-0.0': 'Current tobacco smoking (R)',\n",
    "                            '1249-0.0': 'Past tobacco smoking (R)',\n",
    "                            '2887-0.0': 'Number of cigarettes previously smoked daily (R)',\n",
    "                            '2926-0.0': 'Number of unsuccessful stop-smoking attempts (R)',\n",
    "                            '3476-0.0': 'Difficulty not smoking for 1 day (R)',\n",
    "                            '2966-0.0': 'Age high blood pressure diagnosed',\n",
    "                            '95-0.0': 'Pulse rate (during blood-pressure measurement)',\n",
    "                            '20107-0.0': 'Illnesses of father',\n",
    "                            '20110-0.0': 'Illnesses of mother',\n",
    "                            '20111-0.0': 'Illnesses of siblings',\n",
    "                            '26413-0.0': 'Health score (England)',\n",
    "                            '2443-0.0': 'Diabetes diagnosed by doctor',\n",
    "                            '2976-0.0': 'Age diabetes diagnosedHearing test done',\n",
    "                            '4849-0.0': 'Hearing test done',\n",
    "                            '2257-0.0': 'Hearing difficulty/problems with background noise',\n",
    "                            '6148-0.0': 'Eye problems/disorders',\n",
    "                            '2227-0.0': 'Other eye problems',\n",
    "                            '26415-0.0': 'Housing score (England)',\n",
    "                            '20441-0.0': 'Ever had prolonged loss of interest in normal activities',\n",
    "                            '20446-0.0': 'Ever had prolonged feelings of sadness or depression',\n",
    "                            '104920-0.0': 'Time spent doing light physical activity',\n",
    "                            '104910-0.0': 'Time spent doing moderate physical activity',\n",
    "                            '104900-0.0': 'Time spent doing vigorous physical activity',\n",
    "                            '26424-0.0': 'Physical environment score (Wales)',\n",
    "                            '26417-0.0': 'Living environment score (England)',\n",
    "                            '6164-0.0': 'Types of physical activity in last 4 weeks',\n",
    "                            '6033-0.0': 'Maximum heart rate during fitness test',\n",
    "                            '6032-0.0': 'Maximum workload during fitness test',\n",
    "                            '6039-0.0': 'Duration of fitness test',\n",
    "                            '6019-0.0': 'ECG/bike method for fitness test',\n",
    "                            '26414-0.0': 'Education score (England)',\n",
    "                            '6150-0.0': 'Vascular/heart problems diagnosed by doctor',\n",
    "                            '20456-0.0': 'Ever addicted to illicit or recreational drugs',\n",
    "                            '20457-0.0': 'Ongoing addiction or dependence on illicit or recreational drugs',\n",
    "                            '20401-0.0': 'Ever addicted to any substance or behaviour',\n",
    "                            '1200-0.0': 'Sleeplessness / insomnia',\n",
    "                            '1210-0.0': 'Snoring',\n",
    "                            '20506-0.0': 'Recent feelings or nervousness or anxiety',\n",
    "                            '4056-0.0': 'Age stroke diagnosed',\n",
    "                            '3894-0.0': 'Age heart attack diagnosed',\n",
    "                            '3627-0.0': 'Age angina diagnosed',\n",
    "                            '4700-0.0': 'Age cataract diagnosed',\n",
    "                            '4689-0.0': 'Age glaucoma diagnosed',\n",
    "                            '5923-0.0': 'Age macular degeneration diagnosed',\n",
    "                            '20118-0.0': 'Home area population density - urban or rural',\n",
    "                            '796-0.0': 'Distance between home and job workplace',\n",
    "                            '777-0.0': 'Frequency of travelling from home to job workplace',\n",
    "                            '30740-0.0': 'Glucose',\n",
    "                            '30750-0.0': 'Glycated haemoglobin (HbA1c)',\n",
    "                            '3393-0.0': 'Hearing aid user',\n",
    "                            '6141-0.0': 'How are people in household related to participant',\n",
    "                            '2149-0.0': 'Lifetime number of sexual partners',\n",
    "                            '2139-0.0': 'Age first had sexual intercourse',\n",
    "                            '1259-0.0': 'Smoking/smokers in household',\n",
    "                            '2207-0.0': 'Wears glasses or contact lenses',\n",
    "                            '5181-0.0': 'Ever had eye surgery',\n",
    "                            '1001-0.0': 'Ethnic background',\n",
    "                            '3659-0.0': 'Year immigrated to UK (United Kingdom)',\n",
    "                            '20414-0.0': 'Frequency of drinking alcohol',\n",
    "                            '20416-0.0': 'Frequency of consuming six or more units of alcohol',\n",
    "                            '20159-0.0': 'Number of symbol digit matches made correctly',\n",
    "                            })\n"
   ]
  },
  {
   "cell_type": "code",
   "execution_count": 5,
   "id": "9213c11a",
   "metadata": {},
   "outputs": [],
   "source": [
    "pd.set_option('display.max_rows', None)\n",
    "pd.set_option('display.max_columns', 20)"
   ]
  },
  {
   "cell_type": "code",
   "execution_count": 6,
   "id": "367873e3",
   "metadata": {},
   "outputs": [
    {
     "data": {
      "text/html": [
       "<div>\n",
       "<style scoped>\n",
       "    .dataframe tbody tr th:only-of-type {\n",
       "        vertical-align: middle;\n",
       "    }\n",
       "\n",
       "    .dataframe tbody tr th {\n",
       "        vertical-align: top;\n",
       "    }\n",
       "\n",
       "    .dataframe thead th {\n",
       "        text-align: right;\n",
       "    }\n",
       "</style>\n",
       "<table border=\"1\" class=\"dataframe\">\n",
       "  <thead>\n",
       "    <tr style=\"text-align: right;\">\n",
       "      <th></th>\n",
       "      <th>eid</th>\n",
       "      <th>eid.1</th>\n",
       "      <th>Sex (C)</th>\n",
       "      <th>Age (R)</th>\n",
       "      <th>Age completed education (R)</th>\n",
       "      <th>Number of vehicles in household (R)</th>\n",
       "      <th>Average total household income before tax (R)</th>\n",
       "      <th>Employment status (C)</th>\n",
       "      <th>Fluid intelligence score (R)</th>\n",
       "      <th>Health satisfaction (R)</th>\n",
       "      <th>...</th>\n",
       "      <th>796-2.0</th>\n",
       "      <th>777-2.0</th>\n",
       "      <th>3393-2.0</th>\n",
       "      <th>6141-2.0</th>\n",
       "      <th>2149-2.0</th>\n",
       "      <th>2139-2.0</th>\n",
       "      <th>1259-2.0</th>\n",
       "      <th>2207-2.0</th>\n",
       "      <th>1001-2.0</th>\n",
       "      <th>3659-2.0</th>\n",
       "    </tr>\n",
       "  </thead>\n",
       "  <tbody>\n",
       "    <tr>\n",
       "      <th>0</th>\n",
       "      <td>5093155</td>\n",
       "      <td>5093155</td>\n",
       "      <td>1.0</td>\n",
       "      <td>56.0</td>\n",
       "      <td>33.0</td>\n",
       "      <td>2.0</td>\n",
       "      <td>3.0</td>\n",
       "      <td>1.0</td>\n",
       "      <td>NaN</td>\n",
       "      <td>NaN</td>\n",
       "      <td>...</td>\n",
       "      <td>NaN</td>\n",
       "      <td>NaN</td>\n",
       "      <td>NaN</td>\n",
       "      <td>NaN</td>\n",
       "      <td>NaN</td>\n",
       "      <td>NaN</td>\n",
       "      <td>NaN</td>\n",
       "      <td>NaN</td>\n",
       "      <td>NaN</td>\n",
       "      <td>NaN</td>\n",
       "    </tr>\n",
       "    <tr>\n",
       "      <th>1</th>\n",
       "      <td>4155077</td>\n",
       "      <td>4155077</td>\n",
       "      <td>0.0</td>\n",
       "      <td>49.0</td>\n",
       "      <td>16.0</td>\n",
       "      <td>3.0</td>\n",
       "      <td>3.0</td>\n",
       "      <td>1.0</td>\n",
       "      <td>NaN</td>\n",
       "      <td>NaN</td>\n",
       "      <td>...</td>\n",
       "      <td>NaN</td>\n",
       "      <td>NaN</td>\n",
       "      <td>NaN</td>\n",
       "      <td>NaN</td>\n",
       "      <td>NaN</td>\n",
       "      <td>NaN</td>\n",
       "      <td>NaN</td>\n",
       "      <td>NaN</td>\n",
       "      <td>NaN</td>\n",
       "      <td>NaN</td>\n",
       "    </tr>\n",
       "    <tr>\n",
       "      <th>2</th>\n",
       "      <td>2204317</td>\n",
       "      <td>2204317</td>\n",
       "      <td>0.0</td>\n",
       "      <td>66.0</td>\n",
       "      <td>NaN</td>\n",
       "      <td>-3.0</td>\n",
       "      <td>-3.0</td>\n",
       "      <td>2.0</td>\n",
       "      <td>8.0</td>\n",
       "      <td>3.0</td>\n",
       "      <td>...</td>\n",
       "      <td>NaN</td>\n",
       "      <td>NaN</td>\n",
       "      <td>0.0</td>\n",
       "      <td>1.0</td>\n",
       "      <td>NaN</td>\n",
       "      <td>NaN</td>\n",
       "      <td>0.0</td>\n",
       "      <td>1.0</td>\n",
       "      <td>NaN</td>\n",
       "      <td>NaN</td>\n",
       "    </tr>\n",
       "    <tr>\n",
       "      <th>3</th>\n",
       "      <td>1719355</td>\n",
       "      <td>1719355</td>\n",
       "      <td>0.0</td>\n",
       "      <td>67.0</td>\n",
       "      <td>16.0</td>\n",
       "      <td>2.0</td>\n",
       "      <td>1.0</td>\n",
       "      <td>2.0</td>\n",
       "      <td>NaN</td>\n",
       "      <td>NaN</td>\n",
       "      <td>...</td>\n",
       "      <td>NaN</td>\n",
       "      <td>NaN</td>\n",
       "      <td>NaN</td>\n",
       "      <td>NaN</td>\n",
       "      <td>NaN</td>\n",
       "      <td>NaN</td>\n",
       "      <td>NaN</td>\n",
       "      <td>NaN</td>\n",
       "      <td>NaN</td>\n",
       "      <td>NaN</td>\n",
       "    </tr>\n",
       "    <tr>\n",
       "      <th>4</th>\n",
       "      <td>2279037</td>\n",
       "      <td>2279037</td>\n",
       "      <td>1.0</td>\n",
       "      <td>69.0</td>\n",
       "      <td>15.0</td>\n",
       "      <td>2.0</td>\n",
       "      <td>2.0</td>\n",
       "      <td>2.0</td>\n",
       "      <td>NaN</td>\n",
       "      <td>NaN</td>\n",
       "      <td>...</td>\n",
       "      <td>NaN</td>\n",
       "      <td>NaN</td>\n",
       "      <td>NaN</td>\n",
       "      <td>NaN</td>\n",
       "      <td>NaN</td>\n",
       "      <td>NaN</td>\n",
       "      <td>NaN</td>\n",
       "      <td>NaN</td>\n",
       "      <td>NaN</td>\n",
       "      <td>NaN</td>\n",
       "    </tr>\n",
       "  </tbody>\n",
       "</table>\n",
       "<p>5 rows × 184 columns</p>\n",
       "</div>"
      ],
      "text/plain": [
       "       eid    eid.1  Sex (C)  Age (R)  Age completed education (R)  \\\n",
       "0  5093155  5093155      1.0     56.0                         33.0   \n",
       "1  4155077  4155077      0.0     49.0                         16.0   \n",
       "2  2204317  2204317      0.0     66.0                          NaN   \n",
       "3  1719355  1719355      0.0     67.0                         16.0   \n",
       "4  2279037  2279037      1.0     69.0                         15.0   \n",
       "\n",
       "   Number of vehicles in household (R)  \\\n",
       "0                                  2.0   \n",
       "1                                  3.0   \n",
       "2                                 -3.0   \n",
       "3                                  2.0   \n",
       "4                                  2.0   \n",
       "\n",
       "   Average total household income before tax (R)  Employment status (C)  \\\n",
       "0                                            3.0                    1.0   \n",
       "1                                            3.0                    1.0   \n",
       "2                                           -3.0                    2.0   \n",
       "3                                            1.0                    2.0   \n",
       "4                                            2.0                    2.0   \n",
       "\n",
       "   Fluid intelligence score (R)  Health satisfaction (R)  ...  796-2.0  \\\n",
       "0                           NaN                      NaN  ...      NaN   \n",
       "1                           NaN                      NaN  ...      NaN   \n",
       "2                           8.0                      3.0  ...      NaN   \n",
       "3                           NaN                      NaN  ...      NaN   \n",
       "4                           NaN                      NaN  ...      NaN   \n",
       "\n",
       "   777-2.0  3393-2.0  6141-2.0  2149-2.0  2139-2.0  1259-2.0  2207-2.0  \\\n",
       "0      NaN       NaN       NaN       NaN       NaN       NaN       NaN   \n",
       "1      NaN       NaN       NaN       NaN       NaN       NaN       NaN   \n",
       "2      NaN       0.0       1.0       NaN       NaN       0.0       1.0   \n",
       "3      NaN       NaN       NaN       NaN       NaN       NaN       NaN   \n",
       "4      NaN       NaN       NaN       NaN       NaN       NaN       NaN   \n",
       "\n",
       "   1001-2.0  3659-2.0  \n",
       "0       NaN       NaN  \n",
       "1       NaN       NaN  \n",
       "2       NaN       NaN  \n",
       "3       NaN       NaN  \n",
       "4       NaN       NaN  \n",
       "\n",
       "[5 rows x 184 columns]"
      ]
     },
     "execution_count": 6,
     "metadata": {},
     "output_type": "execute_result"
    }
   ],
   "source": [
    "data.head()"
   ]
  },
  {
   "cell_type": "code",
   "execution_count": 7,
   "id": "463f119a",
   "metadata": {},
   "outputs": [
    {
     "data": {
      "text/plain": [
       "(502507, 184)"
      ]
     },
     "execution_count": 7,
     "metadata": {},
     "output_type": "execute_result"
    }
   ],
   "source": [
    "data.shape"
   ]
  },
  {
   "cell_type": "code",
   "execution_count": 9,
   "id": "cfbdc2f8",
   "metadata": {},
   "outputs": [
    {
     "name": "stdout",
     "output_type": "stream",
     "text": [
      "eid\n",
      "eid.1\n",
      "Sex (C)\n",
      "Age (R)\n",
      "Age completed education (R)\n",
      "Number of vehicles in household (R)\n",
      "Average total household income before tax (R)\n",
      "Employment status (C)\n",
      "Fluid intelligence score (R)\n",
      "Health satisfaction (R)\n",
      "Length of time at current address (R)\n",
      "Time spent watching television (TV) (R)\n",
      "Time spent using computer (R)\n",
      "Length of mobile phone use (R)\n",
      "Hands-free device/speakerphone use with mobile phone in last 3 month (R)\n",
      "Alcohol intake versus 10 years previously\n",
      "Amount of alcohol drunk on a typical drinking day\n",
      "Alcohol intake frequency\n",
      "Job involves shift work (R)\n",
      "Sleep duration (R)\n",
      "Getting up in morning (R)\n",
      "Friendships satisfaction (R)\n",
      "Family relationship satisfaction (R)\n",
      "Frequency of friend/family visits (R)\n",
      "Number in household (R)\n",
      "Number of full brothers (R)\n",
      "Number of full sisters (R)\n",
      "Neuroticism score (R)\n",
      "Able to confide/Social support (R)\n",
      "Leisure/social activities (C)\n",
      "Work/job satisfaction (R)\n",
      "Morning/evening person (chronotype) (R)\n",
      "Mood swings (C)\n",
      "Miserableness (C)\n",
      "Irritability (C)\n",
      "Sensitivity / hurt feelings (C)\n",
      "Fed-up feelings (C)\n",
      "Nervous feelings (C)\n",
      "Worrier / anxious feelings (C)\n",
      "Tense / 'highly strung' (C)\n",
      "Loneliness, isolation (C)\n",
      "Worry too long after embarrassment (C)\n",
      "Suffer from 'nerves' (C)\n",
      "Happiness (R)\n",
      "Prospective Memory test\n",
      "Current tobacco smoking (R)\n",
      "Past tobacco smoking (R)\n",
      "Number of cigarettes previously smoked daily (R)\n",
      "Number of unsuccessful stop-smoking attempts (R)\n",
      "Difficulty not smoking for 1 day (R)\n",
      "Age high blood pressure diagnosed\n",
      "Pulse rate (during blood-pressure measurement)\n",
      "Illnesses of father\n",
      "Illnesses of mother\n",
      "Illnesses of siblings\n",
      "Health score (England)\n",
      "Diabetes diagnosed by doctor\n",
      "Age diabetes diagnosedHearing test done\n",
      "Hearing test done\n",
      "Hearing difficulty/problems with background noise\n",
      "Eye problems/disorders\n",
      "Other eye problems\n",
      "Housing score (England)\n",
      "Ever had prolonged loss of interest in normal activities\n",
      "Ever had prolonged feelings of sadness or depression\n",
      "Time spent doing light physical activity\n",
      "Time spent doing moderate physical activity\n",
      "Time spent doing vigorous physical activity\n",
      "Physical environment score (Wales)\n",
      "Living environment score (England)\n",
      "Types of physical activity in last 4 weeks\n",
      "Maximum heart rate during fitness test\n",
      "Maximum workload during fitness test\n",
      "Duration of fitness test\n",
      "ECG/bike method for fitness test\n",
      "Education score (England)\n",
      "Vascular/heart problems diagnosed by doctor\n",
      "Ever addicted to illicit or recreational drugs\n",
      "Ongoing addiction or dependence on illicit or recreational drugs\n",
      "Ever addicted to any substance or behaviour\n",
      "Sleeplessness / insomnia\n",
      "Snoring\n",
      "Recent feelings or nervousness or anxiety\n",
      "Age stroke diagnosed\n",
      "Age heart attack diagnosed\n",
      "Age angina diagnosed\n",
      "Age cataract diagnosed\n",
      "Age glaucoma diagnosed\n",
      "Age macular degeneration diagnosed\n",
      "Home area population density - urban or rural\n",
      "Distance between home and job workplace\n",
      "Frequency of travelling from home to job workplace\n",
      "Glucose\n",
      "Glycated haemoglobin (HbA1c)\n",
      "Hearing aid user\n",
      "How are people in household related to participant\n",
      "Lifetime number of sexual partners\n",
      "Age first had sexual intercourse\n",
      "Smoking/smokers in household\n",
      "Wears glasses or contact lenses\n",
      "Ever had eye surgery\n",
      "Ethnic background\n",
      "Year immigrated to UK (United Kingdom)\n",
      "Frequency of drinking alcohol\n",
      "Frequency of consuming six or more units of alcohol\n",
      "Number of symbol digit matches made correctly\n",
      "845-2.0\n",
      "728-2.0\n",
      "738-2.0\n",
      "6142-2.0\n",
      "20016-2.0\n",
      "4548-2.0\n",
      "699-2.0\n",
      "1070-2.0\n",
      "1080-2.0\n",
      "1110-2.0\n",
      "1130-2.0\n",
      "1628-2.0\n",
      "1558-2.0\n",
      "826-2.0\n",
      "1160-2.0\n",
      "1170-2.0\n",
      "4570-2.0\n",
      "4559-2.0\n",
      "1031-2.0\n",
      "709-2.0\n",
      "1873-2.0\n",
      "1883-2.0\n",
      "2110-2.0\n",
      "6160-2.0\n",
      "4537-2.0\n",
      "1180-2.0\n",
      "1920-2.0\n",
      "1930-2.0\n",
      "1940-2.0\n",
      "1950-2.0\n",
      "1960-2.0\n",
      "1970-2.0\n",
      "1980-2.0\n",
      "1990-2.0\n",
      "2020-2.0\n",
      "2000-2.0\n",
      "2010-2.0\n",
      "4526-2.0\n",
      "20018-2.0\n",
      "1239-2.0\n",
      "1249-2.0\n",
      "2887-2.0\n",
      "2926-2.0\n",
      "3476-2.0\n",
      "2966-2.0\n",
      "95-2.0\n",
      "20107-2.0\n",
      "20110-2.0\n",
      "20111-2.0\n",
      "2443-2.0\n",
      "2976-2.0\n",
      "4849-2.0\n",
      "2257-2.0\n",
      "6148-2.0\n",
      "2227-2.0\n",
      "104920-2.0\n",
      "104910-2.0\n",
      "104900-2.0\n",
      "6164-2.0\n",
      "6150-2.0\n",
      "1200-2.0\n",
      "1210-2.0\n",
      "4056-2.0\n",
      "3894-2.0\n",
      "3627-2.0\n",
      "4700-2.0\n",
      "4689-2.0\n",
      "5923-2.0\n",
      "796-2.0\n",
      "777-2.0\n",
      "3393-2.0\n",
      "6141-2.0\n",
      "2149-2.0\n",
      "2139-2.0\n",
      "1259-2.0\n",
      "2207-2.0\n",
      "1001-2.0\n",
      "3659-2.0\n"
     ]
    }
   ],
   "source": [
    "for col in data.columns:\n",
    "    print(col)"
   ]
  },
  {
   "cell_type": "code",
   "execution_count": 10,
   "id": "e22f5f56",
   "metadata": {},
   "outputs": [
    {
     "name": "stdout",
     "output_type": "stream",
     "text": [
      "1\n",
      "1\n",
      "\n",
      "        Age (R)  Sex (C)\n",
      "440817      NaN      NaN\n",
      "\n",
      "0\n",
      "0\n"
     ]
    }
   ],
   "source": [
    "# Age & Sex nan check before\n",
    "print(np.isnan(data['Age (R)']).sum())\n",
    "print(np.isnan(data['Sex (C)']).sum())\n",
    "\n",
    "# Finding age & sex row with nan\n",
    "data_as = data[['Age (R)','Sex (C)']]\n",
    "is_NaN = data_as.isnull()\n",
    "row_has_NaN = is_NaN.any(axis=1)\n",
    "rows_with_NaN = data_as[row_has_NaN]\n",
    "print()\n",
    "print(rows_with_NaN)\n",
    "\n",
    "# Dropping age & sex row with nan\n",
    "data = data.drop([440817], axis=0)\n",
    "\n",
    "# Age & Sex nan check after\n",
    "print()\n",
    "print(np.isnan(data['Age (R)']).sum())\n",
    "print(np.isnan(data['Sex (C)']).sum())"
   ]
  },
  {
   "cell_type": "code",
   "execution_count": 11,
   "id": "ddbfb215",
   "metadata": {},
   "outputs": [
    {
     "data": {
      "text/plain": [
       "Index(['Sex (C)', 'Age (R)', 'Age completed education (R)',\n",
       "       'Number of vehicles in household (R)',\n",
       "       'Average total household income before tax (R)',\n",
       "       'Employment status (C)', 'Fluid intelligence score (R)',\n",
       "       'Health satisfaction (R)', 'Length of time at current address (R)',\n",
       "       'Time spent watching television (TV) (R)',\n",
       "       ...\n",
       "       '796-2.0', '777-2.0', '3393-2.0', '6141-2.0', '2149-2.0', '2139-2.0',\n",
       "       '1259-2.0', '2207-2.0', '1001-2.0', '3659-2.0'],\n",
       "      dtype='object', length=182)"
      ]
     },
     "execution_count": 11,
     "metadata": {},
     "output_type": "execute_result"
    }
   ],
   "source": [
    "data.columns[2:]"
   ]
  },
  {
   "cell_type": "code",
   "execution_count": 12,
   "id": "f5ca182b",
   "metadata": {},
   "outputs": [],
   "source": [
    "np.random.seed(0)\n",
    "def my_impute(df):\n",
    "    new_df = pd.DataFrame(index=data.eid)\n",
    "    for col in tqdm(df.columns[2:]):\n",
    "        arr = np.array(df[col])\n",
    "        #print(f'Replacing %i NaN values for {col}!' % np.sum(np.isnan(arr)))\n",
    "        b_nan = np.isnan(arr)\n",
    "        b_negative = arr < 0\n",
    "        b_bad = b_nan | b_negative\n",
    "        arr[b_bad] = np.random.choice(arr[~b_bad], np.sum(b_bad))\n",
    "        new_df[col] = arr\n",
    "    return new_df\n"
   ]
  },
  {
   "cell_type": "code",
   "execution_count": 13,
   "id": "ebdffb6f",
   "metadata": {},
   "outputs": [
    {
     "data": {
      "text/plain": [
       "912"
      ]
     },
     "execution_count": 13,
     "metadata": {},
     "output_type": "execute_result"
    }
   ],
   "source": [
    "# Encoding binary ATC\n",
    "data['Able to confide/Social support (R)'].replace([0,1,2,3,4,5],[1,1,1,1,1,0],inplace=True)\n",
    "data['Able to confide/Social support (R)'].isnull().sum()\n"
   ]
  },
  {
   "cell_type": "code",
   "execution_count": 14,
   "id": "b7e36a05",
   "metadata": {},
   "outputs": [
    {
     "data": {
      "text/plain": [
       "array([ 6.,  5.,  4.,  3.,  2.,  1., -3., nan])"
      ]
     },
     "execution_count": 14,
     "metadata": {},
     "output_type": "execute_result"
    }
   ],
   "source": [
    "# Alcohol intake frequency\n",
    "data['Alcohol intake frequency'].replace([1,2,3,4,5,6],[6,5,4,3,2,1], inplace=True)\n",
    "data['Alcohol intake frequency'].unique()"
   ]
  },
  {
   "cell_type": "code",
   "execution_count": 15,
   "id": "924223fd",
   "metadata": {},
   "outputs": [
    {
     "data": {
      "text/plain": [
       "array([ 1.,  3.,  2., nan, -1., -3.])"
      ]
     },
     "execution_count": 15,
     "metadata": {},
     "output_type": "execute_result"
    }
   ],
   "source": [
    "# Alcohol intake versus 10 years previously\n",
    "data['Alcohol intake versus 10 years previously'].replace([1,2,3],[3,2,1],inplace=True)\n",
    "data['Alcohol intake versus 10 years previously'].unique()"
   ]
  },
  {
   "cell_type": "code",
   "execution_count": 16,
   "id": "b323764b",
   "metadata": {},
   "outputs": [
    {
     "data": {
      "text/plain": [
       "array([ 2.,  0.,  1., -3., nan])"
      ]
     },
     "execution_count": 16,
     "metadata": {},
     "output_type": "execute_result"
    }
   ],
   "source": [
    "# Current tobacco smoking (R)\n",
    "data['Current tobacco smoking (R)'].replace([0,1,2],[0,2,1], inplace=True)\n",
    "data['Current tobacco smoking (R)'].unique()"
   ]
  },
  {
   "cell_type": "code",
   "execution_count": 17,
   "id": "3c33239f",
   "metadata": {},
   "outputs": [
    {
     "data": {
      "text/plain": [
       "array([nan,  1.,  4.,  2.,  3., -3.])"
      ]
     },
     "execution_count": 17,
     "metadata": {},
     "output_type": "execute_result"
    }
   ],
   "source": [
    "# Past tobacco smoking (R)\n",
    "data['Past tobacco smoking (R)'].replace([1,2,3,4],[4,3,2,1], inplace=True)\n",
    "data['Past tobacco smoking (R)'].unique()"
   ]
  },
  {
   "cell_type": "code",
   "execution_count": 18,
   "id": "a7985f45",
   "metadata": {},
   "outputs": [],
   "source": [
    "# Leisure/social activities (Act)\n",
    "# Types of physical activity in last 4 weeks (Phys)\n",
    "# Employment Status\n",
    "data = pd.get_dummies(data, columns=[\"Leisure/social activities (C)\", \"Employment status (C)\", \"Types of physical activity in last 4 weeks\"], prefix=[\"Act\", \"Emp\", \"Phys\"])\n"
   ]
  },
  {
   "cell_type": "code",
   "execution_count": 19,
   "id": "bf439459",
   "metadata": {},
   "outputs": [],
   "source": [
    "data = data.drop(['Act_-7.0', 'Act_-3.0', 'Emp_-7.0', 'Emp_-3.0', \n",
    "                  'Phys_-7.0', 'Phys_-3.0'], axis=1)\n"
   ]
  },
  {
   "cell_type": "code",
   "execution_count": 20,
   "id": "4128ea06",
   "metadata": {},
   "outputs": [
    {
     "data": {
      "text/plain": [
       "array([ 8.,  7.,  6.,  5.,  3.,  9.,  4., 10., -1., -3., 12., 11., nan,\n",
       "        2., 15., 14., 20.,  1., 16., 13., 18., 17., 22., 19., 23., 21.])"
      ]
     },
     "execution_count": 20,
     "metadata": {},
     "output_type": "execute_result"
    }
   ],
   "source": [
    "data['Sleep duration (R)'].unique()"
   ]
  },
  {
   "cell_type": "code",
   "execution_count": 21,
   "id": "bbf76733",
   "metadata": {},
   "outputs": [
    {
     "data": {
      "text/plain": [
       "array([ 3.,  4.,  2.,  1., nan, -1., -3.])"
      ]
     },
     "execution_count": 21,
     "metadata": {},
     "output_type": "execute_result"
    }
   ],
   "source": [
    "# Getting up in morning (R)\n",
    "data['Getting up in morning (R)'].unique()"
   ]
  },
  {
   "cell_type": "code",
   "execution_count": 22,
   "id": "8255e70a",
   "metadata": {},
   "outputs": [
    {
     "data": {
      "text/plain": [
       "array([ 3.,  2.,  1., -3., nan])"
      ]
     },
     "execution_count": 22,
     "metadata": {},
     "output_type": "execute_result"
    }
   ],
   "source": [
    "data['Sleeplessness / insomnia'].unique()"
   ]
  },
  {
   "cell_type": "code",
   "execution_count": 23,
   "id": "0275924b",
   "metadata": {},
   "outputs": [],
   "source": [
    "# Cardiovascular\n",
    "data = pd.get_dummies(data, columns=[\"Vascular/heart problems diagnosed by doctor\"], prefix=[\"He\"])\n"
   ]
  },
  {
   "cell_type": "code",
   "execution_count": 24,
   "id": "a40e3b94",
   "metadata": {},
   "outputs": [],
   "source": [
    "data = data.drop(['He_-7.0', 'He_-3.0'], axis=1)\n"
   ]
  },
  {
   "cell_type": "code",
   "execution_count": 25,
   "id": "6e65fd92",
   "metadata": {},
   "outputs": [
    {
     "data": {
      "text/plain": [
       "array([ 0.,  1., -1., nan, -3.])"
      ]
     },
     "execution_count": 25,
     "metadata": {},
     "output_type": "execute_result"
    }
   ],
   "source": [
    "data['Diabetes diagnosed by doctor'].unique()"
   ]
  },
  {
   "cell_type": "code",
   "execution_count": 26,
   "id": "a4320171",
   "metadata": {},
   "outputs": [
    {
     "data": {
      "text/plain": [
       "array([ 1.,  0., -1., nan, -3.])"
      ]
     },
     "execution_count": 26,
     "metadata": {},
     "output_type": "execute_result"
    }
   ],
   "source": [
    "data['Hearing difficulty/problems with background noise'].unique()"
   ]
  },
  {
   "cell_type": "code",
   "execution_count": 27,
   "id": "a711e3dd",
   "metadata": {},
   "outputs": [
    {
     "data": {
      "text/plain": [
       "array([ 0., nan,  1., -3.])"
      ]
     },
     "execution_count": 27,
     "metadata": {},
     "output_type": "execute_result"
    }
   ],
   "source": [
    "data['Hearing aid user'].unique()"
   ]
  },
  {
   "cell_type": "code",
   "execution_count": 28,
   "id": "6e630336",
   "metadata": {},
   "outputs": [],
   "source": [
    "# Vision\n",
    "data = pd.get_dummies(data, columns=[\"Eye problems/disorders\"], prefix=[\"Eye\"])\n"
   ]
  },
  {
   "cell_type": "code",
   "execution_count": 29,
   "id": "b2d9178d",
   "metadata": {},
   "outputs": [],
   "source": [
    "data = data.drop(['Eye_-7.0', 'Eye_-3.0', 'Eye_-1.0',\n",
    "                  'Eye_1.0', 'Eye_3.0', 'Eye_6.0'], axis=1)\n"
   ]
  },
  {
   "cell_type": "code",
   "execution_count": 30,
   "id": "53be74db",
   "metadata": {},
   "outputs": [
    {
     "data": {
      "text/plain": [
       "array([ 1.,  0., -1., nan, -3.])"
      ]
     },
     "execution_count": 30,
     "metadata": {},
     "output_type": "execute_result"
    }
   ],
   "source": [
    "data['Miserableness (C)'].unique()"
   ]
  },
  {
   "cell_type": "code",
   "execution_count": 31,
   "id": "c136b49b",
   "metadata": {},
   "outputs": [
    {
     "data": {
      "text/plain": [
       "array([ 1.,  0., -1., -3., nan])"
      ]
     },
     "execution_count": 31,
     "metadata": {},
     "output_type": "execute_result"
    }
   ],
   "source": [
    "data['Fed-up feelings (C)'].unique()"
   ]
  },
  {
   "cell_type": "code",
   "execution_count": 32,
   "id": "70cfb0cb",
   "metadata": {},
   "outputs": [
    {
     "data": {
      "text/plain": [
       "array([ 1.,  0., -1., nan, -3.])"
      ]
     },
     "execution_count": 32,
     "metadata": {},
     "output_type": "execute_result"
    }
   ],
   "source": [
    "data['Mood swings (C)'].unique()"
   ]
  },
  {
   "cell_type": "code",
   "execution_count": 33,
   "id": "06747626",
   "metadata": {},
   "outputs": [
    {
     "data": {
      "text/plain": [
       "array([ 1.,  0., -1., -3., nan])"
      ]
     },
     "execution_count": 33,
     "metadata": {},
     "output_type": "execute_result"
    }
   ],
   "source": [
    "data['Worrier / anxious feelings (C)'].unique()"
   ]
  },
  {
   "cell_type": "code",
   "execution_count": 34,
   "id": "28b990b5",
   "metadata": {},
   "outputs": [
    {
     "data": {
      "text/plain": [
       "array([ 1.,  0., -1., -3., nan])"
      ]
     },
     "execution_count": 34,
     "metadata": {},
     "output_type": "execute_result"
    }
   ],
   "source": [
    "data['Nervous feelings (C)'].unique()"
   ]
  },
  {
   "cell_type": "code",
   "execution_count": 35,
   "id": "75306bb5",
   "metadata": {},
   "outputs": [
    {
     "data": {
      "text/plain": [
       "array([ 1.,  0., -1., -3., nan])"
      ]
     },
     "execution_count": 35,
     "metadata": {},
     "output_type": "execute_result"
    }
   ],
   "source": [
    "data['Sensitivity / hurt feelings (C)'].unique()"
   ]
  },
  {
   "cell_type": "code",
   "execution_count": 36,
   "id": "5794411a",
   "metadata": {},
   "outputs": [
    {
     "data": {
      "text/plain": [
       "array([ 1.,  0., -1., -3., nan])"
      ]
     },
     "execution_count": 36,
     "metadata": {},
     "output_type": "execute_result"
    }
   ],
   "source": [
    "data[\"Tense / 'highly strung' (C)\"].unique()"
   ]
  },
  {
   "cell_type": "code",
   "execution_count": 37,
   "id": "c590eafb",
   "metadata": {},
   "outputs": [
    {
     "data": {
      "text/plain": [
       "array([ 1.,  0., -1., -3., nan])"
      ]
     },
     "execution_count": 37,
     "metadata": {},
     "output_type": "execute_result"
    }
   ],
   "source": [
    "data[\"Suffer from 'nerves' (C)\"].unique()"
   ]
  },
  {
   "cell_type": "code",
   "execution_count": 38,
   "id": "9d37fdfb",
   "metadata": {},
   "outputs": [
    {
     "data": {
      "text/plain": [
       "array([ 1.,  0., -1., -3., nan])"
      ]
     },
     "execution_count": 38,
     "metadata": {},
     "output_type": "execute_result"
    }
   ],
   "source": [
    "data[\"Worry too long after embarrassment (C)\"].unique()"
   ]
  },
  {
   "cell_type": "code",
   "execution_count": 39,
   "id": "dcd2f11f",
   "metadata": {},
   "outputs": [
    {
     "data": {
      "text/plain": [
       "array([ 1.,  0., -1., -3., nan])"
      ]
     },
     "execution_count": 39,
     "metadata": {},
     "output_type": "execute_result"
    }
   ],
   "source": [
    "data[\"Irritability (C)\"].unique()"
   ]
  },
  {
   "cell_type": "code",
   "execution_count": 40,
   "id": "a29453b0",
   "metadata": {},
   "outputs": [
    {
     "data": {
      "text/plain": [
       "array([12.,  5.,  4.,  3.,  2., 10., nan,  0.,  8.,  7.,  9.,  1.,  6.,\n",
       "       11.])"
      ]
     },
     "execution_count": 40,
     "metadata": {},
     "output_type": "execute_result"
    }
   ],
   "source": [
    "data[\"Neuroticism score (R)\"].unique()"
   ]
  },
  {
   "cell_type": "code",
   "execution_count": 41,
   "id": "4da1eed5",
   "metadata": {},
   "outputs": [
    {
     "data": {
      "text/plain": [
       "array([nan,  5.,  4.,  3.,  6.,  2.,  1., -1., -3.])"
      ]
     },
     "execution_count": 41,
     "metadata": {},
     "output_type": "execute_result"
    }
   ],
   "source": [
    "data['Happiness (R)'].replace([1,2,3,4,5,6],[6,5,4,3,2,1], inplace=True)\n",
    "data['Happiness (R)'].unique()"
   ]
  },
  {
   "cell_type": "code",
   "execution_count": 42,
   "id": "02dab2f2",
   "metadata": {},
   "outputs": [
    {
     "data": {
      "text/plain": [
       "array([  nan,    1.,    2.,    3.,    4., -818.])"
      ]
     },
     "execution_count": 42,
     "metadata": {},
     "output_type": "execute_result"
    }
   ],
   "source": [
    "data[\"Recent feelings or nervousness or anxiety\"].unique()"
   ]
  },
  {
   "cell_type": "code",
   "execution_count": 43,
   "id": "a17da45b",
   "metadata": {},
   "outputs": [
    {
     "data": {
      "text/plain": [
       "array([nan,  8.,  7.,  3.,  2.,  6.,  4., 10.,  5., 11.,  9.,  1.,  0.,\n",
       "       12., 13.])"
      ]
     },
     "execution_count": 43,
     "metadata": {},
     "output_type": "execute_result"
    }
   ],
   "source": [
    "data['Fluid intelligence score (R)'].unique()\n"
   ]
  },
  {
   "cell_type": "code",
   "execution_count": 44,
   "id": "b429f0c9",
   "metadata": {},
   "outputs": [
    {
     "data": {
      "text/plain": [
       "array([ 6.,  5.,  7.,  4.,  3., -3.,  2., nan, -1.,  1.])"
      ]
     },
     "execution_count": 44,
     "metadata": {},
     "output_type": "execute_result"
    }
   ],
   "source": [
    "data['Frequency of friend/family visits (R)'].replace([1,2,3,4,5,6,7],[7,6,5,4,3,2,1], inplace=True)\n",
    "data['Frequency of friend/family visits (R)'].unique()"
   ]
  },
  {
   "cell_type": "code",
   "execution_count": 45,
   "id": "0d52838f",
   "metadata": {},
   "outputs": [
    {
     "data": {
      "text/plain": [
       "array([nan,  5.,  4.,  3.,  6.,  2., -1., -3.,  1.])"
      ]
     },
     "execution_count": 45,
     "metadata": {},
     "output_type": "execute_result"
    }
   ],
   "source": [
    "data['Friendships satisfaction (R)'].replace([1,2,3,4,5,6],[6,5,4,3,2,1],inplace=True)\n",
    "data['Friendships satisfaction (R)'].unique()"
   ]
  },
  {
   "cell_type": "code",
   "execution_count": 46,
   "id": "a9c0482d",
   "metadata": {},
   "outputs": [
    {
     "data": {
      "text/plain": [
       "array([nan,  5.,  6.,  4.,  3.,  1., -1.,  2., -3.])"
      ]
     },
     "execution_count": 46,
     "metadata": {},
     "output_type": "execute_result"
    }
   ],
   "source": [
    "data['Family relationship satisfaction (R)'].replace([1,2,3,4,5,6],[6,5,4,3,2,1],inplace=True)\n",
    "data['Family relationship satisfaction (R)'].unique()"
   ]
  },
  {
   "cell_type": "code",
   "execution_count": 47,
   "id": "24a749ad",
   "metadata": {},
   "outputs": [
    {
     "data": {
      "text/plain": [
       "array([ 0.,  2.,  1., -3., 10.,  5.,  3.,  6., nan,  4.,  7., -1.,  8.,\n",
       "        9., 14., 11., 17., 12., 13., 19., 22., 15., 20., 16.])"
      ]
     },
     "execution_count": 47,
     "metadata": {},
     "output_type": "execute_result"
    }
   ],
   "source": [
    "data['Number of full sisters (R)'].unique()"
   ]
  },
  {
   "cell_type": "code",
   "execution_count": 48,
   "id": "57554fb0",
   "metadata": {},
   "outputs": [
    {
     "data": {
      "text/plain": [
       "array([ 2.,  0.,  1., -3., 10.,  3.,  6., nan,  4.,  7.,  5., -1.,  8.,\n",
       "       11.,  9., 12., 17., 14., 24., 13., 15., 20., 16., 25., 18., 23.,\n",
       "       19.])"
      ]
     },
     "execution_count": 48,
     "metadata": {},
     "output_type": "execute_result"
    }
   ],
   "source": [
    "data['Number of full brothers (R)'].unique()"
   ]
  },
  {
   "cell_type": "code",
   "execution_count": 49,
   "id": "419f492b",
   "metadata": {},
   "outputs": [],
   "source": [
    "sum_sibs = data[\"Number of full sisters (R)\"] + data[\"Number of full brothers (R)\"]\n",
    "data[\"Number of full siblings\"] = sum_sibs"
   ]
  },
  {
   "cell_type": "code",
   "execution_count": 50,
   "id": "def735a3",
   "metadata": {
    "scrolled": true
   },
   "outputs": [
    {
     "data": {
      "text/plain": [
       " 1.0     0.310247\n",
       " 2.0     0.239816\n",
       " 3.0     0.134078\n",
       " 0.0     0.118407\n",
       " 4.0     0.071211\n",
       " 5.0     0.040461\n",
       " 6.0     0.025156\n",
       " 7.0     0.015725\n",
       " 8.0     0.009932\n",
       " 9.0     0.006549\n",
       " 10.0    0.003811\n",
       " 11.0    0.002412\n",
       " 12.0    0.001465\n",
       "-2.0     0.000941\n",
       "-6.0     0.000899\n",
       " 13.0    0.000826\n",
       " 14.0    0.000450\n",
       " 15.0    0.000269\n",
       "-1.0     0.000221\n",
       " 16.0    0.000141\n",
       "-3.0     0.000129\n",
       " 17.0    0.000107\n",
       " 18.0    0.000076\n",
       " 19.0    0.000050\n",
       "-4.0     0.000042\n",
       " 20.0    0.000032\n",
       " 22.0    0.000026\n",
       " 21.0    0.000020\n",
       " 23.0    0.000014\n",
       " 25.0    0.000012\n",
       " 24.0    0.000010\n",
       " 33.0    0.000004\n",
       " 27.0    0.000004\n",
       " 26.0    0.000004\n",
       " 41.0    0.000002\n",
       " 32.0    0.000002\n",
       " 44.0    0.000002\n",
       " 38.0    0.000002\n",
       " 29.0    0.000002\n",
       "Name: Number of full siblings, dtype: float64"
      ]
     },
     "execution_count": 50,
     "metadata": {},
     "output_type": "execute_result"
    }
   ],
   "source": [
    "data['Number of full siblings'].value_counts()/len(data['Number of full siblings'])"
   ]
  },
  {
   "cell_type": "code",
   "execution_count": 51,
   "id": "3ef03518",
   "metadata": {},
   "outputs": [
    {
     "data": {
      "text/plain": [
       "array([ 5.,  7.,  6., 11., 12., nan,  8., 16., 13.,  9.,  2.,  4., 14.,\n",
       "        3., 17., 18.,  1.])"
      ]
     },
     "execution_count": 51,
     "metadata": {},
     "output_type": "execute_result"
    }
   ],
   "source": [
    "data['Home area population density - urban or rural'].unique()"
   ]
  },
  {
   "cell_type": "code",
   "execution_count": 52,
   "id": "b3f296f7",
   "metadata": {},
   "outputs": [
    {
     "data": {
      "text/plain": [
       "array([ 3., -3.,  1.,  2.,  4.,  5., -1., nan])"
      ]
     },
     "execution_count": 52,
     "metadata": {},
     "output_type": "execute_result"
    }
   ],
   "source": [
    "data['Average total household income before tax (R)'].unique()"
   ]
  },
  {
   "cell_type": "code",
   "execution_count": 53,
   "id": "3995ea81",
   "metadata": {},
   "outputs": [
    {
     "data": {
      "text/plain": [
       "array([ 2.,  3., -3.,  1.,  4.,  5., nan, -1.])"
      ]
     },
     "execution_count": 53,
     "metadata": {},
     "output_type": "execute_result"
    }
   ],
   "source": [
    "data['Number of vehicles in household (R)'].unique()"
   ]
  },
  {
   "cell_type": "code",
   "execution_count": 54,
   "id": "1e786c79",
   "metadata": {},
   "outputs": [
    {
     "data": {
      "text/plain": [
       "array([  4.,   3.,   2.,   1.,   5., -10.,   0.,   7.,   9.,   6.,  -1.,\n",
       "         8.,  -3.,  10.,  16.,  12.,  nan,  18.,  15.,  20.,  14.,  13.,\n",
       "        11.,  24.,  17.,  21.,  22.,  19.])"
      ]
     },
     "execution_count": 54,
     "metadata": {},
     "output_type": "execute_result"
    }
   ],
   "source": [
    "data['Time spent watching television (TV) (R)'].unique()"
   ]
  },
  {
   "cell_type": "code",
   "execution_count": 55,
   "id": "797e92d4",
   "metadata": {},
   "outputs": [
    {
     "data": {
      "text/plain": [
       "array([  3.,   1.,  -1.,   2.,  -3., -10.,   0.,   6.,  nan,   5.,   4.,\n",
       "         8.,   7.,  18.,  10.,   9.,  12.,  14.,  13.,  11.,  15.,  16.,\n",
       "        20.,  24.,  17.,  21.,  22.])"
      ]
     },
     "execution_count": 55,
     "metadata": {},
     "output_type": "execute_result"
    }
   ],
   "source": [
    "data['Time spent using computer (R)'].unique()"
   ]
  },
  {
   "cell_type": "code",
   "execution_count": 56,
   "id": "ac01ea36",
   "metadata": {},
   "outputs": [
    {
     "data": {
      "text/plain": [
       "array([  5.,   2.,  -3.,   1.,   3.,   4.,   7.,  nan,   8.,   6.,  23.,\n",
       "         9.,  -1.,  11.,  18.,  12.,  10.,  36.,  32.,  29.,  30.,  22.,\n",
       "        20.,  33.,  25.,  15.,  39.,  38.,  50.,  14.,  40.,  31.,  37.,\n",
       "        17.,  13.,  45.,  35.,  16.,  60.,  26.,  24.,  28.,  52.,  47.,\n",
       "        27.,  46.,  19.,  42.,  49., 100.,  34.,  41.,  21.,  61.,  57.,\n",
       "        72.,  43.])"
      ]
     },
     "execution_count": 56,
     "metadata": {},
     "output_type": "execute_result"
    }
   ],
   "source": [
    "data['Number in household (R)'].unique()"
   ]
  },
  {
   "cell_type": "code",
   "execution_count": 57,
   "id": "35e7d550",
   "metadata": {
    "scrolled": true
   },
   "outputs": [
    {
     "data": {
      "text/plain": [
       "array([ nan, 21.3, 76.9, 22.1, 42.1, 25.6,  5.7, 12.8, 20.8, 11.2, 23.4,\n",
       "       17.6, 49.2, 48. , 15.7,  1.8, 22.3,  5.9,  8.6, 19.4, 15.4,  7.3,\n",
       "       43.9, 39.3,  6.7, 11.3, 18. , 29.3, 14.5, 45.7, 67.6,  8.4,  0.1,\n",
       "       37.8,  8. , 14.9,  4.6, 29.9, 55.4, 56.9,  3.1, 12.2, 21.6, 48.5,\n",
       "       48.8, 57. , 52.5, 46. , 12.5, 33.7, 44. , 67.1, 53.6, 17.7,  9.1,\n",
       "        4.9, 36.4, 44.1,  9.8, 33.5, 10.3, 27.9, 14. , 24.5, 11. , 12.4,\n",
       "       24.6, 81.4,  1.9,  2.8,  9.4, 55.3,  9. , 12. , 10.5, 72. ,  0.5,\n",
       "       40.8, 27.3, 40.1, 38.6,  4. ,  4.2, 44.4, 26.7, 19.1,  0.2, 13.8,\n",
       "       26.4, 60.1, 12.7, 34.2, 93.6, 36.9, 65.8, 18.3,  1.7, 21.9,  1.1,\n",
       "       24.9,  2.9, 35.2, 39.6, 43.4, 35.9, 35.3, 39.7,  6. ,  5.2, 12.3,\n",
       "       19. , 13.9, 11.7, 11.8, 23.3, 21.5, 62.3,  2.7, 36.6, 21.7,  8.8,\n",
       "        7.7, 26. , 40.9, 55.7, 12.9, 47.6, 43.2, 33.3, 63.8, 13.3, 11.1,\n",
       "        5.5, 29.1, 39. , 34.7, 21.1, 47.7, 18.6,  3.2, 14.2, 12.6,  3.7,\n",
       "       22.8, 59.5, 15.1, 14.6, 17.3,  9.6, 40.2, 16.4, 19.8, 41.2, 18.8,\n",
       "        6.3, 31.5, 38.3, 34. ,  2.1, 29.4, 37.1, 48.4, 50.6, 55. ,  8.1,\n",
       "       63.1, 28.5, 32.1, 40.6, 34.6,  7. , 88.6, 25. , 35.4, 32.5,  8.3,\n",
       "       94.3, 42.6, 13.4, 32.6, 62. ,  3.4, 24.4, 41.4, 79. , 52.3, 46.2,\n",
       "       43.1, 37.3, 47.9, 27.4, 38.1,  1.5, 13.1,  1.3, 20.3, 20.9,  5.3,\n",
       "        3.8, 23.1, 15.2, 23.2, 17.9, 16.3, 29. , 22.9, 13.2, 58.7, 51.1,\n",
       "       13.5,  8.7,  0.3,  2.3, 81. , 61.4, 43.7, 52.7, 14.8,  0.8, 64. ,\n",
       "       28.6, 22.2, 57.3, 32.7,  4.3, 21.8,  5.1, 66.5, 38.8, 19.2, 68.9,\n",
       "        9.9, 31. , 66.9,  4.5, 65. , 56.2, 10.6, 10.2, 49.5, 10.8, 63.6,\n",
       "       34.8, 27.8,  7.6, 41.7, 23.7, 92.2, 28.2, 73.1, 20.4,  5.6, 32.2,\n",
       "       51. , 28. , 19.6, 31.9,  9.2,  3.3, 80.2, 36.3, 22.4,  5. , 49.9,\n",
       "       52.9, 15.5, 36.5, 43.3, 25.7, 13.7, 60.9, 11.5, 50.8, 45.1, 25.4,\n",
       "       28.9, 60.4, 17.5, 68.5, 38.4, 11.6, 15.6, 51.5,  8.5, 21.2,  3.6,\n",
       "       67.3, 25.9, 24.2, 72.3,  7.4, 51.6,  1. , 62.1, 76.2,  7.9, 22.7,\n",
       "       59.1, 42. , 79.4, 20.7, 23.9, 69.2, 75.6, 30.3, 16.1,  4.1, 34.9,\n",
       "       21. , 22.5, 44.5,  6.1, 45.3,  7.1, 71.2, 37. , 30.9, 29.2,  5.4,\n",
       "       33.4,  4.4, 27.2,  0. , 33. , 80.6, 26.8, 99.1, 24. , 59. , 29.5,\n",
       "       18.2, 61.8, 45.9, 18.5, 57.8, 20.1, 34.5, 19.9, 54.9, 51.4, 24.3,\n",
       "       71.8,  6.8, 21.4, 70.2, 56.5, 12.1,  9.3, 41.8,  3. , 38. ,  0.9,\n",
       "        6.9, 23. , 47.8, 32.3, 30.1, 16. , 27.7, 32.4, 38.5, 59.8,  7.5,\n",
       "        0.7, 30.6, 15. ,  9.7, 54.5,  3.5, 54.1, 33.2, 52.4, 54.3, 43.6,\n",
       "       76.6, 90.3, 31.7, 28.4, 62.7, 34.1, 40.4, 17.1, 18.7, 55.9, 10.1,\n",
       "       48.9, 37.4,  1.2, 45.2, 18.1,  1.4, 24.8, 39.8, 14.4, 42.9,  6.6,\n",
       "       45.8,  6.2, 64.2, 36.2, 15.9, 20. , 26.5, 60.8, 28.3, 49. , 25.2,\n",
       "       14.3, 14.7, 67.8,  2.4, 77.9, 33.1, 51.3, 44.2, 17.2, 46.6, 37.2,\n",
       "       92.9, 49.8, 26.3, 89.7, 75.3, 88. , 79.8, 65.2, 36.7, 26.1, 27.5,\n",
       "       53. , 39.5, 66.2, 31.3, 74. , 48.6, 18.4, 44.6, 95. , 49.4, 69.9,\n",
       "       47.4, 74.9, 46.3, 70.7, 57.6, 78.7, 95.8, 42.5, 58.5, 35.6, 91.6,\n",
       "       16.7, 10.4, 49.3, 84.9, 43.5, 72.9, 29.6, 34.3, 69.7, 31.4, 73.4,\n",
       "       45.4, 51.9, 96.6, 55.5, 46.5, 31.6, 63.4, 16.5, 55.8, 15.8, 10. ,\n",
       "       87.5, 58.1, 83.1, 23.5, 57.2, 86.9, 45. ])"
      ]
     },
     "execution_count": 57,
     "metadata": {},
     "output_type": "execute_result"
    }
   ],
   "source": [
    "data['Physical environment score (Wales)'].unique()"
   ]
  },
  {
   "cell_type": "code",
   "execution_count": 58,
   "id": "5337b052",
   "metadata": {},
   "outputs": [
    {
     "name": "stderr",
     "output_type": "stream",
     "text": [
      " 49%|████████████████████▌                     | 99/202 [00:01<00:01, 74.94it/s]/Users/chloesavignac/.conda/envs/old_sklearn/lib/python3.7/site-packages/ipykernel_launcher.py:11: PerformanceWarning: DataFrame is highly fragmented.  This is usually the result of calling `frame.insert` many times, which has poor performance.  Consider joining all columns at once using pd.concat(axis=1) instead.  To get a de-fragmented frame, use `newframe = frame.copy()`\n",
      "  # This is added back by InteractiveShellApp.init_path()\n",
      "100%|█████████████████████████████████████████| 202/202 [00:02<00:00, 88.03it/s]\n"
     ]
    }
   ],
   "source": [
    "imputed_data = my_impute(data)"
   ]
  },
  {
   "cell_type": "code",
   "execution_count": 59,
   "id": "0001c6e3",
   "metadata": {},
   "outputs": [],
   "source": [
    "imputed_data['Morning/evening person (chronotype) (R)'].replace([1,2,3,4],[2,1,-1,-2], inplace=True)"
   ]
  },
  {
   "cell_type": "code",
   "execution_count": 60,
   "id": "3c6e7e21",
   "metadata": {},
   "outputs": [],
   "source": [
    "imputed_data['Home area population density - urban or rural'].replace([1,2,3,4,5,6,7,8,9,11,12,13,14,15,16,17,18],[1,0,0,-1,1,0,0,-1,-2,1,1,0,0,0,-1,-1,-1],inplace=True)"
   ]
  },
  {
   "cell_type": "code",
   "execution_count": 61,
   "id": "0733dd99",
   "metadata": {},
   "outputs": [
    {
     "data": {
      "text/html": [
       "<div>\n",
       "<style scoped>\n",
       "    .dataframe tbody tr th:only-of-type {\n",
       "        vertical-align: middle;\n",
       "    }\n",
       "\n",
       "    .dataframe tbody tr th {\n",
       "        vertical-align: top;\n",
       "    }\n",
       "\n",
       "    .dataframe thead th {\n",
       "        text-align: right;\n",
       "    }\n",
       "</style>\n",
       "<table border=\"1\" class=\"dataframe\">\n",
       "  <thead>\n",
       "    <tr style=\"text-align: right;\">\n",
       "      <th></th>\n",
       "      <th>Sex (C)</th>\n",
       "      <th>Age (R)</th>\n",
       "      <th>Age completed education (R)</th>\n",
       "      <th>Number of vehicles in household (R)</th>\n",
       "      <th>Average total household income before tax (R)</th>\n",
       "      <th>Fluid intelligence score (R)</th>\n",
       "      <th>Health satisfaction (R)</th>\n",
       "      <th>Length of time at current address (R)</th>\n",
       "      <th>Time spent watching television (TV) (R)</th>\n",
       "      <th>Time spent using computer (R)</th>\n",
       "      <th>...</th>\n",
       "      <th>Phys_4.0</th>\n",
       "      <th>Phys_5.0</th>\n",
       "      <th>He_1.0</th>\n",
       "      <th>He_2.0</th>\n",
       "      <th>He_3.0</th>\n",
       "      <th>He_4.0</th>\n",
       "      <th>Eye_2.0</th>\n",
       "      <th>Eye_4.0</th>\n",
       "      <th>Eye_5.0</th>\n",
       "      <th>Number of full siblings</th>\n",
       "    </tr>\n",
       "    <tr>\n",
       "      <th>eid</th>\n",
       "      <th></th>\n",
       "      <th></th>\n",
       "      <th></th>\n",
       "      <th></th>\n",
       "      <th></th>\n",
       "      <th></th>\n",
       "      <th></th>\n",
       "      <th></th>\n",
       "      <th></th>\n",
       "      <th></th>\n",
       "      <th></th>\n",
       "      <th></th>\n",
       "      <th></th>\n",
       "      <th></th>\n",
       "      <th></th>\n",
       "      <th></th>\n",
       "      <th></th>\n",
       "      <th></th>\n",
       "      <th></th>\n",
       "      <th></th>\n",
       "      <th></th>\n",
       "    </tr>\n",
       "  </thead>\n",
       "  <tbody>\n",
       "    <tr>\n",
       "      <th>5093155</th>\n",
       "      <td>1.0</td>\n",
       "      <td>56.0</td>\n",
       "      <td>33.0</td>\n",
       "      <td>2.0</td>\n",
       "      <td>3.0</td>\n",
       "      <td>5.0</td>\n",
       "      <td>2.0</td>\n",
       "      <td>17.0</td>\n",
       "      <td>4.0</td>\n",
       "      <td>3.0</td>\n",
       "      <td>...</td>\n",
       "      <td>0</td>\n",
       "      <td>0</td>\n",
       "      <td>0</td>\n",
       "      <td>0</td>\n",
       "      <td>0</td>\n",
       "      <td>0</td>\n",
       "      <td>0</td>\n",
       "      <td>0</td>\n",
       "      <td>0</td>\n",
       "      <td>2.0</td>\n",
       "    </tr>\n",
       "    <tr>\n",
       "      <th>4155077</th>\n",
       "      <td>0.0</td>\n",
       "      <td>49.0</td>\n",
       "      <td>16.0</td>\n",
       "      <td>3.0</td>\n",
       "      <td>3.0</td>\n",
       "      <td>1.0</td>\n",
       "      <td>3.0</td>\n",
       "      <td>9.0</td>\n",
       "      <td>3.0</td>\n",
       "      <td>1.0</td>\n",
       "      <td>...</td>\n",
       "      <td>1</td>\n",
       "      <td>0</td>\n",
       "      <td>0</td>\n",
       "      <td>0</td>\n",
       "      <td>0</td>\n",
       "      <td>0</td>\n",
       "      <td>0</td>\n",
       "      <td>0</td>\n",
       "      <td>0</td>\n",
       "      <td>4.0</td>\n",
       "    </tr>\n",
       "    <tr>\n",
       "      <th>2204317</th>\n",
       "      <td>0.0</td>\n",
       "      <td>66.0</td>\n",
       "      <td>16.0</td>\n",
       "      <td>3.0</td>\n",
       "      <td>4.0</td>\n",
       "      <td>8.0</td>\n",
       "      <td>3.0</td>\n",
       "      <td>17.0</td>\n",
       "      <td>3.0</td>\n",
       "      <td>1.0</td>\n",
       "      <td>...</td>\n",
       "      <td>0</td>\n",
       "      <td>0</td>\n",
       "      <td>0</td>\n",
       "      <td>0</td>\n",
       "      <td>0</td>\n",
       "      <td>0</td>\n",
       "      <td>0</td>\n",
       "      <td>0</td>\n",
       "      <td>0</td>\n",
       "      <td>3.0</td>\n",
       "    </tr>\n",
       "    <tr>\n",
       "      <th>1719355</th>\n",
       "      <td>0.0</td>\n",
       "      <td>67.0</td>\n",
       "      <td>16.0</td>\n",
       "      <td>2.0</td>\n",
       "      <td>1.0</td>\n",
       "      <td>5.0</td>\n",
       "      <td>2.0</td>\n",
       "      <td>13.0</td>\n",
       "      <td>2.0</td>\n",
       "      <td>2.0</td>\n",
       "      <td>...</td>\n",
       "      <td>0</td>\n",
       "      <td>0</td>\n",
       "      <td>0</td>\n",
       "      <td>0</td>\n",
       "      <td>0</td>\n",
       "      <td>0</td>\n",
       "      <td>0</td>\n",
       "      <td>0</td>\n",
       "      <td>0</td>\n",
       "      <td>1.0</td>\n",
       "    </tr>\n",
       "    <tr>\n",
       "      <th>2279037</th>\n",
       "      <td>1.0</td>\n",
       "      <td>69.0</td>\n",
       "      <td>15.0</td>\n",
       "      <td>2.0</td>\n",
       "      <td>2.0</td>\n",
       "      <td>7.0</td>\n",
       "      <td>2.0</td>\n",
       "      <td>47.0</td>\n",
       "      <td>2.0</td>\n",
       "      <td>2.0</td>\n",
       "      <td>...</td>\n",
       "      <td>0</td>\n",
       "      <td>0</td>\n",
       "      <td>1</td>\n",
       "      <td>0</td>\n",
       "      <td>0</td>\n",
       "      <td>0</td>\n",
       "      <td>0</td>\n",
       "      <td>0</td>\n",
       "      <td>0</td>\n",
       "      <td>1.0</td>\n",
       "    </tr>\n",
       "  </tbody>\n",
       "</table>\n",
       "<p>5 rows × 202 columns</p>\n",
       "</div>"
      ],
      "text/plain": [
       "         Sex (C)  Age (R)  Age completed education (R)  \\\n",
       "eid                                                      \n",
       "5093155      1.0     56.0                         33.0   \n",
       "4155077      0.0     49.0                         16.0   \n",
       "2204317      0.0     66.0                         16.0   \n",
       "1719355      0.0     67.0                         16.0   \n",
       "2279037      1.0     69.0                         15.0   \n",
       "\n",
       "         Number of vehicles in household (R)  \\\n",
       "eid                                            \n",
       "5093155                                  2.0   \n",
       "4155077                                  3.0   \n",
       "2204317                                  3.0   \n",
       "1719355                                  2.0   \n",
       "2279037                                  2.0   \n",
       "\n",
       "         Average total household income before tax (R)  \\\n",
       "eid                                                      \n",
       "5093155                                            3.0   \n",
       "4155077                                            3.0   \n",
       "2204317                                            4.0   \n",
       "1719355                                            1.0   \n",
       "2279037                                            2.0   \n",
       "\n",
       "         Fluid intelligence score (R)  Health satisfaction (R)  \\\n",
       "eid                                                              \n",
       "5093155                           5.0                      2.0   \n",
       "4155077                           1.0                      3.0   \n",
       "2204317                           8.0                      3.0   \n",
       "1719355                           5.0                      2.0   \n",
       "2279037                           7.0                      2.0   \n",
       "\n",
       "         Length of time at current address (R)  \\\n",
       "eid                                              \n",
       "5093155                                   17.0   \n",
       "4155077                                    9.0   \n",
       "2204317                                   17.0   \n",
       "1719355                                   13.0   \n",
       "2279037                                   47.0   \n",
       "\n",
       "         Time spent watching television (TV) (R)  \\\n",
       "eid                                                \n",
       "5093155                                      4.0   \n",
       "4155077                                      3.0   \n",
       "2204317                                      3.0   \n",
       "1719355                                      2.0   \n",
       "2279037                                      2.0   \n",
       "\n",
       "         Time spent using computer (R)  ...  Phys_4.0  Phys_5.0  He_1.0  \\\n",
       "eid                                     ...                               \n",
       "5093155                            3.0  ...         0         0       0   \n",
       "4155077                            1.0  ...         1         0       0   \n",
       "2204317                            1.0  ...         0         0       0   \n",
       "1719355                            2.0  ...         0         0       0   \n",
       "2279037                            2.0  ...         0         0       1   \n",
       "\n",
       "         He_2.0  He_3.0  He_4.0  Eye_2.0  Eye_4.0  Eye_5.0  \\\n",
       "eid                                                          \n",
       "5093155       0       0       0        0        0        0   \n",
       "4155077       0       0       0        0        0        0   \n",
       "2204317       0       0       0        0        0        0   \n",
       "1719355       0       0       0        0        0        0   \n",
       "2279037       0       0       0        0        0        0   \n",
       "\n",
       "         Number of full siblings  \n",
       "eid                               \n",
       "5093155                      2.0  \n",
       "4155077                      4.0  \n",
       "2204317                      3.0  \n",
       "1719355                      1.0  \n",
       "2279037                      1.0  \n",
       "\n",
       "[5 rows x 202 columns]"
      ]
     },
     "execution_count": 61,
     "metadata": {},
     "output_type": "execute_result"
    }
   ],
   "source": [
    "imputed_data.head()"
   ]
  },
  {
   "cell_type": "code",
   "execution_count": 62,
   "id": "93a986e8",
   "metadata": {},
   "outputs": [],
   "source": [
    "new2 = imputed_data[['Fluid intelligence score (R)','Loneliness, isolation (C)', 'Able to confide/Social support (R)', 'Age (R)', 'Sex (C)',\n",
    "            'Education score (England)', 'Age completed education (R)', 'Alcohol intake frequency',\n",
    "            'Amount of alcohol drunk on a typical drinking day', 'Current tobacco smoking (R)', 'Past tobacco smoking (R)',\n",
    "            'Act_1.0', 'Act_2.0', 'Act_3.0', 'Act_4.0', 'Phys_1.0', 'Phys_2.0', 'Phys_3.0',\n",
    "            'Sleep duration (R)', 'Getting up in morning (R)', 'Morning/evening person (chronotype) (R)',\n",
    "            'Sleeplessness / insomnia', 'He_1.0', 'He_2.0', 'He_3.0', 'He_4.0',\n",
    "            'Diabetes diagnosed by doctor', 'Hearing difficulty/problems with background noise', 'Hearing aid user',\n",
    "            'Eye_2.0', 'Eye_4.0', 'Eye_5.0', 'Miserableness (C)', 'Fed-up feelings (C)',\n",
    "            'Mood swings (C)', 'Worrier / anxious feelings (C)', 'Nervous feelings (C)',\n",
    "            'Sensitivity / hurt feelings (C)', \"Tense / 'highly strung' (C)\", \"Suffer from 'nerves' (C)\",\n",
    "            \"Worry too long after embarrassment (C)\", \"Irritability (C)\", \"Neuroticism score (R)\",\n",
    "            'Happiness (R)', \"Recent feelings or nervousness or anxiety\", 'Frequency of friend/family visits (R)',\n",
    "            'Friendships satisfaction (R)', 'Family relationship satisfaction (R)', 'Number of full siblings',\n",
    "            'Home area population density - urban or rural', 'Average total household income before tax (R)', \n",
    "            'Emp_1.0', 'Emp_2.0', 'Emp_3.0', 'Emp_4.0', 'Emp_5.0', 'Emp_6.0', 'Emp_7.0',\n",
    "            'Number of vehicles in household (R)', 'Time spent watching television (TV) (R)', 'Time spent using computer (R)',\n",
    "            'Number in household (R)', 'Physical environment score (Wales)']].copy()\n"
   ]
  },
  {
   "cell_type": "code",
   "execution_count": 63,
   "id": "c6a710fb",
   "metadata": {},
   "outputs": [],
   "source": [
    "new = new2.rename(columns={'Loneliness, isolation (C)': 'Loneliness', \n",
    "                    'Able to confide/Social support (R)': 'Lack of social support', \n",
    "                    'Age (R)': 'Age', \n",
    "                    'Sex (C)': 'Sex',\n",
    "                    'Education score (England)': 'Education score', \n",
    "                    'Age completed education (R)': 'Age completed high school education', \n",
    "                    'Alcohol intake frequency': 'Alcohol intake frequency',\n",
    "                    'Amount of alcohol drunk on a typical drinking day': 'Alcohol consumption on a typical drinking day', \n",
    "                    'Current tobacco smoking (R)': 'Current tobacco smoking frequency', \n",
    "                    'Past tobacco smoking (R)': 'Past tobacco smoking frequency',\n",
    "                    'Act_1.0': 'Attend sports club or gym', \n",
    "                    'Act_2.0': 'Attend pub or social club', \n",
    "                    'Act_3.0': 'Attend religious group', \n",
    "                    'Act_4.0': 'Attend adult education class', \n",
    "                    'Phys_1.0': 'Walking for pleasure', \n",
    "                    'Phys_2.0': 'Moderate exercises', \n",
    "                    'Phys_3.0': 'Strenuous sports',\n",
    "                    'Sleep duration (R)': 'Sleep duration', \n",
    "                    'Getting up in morning (R)': 'Getting up in the morning', \n",
    "                    'Morning/evening person (chronotype) (R)': 'Being a morning person',\n",
    "                    'Sleeplessness / insomnia': 'Sleeplessness or insomnia', \n",
    "                    'He_1.0': 'Heart attack', \n",
    "                    'He_2.0': 'Angina', \n",
    "                    'He_3.0': 'Stroke', \n",
    "                    'He_4.0': 'Hypertension',\n",
    "                    'Diabetes diagnosed by doctor': 'Diabetes diagnosed by a doctor', \n",
    "                    'Hearing difficulty/problems with background noise': 'Hearing difficulty with background noise', \n",
    "                    'Hearing aid user': 'Hearing aid user',\n",
    "                    'Eye_2.0': 'Glaucoma', \n",
    "                    'Eye_4.0': 'Cataract', \n",
    "                    'Eye_5.0': 'Macular degeneration', \n",
    "                    'Miserableness (C)': 'Miserableness', \n",
    "                    'Fed-up feelings (C)': 'Fed-up feelings',\n",
    "                    'Mood swings (C)': 'Mood swings', \n",
    "                    'Worrier / anxious feelings (C)': 'Worrier / anxious feelings', \n",
    "                    'Nervous feelings (C)': 'Nervous feelings',\n",
    "                    'Sensitivity / hurt feelings (C)': 'Sensitivity / hurt feelings', \n",
    "                    \"Tense / 'highly strung' (C)\": \"Tense / 'highly strung'\", \n",
    "                    \"Suffer from 'nerves' (C)\": \"Suffer from 'nerves'\",\n",
    "                    \"Worry too long after embarrassment (C)\": \"Worry too long after embarrassment\", \n",
    "                    \"Irritability (C)\": \"Irritability\", \n",
    "                    \"Neuroticism score (R)\": \"Neuroticism score\",\n",
    "                    'Happiness (R)': \"Happiness\", \n",
    "                    \"Recent feelings or nervousness or anxiety\": \"Feelings of nervousness or anxiety\", \n",
    "                    'Frequency of friend/family visits (R)': 'Frequency of friend / family visits',\n",
    "                    'Friendships satisfaction (R)': 'Friendships satisfaction', \n",
    "                    'Family relationship satisfaction (R)': 'Family relationship satisfaction', \n",
    "                    'Number of full siblings': 'Number of full siblings',\n",
    "                    'Home area population density - urban or rural': 'Living in urban areas', \n",
    "                    'Average total household income before tax (R)': 'Average household income', \n",
    "                    'Emp_1.0': 'Paid employment', \n",
    "                    'Emp_2.0': 'Retirement', \n",
    "                    'Emp_3.0': 'Looking after home or family', \n",
    "                    'Emp_4.0': 'Unable to work due to sickness or disability', \n",
    "                    'Emp_5.0': 'Unemployment', \n",
    "                    'Emp_6.0': 'Doing unpaid or voluntary work', \n",
    "                    'Emp_7.0': 'Full or part-time student',\n",
    "                    'Number of vehicles in household (R)': 'Number of vehicles in household', \n",
    "                    'Time spent watching television (TV) (R)': 'Time spent watching TV', \n",
    "                    'Time spent using computer (R)': 'Time spent using computer',\n",
    "                    'Number in household (R)': 'Number in household', \n",
    "                    'Physical environment score (Wales)': 'Physical environment score'})\n"
   ]
  },
  {
   "cell_type": "code",
   "execution_count": 64,
   "id": "85f7887d",
   "metadata": {
    "scrolled": true
   },
   "outputs": [
    {
     "data": {
      "text/plain": [
       "Fluid intelligence score (R)                     0\n",
       "Loneliness                                       0\n",
       "Lack of social support                           0\n",
       "Age                                              0\n",
       "Sex                                              0\n",
       "Education score                                  0\n",
       "Age completed high school education              0\n",
       "Alcohol intake frequency                         0\n",
       "Alcohol consumption on a typical drinking day    0\n",
       "Current tobacco smoking frequency                0\n",
       "Past tobacco smoking frequency                   0\n",
       "Attend sports club or gym                        0\n",
       "Attend pub or social club                        0\n",
       "Attend religious group                           0\n",
       "Attend adult education class                     0\n",
       "Walking for pleasure                             0\n",
       "Moderate exercises                               0\n",
       "Strenuous sports                                 0\n",
       "Sleep duration                                   0\n",
       "Getting up in the morning                        0\n",
       "Being a morning person                           0\n",
       "Sleeplessness or insomnia                        0\n",
       "Heart attack                                     0\n",
       "Angina                                           0\n",
       "Stroke                                           0\n",
       "Hypertension                                     0\n",
       "Diabetes diagnosed by a doctor                   0\n",
       "Hearing difficulty with background noise         0\n",
       "Hearing aid user                                 0\n",
       "Glaucoma                                         0\n",
       "Cataract                                         0\n",
       "Macular degeneration                             0\n",
       "Miserableness                                    0\n",
       "Fed-up feelings                                  0\n",
       "Mood swings                                      0\n",
       "Worrier / anxious feelings                       0\n",
       "Nervous feelings                                 0\n",
       "Sensitivity / hurt feelings                      0\n",
       "Tense / 'highly strung'                          0\n",
       "Suffer from 'nerves'                             0\n",
       "Worry too long after embarrassment               0\n",
       "Irritability                                     0\n",
       "Neuroticism score                                0\n",
       "Happiness                                        0\n",
       "Feelings of nervousness or anxiety               0\n",
       "Frequency of friend / family visits              0\n",
       "Friendships satisfaction                         0\n",
       "Family relationship satisfaction                 0\n",
       "Number of full siblings                          0\n",
       "Living in urban areas                            0\n",
       "Average household income                         0\n",
       "Paid employment                                  0\n",
       "Retirement                                       0\n",
       "Looking after home or family                     0\n",
       "Unable to work due to sickness or disability     0\n",
       "Unemployment                                     0\n",
       "Doing unpaid or voluntary work                   0\n",
       "Full or part-time student                        0\n",
       "Number of vehicles in household                  0\n",
       "Time spent watching TV                           0\n",
       "Time spent using computer                        0\n",
       "Number in household                              0\n",
       "Physical environment score                       0\n",
       "dtype: int64"
      ]
     },
     "execution_count": 64,
     "metadata": {},
     "output_type": "execute_result"
    }
   ],
   "source": [
    "new.isna().sum()"
   ]
  },
  {
   "cell_type": "code",
   "execution_count": 65,
   "id": "235388f3",
   "metadata": {},
   "outputs": [],
   "source": [
    "new.to_csv('kimia_output_update_correctly_imputed_2022.csv', index=True)"
   ]
  },
  {
   "cell_type": "code",
   "execution_count": 66,
   "id": "31204ab4",
   "metadata": {},
   "outputs": [
    {
     "data": {
      "text/plain": [
       "(502506, 63)"
      ]
     },
     "execution_count": 66,
     "metadata": {},
     "output_type": "execute_result"
    }
   ],
   "source": [
    "new.shape"
   ]
  }
 ],
 "metadata": {
  "kernelspec": {
   "display_name": "Python 3 (ipykernel)",
   "language": "python",
   "name": "python3"
  },
  "language_info": {
   "codemirror_mode": {
    "name": "ipython",
    "version": 3
   },
   "file_extension": ".py",
   "mimetype": "text/x-python",
   "name": "python",
   "nbconvert_exporter": "python",
   "pygments_lexer": "ipython3",
   "version": "3.7.11"
  },
  "toc": {
   "base_numbering": 1,
   "nav_menu": {},
   "number_sections": true,
   "sideBar": true,
   "skip_h1_title": false,
   "title_cell": "Table of Contents",
   "title_sidebar": "Contents",
   "toc_cell": false,
   "toc_position": {},
   "toc_section_display": true,
   "toc_window_display": false
  },
  "vscode": {
   "interpreter": {
    "hash": "671e99b9c61df0c7483dea00f1ea170348c8d441b26bfe10ea8f3924dd8be77b"
   }
  }
 },
 "nbformat": 4,
 "nbformat_minor": 5
}
