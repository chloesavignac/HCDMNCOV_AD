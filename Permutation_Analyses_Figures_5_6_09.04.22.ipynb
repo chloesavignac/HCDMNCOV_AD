{
 "cells": [
  {
   "cell_type": "markdown",
   "metadata": {
    "toc": true
   },
   "source": [
    "<h1>Table of Contents<span class=\"tocSkip\"></span></h1>\n",
    "<div class=\"toc\"><ul class=\"toc-item\"><li><span><a href=\"#Loading-dataset-&amp;-librairies\" data-toc-modified-id=\"Loading-dataset-&amp;-librairies-1\"><span class=\"toc-item-num\">1&nbsp;&nbsp;</span>Loading dataset &amp; librairies</a></span></li><li><span><a href=\"#Demographics\" data-toc-modified-id=\"Demographics-2\"><span class=\"toc-item-num\">2&nbsp;&nbsp;</span>Demographics</a></span></li><li><span><a href=\"#Subgrouping\" data-toc-modified-id=\"Subgrouping-3\"><span class=\"toc-item-num\">3&nbsp;&nbsp;</span>Subgrouping</a></span><ul class=\"toc-item\"><li><span><a href=\"#Feature-selection\" data-toc-modified-id=\"Feature-selection-3.1\"><span class=\"toc-item-num\">3.1&nbsp;&nbsp;</span>Feature selection</a></span></li><li><span><a href=\"#Z-scoring\" data-toc-modified-id=\"Z-scoring-3.2\"><span class=\"toc-item-num\">3.2&nbsp;&nbsp;</span>Z-scoring</a></span></li></ul></li><li><span><a href=\"#Interaction-Analyses\" data-toc-modified-id=\"Interaction-Analyses-4\"><span class=\"toc-item-num\">4&nbsp;&nbsp;</span>Interaction Analyses</a></span><ul class=\"toc-item\"><li><span><a href=\"#CCA-x-APOE-in-predicting-AD-family-history\" data-toc-modified-id=\"CCA-x-APOE-in-predicting-AD-family-history-4.1\"><span class=\"toc-item-num\">4.1&nbsp;&nbsp;</span>CCA x APOE in predicting AD family history</a></span><ul class=\"toc-item\"><li><span><a href=\"#Controlling-for-age\" data-toc-modified-id=\"Controlling-for-age-4.1.1\"><span class=\"toc-item-num\">4.1.1&nbsp;&nbsp;</span>Controlling for age</a></span></li><li><span><a href=\"#Permutation-Analyses\" data-toc-modified-id=\"Permutation-Analyses-4.1.2\"><span class=\"toc-item-num\">4.1.2&nbsp;&nbsp;</span>Permutation Analyses</a></span></li></ul></li><li><span><a href=\"#CCA-x-APOE-in-predicting-Risks\" data-toc-modified-id=\"CCA-x-APOE-in-predicting-Risks-4.2\"><span class=\"toc-item-num\">4.2&nbsp;&nbsp;</span>CCA x APOE in predicting Risks</a></span><ul class=\"toc-item\"><li><span><a href=\"#Controlling-for-age\" data-toc-modified-id=\"Controlling-for-age-4.2.1\"><span class=\"toc-item-num\">4.2.1&nbsp;&nbsp;</span>Controlling for age</a></span></li><li><span><a href=\"#Subgroup-Analyses\" data-toc-modified-id=\"Subgroup-Analyses-4.2.2\"><span class=\"toc-item-num\">4.2.2&nbsp;&nbsp;</span>Subgroup Analyses</a></span></li><li><span><a href=\"#Permutation-Analyses\" data-toc-modified-id=\"Permutation-Analyses-4.2.3\"><span class=\"toc-item-num\">4.2.3&nbsp;&nbsp;</span>Permutation Analyses</a></span><ul class=\"toc-item\"><li><span><a href=\"#Males\" data-toc-modified-id=\"Males-4.2.3.1\"><span class=\"toc-item-num\">4.2.3.1&nbsp;&nbsp;</span>Males</a></span></li><li><span><a href=\"#Females\" data-toc-modified-id=\"Females-4.2.3.2\"><span class=\"toc-item-num\">4.2.3.2&nbsp;&nbsp;</span>Females</a></span></li><li><span><a href=\"#Generating-masked-dataframes-and-plots\" data-toc-modified-id=\"Generating-masked-dataframes-and-plots-4.2.3.3\"><span class=\"toc-item-num\">4.2.3.3&nbsp;&nbsp;</span>Generating masked dataframes and plots</a></span></li></ul></li></ul></li></ul></li></ul></div>"
   ]
  },
  {
   "cell_type": "markdown",
   "metadata": {},
   "source": [
    "# Loading dataset & librairies"
   ]
  },
  {
   "cell_type": "code",
   "execution_count": null,
   "metadata": {},
   "outputs": [],
   "source": [
    "import pandas as pd\n",
    "import numpy as np\n",
    "import seaborn as sns\n",
    "import matplotlib.pylab as plt\n",
    "import os\n",
    "import sys\n",
    "import json\n",
    "from scipy.cluster.hierarchy import dendrogram\n",
    "from sklearn.linear_model import LinearRegression, LogisticRegression, Ridge \n",
    "from sklearn.cluster import AgglomerativeClustering\n",
    "from sklearn.decomposition import PCA\n",
    "from sklearn.preprocessing import StandardScaler\n",
    "from matplotlib.pyplot import figure\n",
    "from tqdm import tqdm\n",
    "from matplotlib import pyplot as plt\n",
    "from sklearn.metrics import confusion_matrix, ConfusionMatrixDisplay"
   ]
  },
  {
   "cell_type": "code",
   "execution_count": null,
   "metadata": {},
   "outputs": [],
   "source": [
    "data = pd.read_csv('HCDMNCOV_AD_updated_correct_imputation_2022.csv')\n",
    "data.head()"
   ]
  },
  {
   "cell_type": "code",
   "execution_count": null,
   "metadata": {},
   "outputs": [],
   "source": [
    "data.loc[data['Allele-1'] == 'APOE1', 'Allele-2']= 'APOE4'\n",
    "data.loc[data['Allele-1'] == 'APOE1', 'Allele-1']= 'APOE2'"
   ]
  },
  {
   "cell_type": "code",
   "execution_count": null,
   "metadata": {},
   "outputs": [],
   "source": [
    "cm = confusion_matrix(data['Allele-1'], data['Allele-2'], labels = data['Allele-1'].unique(), sample_weight=None, normalize=None)\n",
    "# disp = ConfusionMatrixDisplay(confusion_matrix=cm, display_labels = data['Allele-1'].unique())\n",
    "# disp.plot(values_format = '.7g', cmap='Blues')\n",
    "# plt.savefig('confusin_matrix.png', dpi=200, bbox_inches='tight')\n",
    "# Normalise\n",
    "cmn = cm.astype('float') / len(data)\n",
    "mask = (cmn==0)\n",
    "mask\n",
    "# #mask[np.triu_indices_from(mask)] = True\n",
    "#sns.cubehelix_palette(as_cmap=True)\n",
    "fig, ax = plt.subplots(figsize=(3,3))\n",
    "sns.heatmap(cmn,mask=mask,cmap= 'crest', annot=True, fmt='.2f')\n",
    "ax.set_yticklabels(['e3','e4','e2'])\n",
    "ax.set_xticklabels(['e3','e4','e2'])\n",
    "ax.set_ylabel('Allele-1', size= 14)\n",
    "ax.set_xlabel('Allele-2', size=14)\n",
    "plt.savefig('heatmap.png',dpi=200,bbox_inches='tight')"
   ]
  },
  {
   "cell_type": "markdown",
   "metadata": {},
   "source": [
    "# Subgrouping "
   ]
  },
  {
   "cell_type": "code",
   "execution_count": null,
   "metadata": {},
   "outputs": [],
   "source": [
    "#sex\n",
    "id_m = np.where((data['Sex']==1))\n",
    "id_f = np.where((data['Sex']==0))\n",
    "#age\n",
    "id_young = np.where(data['Age']<=55.0)\n",
    "id_old = np.where(data['Age']>55.0)\n",
    "#sex x age \n",
    "id_young_m = np.where((data['Age']<=55.0)&(data['Sex']==1))\n",
    "id_young_f = np.where((data['Age']<=55.0)&(data['Sex']==0))\n",
    "id_old_m = np.where((data['Age']>55.0)&(data['Sex']==1))\n",
    "id_old_f = np.where((data['Age']>55.0)&(data['Sex']==0))\n",
    "#education\n",
    "id_low_ed = np.where(data['Education score']<=6.69)\n",
    "id_high_ed = np.where(data['Education score']>6.69)\n",
    "#all \n",
    "id_all = np.where(data['eid']!= None)"
   ]
  },
  {
   "cell_type": "markdown",
   "metadata": {},
   "source": [
    "## Feature selection"
   ]
  },
  {
   "cell_type": "code",
   "execution_count": null,
   "metadata": {},
   "outputs": [],
   "source": [
    "def features (id):\n",
    "    features = data.iloc[id]\n",
    "    AD = features['mf']\n",
    "    features_apoe = features[['e2/e2', 'e2/e3','e3/e3','e1/e3','e3/e4','e4/e4']]\n",
    "    cca_modes = features[['1',\n",
    "         '2',\n",
    "         '3',\n",
    "         '4',\n",
    "         '5',\n",
    "         '6',\n",
    "         '7',\n",
    "         '8',\n",
    "         '9',\n",
    "         '10',\n",
    "         '11',\n",
    "         '12',\n",
    "         '13',\n",
    "         '14',\n",
    "         '15',\n",
    "         '16',\n",
    "         '17',\n",
    "         '18',\n",
    "         '19',\n",
    "         '20',\n",
    "         '21',\n",
    "         '22',\n",
    "         '23',\n",
    "         '24',\n",
    "         '25',\n",
    "         '26',\n",
    "         '27',\n",
    "         '28',\n",
    "         '29',\n",
    "         '30',\n",
    "         '31',\n",
    "         '32',\n",
    "         '33',\n",
    "         '34',\n",
    "         '35',\n",
    "         '36',\n",
    "         '37',\n",
    "         '38',\n",
    "         '39',\n",
    "         '40',\n",
    "         '41',\n",
    "         '42',\n",
    "         '43',\n",
    "         '44',\n",
    "         '45',\n",
    "         '46',\n",
    "         '47',\n",
    "         '48',\n",
    "         '49',\n",
    "         '50']]\n",
    "    risks = features[['Fluid intelligence score (R)',\n",
    "              'Loneliness',\n",
    "              'Lack of social support',\n",
    "              'Age',\n",
    "              'Sex',\n",
    "              'Education score',\n",
    "              'Age completed high school education',\n",
    "              'Alcohol intake frequency',\n",
    "              'Alcohol consumption on a typical drinking day',\n",
    "              'Current tobacco smoking frequency',\n",
    "              'Past tobacco smoking frequency',\n",
    "              'Attend sports club or gym',\n",
    "              'Attend pub or social club',\n",
    "              'Attend religious group',\n",
    "              'Attend adult education class',\n",
    "              'Walking for pleasure',\n",
    "              'Moderate exercises',\n",
    "              'Strenuous sports',\n",
    "              'Sleep duration',\n",
    "              'Getting up in the morning',\n",
    "              'Being a morning person',\n",
    "              'Sleeplessness or insomnia',\n",
    "              'Heart attack',\n",
    "              'Angina',\n",
    "              'Stroke',\n",
    "              'Hypertension',\n",
    "              'Diabetes diagnosed by a doctor',\n",
    "              'Hearing difficulty with background noise',\n",
    "              'Hearing aid user',\n",
    "              'Glaucoma',\n",
    "              'Cataract',\n",
    "              'Macular degeneration',\n",
    "              'Miserableness',\n",
    "              'Fed-up feelings',\n",
    "              'Mood swings',\n",
    "              'Worrier / anxious feelings',\n",
    "              'Nervous feelings',\n",
    "              'Sensitivity / hurt feelings',\n",
    "              \"Tense / 'highly strung'\",\n",
    "              \"Suffer from 'nerves'\",\n",
    "              'Worry too long after embarrassment',\n",
    "              'Irritability',\n",
    "              'Neuroticism score',\n",
    "              'Happiness',\n",
    "              'Feelings of nervousness or anxiety',\n",
    "              'Frequency of friend / family visits',\n",
    "              'Friendships satisfaction',\n",
    "              'Family relationship satisfaction',\n",
    "              'Number of full siblings',\n",
    "              'Living in urban areas',\n",
    "              'Average household income',\n",
    "              'Paid employment',\n",
    "              'Retirement',\n",
    "              'Looking after home or family',\n",
    "              'Unable to work due to sickness or disability',\n",
    "              'Unemployment',\n",
    "              'Doing unpaid or voluntary work',\n",
    "              'Full or part-time student',\n",
    "              'Number of vehicles in household',\n",
    "              'Time spent watching TV',\n",
    "              'Time spent using computer',\n",
    "              'Number in household',\n",
    "              'Physical environment score']]\n",
    "    \n",
    "    risks = risks.rename(columns={'Worrier / anxious feelings': 'Worrier_anxious',\n",
    "                           'Fluid intelligence score (R)': 'Fluid intelligence score',\n",
    "                           'Sensitivity / hurt feelings': 'Sensitivity_Hurt feelings',\n",
    "                            \"Tense / 'highly strung'\":'Tense_Highly strung',\n",
    "                           'Frequency of friend / family visits': 'Frequency of friend or family visits'})\n",
    "    APOE_scores = data['APOE_ranked']\n",
    "    \n",
    "    return AD, features_apoe, cca_modes, risks, APOE_scores"
   ]
  },
  {
   "cell_type": "markdown",
   "metadata": {},
   "source": [
    "## Z-scoring"
   ]
  },
  {
   "cell_type": "code",
   "execution_count": null,
   "metadata": {},
   "outputs": [],
   "source": [
    "#generating features for all participants\n",
    "AD, features_apoe, all_modes, risks, APOE_scores = features(id_all)"
   ]
  },
  {
   "cell_type": "code",
   "execution_count": null,
   "metadata": {},
   "outputs": [],
   "source": [
    "scaler = StandardScaler()\n",
    "all_modes_zscored = scaler.fit_transform(all_modes)\n",
    "all_modes_zscored2 = pd.DataFrame(all_modes_zscored, columns=range(1,51))"
   ]
  },
  {
   "cell_type": "code",
   "execution_count": null,
   "metadata": {},
   "outputs": [],
   "source": [
    "scaler = StandardScaler()\n",
    "risks_z_scored = scaler.fit_transform(risks)\n",
    "risks_z_scored2 = pd.DataFrame(risks_z_scored, columns=risks.columns)"
   ]
  },
  {
   "cell_type": "markdown",
   "metadata": {},
   "source": [
    "# Interaction Analyses"
   ]
  },
  {
   "cell_type": "markdown",
   "metadata": {},
   "source": [
    "## CCA x APOE in predicting AD family history"
   ]
  },
  {
   "cell_type": "markdown",
   "metadata": {},
   "source": [
    "### Controlling for age"
   ]
  },
  {
   "cell_type": "code",
   "execution_count": null,
   "metadata": {},
   "outputs": [],
   "source": [
    "def interaction_cov_age (features, id_x, tag):\n",
    "    ad = np.array(features[0])\n",
    "    #shuffling AD outcome\n",
    "    #uncomment line below to perform permuation analyses\n",
    "#     np.random.shuffle(ad)\n",
    "    #print(f'AD: {ad.shape}')\n",
    "    apoe = np.array(features[1])\n",
    "    #print(f'APOE: {apoe.shape}')\n",
    "    #getting age from risk factors z-scored on whole participant cohort\n",
    "    age = risks_z_scored2.iloc[id_x]['Age'].to_numpy()\n",
    "    #getting CCA data from z-scored on whole participant cohort\n",
    "    cca_modes = all_modes_zscored2.iloc[id_x].to_numpy()\n",
    "    \n",
    "    log_model = LogisticRegression()\n",
    "    table = pd.DataFrame()\n",
    "    index = [] \n",
    "\n",
    "    for i in range(0, len(cca_modes.T)):\n",
    "        #ading genotypes\n",
    "        data = np.append(apoe.T,[cca_modes[:,i]], axis=0)\n",
    "        #print(data.T.shape)\n",
    "        for j in range(0,len(apoe.T)): \n",
    "            interaction = cca_modes[:,i]*apoe[:,j]\n",
    "            interaction = interaction.reshape(1,-1)\n",
    "            data = np.append(data, interaction, axis=0)\n",
    "        data = np.append(data, [age], axis=0)\n",
    "        #print(f'HC + APOE + interactions: {data.shape}')\n",
    "        log_model.fit(data.T,ad)\n",
    "        coef = pd.DataFrame(log_model.coef_, columns = ['Main effect e2/2',\n",
    "                                                        'Main effect e2/3',\n",
    "                                                        'Main effect e3/3',\n",
    "                                                        'Main effect e2/4',\n",
    "                                                        'Main effect e3/4',\n",
    "                                                        'Main effect e4/4',\n",
    "                                                        'Main effect canonical variate',\n",
    "                                                        'Canonical variate x e2/2',\n",
    "                                                        'Canonical variate x e2/3',\n",
    "                                                        'Canonical variate x e3/3',\n",
    "                                                        'Canonical variate x e2/4',\n",
    "                                                        'Canonical variate x e3/4',\n",
    "                                                        'Canonical variate x e4/4',\n",
    "                                                        'Age'])\n",
    "        index = index + [f'Component: {i+1}']\n",
    "        table = table.append(coef)\n",
    "        table['id']= index\n",
    "        table = table.set_index(['id'],drop=True)\n",
    "        \n",
    "    %matplotlib inline    \n",
    "    plt.figure(figsize=(7, 5))\n",
    "    sns.heatmap(table.T.iloc[:,0:25], cmap=plt.cm.RdBu_r, center=0, vmin=-1, vmax=1, xticklabels = range(1,26))\n",
    "    plt.title(f'Interactions of hippocampus canonical variates with APOE \\n genotypes in predicting AD family history in {tag}')\n",
    "    plot1_path = os.path.abspath(f'/Users/chloesavignac/_bzdok_lab_notebooks/Project_1/cov_HC_cca_apoe_AD_{tag}.png')\n",
    "    plt.tight_layout()\n",
    "    plt.subplots_adjust(top=1)\n",
    "    #plt.savefig(plot1_path, dpi=200, bbox_inches='tight')\n",
    "    plt.show()\n",
    "\n",
    "    plt.figure(figsize=(7, 5))\n",
    "    sns.heatmap(table.T.iloc[:,25:51], cmap=plt.cm.RdBu_r, center=0, vmin=-1, vmax=1, xticklabels = range(1,26))\n",
    "    plt.title(f'Interactions of DMN canonical variates with APOE genotypes \\n in predicting AD family history in {tag}')\n",
    "    plot1_path = os.path.abspath(f'/Users/chloesavignac/_bzdok_lab_notebooks/Project_1/cov_DMN_cca_apoe_AD_{tag}.png')\n",
    "    plt.tight_layout()\n",
    "    plt.subplots_adjust(top=1)\n",
    "    #plt.savefig(plot1_path, dpi=200, bbox_inches='tight')\n",
    "    plt.show()\n",
    "        \n",
    "    return table"
   ]
  },
  {
   "cell_type": "markdown",
   "metadata": {},
   "source": [
    "### Permutation Analyses"
   ]
  },
  {
   "cell_type": "code",
   "execution_count": null,
   "metadata": {
    "run_control": {
     "marked": false
    },
    "scrolled": true
   },
   "outputs": [],
   "source": [
    "real_coefs_m = interaction_cov_age(features(id_m), id_m, 'males')\n",
    "real_coefs_f = interaction_cov_age(features(id_f), id_f, 'females')"
   ]
  },
  {
   "cell_type": "code",
   "execution_count": null,
   "metadata": {
    "scrolled": true
   },
   "outputs": [],
   "source": [
    "#MALES\n",
    "#SHUFFLING TEST \n",
    "tables_m = pd.DataFrame()\n",
    "for i in tqdm(range(0,1000)):\n",
    "    np.random.seed(i)\n",
    "    table = interaction_cov_age(features(id_m), id_m, 'males')\n",
    "    tables_m = tables_m.append(table)\n",
    "tables_m.to_csv('coefs_males_08.27.22.csv')"
   ]
  },
  {
   "cell_type": "code",
   "execution_count": null,
   "metadata": {},
   "outputs": [],
   "source": [
    "tables_m = pd.read_csv('coefs_males_08.27.22.csv', index_col=0)"
   ]
  },
  {
   "cell_type": "code",
   "execution_count": null,
   "metadata": {},
   "outputs": [],
   "source": [
    "#computing p-values analogous\n",
    "dict_pval_m = {}\n",
    "for i in range(0,len(tables_m.columns)):\n",
    "    for j in range(0,50):\n",
    "        point = real_coefs_m.iloc[j,i]\n",
    "        print(f'Real coefficient for {tables_m.columns[i]}: {point}')\n",
    "        null_dist = tables_m.iloc[::50+j, i]\n",
    "#         plt.hist(null_dist, bins=20)\n",
    "#         plt.title(f'mode {j+1}: {tables_m.columns[i]}')\n",
    "#         plt.show()  \n",
    "        if point < 0: \n",
    "            bigger = null_dist[null_dist<point]\n",
    "            print(f'Number of values above criterion: {bigger.shape[0]}')\n",
    "            p_val = bigger.shape[0]/1000\n",
    "            print(f'P-value: {p_val}')\n",
    "        else: \n",
    "            bigger = null_dist[null_dist>point]\n",
    "            print(f'Number of values above criterion: {bigger.shape[0]}')\n",
    "            p_val = bigger.shape[0]/1000\n",
    "            print(f'P-value: {p_val}')\n",
    "        key = f'Mode{j+1}_{tables_m.columns[i]}'\n",
    "        dict_pval_m[key] = p_val\n",
    "#saving results       \n",
    "p_val_m = pd.DataFrame()\n",
    "coefs = []\n",
    "pval = []\n",
    "for i in dict_pval_m.items():\n",
    "    coefs = np.append(coefs,i[0])\n",
    "    pval = np.append(pval,i[1])\n",
    "p_val_m['coefs'] = coefs\n",
    "p_val_m['pval'] = pval\n",
    "p_val_m.to_csv('coefs_pval_males_08.27.22.csv')"
   ]
  },
  {
   "cell_type": "code",
   "execution_count": null,
   "metadata": {},
   "outputs": [],
   "source": [
    "#FEMALES\n",
    "#SHUFFLING TEST\n",
    "tables_f = pd.DataFrame()\n",
    "for i in tqdm(range(0,1000)):\n",
    "    np.random.seed(i)\n",
    "    table = interaction_cov_age(features(id_f), id_f, 'females')\n",
    "    tables_f = tables_f.append(table)\n",
    "tables_f.to_csv('coefs_females_08.27.22.csv')"
   ]
  },
  {
   "cell_type": "code",
   "execution_count": null,
   "metadata": {},
   "outputs": [],
   "source": [
    "#computing p-values\n",
    "dict_pval_f = {}\n",
    "for i in range(0,len(tables_f.columns)):\n",
    "    for j in range(0,50):\n",
    "        point = real_coefs_f.iloc[j,i]\n",
    "        print(f'Real coefficient for {tables_f.columns[i]}: {point}')\n",
    "        null_dist = tables_f.iloc[::50+j, i]\n",
    "#         plt.hist(null_dist, bins=20)\n",
    "#         plt.title(f'mode {j+1}: {tables_f.columns[i]}')\n",
    "#         plt.show()  \n",
    "        if point < 0: \n",
    "            bigger = null_dist[null_dist<point]\n",
    "            print(f'Number of values above criterion: {bigger.shape[0]}')\n",
    "            p_val = bigger.shape[0]/1000\n",
    "            print(f'P-value: {p_val}')\n",
    "        else: \n",
    "            bigger = null_dist[null_dist>point]\n",
    "            print(f'Number of values above criterion: {bigger.shape[0]}')\n",
    "            p_val = bigger.shape[0]/1000\n",
    "            print(f'P-value: {p_val}')\n",
    "        key = f'Mode{j+1}_{tables_f.columns[i]}'\n",
    "        dict_pval_f[key] = p_val\n",
    "#saving results              \n",
    "p_val_f = pd.DataFrame()\n",
    "coefs = []\n",
    "pval = []\n",
    "for i in dict_pval_f.items():\n",
    "    coefs = np.append(coefs,i[0])\n",
    "    pval = np.append(pval,i[1])\n",
    "p_val_f['coefs'] = coefs\n",
    "p_val_f['pval'] = pval\n",
    "p_val_f.to_csv('coefs_pval_females_08.27.22.csv')"
   ]
  },
  {
   "cell_type": "code",
   "execution_count": null,
   "metadata": {},
   "outputs": [],
   "source": [
    "def arrange_pvals(p):\n",
    "    pvals = pd.DataFrame()\n",
    "    for i in range(0,700,50):\n",
    "        coef = p[i:i+50]\n",
    "        pval = coef['pval'].values\n",
    "        coef_name = coef['coefs'].values[0]\n",
    "        pvals[coef_name]=pval\n",
    "        \n",
    "    pvals = pvals.rename(columns={\n",
    "    \"Mode1_Main effect e2/2\": \"Main effect e2/2\", \n",
    "    \"Mode1_Main effect e2/3\": \"Main effect e2/3\", \n",
    "    \"Mode1_Main effect e3/3\": \"Main effect e3/3\",\n",
    "    \"Mode1_Main effect e2/4\": \"Main effect e2/4\",\n",
    "    \"Mode1_Main effect e3/4\": \"Main effect e3/4\",\n",
    "    \"Mode1_Main effect e4/4\": \"Main effect e4/4\",\n",
    "    \"Mode1_Main effect canonical variate\": \"Main effect canonical variate\",\n",
    "    \"Mode1_Canonical variate x e2/2\": \"Canonical variate x e2/2\",\n",
    "    \"Mode1_Canonical variate x e2/3\": \"Canonical variate x e2/3\",\n",
    "    \"Mode1_Canonical variate x e3/3\": \"Canonical variate x e3/3\",\n",
    "    \"Mode1_Canonical variate x e2/4\": \"Canonical variate x e2/4\",\n",
    "    \"Mode1_Canonical variate x e3/4\": \"Canonical variate x e3/4\",\n",
    "    \"Mode1_Canonical variate x e4/4\": \"Canonical variate x e4/4\",\n",
    "    \"Mode1_Age\": \"Age\", })\n",
    "    \n",
    "    return pvals"
   ]
  },
  {
   "cell_type": "code",
   "execution_count": null,
   "metadata": {
    "scrolled": true
   },
   "outputs": [],
   "source": [
    "p_val_f = pd.read_csv('coefs_pval_females_08.27.22.csv',index_col =0)\n",
    "pval_f = arrange_pvals(p_val_f)\n",
    "#pval_f.to_csv('pvals_females_fig_6_08.27.22.csv')"
   ]
  },
  {
   "cell_type": "code",
   "execution_count": null,
   "metadata": {
    "scrolled": true
   },
   "outputs": [],
   "source": [
    "p_val_m = pd.read_csv('coefs_pval_males_08.27.22.csv',index_col =0)\n",
    "pval_m = arrange_pvals(p_val_m)\n",
    "#pval_m.to_csv('pvals_males_fig_6_08.27.22.csv')"
   ]
  },
  {
   "cell_type": "code",
   "execution_count": null,
   "metadata": {},
   "outputs": [],
   "source": [
    "real_coefs_m = real_coefs_m.reset_index(drop=True)\n",
    "real_coefs_f = real_coefs_f.reset_index(drop=True)"
   ]
  },
  {
   "cell_type": "code",
   "execution_count": null,
   "metadata": {},
   "outputs": [],
   "source": [
    "real_coefs_m.to_csv(os.path.abspath('/Users/chloesavignac/_HCDMNCOV_AD/fig_6/true_coefs_males.csv'))\n",
    "real_coefs_f.to_csv(os.path.abspath('/Users/chloesavignac/_HCDMNCOV_AD/fig_6/true_coefs_females.csv'))"
   ]
  },
  {
   "cell_type": "code",
   "execution_count": null,
   "metadata": {},
   "outputs": [],
   "source": [
    "###TWO-TAILED TEST\n",
    "###MALES\n",
    "real_coefs_m.mask(pval_m > 0.00005, np.nan).to_csv(os.path.abspath('/Users/chloesavignac/_HCDMNCOV_AD/fig_6/permutation_analyses/coefs_males_fig_6_pval_0.0001.csv'))\n",
    "real_coefs_m.mask(pval_m > 0.0005, np.nan).to_csv(os.path.abspath('/Users/chloesavignac/_HCDMNCOV_AD/fig_6/permutation_analyses/coefs_males_fig_6_pval_0.001.csv'))\n",
    "real_coefs_m.mask(pval_m > 0.025, np.nan).to_csv(os.path.abspath('/Users/chloesavignac/_HCDMNCOV_AD/fig_6/permutation_analyses/coefs_males_fig_6_pval_0.05.csv'))\n",
    "real_coefs_m.mask(pval_m > 0.5, np.nan).to_csv(os.path.abspath('/Users/chloesavignac/_HCDMNCOV_AD/fig_6/permutation_analyses/coefs_males_fig_6_pval_0.1.csv'))\n",
    "real_coefs_m.mask(pval_m > 0.1, np.nan).to_csv(os.path.abspath('/Users/chloesavignac/_HCDMNCOV_AD/fig_6/permutation_analyses/coefs_males_fig_6_pval_0.2.csv'))\n",
    "real_coefs_m.mask(pval_m > 0.25, np.nan).to_csv(os.path.abspath('/Users/chloesavignac/_HCDMNCOV_AD/fig_6/permutation_analyses/coefs_males_fig_6_pval_0.5.csv'))\n",
    "real_coefs_m.mask(pval_m > 0.4, np.nan).to_csv(os.path.abspath('/Users/chloesavignac/_HCDMNCOV_AD/fig_6/permutation_analyses/coefs_males_fig_6_pval_0.8.csv'))\n",
    "real_coefs_m.mask(pval_m > 0.475, np.nan).to_csv(os.path.abspath('/Users/chloesavignac/_HCDMNCOV_AD/fig_6/permutation_analyses/coefs_males_fig_6_pval_0.95.csv'))"
   ]
  },
  {
   "cell_type": "code",
   "execution_count": null,
   "metadata": {},
   "outputs": [],
   "source": [
    "###TWO-TAILED TEST\n",
    "###FEMALES\n",
    "real_coefs_f.mask(pval_f > 0.00005, np.nan).to_csv(os.path.abspath('/Users/chloesavignac/_HCDMNCOV_AD/fig_6/permutation_analyses/coefs_females_fig_6_pval_0.0001.csv'))\n",
    "real_coefs_f.mask(pval_f > 0.0005, np.nan).to_csv(os.path.abspath('/Users/chloesavignac/_HCDMNCOV_AD/fig_6/permutation_analyses/coefs_females_fig_6_pval_0.001.csv'))\n",
    "real_coefs_f.mask(pval_f > 0.025, np.nan).to_csv(os.path.abspath('/Users/chloesavignac/_HCDMNCOV_AD/fig_6/permutation_analyses/coefs_females_fig_6_pval_0.05.csv'))\n",
    "real_coefs_f.mask(pval_f > 0.5, np.nan).to_csv(os.path.abspath('/Users/chloesavignac/_HCDMNCOV_AD/fig_6/permutation_analyses/coefs_females_fig_6_pval_0.1.csv'))\n",
    "real_coefs_f.mask(pval_f > 0.1, np.nan).to_csv(os.path.abspath('/Users/chloesavignac/_HCDMNCOV_AD/fig_6/permutation_analyses/coefs_females_fig_6_pval_0.2.csv'))\n",
    "real_coefs_f.mask(pval_f > 0.25, np.nan).to_csv(os.path.abspath('/Users/chloesavignac/_HCDMNCOV_AD/fig_6/permutation_analyses/coefs_females_fig_6_pval_0.5.csv'))\n",
    "real_coefs_f.mask(pval_f > 0.4, np.nan).to_csv(os.path.abspath('/Users/chloesavignac/_HCDMNCOV_AD/fig_6/permutation_analyses/coefs_females_fig_6_pval_0.8.csv'))\n",
    "real_coefs_f.mask(pval_f > 0.475, np.nan).to_csv(os.path.abspath('/Users/chloesavignac/_HCDMNCOV_AD/fig_6/permutation_analyses/coefs_females_fig_6_pval_0.95.csv'))"
   ]
  },
  {
   "cell_type": "code",
   "execution_count": null,
   "metadata": {
    "run_control": {
     "marked": false
    },
    "scrolled": false
   },
   "outputs": [],
   "source": [
    "#using pvals to create mask\n",
    "#table = real_old_m.mask(pval_m > 0.025, np.nan)\n",
    "def plot_coefs(tag,pval):\n",
    "    \n",
    "    if tag == 'males':\n",
    "        table = real_coefs_m.mask(pval_m > pval/2, np.nan)\n",
    "    elif tag == 'females':  \n",
    "        table = real_coefs_f.mask(pval_f > pval/2, np.nan)\n",
    "    \n",
    "    %matplotlib inline\n",
    "    plt.figure(figsize=(7, 5))\n",
    "    sns.heatmap(table.iloc[0:25,:].T, cmap=plt.cm.RdBu_r, center=0, vmin=-1, vmax=1, xticklabels = range(1,26))\n",
    "    plt.title(f'Interactions of hippocampus co-variation patterns with APOE \\n genotypes in estimating family history of ADRD in {tag}')\n",
    "    plot1_path = os.path.abspath(f'/Users/chloesavignac/_HCDMNCOV_AD/fig_6/masked_plots/fig6_cov_HC_cca_apoe_AD_{tag}_pval_{pval}.png')\n",
    "    #plt.tight_layout()\n",
    "    plt.subplots_adjust(top=1)\n",
    "    plt.savefig(plot1_path, dpi=200, bbox_inches='tight')\n",
    "    plt.show()\n",
    "\n",
    "    plt.figure(figsize=(7, 5))\n",
    "    sns.heatmap(table.iloc[25:50,:].T, cmap=plt.cm.RdBu_r, center=0, vmin=-1, vmax=1, xticklabels = range(1,26))\n",
    "    plt.title(f'Interactions of DN co-variation patterns with APOE \\n genotypes in estimating family history of ADRD in {tag}')\n",
    "    plot1_path = os.path.abspath(f'/Users/chloesavignac/_HCDMNCOV_AD/fig_6/masked_plots/fig6_cov_DMN_cca_apoe_AD_{tag}_pval_{pval}.png')\n",
    "    #plt.tight_layout()\n",
    "    plt.subplots_adjust(top=1)\n",
    "    plt.savefig(plot1_path, dpi=200, bbox_inches='tight')\n",
    "    plt.show()"
   ]
  },
  {
   "cell_type": "code",
   "execution_count": null,
   "metadata": {},
   "outputs": [],
   "source": [
    "plot_coefs('males', 0.05)"
   ]
  },
  {
   "cell_type": "code",
   "execution_count": null,
   "metadata": {},
   "outputs": [],
   "source": [
    "plot_coefs('males', 0.0001)\n",
    "plot_coefs('males', 0.001)\n",
    "plot_coefs('males', 0.05)\n",
    "plot_coefs('males', 0.1)\n",
    "plot_coefs('males', 0.2)\n",
    "plot_coefs('males', 0.5)\n",
    "plot_coefs('males', 0.8)\n",
    "plot_coefs('males', 0.95)"
   ]
  },
  {
   "cell_type": "code",
   "execution_count": null,
   "metadata": {},
   "outputs": [],
   "source": [
    "plot_coefs('females', 0.0001)\n",
    "plot_coefs('females', 0.001)\n",
    "plot_coefs('females', 0.05)\n",
    "plot_coefs('females', 0.1)\n",
    "plot_coefs('females', 0.2)\n",
    "plot_coefs('females', 0.5)\n",
    "plot_coefs('females', 0.8)\n",
    "plot_coefs('females', 0.95)"
   ]
  },
  {
   "cell_type": "markdown",
   "metadata": {},
   "source": [
    "## CCA x APOE in predicting Risks"
   ]
  },
  {
   "cell_type": "markdown",
   "metadata": {},
   "source": [
    "### Controlling for age "
   ]
  },
  {
   "cell_type": "code",
   "execution_count": null,
   "metadata": {},
   "outputs": [],
   "source": [
    "def interaction3_cov_age (features, id_x, tag, plot):\n",
    "    apoe = np.array(features[1])\n",
    "    #print(f'APOE: {apoe.shape}')\n",
    "\n",
    "    #getting risks from data z-scored on whole participant cohort\n",
    "    risks_og = features[3].drop(['Sex', 'Age'], axis=1)\n",
    "    age = risks_z_scored2.iloc[id_x]['Age'].to_numpy()\n",
    "    risks = risks_og.to_numpy()\n",
    "    #getting CCA from data z-scored on whole participant cohort\n",
    "    cca_modes = all_modes_zscored2.iloc[id_x].to_numpy()\n",
    "    \n",
    "    model = Ridge()\n",
    "    table = pd.DataFrame()\n",
    "    index = []\n",
    "    \n",
    "    for r in risks_og.columns:\n",
    "        #print(risks_og.columns[r])\n",
    "        label = risks_og[[r]]\n",
    "        scaler = StandardScaler()\n",
    "        label = scaler.fit_transform(label)\n",
    "        #shuffling labels\n",
    "        #uncomment line below to perform permutation analyses\n",
    "        ####################################\n",
    "        #np.random.shuffle(label)\n",
    "        ####################################\n",
    "        #print(f'risk label: {label.shape}')\n",
    "        for i in range(0,len(cca_modes.T)):\n",
    "            #main effects cca & apoe\n",
    "            data = np.append([cca_modes[:,i]], apoe.T, axis=0)\n",
    "            data = np.append(data, [age], axis=0)\n",
    "            #print(f'HC + APOE: {data.shape}')\n",
    "            for j in range(0,len(apoe.T)): \n",
    "                interaction = cca_modes[:,i]*apoe[:,j]\n",
    "                interaction = interaction.reshape(1,-1)\n",
    "                data = np.append(data, interaction, axis=0)\n",
    "            #print(f'HC + APOE + interactions: {data.T.shape}')\n",
    "            #print(f'risk label: {label.shape}')\n",
    "            model.fit(data.T,label)\n",
    "            #print(model.coef_.T.shape)\n",
    "            coef = pd.DataFrame(model.coef_.reshape((1, 14)), columns = ['Main effect canonical variate',\n",
    "                                                            'Main effect e2/2',\n",
    "                                                            'Main effect e2/3',\n",
    "                                                            'Main effect e3/3',\n",
    "                                                            'Main effect e2/4',\n",
    "                                                            'Main effect e3/4',\n",
    "                                                            'Main effect e4/4',\n",
    "                                                                         'Age',\n",
    "                                                            'Canonical variate x e2/2',\n",
    "                                                            'Canonical variate x e2/3',\n",
    "                                                            'Canonical variate x e3/3',\n",
    "                                                            'Canonical variate x e2/4',\n",
    "                                                            'Canonical variate x e3/4',\n",
    "                                                            'Canonical variate x e4/4'])\n",
    "            index = index + [f'{r}: Component {i+1}']\n",
    "            table = table.append(coef)\n",
    "    table['id']= index\n",
    "    table = table.set_index(['id'],drop=True)\n",
    "    \n",
    "    if (plot==True):\n",
    "        #ploting coef \n",
    "        counter = 0\n",
    "        for i in range(0,3050,50):\n",
    "            %matplotlib inline\n",
    "            subset = table.iloc[i:i+50]\n",
    "            plt.figure(figsize=(11, 4))\n",
    "            ax = plt.axes()\n",
    "            sns.heatmap(subset.T,cmap=plt.cm.RdBu_r,center=0, vmin=-0.5, vmax=0.5, xticklabels = range(1,51), cbar_kws={\"shrink\": 0.5})\n",
    "            ax.set_title(f'Interactions of canonical variates with APOE genotypes in estimating {risks_og.columns[counter]} in {tag}')\n",
    "            plot2_path = os.path.abspath(f'/Users/chloesavignac/_bzdok_lab_notebooks/Project_1/{tag}_APOE_interaction_{risks_og.columns[counter]}.png')\n",
    "            #plt.tight_layout()\n",
    "            plt.subplots_adjust(top=1)\n",
    "            plt.savefig(plot2_path, dpi=200, bbox_inches='tight')\n",
    "            plt.show()\n",
    "            counter = counter + 1\n",
    "            \n",
    "    return table"
   ]
  },
  {
   "cell_type": "markdown",
   "metadata": {},
   "source": [
    "### Subgroup Analyses"
   ]
  },
  {
   "cell_type": "code",
   "execution_count": null,
   "metadata": {
    "scrolled": true
   },
   "outputs": [],
   "source": [
    "real_coefs_m = interaction3_cov_age(features(id_m), id_m, 'males', plot = False)"
   ]
  },
  {
   "cell_type": "code",
   "execution_count": null,
   "metadata": {},
   "outputs": [],
   "source": [
    "np.array(real_coefs_m).shape"
   ]
  },
  {
   "cell_type": "code",
   "execution_count": null,
   "metadata": {},
   "outputs": [],
   "source": [
    "real_coefs_f = interaction3_cov_age(features(id_f), id_f, 'females', plot = False)"
   ]
  },
  {
   "cell_type": "code",
   "execution_count": null,
   "metadata": {},
   "outputs": [],
   "source": [
    "para = real_coefs_f.index"
   ]
  },
  {
   "cell_type": "code",
   "execution_count": null,
   "metadata": {},
   "outputs": [],
   "source": [
    "real_coefs_m.to_csv(os.path.abspath('/Users/chloesavignac/_HCDMNCOV_AD/fig_7/true_coefs_males.csv'))\n",
    "real_coefs_f.to_csv(os.path.abspath('/Users/chloesavignac/_HCDMNCOV_AD/fig_7/true_coefs_females.csv'))"
   ]
  },
  {
   "cell_type": "markdown",
   "metadata": {},
   "source": [
    "### Permutation Analyses"
   ]
  },
  {
   "cell_type": "code",
   "execution_count": null,
   "metadata": {},
   "outputs": [],
   "source": [
    "from numpy import genfromtxt\n",
    "import pandas as pd\n",
    "import numpy as np "
   ]
  },
  {
   "cell_type": "code",
   "execution_count": null,
   "metadata": {},
   "outputs": [],
   "source": [
    "#MALES\n",
    "m_it_1_5000 = genfromtxt('fig_6/fig6_coefs_males_1_5000_08.09.22.csv', delimiter=',')\n",
    "m_it_5000_10000 = genfromtxt('fig_6/fig6_coefs_males_5000_10000_08.09.22.csv', delimiter=',')\n",
    "m_it_10000_15000 = genfromtxt('fig_6/fig6_coefs_males_10000_15000_08.09.22.csv', delimiter=',')\n",
    "m_it_15000_20000 = genfromtxt('fig_6/fig6_coefs_males_15000_20000_08.09.22.csv', delimiter=',')\n",
    "m_it_20000_25000 = genfromtxt('fig_6/fig6_coefs_males_20000_25000_08.09.22.csv', delimiter=',')\n",
    "m_it_25000_30000 = genfromtxt('fig_6/fig6_coefs_males_25000_30000_08.09.22.csv', delimiter=',')\n",
    "m_it_30000_35000 = genfromtxt('fig_6/fig6_coefs_males_30000_35000_08.09.22.csv', delimiter=',')\n",
    "m_it_35000_40000 = genfromtxt('fig_6/fig6_coefs_males_35000_40000_08.09.22.csv', delimiter=',')\n",
    "m_it_40000_45000 = genfromtxt('fig_6/fig6_coefs_males_40000_45000_08.09.22.csv', delimiter=',')\n",
    "m_it_45000_50000 = genfromtxt('fig_6/fig6_coefs_males_45000_50000_08.09.22.csv', delimiter=',')\n",
    "m_it_50000_55000 = genfromtxt('fig_6/fig6_coefs_males_50000_55000_08.09.22.csv', delimiter=',')\n",
    "m_it_55000_61000 = genfromtxt('fig_6/fig6_coefs_males_55000_61000_08.09.22.csv', delimiter=',')"
   ]
  },
  {
   "cell_type": "code",
   "execution_count": null,
   "metadata": {},
   "outputs": [],
   "source": [
    "#FEMALES\n",
    "f_it_1_5000 = genfromtxt('fig_6/fig6_coefs_females_1_5000_08.10.22.csv', delimiter=',')\n",
    "f_it_5000_10000 = genfromtxt('fig_6/fig6_coefs_females_5000_10000_08.10.22.csv', delimiter=',')\n",
    "f_it_10000_15000 = genfromtxt('fig_6/fig6_coefs_females_10000_15000_08.10.22.csv', delimiter=',')\n",
    "f_it_15000_20000 = genfromtxt('fig_6/fig6_coefs_females_15000_20000_08.10.22.csv', delimiter=',')\n",
    "f_it_20000_25000 = genfromtxt('fig_6/fig6_coefs_females_20000_25000_08.10.22.csv', delimiter=',')\n",
    "f_it_25000_30000 = genfromtxt('fig_6/fig6_coefs_females_25000_30000_08.10.22.csv', delimiter=',')\n",
    "f_it_30000_35000 = genfromtxt('fig_6/fig6_coefs_females_30000_35000_08.10.22.csv', delimiter=',')\n",
    "f_it_35000_40000 = genfromtxt('fig_6/fig6_coefs_females_35000_40000_08.10.22.csv', delimiter=',')\n",
    "f_it_40000_45000 = genfromtxt('fig_6/fig6_coefs_females_40000_45000_08.10.22.csv', delimiter=',')\n",
    "f_it_45000_50000 = genfromtxt('fig_6/fig6_coefs_females_45000_50000_08.10.22.csv', delimiter=',')\n",
    "f_it_50000_55000 = genfromtxt('fig_6/fig6_coefs_females_50000_55000_08.10.22.csv', delimiter=',')\n",
    "f_it_55000_61000 = genfromtxt('fig_6/fig6_coefs_females_55000_61000_08.10.22.csv', delimiter=',')"
   ]
  },
  {
   "cell_type": "code",
   "execution_count": null,
   "metadata": {},
   "outputs": [],
   "source": [
    "import numpy as np "
   ]
  },
  {
   "cell_type": "code",
   "execution_count": null,
   "metadata": {},
   "outputs": [],
   "source": [
    "arr = np.append(m_it_1_5000, m_it_5000_10000, axis=0)\n",
    "print(arr.shape)\n",
    "arr = np.append(arr, m_it_10000_15000, axis=0)\n",
    "print(arr.shape)\n",
    "arr = np.append(arr, m_it_15000_20000, axis=0)\n",
    "print(arr.shape)\n",
    "arr = np.append(arr, m_it_20000_25000, axis=0)\n",
    "print(arr.shape)\n",
    "arr = np.append(arr, m_it_25000_30000, axis=0)\n",
    "print(arr.shape)\n",
    "arr = np.append(arr, m_it_30000_35000, axis=0)\n",
    "print(arr.shape)\n",
    "arr = np.append(arr, m_it_35000_40000, axis=0)\n",
    "print(arr.shape)\n",
    "arr = np.append(arr, m_it_40000_45000, axis=0)\n",
    "print(arr.shape)\n",
    "arr = np.append(arr, m_it_45000_50000, axis=0)\n",
    "print(arr.shape)\n",
    "arr = np.append(arr, m_it_50000_55000, axis=0)\n",
    "print(arr.shape)\n",
    "arr = np.append(arr, m_it_55000_61000, axis=0)\n",
    "print(arr.shape)\n",
    "arr_m = arr"
   ]
  },
  {
   "cell_type": "code",
   "execution_count": null,
   "metadata": {},
   "outputs": [],
   "source": [
    "arr = np.append(m_it_1_5000, m_it_5000_10000, axis=0)\n",
    "print(arr.shape)\n",
    "arr = np.append(arr, m_it_10000_15000, axis=0)\n",
    "print(arr.shape)\n",
    "arr = np.append(arr, m_it_15000_20000, axis=0)\n",
    "print(arr.shape)\n",
    "arr = np.append(arr, m_it_20000_25000, axis=0)\n",
    "print(arr.shape)\n",
    "arr = np.append(arr, m_it_25000_30000, axis=0)\n",
    "print(arr.shape)\n",
    "arr = np.append(arr, m_it_30000_35000, axis=0)\n",
    "print(arr.shape)\n",
    "arr = np.append(arr, m_it_35000_40000, axis=0)\n",
    "print(arr.shape)\n",
    "arr = np.append(arr, m_it_40000_45000, axis=0)\n",
    "print(arr.shape)\n",
    "arr = np.append(arr, m_it_45000_50000, axis=0)\n",
    "print(arr.shape)\n",
    "arr = np.append(arr, m_it_50000_55000, axis=0)\n",
    "print(arr.shape)\n",
    "arr = np.append(arr, m_it_55000_61000, axis=0)\n",
    "print(arr.shape)\n",
    "arr_m = arr"
   ]
  },
  {
   "cell_type": "code",
   "execution_count": null,
   "metadata": {},
   "outputs": [],
   "source": [
    "arr = np.append(f_it_1_5000, f_it_5000_10000, axis=0)\n",
    "print(arr.shape)\n",
    "arr = np.append(arr, f_it_10000_15000, axis=0)\n",
    "print(arr.shape)\n",
    "arr = np.append(arr, f_it_15000_20000, axis=0)\n",
    "print(arr.shape)\n",
    "arr = np.append(arr, f_it_20000_25000, axis=0)\n",
    "print(arr.shape)\n",
    "arr = np.append(arr, f_it_25000_30000, axis=0)\n",
    "print(arr.shape)\n",
    "arr = np.append(arr, f_it_30000_35000, axis=0)\n",
    "print(arr.shape)\n",
    "arr = np.append(arr, f_it_35000_40000, axis=0)\n",
    "print(arr.shape)\n",
    "arr = np.append(arr, f_it_40000_45000, axis=0)\n",
    "print(arr.shape)\n",
    "arr = np.append(arr, f_it_45000_50000, axis=0)\n",
    "print(arr.shape)\n",
    "arr = np.append(arr, f_it_50000_55000, axis=0)\n",
    "print(arr.shape)\n",
    "arr = np.append(arr, f_it_55000_61000, axis=0)\n",
    "print(arr.shape)\n",
    "arr_f = arr"
   ]
  },
  {
   "cell_type": "code",
   "execution_count": null,
   "metadata": {},
   "outputs": [],
   "source": [
    "names = ['Main effect canonical variate',\n",
    "                                'Main effect e2/2',\n",
    "                                'Main effect e2/3',\n",
    "                                'Main effect e3/3',\n",
    "                                'Main effect e2/4',\n",
    "                                'Main effect e3/4',\n",
    "                                'Main effect e4/4',\n",
    "                                             'Age',\n",
    "                                'Canonical variate x e2/2',\n",
    "                                'Canonical variate x e2/3',\n",
    "                                'Canonical variate x e3/3',\n",
    "                                'Canonical variate x e2/4',\n",
    "                                'Canonical variate x e3/4',\n",
    "                                'Canonical variate x e4/4']"
   ]
  },
  {
   "cell_type": "markdown",
   "metadata": {},
   "source": [
    "#### Males"
   ]
  },
  {
   "cell_type": "code",
   "execution_count": null,
   "metadata": {
    "scrolled": true
   },
   "outputs": [],
   "source": [
    "#MALES\n",
    "dict_pval_m = {}\n",
    "for i in range(0,14):\n",
    "    #create file\n",
    "    name = names[i].replace('/', 'e')\n",
    "    f = open(os.path.abspath(f'/Users/chloesavignac/_HCDMNCOV_AD/fig6/permutation_analysis/males/{name}_males.txt'), 'w')\n",
    "    f.write(f'{name} \\n')\n",
    "    f.close()\n",
    "    for j in tqdm(range(0,3050)):\n",
    "        #return coefficients (i) for each risk factors and canonical variate combination (j)\n",
    "        point = real_coefs_m.iloc[j,i]\n",
    "        null_dist = arr_m[j::3050, i]\n",
    "        #print(null_dist)\n",
    "#         fig = plt.figure()\n",
    "#         plt.hist(null_dist, bins=20)\n",
    "#         plt.title(f'{null_dist.index[0]} : {males_coefs_perm.columns[i]}')\n",
    "#         plot3_path = os.path.abspath(f'/Users/chloesavignac/_CCA_plots/november/permutation/males/{null_dist.index[0]}_{name}.png')\n",
    "#         #plt.ioff()\n",
    "#         plt.savefig(plot3_path, dpi=200, bbox_inches='tight')\n",
    "#         plt.close(fig)\n",
    "        #append values to file\n",
    "        f = open(os.path.abspath(f'/Users/chloesavignac/_HCDMNCOV_AD/fig6/permutation_analysis/males/{name}_males.txt'), 'a')\n",
    "        f.write(f'{para[j]} : {names[i]} \\n')\n",
    "        f.write(f'True coefficient (criterion): {point} \\n')\n",
    "        f.write(f'Number of iterations: {null_dist.shape[0]} \\n')\n",
    "        if point < 0:\n",
    "            bigger = null_dist[null_dist<point]\n",
    "            f.write(f'Number of values above criterion: {bigger.shape[0]} \\n')\n",
    "            p_val = bigger.shape[0]/61000\n",
    "            f.write(f'Robustness: {p_val} \\n')\n",
    "        else:\n",
    "            bigger = null_dist[null_dist>point]\n",
    "            f.write(f'Number of values above criterion: {bigger.shape[0]} \\n')\n",
    "            p_val = bigger.shape[0]/61000\n",
    "            f.write(f'Robustness: {p_val} \\n')\n",
    "        key = f'{para[j]} : {names[i]}'\n",
    "        f.write('\\n')\n",
    "        f.close()\n",
    "        dict_pval_m[key] = p_val \n",
    "        \n",
    "with open(os.path.abspath('/Users/chloesavignac/_HCDMNCOV_AD/fig6/permutation_analysis/males/pval_permutation_males.json'), 'w') as fp:\n",
    "    json.dump(dict_pval_m, fp)"
   ]
  },
  {
   "cell_type": "code",
   "execution_count": null,
   "metadata": {},
   "outputs": [],
   "source": [
    "with open(os.path.abspath('/Users/chloesavignac/_HCDMNCOV_AD/fig_5/permutation_analysis/males/robustness_permutation_males.json')) as fp:\n",
    "    dict_pval_m = json.load(fp)"
   ]
  },
  {
   "cell_type": "code",
   "execution_count": null,
   "metadata": {},
   "outputs": [],
   "source": [
    "with open(os.path.abspath('/Users/chloesavignac/_HCDMNCOV_AD/fig_5/permutation_analysis/females/robustness_permutation_females.json')) as fp:\n",
    "    dict_pval_f = json.load(fp)"
   ]
  },
  {
   "cell_type": "markdown",
   "metadata": {},
   "source": [
    "#### Females"
   ]
  },
  {
   "cell_type": "code",
   "execution_count": null,
   "metadata": {},
   "outputs": [],
   "source": [
    "tables_f = pd.DataFrame()\n",
    "for i in tqdm(range(0,1000)):\n",
    "    np.random.seed(i)\n",
    "    table = interaction3_cov_age(features(id_f), id_f, 'females',plot=False)\n",
    "    index = f'{i+1}_' + table.index.values \n",
    "    table['index']= index\n",
    "    table = table.set_index(['index'],drop=True)\n",
    "    tables_f = tables_f.append(table)\n",
    "tables_f.to_csv(os.path.abspath('/Users/chloesavignac/_HCDMNCOV_AD/fig_7/perumatation_coefs_females.csv'))\n",
    "females_coefs_perm = tables_f"
   ]
  },
  {
   "cell_type": "code",
   "execution_count": null,
   "metadata": {
    "scrolled": true
   },
   "outputs": [],
   "source": [
    "#FEMALES\n",
    "dict_pval_f = {}\n",
    "for i in range(0,len(females_coefs_perm.columns)):\n",
    "    #creating text file\n",
    "    name = females_coefs_perm.columns[i].replace('/', 'e')\n",
    "    f = open(os.path.abspath(f'/Users/chloesavignac/_HCDMNCOV_AD/fig_7/permutation_analysis/females/{name}_females.txt'), 'w')\n",
    "    f.write(f'{name} \\n')\n",
    "    f.close()\n",
    "    for j in tqdm(range(0,3050)):\n",
    "        #return coefficients (i) for each risk factors and canonical variate combination (j)\n",
    "        point = real_coefs_f.iloc[j,i]\n",
    "        null_dist = females_coefs_perm.iloc[j::3050, i]\n",
    "        #print(null_dist)\n",
    "#         fig = plt.figure()\n",
    "#         plt.hist(null_dist, bins=20)\n",
    "#         plt.title(f'{null_dist.index[0]} : {females_coefs_perm.columns[i]}')\n",
    "#         name = females_coefs_perm.columns[i].replace('/', 'e')\n",
    "#         plot3_path = os.path.abspath(f'/Users/chloesavignac/_CCA_plots/november/permutation/females/{null_dist.index[0]}_{name}.png')\n",
    "#         #plt.ioff()\n",
    "#         plt.close(fig)\n",
    "#         plt.savefig(plot3_path, dpi=200, bbox_inches='tight')\n",
    "        #append values to file\n",
    "        f = open(os.path.abspath(f'/Users/chloesavignac/_HCDMNCOV_AD/fig_7/permutation_analysis/females/{name}_females.txt'), 'a')\n",
    "        f.write(f'{null_dist.index[0]} : {females_coefs_perm.columns[i]} \\n')\n",
    "        f.write(f'True coefficient (criterion): {point} \\n')\n",
    "        f.write(f'Number of iterations: {null_dist.shape[0]} \\n')\n",
    "        if point < 0:\n",
    "            bigger = null_dist[null_dist<point]\n",
    "            f.write(f'Number of values above criterion: {bigger.shape[0]} \\n')\n",
    "            p_val = bigger.shape[0]/1000\n",
    "            f.write(f'P-value: {p_val} \\n')\n",
    "        else:\n",
    "            bigger = null_dist[null_dist>point]\n",
    "            f.write(f'Number of values above criterion: {bigger.shape[0]} \\n')\n",
    "            p_val = bigger.shape[0]/1000\n",
    "            f.write(f'P-value: {p_val} \\n')\n",
    "        key = f'{null_dist.index[0]} : {females_coefs_perm.columns[i]}'\n",
    "        f.write('\\n')\n",
    "        f.close()\n",
    "        dict_pval_f[key] = p_val \n",
    "        \n",
    "with open(os.path.abspath('/Users/chloesavignac/_HCDMNCOV_AD/fig_7/permutation_analysis/females/pval_permutation_females.json'), 'w') as fp:\n",
    "    json.dump(dict_pval_f, fp)"
   ]
  },
  {
   "cell_type": "code",
   "execution_count": null,
   "metadata": {},
   "outputs": [],
   "source": [
    "#making dataframe to use as mask      \n",
    "p_val_f = pd.DataFrame()\n",
    "coefs = []\n",
    "pval = []\n",
    "for i in dict_pval_f.items():\n",
    "    coefs = np.append(coefs,i[0])\n",
    "    pval = np.append(pval,i[1])\n",
    "p_val_f['coefs'] = coefs\n",
    "p_val_f['pval'] = pval"
   ]
  },
  {
   "cell_type": "code",
   "execution_count": null,
   "metadata": {},
   "outputs": [],
   "source": [
    "#making dataframe to use as mask      \n",
    "p_val_m = pd.DataFrame()\n",
    "coefs = []\n",
    "pval = []\n",
    "for i in dict_pval_m.items():\n",
    "    coefs = np.append(coefs,i[0])\n",
    "    pval = np.append(pval,i[1])\n",
    "p_val_m['coefs'] = coefs\n",
    "p_val_m['pval'] = pval"
   ]
  },
  {
   "cell_type": "markdown",
   "metadata": {},
   "source": [
    "#### Generating masked dataframes and plots"
   ]
  },
  {
   "cell_type": "code",
   "execution_count": null,
   "metadata": {},
   "outputs": [],
   "source": [
    "def arrange_pvals2(p):\n",
    "    pval_mask = pd.DataFrame()\n",
    "    for i in range(0,len(p),3050):\n",
    "        col = p.pval[i:i+3050]\n",
    "        pval_mask[f'{i}'] = col.values\n",
    "        #print(col.values)\n",
    "    pval_mask = pval_mask.rename(columns={\n",
    "    \"0\": \"Main effect canonical variate\",\n",
    "    \"3050\": \"Main effect e2/2\", \n",
    "    \"6100\": \"Main effect e2/3\", \n",
    "    \"9150\": \"Main effect e3/3\",\n",
    "    \"12200\": \"Main effect e2/4\",\n",
    "    \"15250\": \"Main effect e3/4\",\n",
    "    \"18300\": \"Main effect e4/4\",\n",
    "    \"21350\": \"Age\",\n",
    "    \"24400\": \"Canonical variate x e2/2\",\n",
    "    \"27450\": \"Canonical variate x e2/3\",\n",
    "    \"30500\": \"Canonical variate x e3/3\",\n",
    "    \"33550\": \"Canonical variate x e2/4\",\n",
    "    \"36600\": \"Canonical variate x e3/4\",\n",
    "    \"39650\": \"Canonical variate x e4/4\"})\n",
    "    return pval_mask   "
   ]
  },
  {
   "cell_type": "code",
   "execution_count": null,
   "metadata": {
    "scrolled": true
   },
   "outputs": [],
   "source": [
    "pval_f = arrange_pvals2(p_val_f)\n",
    "pval_f.head()"
   ]
  },
  {
   "cell_type": "code",
   "execution_count": null,
   "metadata": {
    "scrolled": true
   },
   "outputs": [],
   "source": [
    "pval_m = arrange_pvals2(p_val_m)\n",
    "pval_m.head()"
   ]
  },
  {
   "cell_type": "code",
   "execution_count": null,
   "metadata": {},
   "outputs": [],
   "source": [
    "real_coefs_m = real_coefs_m.reset_index(drop=True)\n",
    "real_coefs_f = real_coefs_f.reset_index(drop=True)"
   ]
  },
  {
   "cell_type": "code",
   "execution_count": null,
   "metadata": {},
   "outputs": [],
   "source": [
    "real_coefs_m"
   ]
  },
  {
   "cell_type": "code",
   "execution_count": null,
   "metadata": {},
   "outputs": [],
   "source": [
    "pval_m"
   ]
  },
  {
   "cell_type": "code",
   "execution_count": null,
   "metadata": {},
   "outputs": [],
   "source": [
    "risks = risks.drop(['Sex', 'Age'], axis=1)"
   ]
  },
  {
   "cell_type": "code",
   "execution_count": null,
   "metadata": {},
   "outputs": [],
   "source": [
    "def plot_mask(tag,pval):\n",
    "    #ploting with mask\n",
    "    \n",
    "    if tag == 'males':\n",
    "        table = real_coefs_m.mask(pval_m > pval/2, np.nan)\n",
    "    elif tag == 'females':\n",
    "        table = real_coefs_f.mask(pval_f > pval/2, np.nan)\n",
    "    counter = 0\n",
    "    for i in range(0,3050,50):\n",
    "        %matplotlib inline\n",
    "        subset = table.iloc[i:i+25]\n",
    "        plt.figure(figsize=(5.5, 4))\n",
    "        ax = plt.axes()\n",
    "        sns.heatmap(subset.T,cmap=plt.cm.RdBu_r,center=0, vmin=-0.5, vmax=0.5, xticklabels = range(1,26), cbar_kws={\"shrink\": 0.5})\n",
    "        ax.set_title(f'Interactions of HC co-variation patterns with APOE genotypes in estimating {risks.columns[counter]} in {tag}')\n",
    "        plot1_path = os.path.abspath(f'/Users/chloesavignac/_HCDMNCOV_AD/fig_5/permutation_analysis/{tag}/masked_plots/{pval}/hc_{tag}_APOE_interaction_{risks.columns[counter]}.png')\n",
    "        #plt.tight_layout()\n",
    "        plt.subplots_adjust(top=1)\n",
    "        plt.savefig(plot1_path, dpi=200, bbox_inches='tight')\n",
    "        #plt.show()\n",
    "\n",
    "        %matplotlib inline\n",
    "        subset = table.iloc[i+25:i+50]\n",
    "        plt.figure(figsize=(5.5, 4))\n",
    "        ax = plt.axes()\n",
    "        sns.heatmap(subset.T,cmap=plt.cm.RdBu_r,center=0, vmin=-0.5, vmax=0.5, xticklabels = range(1,26), cbar_kws={\"shrink\": 0.5})\n",
    "        ax.set_title(f'Interactions of DN co-variation patterns with APOE genotypes in estimating {risks.columns[counter]} in {tag}')\n",
    "        plot2_path = os.path.abspath(f'/Users/chloesavignac/_HCDMNCOV_AD/fig_5/permutation_analysis/{tag}/masked_plots/{pval}/dn_{tag}_APOE_interaction_{risks.columns[counter]}.png')\n",
    "        #plt.tight_layout()\n",
    "        plt.subplots_adjust(top=1)\n",
    "        plt.savefig(plot2_path, dpi=200, bbox_inches='tight')\n",
    "        #plt.show()\n",
    "        counter = counter + 1\n"
   ]
  },
  {
   "cell_type": "code",
   "execution_count": null,
   "metadata": {},
   "outputs": [],
   "source": [
    "plot_mask('females',0.05)"
   ]
  },
  {
   "cell_type": "code",
   "execution_count": null,
   "metadata": {},
   "outputs": [],
   "source": [
    "plot_mask('males',0.05)"
   ]
  },
  {
   "cell_type": "code",
   "execution_count": null,
   "metadata": {},
   "outputs": [],
   "source": [
    "###MALES\n",
    "plot_mask('males',0.0001)\n",
    "plot_mask('males',0.001)\n",
    "plot_mask('males',0.01)\n",
    "plot_mask('males',0.05)\n",
    "plot_mask('males',0.1)\n",
    "plot_mask('males',0.2)\n",
    "plot_mask('males',0.5)\n",
    "plot_mask('males',0.8)\n",
    "plot_mask('males',0.95)"
   ]
  },
  {
   "cell_type": "code",
   "execution_count": null,
   "metadata": {},
   "outputs": [],
   "source": [
    "###FEMALES\n",
    "plot_mask('females',0.0001)\n",
    "plot_mask('females',0.001)\n",
    "plot_mask('females',0.01)\n",
    "plot_mask('females',0.05)\n",
    "plot_mask('females',0.1)\n",
    "plot_mask('females',0.2)\n",
    "plot_mask('females',0.5)\n",
    "plot_mask('females',0.8)\n",
    "plot_mask('females',0.95)"
   ]
  }
 ],
 "metadata": {
  "hide_input": false,
  "kernelspec": {
   "display_name": "Python 3 (ipykernel)",
   "language": "python",
   "name": "python3"
  },
  "language_info": {
   "codemirror_mode": {
    "name": "ipython",
    "version": 3
   },
   "file_extension": ".py",
   "mimetype": "text/x-python",
   "name": "python",
   "nbconvert_exporter": "python",
   "pygments_lexer": "ipython3",
   "version": "3.7.11"
  },
  "toc": {
   "base_numbering": 1,
   "nav_menu": {},
   "number_sections": true,
   "sideBar": true,
   "skip_h1_title": false,
   "title_cell": "Table of Contents",
   "title_sidebar": "Contents",
   "toc_cell": true,
   "toc_position": {
    "height": "calc(100% - 180px)",
    "left": "10px",
    "top": "150px",
    "width": "256.515625px"
   },
   "toc_section_display": true,
   "toc_window_display": true
  },
  "varInspector": {
   "cols": {
    "lenName": 16,
    "lenType": 16,
    "lenVar": 40
   },
   "kernels_config": {
    "python": {
     "delete_cmd_postfix": "",
     "delete_cmd_prefix": "del ",
     "library": "var_list.py",
     "varRefreshCmd": "print(var_dic_list())"
    },
    "r": {
     "delete_cmd_postfix": ") ",
     "delete_cmd_prefix": "rm(",
     "library": "var_list.r",
     "varRefreshCmd": "cat(var_dic_list()) "
    }
   },
   "types_to_exclude": [
    "module",
    "function",
    "builtin_function_or_method",
    "instance",
    "_Feature"
   ],
   "window_display": false
  },
  "vscode": {
   "interpreter": {
    "hash": "671e99b9c61df0c7483dea00f1ea170348c8d441b26bfe10ea8f3924dd8be77b"
   }
  }
 },
 "nbformat": 4,
 "nbformat_minor": 4
}
