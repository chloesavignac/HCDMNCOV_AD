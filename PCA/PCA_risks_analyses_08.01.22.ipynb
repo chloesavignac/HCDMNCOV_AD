{
 "cells": [
  {
   "cell_type": "markdown",
   "metadata": {
    "toc": true
   },
   "source": [
    "<h1>Table of Contents<span class=\"tocSkip\"></span></h1>\n",
    "<div class=\"toc\"><ul class=\"toc-item\"><li><span><a href=\"#PCA-of-correlation-matrix-(risks-x-canonical-variates)\" data-toc-modified-id=\"PCA-of-correlation-matrix-(risks-x-canonical-variates)-1\"><span class=\"toc-item-num\">1&nbsp;&nbsp;</span>PCA of correlation matrix (risks x canonical variates)</a></span><ul class=\"toc-item\"><li><span><a href=\"#Boostrap-of-split-half-analysis\" data-toc-modified-id=\"Boostrap-of-split-half-analysis-1.1\"><span class=\"toc-item-num\">1.1&nbsp;&nbsp;</span>Boostrap of split-half analysis</a></span></li><li><span><a href=\"#Original-split-half-analysis\" data-toc-modified-id=\"Original-split-half-analysis-1.2\"><span class=\"toc-item-num\">1.2&nbsp;&nbsp;</span>Original split-half analysis</a></span><ul class=\"toc-item\"><li><span><a href=\"#Random-subset-1\" data-toc-modified-id=\"Random-subset-1-1.2.1\"><span class=\"toc-item-num\">1.2.1&nbsp;&nbsp;</span>Random subset 1</a></span></li><li><span><a href=\"#Random-subset-2\" data-toc-modified-id=\"Random-subset-2-1.2.2\"><span class=\"toc-item-num\">1.2.2&nbsp;&nbsp;</span>Random subset 2</a></span></li></ul></li><li><span><a href=\"#Bootstrapped-analysis-of-sex-specific-PCA\" data-toc-modified-id=\"Bootstrapped-analysis-of-sex-specific-PCA-1.3\"><span class=\"toc-item-num\">1.3&nbsp;&nbsp;</span>Bootstrapped analysis of sex-specific PCA</a></span></li><li><span><a href=\"#PCA-on-males-only\" data-toc-modified-id=\"PCA-on-males-only-1.4\"><span class=\"toc-item-num\">1.4&nbsp;&nbsp;</span>PCA on males only</a></span></li><li><span><a href=\"#PCA-on-females-only\" data-toc-modified-id=\"PCA-on-females-only-1.5\"><span class=\"toc-item-num\">1.5&nbsp;&nbsp;</span>PCA on females only</a></span></li></ul></li><li><span><a href=\"#All-participant-PCA\" data-toc-modified-id=\"All-participant-PCA-2\"><span class=\"toc-item-num\">2&nbsp;&nbsp;</span>All participant PCA</a></span></li></ul></div>"
   ]
  },
  {
   "cell_type": "code",
   "execution_count": null,
   "metadata": {},
   "outputs": [],
   "source": [
    "import pandas as pd\n",
    "import numpy as np\n",
    "import seaborn as sns\n",
    "import matplotlib.pylab as plt\n",
    "from sklearn.decomposition import PCA\n",
    "from sklearn.preprocessing import StandardScaler\n",
    "from sklearn.utils import resample\n",
    "from matplotlib.pyplot import figure\n",
    "from scipy import stats\n",
    "from tqdm import tqdm\n",
    "import os"
   ]
  },
  {
   "cell_type": "code",
   "execution_count": null,
   "metadata": {},
   "outputs": [],
   "source": [
    "data = pd.read_csv('HCDMNCOV_AD.csv')"
   ]
  },
  {
   "cell_type": "code",
   "execution_count": null,
   "metadata": {},
   "outputs": [],
   "source": [
    "data.head()"
   ]
  },
  {
   "cell_type": "code",
   "execution_count": null,
   "metadata": {},
   "outputs": [],
   "source": [
    "data.shape"
   ]
  },
  {
   "cell_type": "markdown",
   "metadata": {},
   "source": [
    "**SUBGROUPING**"
   ]
  },
  {
   "cell_type": "code",
   "execution_count": null,
   "metadata": {},
   "outputs": [],
   "source": [
    "#sex\n",
    "id_m = np.where((data['Sex']==1))\n",
    "id_f = np.where((data['Sex']==0))\n",
    "#age\n",
    "id_young = np.where(data['Age']<=55.0)\n",
    "id_old = np.where(data['Age']>55.0)\n",
    "#sex x age \n",
    "id_young_m = np.where((data['Age']<=55.0)&(data['Sex']==1))\n",
    "id_young_f = np.where((data['Age']<=55.0)&(data['Sex']==0))\n",
    "id_old_m = np.where((data['Age']>55.0)&(data['Sex']==1))\n",
    "id_old_f = np.where((data['Age']>55.0)&(data['Sex']==0))\n",
    "#education\n",
    "id_low_ed = np.where(data['Education score']<=6.69)\n",
    "id_high_ed = np.where(data['Education score']>6.69)\n",
    "#all \n",
    "id_all = np.where(data['eid.1']!= None)"
   ]
  },
  {
   "cell_type": "markdown",
   "metadata": {},
   "source": [
    "**GET FEATURES**"
   ]
  },
  {
   "cell_type": "code",
   "execution_count": null,
   "metadata": {},
   "outputs": [],
   "source": [
    "def features (id):\n",
    "    features = data.iloc[id]\n",
    "    AD = features['mf']\n",
    "    features_apoe = features[['e3/e3', 'e1/e3','e2/e2','e2/e3','e3/e4','e4/e4']]\n",
    "    cca_modes = features[['1',\n",
    "         '2',\n",
    "         '3',\n",
    "         '4',\n",
    "         '5',\n",
    "         '6',\n",
    "         '7',\n",
    "         '8',\n",
    "         '9',\n",
    "         '10',\n",
    "         '11',\n",
    "         '12',\n",
    "         '13',\n",
    "         '14',\n",
    "         '15',\n",
    "         '16',\n",
    "         '17',\n",
    "         '18',\n",
    "         '19',\n",
    "         '20',\n",
    "         '21',\n",
    "         '22',\n",
    "         '23',\n",
    "         '24',\n",
    "         '25',\n",
    "         '26',\n",
    "         '27',\n",
    "         '28',\n",
    "         '29',\n",
    "         '30',\n",
    "         '31',\n",
    "         '32',\n",
    "         '33',\n",
    "         '34',\n",
    "         '35',\n",
    "         '36',\n",
    "         '37',\n",
    "         '38',\n",
    "         '39',\n",
    "         '40',\n",
    "         '41',\n",
    "         '42',\n",
    "         '43',\n",
    "         '44',\n",
    "         '45',\n",
    "         '46',\n",
    "         '47',\n",
    "         '48',\n",
    "         '49',\n",
    "         '50']]\n",
    "    risks = features[['Fluid intelligence score (R)',\n",
    "              'Loneliness',\n",
    "              'Lack of social support',\n",
    "              'Age',\n",
    "              'Sex',\n",
    "              'Education score',\n",
    "              'Age completed high school education',\n",
    "              'Alcohol intake frequency',\n",
    "              'Alcohol consumption on a typical drinking day',\n",
    "              'Current tobacco smoking frequency',\n",
    "              'Past tobacco smoking frequency',\n",
    "              'Attend sports club or gym',\n",
    "              'Attend pub or social club',\n",
    "              'Attend religious group',\n",
    "              'Attend adult education class',\n",
    "              'Walking for pleasure',\n",
    "              'Moderate exercises',\n",
    "              'Strenuous sports',\n",
    "              'Sleep duration',\n",
    "              'Getting up in the morning',\n",
    "              'Being a morning person',\n",
    "              'Sleeplessness or insomnia',\n",
    "              'Heart attack',\n",
    "              'Angina',\n",
    "              'Stroke',\n",
    "              'Hypertension',\n",
    "              'Diabetes diagnosed by a doctor',\n",
    "              'Hearing difficulty with background noise',\n",
    "              'Hearing aid user',\n",
    "              'Glaucoma',\n",
    "              'Cataract',\n",
    "              'Macular degeneration',\n",
    "              'Miserableness',\n",
    "              'Fed-up feelings',\n",
    "              'Mood swings',\n",
    "              'Worrier / anxious feelings',\n",
    "              'Nervous feelings',\n",
    "              'Sensitivity / hurt feelings',\n",
    "              \"Tense / 'highly strung'\",\n",
    "              \"Suffer from 'nerves'\",\n",
    "              'Worry too long after embarrassment',\n",
    "              'Irritability',\n",
    "              'Neuroticism score',\n",
    "              'Happiness',\n",
    "              'Feelings of nervousness or anxiety',\n",
    "              'Frequency of friend / family visits',\n",
    "              'Friendships satisfaction',\n",
    "              'Family relationship satisfaction',\n",
    "              'Number of full siblings',\n",
    "              'Living in urban areas',\n",
    "              'Average household income',\n",
    "              'Paid employment',\n",
    "              'Retirement',\n",
    "              'Looking after home or family',\n",
    "              'Unable to work due to sickness or disability',\n",
    "              'Unemployment',\n",
    "              'Doing unpaid or voluntary work',\n",
    "              'Full or part-time student',\n",
    "              'Number of vehicles in household',\n",
    "              'Time spent watching TV',\n",
    "              'Time spent using computer',\n",
    "              'Number in household',\n",
    "              'Physical environment score']]\n",
    "    \n",
    "    risks = risks.rename(columns={'Worrier / anxious feelings': 'Worrier_anxious',\n",
    "                           'Fluid intelligence score (R)': 'Fluid intelligence score',\n",
    "                           'Sensitivity / hurt feelings': 'Sensitivity_Hurt feelings',\n",
    "                            \"Tense / 'highly strung'\":'Tense_Highly strung',\n",
    "                           'Frequency of friend / family visits': 'Frequency of friend or family visits'})\n",
    "    \n",
    "    return AD, features_apoe, cca_modes, risks"
   ]
  },
  {
   "cell_type": "code",
   "execution_count": null,
   "metadata": {},
   "outputs": [],
   "source": [
    "#generating features for all participants\n",
    "AD, features_apoe, all_modes, risks = features(id_all)"
   ]
  },
  {
   "cell_type": "code",
   "execution_count": null,
   "metadata": {},
   "outputs": [],
   "source": [
    "#z-scoring the risk factors\n",
    "scaler = StandardScaler()\n",
    "risks_z_scored = scaler.fit_transform(risks)"
   ]
  },
  {
   "cell_type": "markdown",
   "metadata": {},
   "source": [
    "# PCA of correlation matrix (risks x canonical variates)"
   ]
  },
  {
   "cell_type": "code",
   "execution_count": null,
   "metadata": {},
   "outputs": [],
   "source": [
    "#correlation between CCA modes and risk factors\n",
    "def get_coefs(all_modes,risks, sex=False):\n",
    "    \n",
    "    scaler = StandardScaler()\n",
    "    all_modes_zscored = scaler.fit_transform(all_modes)\n",
    "    all_modes = pd.DataFrame(all_modes_zscored, columns=range(1,51))\n",
    "    \n",
    "    scaler = StandardScaler()\n",
    "    risks_z_scored = scaler.fit_transform(risks)\n",
    "    \n",
    "    \n",
    "    all_coefs = pd.DataFrame()\n",
    "    for col in all_modes.columns:\n",
    "        coef = []\n",
    "        for i in range(0,len(risks_z_scored.T)):\n",
    "            corr_matrix = np.corrcoef(all_modes[col],risks_z_scored.T[i])\n",
    "            #print(corr_matrix)\n",
    "            coef.append(corr_matrix[1][0])\n",
    "        if sex == True:\n",
    "            coef = np.array(coef).reshape(1,62)\n",
    "        else:\n",
    "            coef = np.array(coef).reshape(1,63)\n",
    "        #index = np.array(index).flatten()\n",
    "        #print(coef)\n",
    "        #print(coef.shape)\n",
    "        coef = pd.DataFrame(coef, columns = risks.columns)\n",
    "        all_coefs = all_coefs.append(coef)\n",
    "    all_coefs = all_coefs.reset_index(drop=True)\n",
    "    all_coefs.index += 1\n",
    "    return all_coefs"
   ]
  },
  {
   "cell_type": "markdown",
   "metadata": {},
   "source": [
    "## Boostrap of split-half analysis"
   ]
  },
  {
   "cell_type": "code",
   "execution_count": null,
   "metadata": {},
   "outputs": [],
   "source": [
    "for i in tqdm(range(0,1000)):\n",
    "    \n",
    "    #resample with replacment 37291 participants to create a bootstrap distribution\n",
    "    rand_dist = resample(data, replace=True, random_state = i, n_samples = 37291)\n",
    "    rand_dist = rand_dist.reset_index()\n",
    "    \n",
    "    #generating two random subset of equal size \n",
    "    rand1 = rand_dist.sample(frac=0.5,random_state=i)\n",
    "    rand2 = rand_dist[~rand_dist.index.isin(rand1.index)]\n",
    "    \n",
    "    #get Pearson's correlations coefficients for both random subsets\n",
    "    rand1_coefs = get_coefs(features(rand1.index)[2],features(rand1.index)[3])\n",
    "    rand2_coefs = get_coefs(features(rand2.index)[2],features(rand2.index)[3])\n",
    "    \n",
    "    #z-scoring subset 1 \n",
    "    scaler = StandardScaler()\n",
    "    rand1_coefs = scaler.fit_transform(rand1_coefs)\n",
    "    #PCA for subset 1 \n",
    "    pca_1 = PCA(n_components=3)\n",
    "    risks_transformed_1 = pca_1.fit_transform(rand1_coefs.T)\n",
    "    \n",
    "    #saving results\n",
    "    if i ==0:\n",
    "        rand1_cpm = np.array(pca_1.components_.T)\n",
    "        rand1_risks = np.array(risks_transformed_1)\n",
    "        rand1_exp_var = np.array(pca_1.explained_variance_ratio_)\n",
    "    else:\n",
    "        rand1_cpm = np.append(rand1_cpm, pca_1.components_.T, axis=1)\n",
    "        rand1_risks = np.append(rand1_risks, risks_transformed_1, axis=1)\n",
    "        rand1_exp_var = np.append(rand1_exp_var, pca_1.explained_variance_ratio_)\n",
    "    \n",
    "#     #test\n",
    "#     print(rand1_cpm.shape)\n",
    "#     print(rand1_risks.shape) \n",
    "\n",
    "    #z-scoring subset 2\n",
    "    scaler = StandardScaler()\n",
    "    rand2_coefs = scaler.fit_transform(rand2_coefs)\n",
    "    #PCA for subset 2\n",
    "    pca_2 = PCA(n_components=3)\n",
    "    risks_transformed_2 = pca_2.fit_transform(rand2_coefs.T)\n",
    "\n",
    "    #saving results\n",
    "    if i ==0:\n",
    "        rand2_cpm = np.array(pca_2.components_.T)\n",
    "        rand2_risks = np.array(risks_transformed_2)\n",
    "        rand2_exp_var = np.array(pca_2.explained_variance_ratio_)\n",
    "    else:\n",
    "        rand2_cpm = np.append(rand2_cpm, pca_2.components_.T, axis=1)\n",
    "        rand2_risks = np.append(rand2_risks, risks_transformed_2, axis=1)\n",
    "        rand2_exp_var = np.append(rand2_exp_var, pca_2.explained_variance_ratio_)\n",
    "    \n",
    "#     #test\n",
    "#     print(rand2_cpm.shape)\n",
    "#     print(rand2_risks.shape)  "
   ]
  },
  {
   "cell_type": "code",
   "execution_count": null,
   "metadata": {},
   "outputs": [],
   "source": [
    "cols = []\n",
    "for i in range(1,26):\n",
    "    cols.append(f'HC_{i}')\n",
    "for i in range(1,26):\n",
    "    cols.append(f'DN_{i}')"
   ]
  },
  {
   "cell_type": "code",
   "execution_count": null,
   "metadata": {
    "scrolled": true
   },
   "outputs": [],
   "source": [
    "%matplotlib inline\n",
    "figure(figsize=(10, 10), dpi=80)\n",
    "corr_mat = np.corrcoef(rand1_cpm[:,::3], -1*rand2_cpm[:,::3])\n",
    "sns.heatmap(corr_mat[50:,:50], cmap=plt.cm.RdBu_r, center=0, vmin=-1, vmax=+1, yticklabels=cols,xticklabels=cols)\n",
    "plt.title('Pearson\\'s correlations of the weights for component 1 across bootstrapped iterations for random subsets 1 and 2')\n",
    "#plot1_path = 'CCA_plots/all/CCA_APOE_AD/DMN_APOE_interactions_AD.png'\n",
    "#plt.tight_layout()\n",
    "plt.subplots_adjust(top=1)\n",
    "plt.savefig('component_1_pearson_bootstrapped_weights.png', dpi=200, bbox_inches='tight')\n",
    "plt.show()"
   ]
  },
  {
   "cell_type": "code",
   "execution_count": null,
   "metadata": {
    "scrolled": true
   },
   "outputs": [],
   "source": [
    "%matplotlib inline\n",
    "figure(figsize=(10, 10), dpi=80)\n",
    "corr_mat = np.corrcoef(rand1_cpm[:,1::3], -1*rand2_cpm[:,1::3])\n",
    "sns.heatmap(corr_mat[50:,:50], cmap=plt.cm.RdBu_r, center=0, vmin=-1, vmax=+1, yticklabels=cols,xticklabels=cols)\n",
    "plt.title('Pearson\\'s correlations of the weights for component 2 across bootstrapped iterations for random subsets 1 and 2')\n",
    "#plot1_path = 'CCA_plots/all/CCA_APOE_AD/DMN_APOE_interactions_AD.png'\n",
    "#plt.tight_layout()\n",
    "plt.subplots_adjust(top=1)\n",
    "plt.savefig('component_2_pearson_bootstrapped_weights.png', dpi=200, bbox_inches='tight')\n",
    "plt.show()"
   ]
  },
  {
   "cell_type": "code",
   "execution_count": null,
   "metadata": {
    "scrolled": true
   },
   "outputs": [],
   "source": [
    "%matplotlib inline\n",
    "figure(figsize=(10, 10), dpi=80)\n",
    "corr_mat = np.corrcoef(rand1_cpm[:,2::3], -1*rand2_cpm[:,2::3])\n",
    "sns.heatmap(corr_mat[50:,:50], cmap=plt.cm.RdBu_r, center=0, vmin=-1, vmax=+1, yticklabels=cols,xticklabels=cols)\n",
    "plt.title('Pearson\\'s correlations of the weights for component 3 across bootstrapped iterations for random subsets 1 and 2')\n",
    "#plot1_path = 'CCA_plots/all/CCA_APOE_AD/DMN_APOE_interactions_AD.png'\n",
    "#plt.tight_layout()\n",
    "plt.subplots_adjust(top=1)\n",
    "plt.savefig('component_3_pearson_bootstrapped_weights.png', dpi=200, bbox_inches='tight')\n",
    "plt.show()"
   ]
  },
  {
   "cell_type": "code",
   "execution_count": null,
   "metadata": {
    "scrolled": true
   },
   "outputs": [],
   "source": [
    "%matplotlib inline\n",
    "figure(figsize=(10, 10), dpi=80)\n",
    "corr_mat = np.corrcoef(rand1_risks[:,::3], -1*rand2_risks[:,::3])\n",
    "sns.heatmap(corr_mat[63:,:63], cmap=plt.cm.RdBu_r, center=0, vmin=-1, vmax=+1, yticklabels=risks.columns,xticklabels=risks.columns)\n",
    "plt.title('Pearson\\'s correlations of the projections on component 1 across bootstrapped iterations for random subsets 1 and 2')\n",
    "#plot1_path = 'CCA_plots/all/CCA_APOE_AD/DMN_APOE_interactions_AD.png'\n",
    "#plt.tight_layout()\n",
    "plt.subplots_adjust(top=1)\n",
    "plt.savefig('component_1_pearson_bootstrapped_projections.png', dpi=200, bbox_inches='tight')\n",
    "plt.show()"
   ]
  },
  {
   "cell_type": "code",
   "execution_count": null,
   "metadata": {
    "scrolled": true
   },
   "outputs": [],
   "source": [
    "%matplotlib inline\n",
    "figure(figsize=(10, 10), dpi=80)\n",
    "corr_mat = np.corrcoef(rand1_risks[:,1::3], -1*rand2_risks[:,1::3])\n",
    "sns.heatmap(corr_mat[63:,:63], cmap=plt.cm.RdBu_r, center=0, vmin=-1, vmax=+1, yticklabels=risks.columns,xticklabels=risks.columns)\n",
    "plt.title('Pearson\\'s correlations of the projections on component 2 across bootstrapped iterations for random subsets 1 and 2')\n",
    "#plot1_path = 'CCA_plots/all/CCA_APOE_AD/DMN_APOE_interactions_AD.png'\n",
    "#plt.tight_layout()\n",
    "plt.subplots_adjust(top=1)\n",
    "plt.savefig('component_2_pearson_bootstrapped_projections.png', dpi=200, bbox_inches='tight')\n",
    "plt.show()"
   ]
  },
  {
   "cell_type": "code",
   "execution_count": null,
   "metadata": {
    "scrolled": true
   },
   "outputs": [],
   "source": [
    "%matplotlib inline\n",
    "figure(figsize=(10, 10), dpi=80)\n",
    "corr_mat = np.corrcoef(rand1_risks[:,2::3], -1*rand2_risks[:,2::3])\n",
    "sns.heatmap(corr_mat[63:,:63], cmap=plt.cm.RdBu_r, center=0, vmin=-1, vmax=+1, yticklabels=risks.columns,xticklabels=risks.columns)\n",
    "plt.title('Pearson\\'s correlations of the projections on component 3 across bootstrapped iterations for random subsets 1 and 2')\n",
    "#plot1_path = 'CCA_plots/all/CCA_APOE_AD/DMN_APOE_interactions_AD.png'\n",
    "#plt.tight_layout()\n",
    "plt.subplots_adjust(top=1)\n",
    "plt.savefig('component_3_pearson_bootstrapped_projections.png', dpi=200, bbox_inches='tight')\n",
    "plt.show()"
   ]
  },
  {
   "cell_type": "code",
   "execution_count": null,
   "metadata": {},
   "outputs": [],
   "source": [
    "np.savetxt(\"rand1_cpm.csv\", rand1_cpm, delimiter=\",\")\n",
    "np.savetxt(\"rand2_cpm.csv\", rand2_cpm, delimiter=\",\")\n",
    "\n",
    "np.savetxt(\"rand1_risks.csv\", rand1_risks, delimiter=\",\")\n",
    "np.savetxt(\"rand2_risks.csv\", rand2_risks, delimiter=\",\")\n",
    "\n",
    "np.savetxt(\"rand1_exp_var.csv\", rand1_exp_var, delimiter=\",\")\n",
    "np.savetxt(\"rand2_exp_var.csv\", rand2_exp_var, delimiter=\",\")"
   ]
  },
  {
   "cell_type": "markdown",
   "metadata": {},
   "source": [
    "## Original split-half analysis"
   ]
  },
  {
   "cell_type": "code",
   "execution_count": null,
   "metadata": {},
   "outputs": [],
   "source": [
    "rand1 = data.sample(frac=0.5,random_state=42)\n",
    "rand2 = data[~data.index.isin(rand1.index)]"
   ]
  },
  {
   "cell_type": "code",
   "execution_count": null,
   "metadata": {},
   "outputs": [],
   "source": [
    "rand1_coefs = get_coefs(features(rand1.index)[2],features(rand1.index)[3])\n",
    "rand2_coefs = get_coefs(features(rand2.index)[2],features(rand2.index)[3])"
   ]
  },
  {
   "cell_type": "code",
   "execution_count": null,
   "metadata": {},
   "outputs": [],
   "source": [
    "#z-scoring\n",
    "scaler = StandardScaler()\n",
    "rand1_coefs = scaler.fit_transform(rand1_coefs)\n",
    "\n",
    "scaler = StandardScaler()\n",
    "rand2_coefs = scaler.fit_transform(rand2_coefs)"
   ]
  },
  {
   "cell_type": "markdown",
   "metadata": {},
   "source": [
    "### Random subset 1"
   ]
  },
  {
   "cell_type": "code",
   "execution_count": null,
   "metadata": {},
   "outputs": [],
   "source": [
    "pca = PCA(n_components=3)\n",
    "risks_transformed = pca.fit_transform(rand1_coefs.T)\n",
    "pca.explained_variance_ratio_"
   ]
  },
  {
   "cell_type": "code",
   "execution_count": null,
   "metadata": {},
   "outputs": [],
   "source": [
    "%matplotlib inline\n",
    "figure(figsize=(5, 5), dpi=80)\n",
    "sns.heatmap(pca.components_[:,0:10], cmap='PiYG', square = True, center=0, yticklabels=['PC1','PC2','PC3'], xticklabels=range(1,11), cbar_kws={\"shrink\": 0.2}, vmin = -0.5, vmax = 0.5)\n",
    "plt.title('Eigenvectors for HC patterns')\n",
    "#plot1_path = 'CCA_plots/all/CCA_APOE_AD/DMN_APOE_interactions_AD.png'\n",
    "#plt.tight_layout()\n",
    "plt.subplots_adjust(top=1)\n",
    "#plt.savefig('pca_eigenvetcors_rand1_HC.png', dpi=200, bbox_inches='tight')"
   ]
  },
  {
   "cell_type": "code",
   "execution_count": null,
   "metadata": {},
   "outputs": [],
   "source": [
    "%matplotlib inline\n",
    "figure(figsize=(5, 5), dpi=80)\n",
    "sns.heatmap(pca.components_[:,25:35], cmap='PiYG', square = True, center=0, yticklabels=['PC1','PC2','PC3'], xticklabels=range(1,11), cbar_kws={\"shrink\": 0.2}, vmin = -0.5, vmax = 0.5)\n",
    "plt.title('Eigenvectors for DN patterns')\n",
    "#plot1_path = 'CCA_plots/all/CCA_APOE_AD/DMN_APOE_interactions_AD.png'\n",
    "#plt.tight_layout()\n",
    "plt.subplots_adjust(top=1)\n",
    "plt.savefig('pca_eigenvetcors_rand1_DN.png', dpi=200, bbox_inches='tight')"
   ]
  },
  {
   "cell_type": "code",
   "execution_count": null,
   "metadata": {},
   "outputs": [],
   "source": [
    "%matplotlib inline\n",
    "figure(figsize=(4, 10), dpi=80)\n",
    "sns.heatmap(risks_transformed, cmap=plt.cm.RdBu_r, center=0, xticklabels=['PC1','PC2','PC3'], yticklabels=risks.drop('Sex',axis=1).columns,vmax=5, vmin=-5)\n",
    "plt.title('Projections of the Pearson\\'s correlations onto the PCs for random subset 1')\n",
    "#plot1_path = 'CCA_plots/all/CCA_APOE_AD/DMN_APOE_interactions_AD.png'\n",
    "#plt.tight_layout()\n",
    "plt.subplots_adjust(top=1)\n",
    "plt.savefig('rand1_pca.png', dpi=200, bbox_inches='tight')\n",
    "plt.show()"
   ]
  },
  {
   "cell_type": "markdown",
   "metadata": {},
   "source": [
    "### Random subset 2"
   ]
  },
  {
   "cell_type": "code",
   "execution_count": null,
   "metadata": {},
   "outputs": [],
   "source": [
    "pca = PCA(n_components=3)\n",
    "risks_transformed = pca.fit_transform(rand2_coefs.T)\n",
    "pca.explained_variance_ratio_"
   ]
  },
  {
   "cell_type": "code",
   "execution_count": null,
   "metadata": {},
   "outputs": [],
   "source": [
    "%matplotlib inline\n",
    "figure(figsize=(5, 10), dpi=80)\n",
    "sns.heatmap(pca.components_[:,0:10], cmap='PiYG', square = True, center=0, yticklabels=['PC1','PC2','PC3'], xticklabels=range(1,11), cbar_kws={\"shrink\": 0.4}, vmin = -0.5, vmax = 0.5)\n",
    "plt.title('Eigenvectors for HC patterns')\n",
    "#plot1_path = 'CCA_plots/all/CCA_APOE_AD/DMN_APOE_interactions_AD.png'\n",
    "#plt.tight_layout()\n",
    "plt.subplots_adjust(top=1)\n",
    "plt.savefig('pca_eigenvetcors_rand2_HC.png', dpi=200, bbox_inches='tight')"
   ]
  },
  {
   "cell_type": "code",
   "execution_count": null,
   "metadata": {},
   "outputs": [],
   "source": [
    "%matplotlib inline\n",
    "figure(figsize=(5, 5), dpi=80)\n",
    "sns.heatmap(pca.components_[:,25:35], cmap='PiYG', square = True, center=0, yticklabels=['PC1','PC2','PC3'], xticklabels=range(1,11), cbar_kws={\"shrink\": 0.2}, vmin = -0.5, vmax = 0.5)\n",
    "plt.title('Eigenvectors for DN patterns')\n",
    "#plot1_path = 'CCA_plots/all/CCA_APOE_AD/DMN_APOE_interactions_AD.png'\n",
    "#plt.tight_layout()\n",
    "plt.subplots_adjust(top=1)\n",
    "plt.savefig('pca_eigenvetcors_rand2_DN.png', dpi=200, bbox_inches='tight')"
   ]
  },
  {
   "cell_type": "code",
   "execution_count": null,
   "metadata": {},
   "outputs": [],
   "source": [
    "%matplotlib inline\n",
    "figure(figsize=(4, 10), dpi=80)\n",
    "sns.heatmap(risks_transformed, cmap=plt.cm.RdBu_r, center=0, xticklabels=['PC1','PC2','PC3'], yticklabels=risks.drop('Sex',axis=1).columns, cbar_kws={\"shrink\": 0.4}, vmax=5, vmin=-5)\n",
    "plt.title('Projections of the Pearson\\'s correlations onto the PCs for for random subset 2')\n",
    "#plot1_path = 'CCA_plots/all/CCA_APOE_AD/DMN_APOE_interactions_AD.png'\n",
    "#plt.tight_layout()\n",
    "plt.subplots_adjust(top=1)\n",
    "plt.savefig('rand2_pca.png', dpi=200, bbox_inches='tight')\n",
    "plt.show()"
   ]
  },
  {
   "cell_type": "markdown",
   "metadata": {},
   "source": [
    "## Bootstrapped analysis of sex-specific PCA "
   ]
  },
  {
   "cell_type": "code",
   "execution_count": null,
   "metadata": {},
   "outputs": [],
   "source": [
    "#generating features for males participants\n",
    "AD_m, features_apoe_m, all_modes_m, risks_m = features(id_m)"
   ]
  },
  {
   "cell_type": "code",
   "execution_count": null,
   "metadata": {},
   "outputs": [],
   "source": [
    "#generating features for females participants\n",
    "AD_f, features_apoe_f, all_modes_f, risks_f = features(id_f)"
   ]
  },
  {
   "cell_type": "code",
   "execution_count": null,
   "metadata": {},
   "outputs": [],
   "source": [
    "for i in tqdm(range(0,1000)):\n",
    "    \n",
    "    AD_m, features_apoe_m, all_modes_m, risks_m = features(id_m)\n",
    "    AD_f, features_apoe_f, all_modes_f, risks_f = features(id_f)\n",
    "    \n",
    "    all_modes_m, risks_m = resample(all_modes_m, risks_m.drop('Sex',axis=1), replace=True, random_state = i, n_samples = 17561)\n",
    "    all_modes_f, risks_f = resample(all_modes_f, risks_f.drop('Sex',axis=1), replace=True, random_state = i, n_samples = 19730)\n",
    "    \n",
    "    all_coefs_m = get_coefs(all_modes_m,risks_m, sex=True)\n",
    "    all_coefs_f = get_coefs(all_modes_f,risks_f, sex=True)\n",
    "    \n",
    "    #z-scoring males\n",
    "    scaler = StandardScaler()\n",
    "    z_all_coefs_m = scaler.fit_transform(all_coefs_m)\n",
    "    \n",
    "#     print(z_all_coefs_m.shape)\n",
    "    \n",
    "    #PCA for males\n",
    "    pca_m = PCA(n_components=3)\n",
    "    risks_transformed_m = pca_m.fit_transform(z_all_coefs_m.T)\n",
    "    \n",
    "    #saving results\n",
    "    if i ==0:\n",
    "        males_cpm = np.array(pca_m.components_.T)\n",
    "        males_risks = np.array(risks_transformed_m)\n",
    "        males_exp_var = np.array(pca_m.explained_variance_ratio_)\n",
    "    else:\n",
    "        males_cpm = np.append(males_cpm, pca_m.components_.T, axis=1)\n",
    "        males_risks = np.append(males_risks, risks_transformed_m, axis=1)\n",
    "        males_exp_var = np.append(males_exp_var, pca_m.explained_variance_ratio_)\n",
    "    \n",
    "#     #test\n",
    "#     print(males_cpm.shape)\n",
    "#     print(males_risks.shape) \n",
    "\n",
    "    #z-scoring females\n",
    "    scaler = StandardScaler()\n",
    "    z_all_coefs_f = scaler.fit_transform(all_coefs_f)\n",
    "    \n",
    "#     print(z_all_coefs_f.shape)\n",
    "    \n",
    "    #PCA for females\n",
    "    pca_f = PCA(n_components=3)\n",
    "    risks_transformed_f = pca_f.fit_transform(z_all_coefs_f.T)\n",
    "\n",
    "    #saving results\n",
    "    if i ==0:\n",
    "        females_cpm = np.array(pca_f.components_.T)\n",
    "        females_risks = np.array(risks_transformed_f)\n",
    "        females_exp_var = np.array(pca_f.explained_variance_ratio_)\n",
    "    else:\n",
    "        females_cpm = np.append(females_cpm, pca_f.components_.T, axis=1)\n",
    "        females_risks = np.append(females_risks, risks_transformed_f, axis=1)\n",
    "        females_exp_var = np.append(females_exp_var, pca_f.explained_variance_ratio_)\n",
    "    \n",
    "#     #test\n",
    "#     print(females_cpm.shape)\n",
    "#     print(females_risks.shape)  "
   ]
  },
  {
   "cell_type": "code",
   "execution_count": null,
   "metadata": {},
   "outputs": [],
   "source": [
    "%matplotlib inline\n",
    "figure(figsize=(10, 10), dpi=80)\n",
    "corr_mat = np.corrcoef(males_cpm[:,::3], females_cpm[:,::3])\n",
    "sns.heatmap(corr_mat[50:,:50], cmap=plt.cm.RdBu_r, center=0, vmin=-1, vmax=+1, yticklabels=cols,xticklabels=cols)\n",
    "plt.title('Pearson\\'s correlations of the weights for component 1 across bootstrapped iterations for PCA ran on males and females')\n",
    "#plot1_path = 'CCA_plots/all/CCA_APOE_AD/DMN_APOE_interactions_AD.png'\n",
    "#plt.tight_layout()\n",
    "plt.subplots_adjust(top=1)\n",
    "plt.savefig('component_1_pearson_bootstrapped_weights_sex.png', dpi=200, bbox_inches='tight')\n",
    "plt.show()"
   ]
  },
  {
   "cell_type": "code",
   "execution_count": null,
   "metadata": {},
   "outputs": [],
   "source": [
    "%matplotlib inline\n",
    "figure(figsize=(10, 10), dpi=80)\n",
    "corr_mat = np.corrcoef(males_cpm[:,1::3], females_cpm[:,1::3])\n",
    "sns.heatmap(corr_mat[50:,:50], cmap=plt.cm.RdBu_r, center=0, vmin=-1, vmax=+1, yticklabels=cols,xticklabels=cols)\n",
    "plt.title('Pearson\\'s correlations of the weights for component 2 across bootstrapped iterations for PCA ran on males and females')\n",
    "#plot1_path = 'CCA_plots/all/CCA_APOE_AD/DMN_APOE_interactions_AD.png'\n",
    "#plt.tight_layout()\n",
    "plt.subplots_adjust(top=1)\n",
    "plt.savefig('component_2_pearson_bootstrapped_weights_sex.png', dpi=200, bbox_inches='tight')\n",
    "plt.show()"
   ]
  },
  {
   "cell_type": "code",
   "execution_count": null,
   "metadata": {},
   "outputs": [],
   "source": [
    "%matplotlib inline\n",
    "figure(figsize=(10, 10), dpi=80)\n",
    "corr_mat = np.corrcoef(males_cpm[:,2::3], females_cpm[:,2::3])\n",
    "sns.heatmap(corr_mat[50:,:50], cmap=plt.cm.RdBu_r, center=0, vmin=-1, vmax=+1, yticklabels=cols,xticklabels=cols)\n",
    "plt.title('Pearson\\'s correlations of the weights for component 3 across bootstrapped iterations for PCA ran on males and females')\n",
    "#plot1_path = 'CCA_plots/all/CCA_APOE_AD/DMN_APOE_interactions_AD.png'\n",
    "#plt.tight_layout()\n",
    "plt.subplots_adjust(top=1)\n",
    "plt.savefig('component_3_pearson_bootstrapped_weights_sex.png', dpi=200, bbox_inches='tight')\n",
    "plt.show()"
   ]
  },
  {
   "cell_type": "code",
   "execution_count": null,
   "metadata": {},
   "outputs": [],
   "source": [
    "%matplotlib inline\n",
    "figure(figsize=(10, 10), dpi=80)\n",
    "corr_mat = np.corrcoef(males_risks[:,::3], females_risks[:,::3])\n",
    "sns.heatmap(corr_mat[62:,:62], cmap=plt.cm.RdBu_r, center=0, vmin=-1, vmax=+1, yticklabels=risks_m.columns,xticklabels=risks_m.columns)\n",
    "plt.title('Pearson\\'s correlations of the projections on component 1 across bootstrapped iterations for PCA ran on males and females')\n",
    "#plot1_path = 'CCA_plots/all/CCA_APOE_AD/DMN_APOE_interactions_AD.png'\n",
    "#plt.tight_layout()\n",
    "plt.subplots_adjust(top=1)\n",
    "plt.savefig('component_1_pearson_bootstrapped_projections_sex.png', dpi=200, bbox_inches='tight')\n",
    "plt.show()"
   ]
  },
  {
   "cell_type": "code",
   "execution_count": null,
   "metadata": {},
   "outputs": [],
   "source": [
    "%matplotlib inline\n",
    "figure(figsize=(10, 10), dpi=80)\n",
    "corr_mat = np.corrcoef(males_risks[:,1::3], females_risks[:,1::3])\n",
    "sns.heatmap(corr_mat[62:,:62], cmap=plt.cm.RdBu_r, center=0, vmin=-1, vmax=+1, yticklabels=risks_m.columns,xticklabels=risks_m.columns)\n",
    "plt.title('Pearson\\'s correlations of the projections on component 2 across bootstrapped iterations for PCA ran on males and females')\n",
    "#plot1_path = 'CCA_plots/all/CCA_APOE_AD/DMN_APOE_interactions_AD.png'\n",
    "#plt.tight_layout()\n",
    "plt.subplots_adjust(top=1)\n",
    "plt.savefig('component_2_pearson_bootstrapped_projections_sex.png', dpi=200, bbox_inches='tight')\n",
    "plt.show()"
   ]
  },
  {
   "cell_type": "code",
   "execution_count": null,
   "metadata": {
    "scrolled": true
   },
   "outputs": [],
   "source": [
    "%matplotlib inline\n",
    "figure(figsize=(10, 10), dpi=80)\n",
    "corr_mat = np.corrcoef(males_risks[:,2::3], females_risks[:,2::3])\n",
    "sns.heatmap(corr_mat[62:,:62], cmap=plt.cm.RdBu_r, center=0, vmin=-1, vmax=+1, yticklabels=risks_m.columns,xticklabels=risks_m.columns)\n",
    "plt.title('Pearson\\'s correlations of the projections on component 3 across bootstrapped iterations for PCA ran on males and females')\n",
    "#plot1_path = 'CCA_plots/all/CCA_APOE_AD/DMN_APOE_interactions_AD.png'\n",
    "#plt.tight_layout()\n",
    "plt.subplots_adjust(top=1)\n",
    "plt.savefig('component_3_pearson_bootstrapped_projections_sex.png', dpi=200, bbox_inches='tight')\n",
    "plt.show()"
   ]
  },
  {
   "cell_type": "code",
   "execution_count": null,
   "metadata": {},
   "outputs": [],
   "source": [
    "np.savetxt(\"females_cpm.csv\", females_cpm, delimiter=\",\")\n",
    "np.savetxt(\"males_cpm.csv\", males_cpm, delimiter=\",\")\n",
    "\n",
    "np.savetxt(\"females_risks.csv\", females_risks, delimiter=\",\")\n",
    "np.savetxt(\"males_risks.csv\", males_risks, delimiter=\",\")\n",
    "\n",
    "np.savetxt(\"females_exp_var.csv\", females_exp_var, delimiter=\",\")\n",
    "np.savetxt(\"males_exp_var.csv\", males_exp_var, delimiter=\",\")"
   ]
  },
  {
   "cell_type": "markdown",
   "metadata": {},
   "source": [
    "## PCA on males only "
   ]
  },
  {
   "cell_type": "code",
   "execution_count": null,
   "metadata": {
    "scrolled": true
   },
   "outputs": [],
   "source": [
    "all_coefs_m = get_coefs(features(id_m)[2],features(id_m)[3].drop('Sex',axis=1))"
   ]
  },
  {
   "cell_type": "code",
   "execution_count": null,
   "metadata": {},
   "outputs": [],
   "source": [
    "scaler = StandardScaler()\n",
    "all_coefs_m = scaler.fit_transform(all_coefs_m)"
   ]
  },
  {
   "cell_type": "code",
   "execution_count": null,
   "metadata": {},
   "outputs": [],
   "source": [
    "pca = PCA(n_components=3)\n",
    "risks_transformed = pca.fit_transform(all_coefs_m.T)\n",
    "pca.explained_variance_ratio_"
   ]
  },
  {
   "cell_type": "code",
   "execution_count": null,
   "metadata": {},
   "outputs": [],
   "source": [
    "%matplotlib inline\n",
    "figure(figsize=(5, 5), dpi=80)\n",
    "sns.heatmap(pca.components_[:,0:10], cmap='PiYG', square = True, center=0, yticklabels=['PC1','PC2','PC3'], xticklabels=range(1,11), cbar_kws={\"shrink\": 0.2}, vmin = -0.5, vmax = 0.5)\n",
    "plt.title('Eigenvectors for HC patterns')\n",
    "#plot1_path = 'CCA_plots/all/CCA_APOE_AD/DMN_APOE_interactions_AD.png'\n",
    "#plt.tight_layout()\n",
    "plt.subplots_adjust(top=1)\n",
    "plt.savefig('pca_eigenvetcors_males_HC.png', dpi=200, bbox_inches='tight')"
   ]
  },
  {
   "cell_type": "code",
   "execution_count": null,
   "metadata": {},
   "outputs": [],
   "source": [
    "%matplotlib inline\n",
    "figure(figsize=(5, 5), dpi=80)\n",
    "sns.heatmap(pca.components_[:,25:35], cmap='PiYG', square = True, center=0, yticklabels=['PC1','PC2','PC3'], xticklabels=range(1,11), cbar_kws={\"shrink\": 0.2}, vmin = -0.5, vmax = 0.5)\n",
    "plt.title('Eigenvectors for DN patterns')\n",
    "#plot1_path = 'CCA_plots/all/CCA_APOE_AD/DMN_APOE_interactions_AD.png'\n",
    "#plt.tight_layout()\n",
    "plt.subplots_adjust(top=1)\n",
    "plt.savefig('pca_eigenvetcors_males_DN.png', dpi=200, bbox_inches='tight')"
   ]
  },
  {
   "cell_type": "code",
   "execution_count": null,
   "metadata": {},
   "outputs": [],
   "source": [
    "%matplotlib inline\n",
    "figure(figsize=(4, 10), dpi=80)\n",
    "sns.heatmap(risks_transformed, cmap=plt.cm.RdBu_r, center=0, xticklabels=['PC1','PC2','PC3'], yticklabels=risks.drop('Sex',axis=1).columns, cbar_kws={\"shrink\": 0.4}, vmax=5, vmin=-5)\n",
    "plt.title('Projections of the Pearson\\'s correlations onto the PCs in males')\n",
    "#plot1_path = 'CCA_plots/all/CCA_APOE_AD/DMN_APOE_interactions_AD.png'\n",
    "#plt.tight_layout()\n",
    "plt.subplots_adjust(top=1)\n",
    "plt.savefig('males_pca.png', dpi=200, bbox_inches='tight')"
   ]
  },
  {
   "cell_type": "markdown",
   "metadata": {},
   "source": [
    "## PCA on females only"
   ]
  },
  {
   "cell_type": "code",
   "execution_count": null,
   "metadata": {},
   "outputs": [],
   "source": [
    "all_coefs_f = get_coefs(features(id_f)[2],features(id_f)[3].drop('Sex',axis=1))"
   ]
  },
  {
   "cell_type": "code",
   "execution_count": null,
   "metadata": {},
   "outputs": [],
   "source": [
    "scaler = StandardScaler()\n",
    "all_coefs_f = scaler.fit_transform(all_coefs_f)"
   ]
  },
  {
   "cell_type": "code",
   "execution_count": null,
   "metadata": {},
   "outputs": [],
   "source": [
    "pca = PCA(n_components=3)\n",
    "risks_transformed = pca.fit_transform(all_coefs_f.T)\n",
    "pca.explained_variance_ratio_"
   ]
  },
  {
   "cell_type": "code",
   "execution_count": null,
   "metadata": {},
   "outputs": [],
   "source": [
    "%matplotlib inline\n",
    "figure(figsize=(5, 5), dpi=80)\n",
    "sns.heatmap(pca.components_[:,0:10], cmap='PiYG', square = True, center=0, yticklabels=['PC1','PC2','PC3'], xticklabels=range(1,11), cbar_kws={\"shrink\": 0.2}, vmin = -0.5, vmax = 0.5)\n",
    "plt.title('Eigenvectors for HC patterns')\n",
    "#plot1_path = 'CCA_plots/all/CCA_APOE_AD/DMN_APOE_interactions_AD.png'\n",
    "#plt.tight_layout()\n",
    "plt.subplots_adjust(top=1)\n",
    "plt.savefig('pca_eigenvetcors_females_HC.png', dpi=200, bbox_inches='tight')"
   ]
  },
  {
   "cell_type": "code",
   "execution_count": null,
   "metadata": {},
   "outputs": [],
   "source": [
    "%matplotlib inline\n",
    "figure(figsize=(5, 5), dpi=80)\n",
    "sns.heatmap(pca.components_[:,25:35], cmap='PiYG', square = True, center=0, yticklabels=['PC1','PC2','PC3'], xticklabels=range(1,11), cbar_kws={\"shrink\": 0.2}, vmin = -0.5, vmax = 0.5)\n",
    "plt.title('Eigenvectors for DN patterns')\n",
    "#plot1_path = 'CCA_plots/all/CCA_APOE_AD/DMN_APOE_interactions_AD.png'\n",
    "#plt.tight_layout()\n",
    "plt.subplots_adjust(top=1)\n",
    "plt.savefig('pca_eigenvetcors_females_DN.png', dpi=200, bbox_inches='tight')"
   ]
  },
  {
   "cell_type": "code",
   "execution_count": null,
   "metadata": {},
   "outputs": [],
   "source": [
    "# XXX of each mode to each latent risk factor\n",
    "%matplotlib inline\n",
    "figure(figsize=(4, 10), dpi=80)\n",
    "sns.heatmap(risks_transformed, cmap=plt.cm.RdBu_r, center=0, xticklabels=['PC1','PC2','PC3'], yticklabels=risks.drop('Sex',axis=1).columns, cbar_kws={\"shrink\": 0.4}, vmax=5, vmin=-5)\n",
    "plt.title('Projections of the Pearson\\'s correlations onto the PCs in females')\n",
    "#plot1_path = 'CCA_plots/all/CCA_APOE_AD/DMN_APOE_interactions_AD.png'\n",
    "#plt.tight_layout()\n",
    "plt.subplots_adjust(top=1)\n",
    "plt.savefig('pca_females.png', dpi=200, bbox_inches='tight')"
   ]
  },
  {
   "cell_type": "markdown",
   "metadata": {},
   "source": [
    "# All participant PCA"
   ]
  },
  {
   "cell_type": "code",
   "execution_count": null,
   "metadata": {},
   "outputs": [],
   "source": [
    "all_coefs = get_coefs(features(id_all)[2],features(id_all)[3])\n",
    "\n",
    "scaler = StandardScaler()\n",
    "all_coefs_zscored = scaler.fit_transform(all_coefs)\n",
    "\n",
    "pca = PCA(n_components=3)\n",
    "risks_transformed = pca.fit_transform(all_coefs_zscored.T)"
   ]
  },
  {
   "cell_type": "code",
   "execution_count": null,
   "metadata": {},
   "outputs": [],
   "source": [
    "#correlation of each mode to each latent risk factor\n",
    "%matplotlib inline\n",
    "figure(figsize=(5, 5), dpi=80)\n",
    "sns.heatmap(pca.components_[:,0:10], cmap='PiYG', square = True, center=0, yticklabels=['PC1','PC2','PC3'], xticklabels=range(1,11), cbar_kws={\"shrink\": 0.2}, vmin = -0.5, vmax = 0.5)\n",
    "plt.title('Eigenvectors for HC patterns')\n",
    "#plot1_path = 'CCA_plots/all/CCA_APOE_AD/DMN_APOE_interactions_AD.png'\n",
    "#plt.tight_layout()\n",
    "plt.subplots_adjust(top=1)\n",
    "#plt.savefig('pca_eigenvetcors_all_HC.png', dpi=200, bbox_inches='tight')"
   ]
  },
  {
   "cell_type": "code",
   "execution_count": null,
   "metadata": {},
   "outputs": [],
   "source": [
    "%matplotlib inline\n",
    "figure(figsize=(5, 5), dpi=80)\n",
    "sns.heatmap(pca.components_[:,25:35], cmap='PiYG', square = True, center=0, yticklabels=['PC1','PC2','PC3'], xticklabels=range(1,11), cbar_kws={\"shrink\": 0.2}, vmin = -0.5, vmax = 0.5)\n",
    "plt.title('Eigenvectors for DN patterns')\n",
    "#plot1_path = 'CCA_plots/all/CCA_APOE_AD/DMN_APOE_interactions_AD.png'\n",
    "#plt.tight_layout()\n",
    "plt.subplots_adjust(top=1)\n",
    "#plt.savefig('pca_eigenvetcors_all_DN.png', dpi=200, bbox_inches='tight')"
   ]
  },
  {
   "cell_type": "code",
   "execution_count": null,
   "metadata": {},
   "outputs": [],
   "source": [
    "# XXX of each mode to each latent risk factor\n",
    "%matplotlib inline\n",
    "figure(figsize=(4, 10), dpi=80)\n",
    "sns.heatmap(risks_transformed, cmap=plt.cm.RdBu_r, center=0, xticklabels=['PC1','PC2','PC3'], yticklabels=risks.columns, cbar_kws={\"shrink\": 0.2}, vmax=5, vmin=-5)\n",
    "plt.title('Projections of the Pearson\\'s correlations onto the PCs')\n",
    "#plot1_path = 'CCA_plots/all/CCA_APOE_AD/DMN_APOE_interactions_AD.png'\n",
    "#plt.tight_layout()\n",
    "plt.subplots_adjust(top=1)\n",
    "plt.savefig('pca_projections.png', dpi=200, bbox_inches='tight')"
   ]
  }
 ],
 "metadata": {
  "hide_input": false,
  "kernelspec": {
   "display_name": "Python 3 (ipykernel)",
   "language": "python",
   "name": "python3"
  },
  "language_info": {
   "codemirror_mode": {
    "name": "ipython",
    "version": 3
   },
   "file_extension": ".py",
   "mimetype": "text/x-python",
   "name": "python",
   "nbconvert_exporter": "python",
   "pygments_lexer": "ipython3",
   "version": "3.7.11"
  },
  "toc": {
   "base_numbering": 1,
   "nav_menu": {},
   "number_sections": true,
   "sideBar": true,
   "skip_h1_title": false,
   "title_cell": "Table of Contents",
   "title_sidebar": "Contents",
   "toc_cell": true,
   "toc_position": {},
   "toc_section_display": true,
   "toc_window_display": true
  },
  "varInspector": {
   "cols": {
    "lenName": 16,
    "lenType": 16,
    "lenVar": 40
   },
   "kernels_config": {
    "python": {
     "delete_cmd_postfix": "",
     "delete_cmd_prefix": "del ",
     "library": "var_list.py",
     "varRefreshCmd": "print(var_dic_list())"
    },
    "r": {
     "delete_cmd_postfix": ") ",
     "delete_cmd_prefix": "rm(",
     "library": "var_list.r",
     "varRefreshCmd": "cat(var_dic_list()) "
    }
   },
   "types_to_exclude": [
    "module",
    "function",
    "builtin_function_or_method",
    "instance",
    "_Feature"
   ],
   "window_display": false
  }
 },
 "nbformat": 4,
 "nbformat_minor": 4
}
